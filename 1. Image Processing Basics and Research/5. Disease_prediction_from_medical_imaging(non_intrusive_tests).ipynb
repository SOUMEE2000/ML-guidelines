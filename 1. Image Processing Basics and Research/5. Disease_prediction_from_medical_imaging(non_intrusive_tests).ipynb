{
  "nbformat": 4,
  "nbformat_minor": 0,
  "metadata": {
    "colab": {
      "name": "Disease prediction from medical imaging(non-intrusive tests).ipynb",
      "provenance": [],
      "mount_file_id": "1ZGQruQCOY8JCkOMCF9-ykCLpAH6oyleE",
      "authorship_tag": "ABX9TyPZNOHH3zKLf5EcYZM9Gh16",
      "include_colab_link": true
    },
    "kernelspec": {
      "name": "python3",
      "display_name": "Python 3"
    },
    "language_info": {
      "name": "python"
    },
    "accelerator": "GPU"
  },
  "cells": [
    {
      "cell_type": "markdown",
      "metadata": {
        "id": "view-in-github",
        "colab_type": "text"
      },
      "source": [
        "<a href=\"https://colab.research.google.com/github/SOUMEE2000/Machine-Learning-Stash/blob/main/Disease_prediction_from_medical_imaging(non_intrusive_tests).ipynb\" target=\"_parent\"><img src=\"https://colab.research.google.com/assets/colab-badge.svg\" alt=\"Open In Colab\"/></a>"
      ]
    },
    {
      "cell_type": "markdown",
      "metadata": {
        "id": "Gag-joHMnaAD"
      },
      "source": [
        "# **Utility Functions**\n",
        "\n"
      ]
    },
    {
      "cell_type": "code",
      "metadata": {
        "id": "iCVpVbctBK1U"
      },
      "source": [
        "from keras import backend as K\n",
        "\n",
        "def recall_m(y_true, y_pred):\n",
        "    true_positives = K.sum(K.round(K.clip(y_true * y_pred, 0, 1)))\n",
        "    possible_positives = K.sum(K.round(K.clip(y_true, 0, 1)))\n",
        "    recall = true_positives / (possible_positives + K.epsilon())\n",
        "    return recall\n",
        "\n",
        "def precision_m(y_true, y_pred):\n",
        "    true_positives = K.sum(K.round(K.clip(y_true * y_pred, 0, 1)))\n",
        "    predicted_positives = K.sum(K.round(K.clip(y_pred, 0, 1)))\n",
        "    precision = true_positives / (predicted_positives + K.epsilon())\n",
        "    return precision\n",
        "\n",
        "def f1_m(y_true, y_pred):\n",
        "    precision = precision_m(y_true, y_pred)\n",
        "    recall = recall_m(y_true, y_pred)\n",
        "    return 2*((precision*recall)/(precision+recall+K.epsilon()))\n"
      ],
      "execution_count": null,
      "outputs": []
    },
    {
      "cell_type": "code",
      "metadata": {
        "id": "CjbWnd4xRHWT"
      },
      "source": [
        "import tensorflow as tf\n",
        "from tensorflow.keras import models,layers\n",
        "import matplotlib.pyplot as plt\n",
        "import numpy as np"
      ],
      "execution_count": null,
      "outputs": []
    },
    {
      "cell_type": "code",
      "metadata": {
        "colab": {
          "base_uri": "https://localhost:8080/"
        },
        "id": "Y4X3f5NNi9HG",
        "outputId": "ac0d955b-4930-430d-9a75-3b1daaf50530"
      },
      "source": [
        "from zipfile import ZipFile\n",
        "file_name = \"/content/drive/MyDrive/Datasets/anaemia.zip\"\n",
        "with ZipFile(file_name,'r') as zip:\n",
        "  zip.extractall()\n",
        "  print('finish')"
      ],
      "execution_count": null,
      "outputs": [
        {
          "output_type": "stream",
          "name": "stdout",
          "text": [
            "finish\n"
          ]
        }
      ]
    },
    {
      "cell_type": "code",
      "metadata": {
        "colab": {
          "base_uri": "https://localhost:8080/"
        },
        "id": "Yxdv7twVknaH",
        "outputId": "39f00ba4-959e-4128-fbed-59bf9c78e475"
      },
      "source": [
        "from zipfile import ZipFile\n",
        "file_name = \"/content/drive/MyDrive/Datasets/Parkinsons.zip\"\n",
        "with ZipFile(file_name,'r') as zip:\n",
        "  zip.extractall()\n",
        "  print('finish')"
      ],
      "execution_count": null,
      "outputs": [
        {
          "output_type": "stream",
          "name": "stdout",
          "text": [
            "finish\n"
          ]
        }
      ]
    },
    {
      "cell_type": "code",
      "metadata": {
        "colab": {
          "base_uri": "https://localhost:8080/"
        },
        "id": "QcCT26kPlwHy",
        "outputId": "cbeeaa42-266d-4018-e1cb-944f43cd2593"
      },
      "source": [
        "from zipfile import ZipFile\n",
        "file_name = \"/content/drive/MyDrive/Datasets/archive (3).zip\"\n",
        "with ZipFile(file_name,'r') as zip:\n",
        "  zip.extractall()\n",
        "  print('finish')"
      ],
      "execution_count": null,
      "outputs": [
        {
          "output_type": "stream",
          "name": "stdout",
          "text": [
            "finish\n"
          ]
        }
      ]
    },
    {
      "cell_type": "code",
      "metadata": {
        "colab": {
          "base_uri": "https://localhost:8080/"
        },
        "id": "fx3vX4ZqlytC",
        "outputId": "16608c8c-120c-4ba3-d8b2-3750706eaba1"
      },
      "source": [
        "from zipfile import ZipFile\n",
        "file_name = \"/content/drive/MyDrive/Datasets/archive.zip\"\n",
        "with ZipFile(file_name,'r') as zip:\n",
        "  zip.extractall()\n",
        "  print('finish')"
      ],
      "execution_count": null,
      "outputs": [
        {
          "output_type": "stream",
          "name": "stdout",
          "text": [
            "finish\n"
          ]
        }
      ]
    },
    {
      "cell_type": "code",
      "metadata": {
        "colab": {
          "base_uri": "https://localhost:8080/"
        },
        "id": "XQesmy9bie8b",
        "outputId": "1b39ed74-3445-4391-ecee-99d0fe58ac90"
      },
      "source": [
        "from zipfile import ZipFile\n",
        "file_name = \"/content/drive/MyDrive/Datasets/Parkinsons_1.zip\"\n",
        "with ZipFile(file_name,'r') as zip:\n",
        "  zip.extractall()\n",
        "  print('finish')"
      ],
      "execution_count": null,
      "outputs": [
        {
          "output_type": "stream",
          "name": "stdout",
          "text": [
            "finish\n"
          ]
        }
      ]
    },
    {
      "cell_type": "code",
      "metadata": {
        "colab": {
          "base_uri": "https://localhost:8080/"
        },
        "id": "t56NYFiCdGQ2",
        "outputId": "0af08a0c-87e3-4d0a-d299-54cf9523c4da"
      },
      "source": [
        "from zipfile import ZipFile\n",
        "file_name = \"/content/drive/MyDrive/Datasets/Diabetic_Retinopathy.zip\"\n",
        "with ZipFile(file_name,'r') as zip:\n",
        "  zip.extractall()\n",
        "  print('finish')"
      ],
      "execution_count": null,
      "outputs": [
        {
          "output_type": "stream",
          "name": "stdout",
          "text": [
            "finish\n"
          ]
        }
      ]
    },
    {
      "cell_type": "markdown",
      "metadata": {
        "id": "ejgIOOLos420"
      },
      "source": [
        "# **Parkinson's Disease Data**"
      ]
    },
    {
      "cell_type": "code",
      "metadata": {
        "colab": {
          "base_uri": "https://localhost:8080/",
          "height": 286
        },
        "id": "GTea8G8FoGaQ",
        "outputId": "1232e3af-5ab6-4053-d003-5b3c0fb457eb"
      },
      "source": [
        "import cv2\n",
        "img = plt.imread(\"/content/Parkinson/healthy ID_0/0_file_df_10.png\")\n",
        "plt.imshow(cv2.resize(img,(248,248)), cmap =\"gray\")"
      ],
      "execution_count": null,
      "outputs": [
        {
          "output_type": "execute_result",
          "data": {
            "text/plain": [
              "<matplotlib.image.AxesImage at 0x7f00ef1f9d50>"
            ]
          },
          "metadata": {},
          "execution_count": 23
        },
        {
          "output_type": "display_data",
          "data": {
            "image/png": "[encoded data removed]",
            "text/plain": [
              "<Figure size 432x288 with 1 Axes>"
            ]
          },
          "metadata": {
            "needs_background": "light"
          }
        }
      ]
    },
    {
      "cell_type": "code",
      "metadata": {
        "colab": {
          "base_uri": "https://localhost:8080/",
          "height": 286
        },
        "id": "63FfARJb0lNY",
        "outputId": "a8cde808-4831-4a6a-b7c8-d5fe1ebcb587"
      },
      "source": [
        "img = plt.imread(\"/content/spiral/training/healthy/V55HE06.png\")\n",
        "plt.imshow(img[...,0], cmap = \"gray\")"
      ],
      "execution_count": null,
      "outputs": [
        {
          "output_type": "execute_result",
          "data": {
            "text/plain": [
              "<matplotlib.image.AxesImage at 0x7f00e0655c90>"
            ]
          },
          "metadata": {},
          "execution_count": 24
        },
        {
          "output_type": "display_data",
          "data": {
            "image/png": "[encoded data removed]",
            "text/plain": [
              "<Figure size 432x288 with 1 Axes>"
            ]
          },
          "metadata": {
            "needs_background": "light"
          }
        }
      ]
    },
    {
      "cell_type": "code",
      "metadata": {
        "colab": {
          "base_uri": "https://localhost:8080/"
        },
        "id": "EWb8uhGBpd3N",
        "outputId": "565d7767-128d-4413-802b-c55dcefd390a"
      },
      "source": [
        "img[...,0].shape"
      ],
      "execution_count": null,
      "outputs": [
        {
          "output_type": "execute_result",
          "data": {
            "text/plain": [
              "(256, 256)"
            ]
          },
          "metadata": {},
          "execution_count": 25
        }
      ]
    },
    {
      "cell_type": "code",
      "metadata": {
        "id": "aRzbiZKio13-"
      },
      "source": [
        "x_train = []\n",
        "y_train = []\n",
        "\n",
        "import os\n",
        "import cv2\n",
        "healthy = os.listdir(\"/content/Parkinson/healthy ID_0\")\n",
        "parkinson = os.listdir(\"/content/Parkinson/parkinson ID_0\")\n",
        "healthy.sort()\n",
        "parkinson.sort()\n",
        "\n",
        "healthy1 = os.listdir(\"/content/spiral/training/healthy/\")\n",
        "parkinson1 = os.listdir(\"/content/spiral/training/parkinson\")\n",
        "\n",
        "for i in range(0, 11):\n",
        "  img = plt.imread(\"/content/Parkinson/healthy ID_0/\" + str(healthy[i]))\n",
        "  x_train.append(cv2.resize(img[...,0], (248, 248)))\n",
        "  y_train.append(\"1\")\n",
        "  img = plt.imread(\"/content/Parkinson/parkinson ID_0/\" + str(parkinson[i]))\n",
        "  x_train.append(cv2.resize(img[...,0], (248, 248)))\n",
        "  y_train.append(\"0\")\n",
        "#print(np.asarray(x_train).shape)\n",
        "\n",
        "for i in range(0, 36):\n",
        "  img = plt.imread(\"/content/spiral/training/healthy/\" + str(healthy1[i]))\n",
        "  x_train.append(cv2.resize(img[...,0]/255, (248, 248)))\n",
        "  y_train.append(\"1\")\n",
        "  img = plt.imread(\"/content/spiral/training/parkinson/\" + str(parkinson1[i]))\n",
        "  x_train.append(cv2.resize(img[...,0]/255, (248, 248)))\n",
        "  y_train.append(\"0\")\n",
        "#print(np.asarray(x_train).shape)"
      ],
      "execution_count": null,
      "outputs": []
    },
    {
      "cell_type": "code",
      "metadata": {
        "id": "uAVvLwbjsASJ"
      },
      "source": [
        "import numpy as np\n",
        "x_train = np.asarray(x_train)\n",
        "y_train = np.asarray(y_train)"
      ],
      "execution_count": null,
      "outputs": []
    },
    {
      "cell_type": "code",
      "metadata": {
        "colab": {
          "base_uri": "https://localhost:8080/"
        },
        "id": "bwhlHs7xsUmA",
        "outputId": "9985ba09-32c7-47fd-aaa3-51ec2f41d6ef"
      },
      "source": [
        "x_train.shape"
      ],
      "execution_count": null,
      "outputs": [
        {
          "output_type": "execute_result",
          "data": {
            "text/plain": [
              "(94, 248, 248)"
            ]
          },
          "metadata": {},
          "execution_count": 28
        }
      ]
    },
    {
      "cell_type": "code",
      "metadata": {
        "id": "NQbuLG_W91-P"
      },
      "source": [
        "x_train = np.reshape(x_train,( 94, 248, 248, 1))"
      ],
      "execution_count": null,
      "outputs": []
    },
    {
      "cell_type": "code",
      "metadata": {
        "colab": {
          "base_uri": "https://localhost:8080/",
          "height": 286
        },
        "id": "4bTssfeAvg-y",
        "outputId": "3bd03b85-0fb4-4ea1-ec42-02857a6efacc"
      },
      "source": [
        "plt.imshow(x_train[0,...,0], cmap =\"gray\")"
      ],
      "execution_count": null,
      "outputs": [
        {
          "output_type": "execute_result",
          "data": {
            "text/plain": [
              "<matplotlib.image.AxesImage at 0x7f00e0340150>"
            ]
          },
          "metadata": {},
          "execution_count": 30
        },
        {
          "output_type": "display_data",
          "data": {
            "image/png": "[encoded data removed]",
            "text/plain": [
              "<Figure size 432x288 with 1 Axes>"
            ]
          },
          "metadata": {
            "needs_background": "light"
          }
        }
      ]
    },
    {
      "cell_type": "code",
      "metadata": {
        "id": "3tidU7PPsX4O"
      },
      "source": [
        "y_train = y_train.astype('float32')"
      ],
      "execution_count": null,
      "outputs": []
    },
    {
      "cell_type": "code",
      "metadata": {
        "id": "c185GTLR4AEU"
      },
      "source": [
        "y_train = tf.keras.utils.to_categorical(y_train, num_classes=2)"
      ],
      "execution_count": null,
      "outputs": []
    },
    {
      "cell_type": "code",
      "metadata": {
        "colab": {
          "base_uri": "https://localhost:8080/"
        },
        "id": "JXO8kXbt4zMz",
        "outputId": "5b8432f4-825b-4a90-a958-7bbb9b21f490"
      },
      "source": [
        "y_train.shape"
      ],
      "execution_count": null,
      "outputs": [
        {
          "output_type": "execute_result",
          "data": {
            "text/plain": [
              "(94, 2)"
            ]
          },
          "metadata": {},
          "execution_count": 45
        }
      ]
    },
    {
      "cell_type": "markdown",
      "metadata": {
        "id": "LolMrX_IDI11"
      },
      "source": [
        "# **Facial Palsy Data**"
      ]
    },
    {
      "cell_type": "code",
      "metadata": {
        "id": "SE-zgAWfDgNi"
      },
      "source": [
        "x_train = []\n",
        "y_train = []\n",
        "\n",
        "import os\n",
        "import cv2\n",
        "healthy_disgust = os.listdir(\"/content/MMAFEDB/train/disgust\")\n",
        "healthy_happy = os.listdir(\"/content/MMAFEDB/train/happy\")\n",
        "healthy_surprise = os.listdir(\"/content/MMAFEDB/train/surprise\")\n",
        "healthy_sad = os.listdir(\"/content/MMAFEDB/train/sad\")\n",
        "facial_palsy = os.listdir(\"/content/Strokefaces/droopy\")\n",
        "\n",
        "for i in range(0, 200):\n",
        "  img = plt.imread(\"/content/MMAFEDB/train/disgust/\" + str(healthy_disgust[i]))\n",
        "  x_train.append(cv2.resize(img[...,0], (248, 248)))\n",
        "  y_train.append(\"1\")\n",
        "\n",
        "  img = plt.imread(\"/content/MMAFEDB/train/happy/\" + str(healthy_happy[i]))\n",
        "  x_train.append(cv2.resize(img[...,0], (248, 248)))\n",
        "  y_train.append(\"1\")\n",
        "\n",
        "  img = plt.imread(\"/content/MMAFEDB/train/surprise/\" + str(healthy_surprise[i]))\n",
        "  x_train.append(cv2.resize(img[...,0], (248, 248)))\n",
        "  y_train.append(\"1\")\n",
        "\n",
        "  img = plt.imread(\"/content/MMAFEDB/train/sad/\" + str(healthy_sad[i]))\n",
        "  x_train.append(cv2.resize(img[...,0], (248, 248)))\n",
        "  y_train.append(\"1\")\n",
        "\n",
        "for i in range(0,800):\n",
        "  img = plt.imread(\"/content/Strokefaces/droopy/\" + str(facial_palsy[i]))\n",
        "  x_train.append(cv2.resize(img[...,0], (248, 248)))\n",
        "  y_train.append(\"0\")"
      ],
      "execution_count": null,
      "outputs": []
    },
    {
      "cell_type": "code",
      "metadata": {
        "id": "UXOCb4CcWtUT"
      },
      "source": [
        "import numpy as np\n",
        "x_train = np.asarray(x_train)\n",
        "y_train = np.asarray(y_train)"
      ],
      "execution_count": null,
      "outputs": []
    },
    {
      "cell_type": "code",
      "metadata": {
        "colab": {
          "base_uri": "https://localhost:8080/"
        },
        "id": "M2dwLngUWly5",
        "outputId": "17797008-73ee-4926-8ed5-e7e3eced1750"
      },
      "source": [
        "x_train.shape"
      ],
      "execution_count": null,
      "outputs": [
        {
          "output_type": "execute_result",
          "data": {
            "text/plain": [
              "(1600, 248, 248)"
            ]
          },
          "metadata": {},
          "execution_count": 50
        }
      ]
    },
    {
      "cell_type": "code",
      "metadata": {
        "colab": {
          "base_uri": "https://localhost:8080/"
        },
        "id": "jn181Kk1YBpG",
        "outputId": "ab55b5c3-0f6d-4d73-b1e6-a0947a27739e"
      },
      "source": [
        "y_train.shape"
      ],
      "execution_count": null,
      "outputs": [
        {
          "output_type": "execute_result",
          "data": {
            "text/plain": [
              "(1600,)"
            ]
          },
          "metadata": {},
          "execution_count": 51
        }
      ]
    },
    {
      "cell_type": "code",
      "metadata": {
        "colab": {
          "base_uri": "https://localhost:8080/"
        },
        "id": "CYQv3AbFWyXC",
        "outputId": "dba6a204-1779-4e69-c84d-47336a4f9dc3"
      },
      "source": [
        "x_train.max()"
      ],
      "execution_count": null,
      "outputs": [
        {
          "output_type": "execute_result",
          "data": {
            "text/plain": [
              "255.0"
            ]
          },
          "metadata": {},
          "execution_count": 52
        }
      ]
    },
    {
      "cell_type": "code",
      "metadata": {
        "id": "fkSO1TUxXa58"
      },
      "source": [
        "x_train = x_train/255\n",
        "x_train = np.reshape(x_train,( 1600, 248, 248, 1))\n",
        "y_train = y_train.astype('float32')\n",
        "y_train = np.reshape(y_train,( 1600,1))"
      ],
      "execution_count": null,
      "outputs": []
    },
    {
      "cell_type": "code",
      "metadata": {
        "id": "FRsYMVRt5zOY"
      },
      "source": [
        "y_train = tf.keras.utils.to_categorical(y_train, num_classes=2)"
      ],
      "execution_count": null,
      "outputs": []
    },
    {
      "cell_type": "markdown",
      "metadata": {
        "id": "pSmlhew7YwNk"
      },
      "source": [
        "# **Diabetic Retinopathy Data**"
      ]
    },
    {
      "cell_type": "code",
      "metadata": {
        "id": "bUwIm89SYvHk"
      },
      "source": [
        "x_train = []\n",
        "y_train = []\n",
        "\n",
        "import os\n",
        "import cv2\n",
        "mild = os.listdir(\"/content/colored_images/colored_images/Mild\")\n",
        "moderate = os.listdir(\"/content/colored_images/colored_images/Moderate\")\n",
        "No_DR = os.listdir(\"/content/colored_images/colored_images/No_DR\")\n",
        "Proliferate_DR = os.listdir(\"/content/colored_images/colored_images/Proliferate_DR\")\n",
        "Severe = os.listdir(\"/content/colored_images/colored_images/Severe\")\n",
        "\n",
        "for i in range(0, 708):\n",
        "\n",
        "  img = plt.imread(\"/content/colored_images/colored_images/No_DR/\" + str(No_DR[i]))\n",
        "  x_train.append(cv2.resize(img[...,0], (248, 248)))\n",
        "  y_train.append(\"0\")\n",
        "\n",
        "  img = plt.imread(\"/content/colored_images/colored_images/Mild/\" + str(mild[i]))\n",
        "  x_train.append(cv2.resize(img[...,0], (248, 248)))\n",
        "  y_train.append(\"1\")\n",
        "\n",
        "  img = plt.imread(\"/content/colored_images/colored_images/Moderate/\" + str(moderate[i]))\n",
        "  x_train.append(cv2.resize(img[...,0], (248, 248)))\n",
        "  y_train.append(\"2\")\n",
        "\n",
        "  img = plt.imread(\"/content/colored_images/colored_images/Proliferate_DR/\" + str(Proliferate_DR[i]))\n",
        "  x_train.append(cv2.resize(img[...,0], (248, 248)))\n",
        "  y_train.append(\"3\")\n",
        "\n",
        "  img = plt.imread(\"/content/colored_images/colored_images/Severe/\" + str(Severe[i]))\n",
        "  x_train.append(cv2.resize(img[...,0], (248, 248)))\n",
        "  y_train.append(\"4\")"
      ],
      "execution_count": null,
      "outputs": []
    },
    {
      "cell_type": "code",
      "metadata": {
        "id": "WESz6YVIZp0K"
      },
      "source": [
        "import numpy as np\n",
        "x_train = np.asarray(x_train)\n",
        "y_train = np.asarray(y_train)"
      ],
      "execution_count": null,
      "outputs": []
    },
    {
      "cell_type": "code",
      "metadata": {
        "colab": {
          "base_uri": "https://localhost:8080/"
        },
        "id": "y7f9ML1EZrTm",
        "outputId": "3baee975-63d5-43db-e63a-1f5333fba931"
      },
      "source": [
        "x_train.shape"
      ],
      "execution_count": null,
      "outputs": [
        {
          "output_type": "execute_result",
          "data": {
            "text/plain": [
              "(3540, 248, 248)"
            ]
          },
          "metadata": {},
          "execution_count": 63
        }
      ]
    },
    {
      "cell_type": "code",
      "metadata": {
        "colab": {
          "base_uri": "https://localhost:8080/"
        },
        "id": "bbzBQ5kUaJlY",
        "outputId": "58d71fb6-1af5-4da2-c14f-2f1c0b50db6f"
      },
      "source": [
        "x_train.max()"
      ],
      "execution_count": null,
      "outputs": [
        {
          "output_type": "execute_result",
          "data": {
            "text/plain": [
              "1.0"
            ]
          },
          "metadata": {},
          "execution_count": 64
        }
      ]
    },
    {
      "cell_type": "code",
      "metadata": {
        "colab": {
          "base_uri": "https://localhost:8080/"
        },
        "id": "PkE6Y8B6sUql",
        "outputId": "ce3783d4-389d-4dd8-db26-194a336e5445"
      },
      "source": [
        "y_train.shape"
      ],
      "execution_count": null,
      "outputs": [
        {
          "output_type": "execute_result",
          "data": {
            "text/plain": [
              "(3540,)"
            ]
          },
          "metadata": {},
          "execution_count": 65
        }
      ]
    },
    {
      "cell_type": "code",
      "metadata": {
        "id": "v-bU_BtraTri"
      },
      "source": [
        "x_train = np.reshape(x_train,( 3540, 248, 248, 1))\n",
        "y_train = y_train.astype('float32')\n",
        "y_train = np.reshape(y_train,( 3540,1))"
      ],
      "execution_count": null,
      "outputs": []
    },
    {
      "cell_type": "code",
      "metadata": {
        "id": "irgWqtV8s0HI"
      },
      "source": [
        "y_train = tf.keras.utils.to_categorical(y_train, num_classes=5)"
      ],
      "execution_count": null,
      "outputs": []
    },
    {
      "cell_type": "markdown",
      "metadata": {
        "id": "bu7SX74Tj6HQ"
      },
      "source": [
        "# **Model**"
      ]
    },
    {
      "cell_type": "code",
      "metadata": {
        "id": "Cb2uHpaafSSn"
      },
      "source": [
        "IMAGE_SIZE = 248\n",
        "EPOCHS=50\n",
        "\n",
        "BATCH_SIZE = 1600\n",
        "EPOCHS=50"
      ],
      "execution_count": null,
      "outputs": []
    },
    {
      "cell_type": "code",
      "metadata": {
        "id": "NH_95nm2ei1n"
      },
      "source": [
        "#resize_and_rescale = tf.keras.Sequential([\n",
        "#  layers.experimental.preprocessing.Resizing(IMAGE_SIZE, IMAGE_SIZE),\n",
        "  #layers.experimental.preprocessing.Rescaling(1./255),\n",
        "#])"
      ],
      "execution_count": null,
      "outputs": []
    },
    {
      "cell_type": "code",
      "metadata": {
        "id": "-BDGLtNQfJpe"
      },
      "source": [
        "data_augmentation = tf.keras.Sequential([\n",
        "  layers.experimental.preprocessing.RandomFlip(\"horizontal_and_vertical\"),\n",
        "  layers.experimental.preprocessing.RandomRotation(0.2),\n",
        "])"
      ],
      "execution_count": null,
      "outputs": []
    },
    {
      "cell_type": "code",
      "metadata": {
        "id": "0Y2RFWWyfeo9"
      },
      "source": [
        "in_shape=(BATCH_SIZE,IMAGE_SIZE,IMAGE_SIZE,1)\n",
        "model=models.Sequential(\n",
        "[\n",
        "    #resize_and_rescale,\n",
        "    data_augmentation,\n",
        "    layers.Conv2D(32,(3,3),activation=\"relu\",input_shape=in_shape),\n",
        "    layers.MaxPooling2D((2,2)),\n",
        "    layers.Conv2D(64,  kernel_size = (3,3), activation='relu'),\n",
        "    layers.MaxPooling2D((2, 2)),\n",
        "    layers.Conv2D(64,  kernel_size = (3,3), activation='relu'),\n",
        "    layers.MaxPooling2D((2, 2)),\n",
        "    layers.Conv2D(64, (3, 3), activation='relu'),\n",
        "    layers.MaxPooling2D((2, 2)),\n",
        "    layers.Conv2D(64, (3, 3), activation='relu'),\n",
        "    layers.MaxPooling2D((2, 2)),\n",
        "    layers.Conv2D(64, (3, 3), activation='relu'),\n",
        "    layers.MaxPooling2D((2, 2)),\n",
        "    layers.Flatten(),\n",
        "    layers.Dense(64, activation='relu'),\n",
        "    #layers.Dense(5, activation='softmax'),\n",
        "    layers.Dense(5, activation='sigmoid'),\n",
        "]\n",
        ")\n",
        "model.build(input_shape=in_shape)"
      ],
      "execution_count": null,
      "outputs": []
    },
    {
      "cell_type": "code",
      "metadata": {
        "id": "Ptp7kVepgBMy"
      },
      "source": [
        "model.compile(\n",
        "    optimizer='adam',\n",
        "    loss=tf.keras.losses.BinaryCrossentropy(),\n",
        "    metrics=['accuracy']\n",
        ")"
      ],
      "execution_count": null,
      "outputs": []
    },
    {
      "cell_type": "code",
      "metadata": {
        "id": "VhjNHjYWgVOn",
        "colab": {
          "base_uri": "https://localhost:8080/"
        },
        "outputId": "43dd83da-7d69-42dc-a6d7-38750b6dd6ad"
      },
      "source": [
        "history = model.fit( x_train, y_train, epochs=500)"
      ],
      "execution_count": null,
      "outputs": [
        {
          "output_type": "stream",
          "name": "stdout",
          "text": [
            "Epoch 1/500\n",
            "111/111 [==============================] - 13s 106ms/step - loss: 0.5184 - accuracy: 0.1977\n",
            "Epoch 2/500\n",
            "111/111 [==============================] - 12s 106ms/step - loss: 0.5019 - accuracy: 0.1963\n",
            "Epoch 3/500\n",
            "111/111 [==============================] - 12s 106ms/step - loss: 0.5017 - accuracy: 0.2037\n",
            "Epoch 4/500\n",
            "111/111 [==============================] - 12s 106ms/step - loss: 0.5015 - accuracy: 0.1966\n",
            "Epoch 5/500\n",
            "111/111 [==============================] - 12s 106ms/step - loss: 0.5016 - accuracy: 0.2014\n",
            "Epoch 6/500\n",
            "111/111 [==============================] - 12s 107ms/step - loss: 0.5013 - accuracy: 0.1983\n",
            "Epoch 7/500\n",
            "111/111 [==============================] - 12s 106ms/step - loss: 0.5011 - accuracy: 0.1992\n",
            "Epoch 8/500\n",
            "111/111 [==============================] - 12s 107ms/step - loss: 0.5012 - accuracy: 0.2017\n",
            "Epoch 9/500\n",
            "111/111 [==============================] - 12s 107ms/step - loss: 0.5009 - accuracy: 0.2090\n",
            "Epoch 10/500\n",
            "111/111 [==============================] - 12s 107ms/step - loss: 0.5009 - accuracy: 0.1992\n",
            "Epoch 11/500\n",
            "111/111 [==============================] - 12s 106ms/step - loss: 0.5008 - accuracy: 0.2079\n",
            "Epoch 12/500\n",
            "111/111 [==============================] - 12s 106ms/step - loss: 0.5006 - accuracy: 0.2110\n",
            "Epoch 13/500\n",
            "111/111 [==============================] - 12s 106ms/step - loss: 0.5009 - accuracy: 0.1989\n",
            "Epoch 14/500\n",
            "111/111 [==============================] - 12s 105ms/step - loss: 0.5004 - accuracy: 0.2054\n",
            "Epoch 15/500\n",
            "111/111 [==============================] - 12s 105ms/step - loss: 0.5001 - accuracy: 0.1986\n",
            "Epoch 16/500\n",
            "111/111 [==============================] - 12s 105ms/step - loss: 0.5003 - accuracy: 0.2059\n",
            "Epoch 17/500\n",
            "111/111 [==============================] - 12s 105ms/step - loss: 0.5002 - accuracy: 0.2045\n",
            "Epoch 18/500\n",
            "111/111 [==============================] - 12s 106ms/step - loss: 0.5001 - accuracy: 0.2059\n",
            "Epoch 19/500\n",
            "111/111 [==============================] - 12s 106ms/step - loss: 0.4999 - accuracy: 0.2130\n",
            "Epoch 20/500\n",
            "111/111 [==============================] - 12s 106ms/step - loss: 0.4999 - accuracy: 0.2000\n",
            "Epoch 21/500\n",
            "111/111 [==============================] - 12s 105ms/step - loss: 0.4994 - accuracy: 0.2203\n",
            "Epoch 22/500\n",
            "111/111 [==============================] - 12s 106ms/step - loss: 0.5001 - accuracy: 0.2201\n",
            "Epoch 23/500\n",
            "111/111 [==============================] - 12s 105ms/step - loss: 0.5000 - accuracy: 0.2141\n",
            "Epoch 24/500\n",
            "111/111 [==============================] - 12s 106ms/step - loss: 0.4995 - accuracy: 0.2147\n",
            "Epoch 25/500\n",
            "111/111 [==============================] - 12s 105ms/step - loss: 0.5001 - accuracy: 0.2090\n",
            "Epoch 26/500\n",
            "111/111 [==============================] - 12s 105ms/step - loss: 0.4999 - accuracy: 0.2056\n",
            "Epoch 27/500\n",
            "111/111 [==============================] - 12s 105ms/step - loss: 0.4993 - accuracy: 0.2189\n",
            "Epoch 28/500\n",
            "111/111 [==============================] - 12s 105ms/step - loss: 0.4996 - accuracy: 0.2144\n",
            "Epoch 29/500\n",
            "111/111 [==============================] - 12s 105ms/step - loss: 0.4997 - accuracy: 0.2198\n",
            "Epoch 30/500\n",
            "111/111 [==============================] - 12s 105ms/step - loss: 0.5000 - accuracy: 0.2144\n",
            "Epoch 31/500\n",
            "111/111 [==============================] - 12s 105ms/step - loss: 0.5000 - accuracy: 0.2020\n",
            "Epoch 32/500\n",
            "111/111 [==============================] - 12s 105ms/step - loss: 0.4993 - accuracy: 0.2277\n",
            "Epoch 33/500\n",
            "111/111 [==============================] - 12s 105ms/step - loss: 0.4995 - accuracy: 0.2153\n",
            "Epoch 34/500\n",
            "111/111 [==============================] - 12s 106ms/step - loss: 0.4992 - accuracy: 0.2294\n",
            "Epoch 35/500\n",
            "111/111 [==============================] - 12s 106ms/step - loss: 0.4995 - accuracy: 0.2277\n",
            "Epoch 36/500\n",
            "111/111 [==============================] - 12s 105ms/step - loss: 0.4994 - accuracy: 0.2153\n",
            "Epoch 37/500\n",
            "111/111 [==============================] - 12s 106ms/step - loss: 0.4996 - accuracy: 0.2065\n",
            "Epoch 38/500\n",
            "111/111 [==============================] - 12s 106ms/step - loss: 0.4993 - accuracy: 0.2184\n",
            "Epoch 39/500\n",
            "111/111 [==============================] - 12s 105ms/step - loss: 0.4991 - accuracy: 0.2280\n",
            "Epoch 40/500\n",
            "111/111 [==============================] - 12s 105ms/step - loss: 0.4988 - accuracy: 0.2212\n",
            "Epoch 41/500\n",
            "111/111 [==============================] - 12s 105ms/step - loss: 0.4989 - accuracy: 0.2240\n",
            "Epoch 42/500\n",
            "111/111 [==============================] - 12s 105ms/step - loss: 0.4985 - accuracy: 0.2249\n",
            "Epoch 43/500\n",
            "111/111 [==============================] - 12s 105ms/step - loss: 0.4991 - accuracy: 0.2181\n",
            "Epoch 44/500\n",
            "111/111 [==============================] - 12s 105ms/step - loss: 0.4978 - accuracy: 0.2294\n",
            "Epoch 45/500\n",
            "111/111 [==============================] - 12s 105ms/step - loss: 0.4981 - accuracy: 0.2234\n",
            "Epoch 46/500\n",
            "111/111 [==============================] - 12s 105ms/step - loss: 0.4980 - accuracy: 0.2268\n",
            "Epoch 47/500\n",
            "111/111 [==============================] - 12s 105ms/step - loss: 0.4969 - accuracy: 0.2418\n",
            "Epoch 48/500\n",
            "111/111 [==============================] - 12s 105ms/step - loss: 0.4969 - accuracy: 0.2299\n",
            "Epoch 49/500\n",
            "111/111 [==============================] - 12s 108ms/step - loss: 0.4974 - accuracy: 0.2384\n",
            "Epoch 50/500\n",
            "111/111 [==============================] - 12s 108ms/step - loss: 0.4974 - accuracy: 0.2311\n",
            "Epoch 51/500\n",
            "111/111 [==============================] - 12s 108ms/step - loss: 0.4972 - accuracy: 0.2353\n",
            "Epoch 52/500\n",
            "111/111 [==============================] - 12s 107ms/step - loss: 0.4975 - accuracy: 0.2277\n",
            "Epoch 53/500\n",
            "111/111 [==============================] - 12s 107ms/step - loss: 0.4963 - accuracy: 0.2421\n",
            "Epoch 54/500\n",
            "111/111 [==============================] - 12s 107ms/step - loss: 0.4963 - accuracy: 0.2432\n",
            "Epoch 55/500\n",
            "111/111 [==============================] - 12s 107ms/step - loss: 0.4960 - accuracy: 0.2404\n",
            "Epoch 56/500\n",
            "111/111 [==============================] - 12s 107ms/step - loss: 0.4964 - accuracy: 0.2398\n",
            "Epoch 57/500\n",
            "111/111 [==============================] - 12s 107ms/step - loss: 0.4960 - accuracy: 0.2477\n",
            "Epoch 58/500\n",
            "111/111 [==============================] - 12s 107ms/step - loss: 0.4968 - accuracy: 0.2370\n",
            "Epoch 59/500\n",
            "111/111 [==============================] - 12s 107ms/step - loss: 0.4963 - accuracy: 0.2387\n",
            "Epoch 60/500\n",
            "111/111 [==============================] - 12s 107ms/step - loss: 0.4960 - accuracy: 0.2333\n",
            "Epoch 61/500\n",
            "111/111 [==============================] - 12s 107ms/step - loss: 0.4961 - accuracy: 0.2356\n",
            "Epoch 62/500\n",
            "111/111 [==============================] - 12s 107ms/step - loss: 0.4955 - accuracy: 0.2384\n",
            "Epoch 63/500\n",
            "111/111 [==============================] - 12s 107ms/step - loss: 0.4959 - accuracy: 0.2444\n",
            "Epoch 64/500\n",
            "111/111 [==============================] - 12s 107ms/step - loss: 0.4955 - accuracy: 0.2435\n",
            "Epoch 65/500\n",
            "111/111 [==============================] - 12s 107ms/step - loss: 0.4948 - accuracy: 0.2435\n",
            "Epoch 66/500\n",
            "111/111 [==============================] - 12s 106ms/step - loss: 0.4954 - accuracy: 0.2424\n",
            "Epoch 67/500\n",
            "111/111 [==============================] - 12s 107ms/step - loss: 0.4951 - accuracy: 0.2463\n",
            "Epoch 68/500\n",
            "111/111 [==============================] - 12s 106ms/step - loss: 0.4952 - accuracy: 0.2379\n",
            "Epoch 69/500\n",
            "111/111 [==============================] - 12s 106ms/step - loss: 0.4946 - accuracy: 0.2418\n",
            "Epoch 70/500\n",
            "111/111 [==============================] - 12s 106ms/step - loss: 0.4951 - accuracy: 0.2410\n",
            "Epoch 71/500\n",
            "111/111 [==============================] - 12s 106ms/step - loss: 0.4947 - accuracy: 0.2534\n",
            "Epoch 72/500\n",
            "111/111 [==============================] - 12s 105ms/step - loss: 0.4949 - accuracy: 0.2508\n",
            "Epoch 73/500\n",
            "111/111 [==============================] - 12s 105ms/step - loss: 0.4941 - accuracy: 0.2486\n",
            "Epoch 74/500\n",
            "111/111 [==============================] - 12s 105ms/step - loss: 0.4943 - accuracy: 0.2534\n",
            "Epoch 75/500\n",
            "111/111 [==============================] - 12s 105ms/step - loss: 0.4928 - accuracy: 0.2537\n",
            "Epoch 76/500\n",
            "111/111 [==============================] - 12s 107ms/step - loss: 0.4944 - accuracy: 0.2517\n",
            "Epoch 77/500\n",
            "111/111 [==============================] - 12s 107ms/step - loss: 0.4939 - accuracy: 0.2534\n",
            "Epoch 78/500\n",
            "111/111 [==============================] - 12s 107ms/step - loss: 0.4938 - accuracy: 0.2585\n",
            "Epoch 79/500\n",
            "111/111 [==============================] - 12s 107ms/step - loss: 0.4940 - accuracy: 0.2554\n",
            "Epoch 80/500\n",
            "111/111 [==============================] - 12s 107ms/step - loss: 0.4930 - accuracy: 0.2531\n",
            "Epoch 81/500\n",
            "111/111 [==============================] - 12s 107ms/step - loss: 0.4940 - accuracy: 0.2455\n",
            "Epoch 82/500\n",
            "111/111 [==============================] - 12s 107ms/step - loss: 0.4938 - accuracy: 0.2444\n",
            "Epoch 83/500\n",
            "111/111 [==============================] - 12s 107ms/step - loss: 0.4932 - accuracy: 0.2582\n",
            "Epoch 84/500\n",
            "111/111 [==============================] - 12s 106ms/step - loss: 0.4920 - accuracy: 0.2602\n",
            "Epoch 85/500\n",
            "111/111 [==============================] - 12s 107ms/step - loss: 0.4925 - accuracy: 0.2619\n",
            "Epoch 86/500\n",
            "111/111 [==============================] - 12s 106ms/step - loss: 0.4927 - accuracy: 0.2653\n",
            "Epoch 87/500\n",
            "111/111 [==============================] - 12s 106ms/step - loss: 0.4925 - accuracy: 0.2588\n",
            "Epoch 88/500\n",
            "111/111 [==============================] - 12s 106ms/step - loss: 0.4927 - accuracy: 0.2599\n",
            "Epoch 89/500\n",
            "111/111 [==============================] - 12s 106ms/step - loss: 0.4936 - accuracy: 0.2621\n",
            "Epoch 90/500\n",
            "111/111 [==============================] - 12s 106ms/step - loss: 0.4924 - accuracy: 0.2517\n",
            "Epoch 91/500\n",
            "111/111 [==============================] - 12s 106ms/step - loss: 0.4907 - accuracy: 0.2658\n",
            "Epoch 92/500\n",
            "111/111 [==============================] - 12s 106ms/step - loss: 0.4917 - accuracy: 0.2658\n",
            "Epoch 93/500\n",
            "111/111 [==============================] - 12s 106ms/step - loss: 0.4922 - accuracy: 0.2686\n",
            "Epoch 94/500\n",
            "111/111 [==============================] - 12s 105ms/step - loss: 0.4912 - accuracy: 0.2576\n",
            "Epoch 95/500\n",
            "111/111 [==============================] - 12s 105ms/step - loss: 0.4912 - accuracy: 0.2692\n",
            "Epoch 96/500\n",
            "111/111 [==============================] - 12s 106ms/step - loss: 0.4910 - accuracy: 0.2678\n",
            "Epoch 97/500\n",
            "111/111 [==============================] - 12s 106ms/step - loss: 0.4918 - accuracy: 0.2751\n",
            "Epoch 98/500\n",
            "111/111 [==============================] - 12s 106ms/step - loss: 0.4901 - accuracy: 0.2678\n",
            "Epoch 99/500\n",
            "111/111 [==============================] - 12s 106ms/step - loss: 0.4912 - accuracy: 0.2664\n",
            "Epoch 100/500\n",
            "111/111 [==============================] - 12s 105ms/step - loss: 0.4904 - accuracy: 0.2684\n",
            "Epoch 101/500\n",
            "111/111 [==============================] - 12s 106ms/step - loss: 0.4899 - accuracy: 0.2712\n",
            "Epoch 102/500\n",
            "111/111 [==============================] - 12s 105ms/step - loss: 0.4897 - accuracy: 0.2740\n",
            "Epoch 103/500\n",
            "111/111 [==============================] - 12s 105ms/step - loss: 0.4897 - accuracy: 0.2825\n",
            "Epoch 104/500\n",
            "111/111 [==============================] - 12s 105ms/step - loss: 0.4888 - accuracy: 0.2791\n",
            "Epoch 105/500\n",
            "111/111 [==============================] - 12s 105ms/step - loss: 0.4895 - accuracy: 0.2754\n",
            "Epoch 106/500\n",
            "111/111 [==============================] - 12s 105ms/step - loss: 0.4886 - accuracy: 0.2754\n",
            "Epoch 107/500\n",
            "111/111 [==============================] - 12s 106ms/step - loss: 0.4878 - accuracy: 0.2879\n",
            "Epoch 108/500\n",
            "111/111 [==============================] - 12s 105ms/step - loss: 0.4899 - accuracy: 0.2729\n",
            "Epoch 109/500\n",
            "111/111 [==============================] - 12s 105ms/step - loss: 0.4890 - accuracy: 0.2686\n",
            "Epoch 110/500\n",
            "111/111 [==============================] - 12s 105ms/step - loss: 0.4886 - accuracy: 0.2794\n",
            "Epoch 111/500\n",
            "111/111 [==============================] - 12s 105ms/step - loss: 0.4893 - accuracy: 0.2749\n",
            "Epoch 112/500\n",
            "111/111 [==============================] - 12s 105ms/step - loss: 0.4880 - accuracy: 0.2737\n",
            "Epoch 113/500\n",
            "111/111 [==============================] - 12s 106ms/step - loss: 0.4877 - accuracy: 0.2822\n",
            "Epoch 114/500\n",
            "111/111 [==============================] - 12s 105ms/step - loss: 0.4872 - accuracy: 0.2788\n",
            "Epoch 115/500\n",
            "111/111 [==============================] - 12s 105ms/step - loss: 0.4873 - accuracy: 0.2794\n",
            "Epoch 116/500\n",
            "111/111 [==============================] - 12s 105ms/step - loss: 0.4875 - accuracy: 0.2870\n",
            "Epoch 117/500\n",
            "111/111 [==============================] - 12s 105ms/step - loss: 0.4875 - accuracy: 0.2825\n",
            "Epoch 118/500\n",
            "111/111 [==============================] - 12s 105ms/step - loss: 0.4871 - accuracy: 0.2912\n",
            "Epoch 119/500\n",
            "111/111 [==============================] - 12s 105ms/step - loss: 0.4875 - accuracy: 0.2859\n",
            "Epoch 120/500\n",
            "111/111 [==============================] - 12s 105ms/step - loss: 0.4872 - accuracy: 0.2881\n",
            "Epoch 121/500\n",
            "111/111 [==============================] - 12s 105ms/step - loss: 0.4864 - accuracy: 0.2904\n",
            "Epoch 122/500\n",
            "111/111 [==============================] - 12s 105ms/step - loss: 0.4849 - accuracy: 0.2980\n",
            "Epoch 123/500\n",
            "111/111 [==============================] - 12s 104ms/step - loss: 0.4849 - accuracy: 0.2808\n",
            "Epoch 124/500\n",
            "111/111 [==============================] - 12s 105ms/step - loss: 0.4860 - accuracy: 0.2938\n",
            "Epoch 125/500\n",
            "111/111 [==============================] - 12s 105ms/step - loss: 0.4854 - accuracy: 0.2893\n",
            "Epoch 126/500\n",
            "111/111 [==============================] - 12s 105ms/step - loss: 0.4838 - accuracy: 0.2977\n",
            "Epoch 127/500\n",
            "111/111 [==============================] - 12s 105ms/step - loss: 0.4840 - accuracy: 0.3008\n",
            "Epoch 128/500\n",
            "111/111 [==============================] - 12s 105ms/step - loss: 0.4844 - accuracy: 0.2825\n",
            "Epoch 129/500\n",
            "111/111 [==============================] - 12s 106ms/step - loss: 0.4848 - accuracy: 0.2946\n",
            "Epoch 130/500\n",
            "111/111 [==============================] - 12s 105ms/step - loss: 0.4852 - accuracy: 0.2924\n",
            "Epoch 131/500\n",
            "111/111 [==============================] - 12s 105ms/step - loss: 0.4834 - accuracy: 0.3020\n",
            "Epoch 132/500\n",
            "111/111 [==============================] - 12s 105ms/step - loss: 0.4834 - accuracy: 0.2938\n",
            "Epoch 133/500\n",
            "111/111 [==============================] - 12s 105ms/step - loss: 0.4824 - accuracy: 0.2958\n",
            "Epoch 134/500\n",
            "111/111 [==============================] - 12s 105ms/step - loss: 0.4823 - accuracy: 0.3093\n",
            "Epoch 135/500\n",
            "111/111 [==============================] - 12s 105ms/step - loss: 0.4825 - accuracy: 0.3011\n",
            "Epoch 136/500\n",
            "111/111 [==============================] - 12s 105ms/step - loss: 0.4817 - accuracy: 0.3119\n",
            "Epoch 137/500\n",
            "111/111 [==============================] - 12s 105ms/step - loss: 0.4820 - accuracy: 0.3054\n",
            "Epoch 138/500\n",
            "111/111 [==============================] - 12s 105ms/step - loss: 0.4823 - accuracy: 0.3040\n",
            "Epoch 139/500\n",
            "111/111 [==============================] - 12s 106ms/step - loss: 0.4833 - accuracy: 0.2980\n",
            "Epoch 140/500\n",
            "111/111 [==============================] - 12s 105ms/step - loss: 0.4832 - accuracy: 0.2975\n",
            "Epoch 141/500\n",
            "111/111 [==============================] - 12s 105ms/step - loss: 0.4822 - accuracy: 0.3020\n",
            "Epoch 142/500\n",
            "111/111 [==============================] - 12s 105ms/step - loss: 0.4812 - accuracy: 0.3153\n",
            "Epoch 143/500\n",
            "111/111 [==============================] - 12s 105ms/step - loss: 0.4813 - accuracy: 0.3138\n",
            "Epoch 144/500\n",
            "111/111 [==============================] - 12s 105ms/step - loss: 0.4817 - accuracy: 0.3116\n",
            "Epoch 145/500\n",
            "111/111 [==============================] - 12s 105ms/step - loss: 0.4792 - accuracy: 0.3014\n",
            "Epoch 146/500\n",
            "111/111 [==============================] - 12s 105ms/step - loss: 0.4809 - accuracy: 0.3006\n",
            "Epoch 147/500\n",
            "111/111 [==============================] - 12s 105ms/step - loss: 0.4803 - accuracy: 0.3144\n",
            "Epoch 148/500\n",
            "111/111 [==============================] - 12s 105ms/step - loss: 0.4808 - accuracy: 0.3138\n",
            "Epoch 149/500\n",
            "111/111 [==============================] - 12s 105ms/step - loss: 0.4811 - accuracy: 0.3085\n",
            "Epoch 150/500\n",
            "111/111 [==============================] - 12s 105ms/step - loss: 0.4808 - accuracy: 0.3161\n",
            "Epoch 151/500\n",
            "111/111 [==============================] - 12s 106ms/step - loss: 0.4797 - accuracy: 0.3082\n",
            "Epoch 152/500\n",
            "111/111 [==============================] - 12s 105ms/step - loss: 0.4791 - accuracy: 0.3056\n",
            "Epoch 153/500\n",
            "111/111 [==============================] - 12s 105ms/step - loss: 0.4799 - accuracy: 0.3073\n",
            "Epoch 154/500\n",
            "111/111 [==============================] - 12s 106ms/step - loss: 0.4781 - accuracy: 0.3102\n",
            "Epoch 155/500\n",
            "111/111 [==============================] - 12s 105ms/step - loss: 0.4776 - accuracy: 0.3158\n",
            "Epoch 156/500\n",
            "111/111 [==============================] - 12s 105ms/step - loss: 0.4790 - accuracy: 0.3099\n",
            "Epoch 157/500\n",
            "111/111 [==============================] - 12s 105ms/step - loss: 0.4778 - accuracy: 0.3155\n",
            "Epoch 158/500\n",
            "111/111 [==============================] - 12s 105ms/step - loss: 0.4795 - accuracy: 0.3082\n",
            "Epoch 159/500\n",
            "111/111 [==============================] - 12s 106ms/step - loss: 0.4777 - accuracy: 0.3169\n",
            "Epoch 160/500\n",
            "111/111 [==============================] - 12s 106ms/step - loss: 0.4798 - accuracy: 0.3175\n",
            "Epoch 161/500\n",
            "111/111 [==============================] - 12s 106ms/step - loss: 0.4780 - accuracy: 0.3215\n",
            "Epoch 162/500\n",
            "111/111 [==============================] - 12s 105ms/step - loss: 0.4777 - accuracy: 0.3237\n",
            "Epoch 163/500\n",
            "111/111 [==============================] - 12s 105ms/step - loss: 0.4784 - accuracy: 0.3107\n",
            "Epoch 164/500\n",
            "111/111 [==============================] - 12s 105ms/step - loss: 0.4777 - accuracy: 0.3082\n",
            "Epoch 165/500\n",
            "111/111 [==============================] - 12s 106ms/step - loss: 0.4766 - accuracy: 0.3218\n",
            "Epoch 166/500\n",
            "111/111 [==============================] - 12s 105ms/step - loss: 0.4754 - accuracy: 0.3153\n",
            "Epoch 167/500\n",
            "111/111 [==============================] - 12s 105ms/step - loss: 0.4777 - accuracy: 0.3203\n",
            "Epoch 168/500\n",
            "111/111 [==============================] - 12s 105ms/step - loss: 0.4753 - accuracy: 0.3257\n",
            "Epoch 169/500\n",
            "111/111 [==============================] - 12s 106ms/step - loss: 0.4752 - accuracy: 0.3232\n",
            "Epoch 170/500\n",
            "111/111 [==============================] - 12s 105ms/step - loss: 0.4761 - accuracy: 0.3302\n",
            "Epoch 171/500\n",
            "111/111 [==============================] - 12s 105ms/step - loss: 0.4748 - accuracy: 0.3218\n",
            "Epoch 172/500\n",
            "111/111 [==============================] - 12s 105ms/step - loss: 0.4753 - accuracy: 0.3167\n",
            "Epoch 173/500\n",
            "111/111 [==============================] - 12s 105ms/step - loss: 0.4746 - accuracy: 0.3319\n",
            "Epoch 174/500\n",
            "111/111 [==============================] - 12s 105ms/step - loss: 0.4753 - accuracy: 0.3266\n",
            "Epoch 175/500\n",
            "111/111 [==============================] - 12s 105ms/step - loss: 0.4751 - accuracy: 0.3263\n",
            "Epoch 176/500\n",
            "111/111 [==============================] - 12s 105ms/step - loss: 0.4747 - accuracy: 0.3288\n",
            "Epoch 177/500\n",
            "111/111 [==============================] - 12s 105ms/step - loss: 0.4763 - accuracy: 0.3172\n",
            "Epoch 178/500\n",
            "111/111 [==============================] - 12s 105ms/step - loss: 0.4745 - accuracy: 0.3147\n",
            "Epoch 179/500\n",
            "111/111 [==============================] - 12s 106ms/step - loss: 0.4740 - accuracy: 0.3234\n",
            "Epoch 180/500\n",
            "111/111 [==============================] - 12s 105ms/step - loss: 0.4725 - accuracy: 0.3395\n",
            "Epoch 181/500\n",
            "111/111 [==============================] - 12s 106ms/step - loss: 0.4749 - accuracy: 0.3212\n",
            "Epoch 182/500\n",
            "111/111 [==============================] - 12s 105ms/step - loss: 0.4718 - accuracy: 0.3314\n",
            "Epoch 183/500\n",
            "111/111 [==============================] - 12s 105ms/step - loss: 0.4733 - accuracy: 0.3268\n",
            "Epoch 184/500\n",
            "111/111 [==============================] - 12s 106ms/step - loss: 0.4739 - accuracy: 0.3299\n",
            "Epoch 185/500\n",
            "111/111 [==============================] - 12s 105ms/step - loss: 0.4739 - accuracy: 0.3342\n",
            "Epoch 186/500\n",
            "111/111 [==============================] - 12s 105ms/step - loss: 0.4725 - accuracy: 0.3260\n",
            "Epoch 187/500\n",
            "111/111 [==============================] - 12s 105ms/step - loss: 0.4733 - accuracy: 0.3271\n",
            "Epoch 188/500\n",
            "111/111 [==============================] - 12s 105ms/step - loss: 0.4742 - accuracy: 0.3218\n",
            "Epoch 189/500\n",
            "111/111 [==============================] - 12s 105ms/step - loss: 0.4717 - accuracy: 0.3463\n",
            "Epoch 190/500\n",
            "111/111 [==============================] - 12s 105ms/step - loss: 0.4711 - accuracy: 0.3325\n",
            "Epoch 191/500\n",
            "111/111 [==============================] - 12s 105ms/step - loss: 0.4732 - accuracy: 0.3325\n",
            "Epoch 192/500\n",
            "111/111 [==============================] - 12s 106ms/step - loss: 0.4724 - accuracy: 0.3294\n",
            "Epoch 193/500\n",
            "111/111 [==============================] - 12s 105ms/step - loss: 0.4718 - accuracy: 0.3297\n",
            "Epoch 194/500\n",
            "111/111 [==============================] - 12s 106ms/step - loss: 0.4701 - accuracy: 0.3325\n",
            "Epoch 195/500\n",
            "111/111 [==============================] - 12s 106ms/step - loss: 0.4729 - accuracy: 0.3274\n",
            "Epoch 196/500\n",
            "111/111 [==============================] - 12s 105ms/step - loss: 0.4738 - accuracy: 0.3452\n",
            "Epoch 197/500\n",
            "111/111 [==============================] - 12s 105ms/step - loss: 0.4706 - accuracy: 0.3345\n",
            "Epoch 198/500\n",
            "111/111 [==============================] - 12s 105ms/step - loss: 0.4712 - accuracy: 0.3404\n",
            "Epoch 199/500\n",
            "111/111 [==============================] - 12s 105ms/step - loss: 0.4701 - accuracy: 0.3288\n",
            "Epoch 200/500\n",
            "111/111 [==============================] - 12s 106ms/step - loss: 0.4681 - accuracy: 0.3520\n",
            "Epoch 201/500\n",
            "111/111 [==============================] - 12s 105ms/step - loss: 0.4702 - accuracy: 0.3398\n",
            "Epoch 202/500\n",
            "111/111 [==============================] - 12s 105ms/step - loss: 0.4717 - accuracy: 0.3359\n",
            "Epoch 203/500\n",
            "111/111 [==============================] - 12s 105ms/step - loss: 0.4705 - accuracy: 0.3446\n",
            "Epoch 204/500\n",
            "111/111 [==============================] - 12s 105ms/step - loss: 0.4688 - accuracy: 0.3404\n",
            "Epoch 205/500\n",
            "111/111 [==============================] - 12s 105ms/step - loss: 0.4700 - accuracy: 0.3339\n",
            "Epoch 206/500\n",
            "111/111 [==============================] - 12s 105ms/step - loss: 0.4683 - accuracy: 0.3503\n",
            "Epoch 207/500\n",
            "111/111 [==============================] - 12s 106ms/step - loss: 0.4691 - accuracy: 0.3398\n",
            "Epoch 208/500\n",
            "111/111 [==============================] - 12s 105ms/step - loss: 0.4685 - accuracy: 0.3398\n",
            "Epoch 209/500\n",
            "111/111 [==============================] - 12s 105ms/step - loss: 0.4678 - accuracy: 0.3469\n",
            "Epoch 210/500\n",
            "111/111 [==============================] - 12s 106ms/step - loss: 0.4668 - accuracy: 0.3520\n",
            "Epoch 211/500\n",
            "111/111 [==============================] - 12s 105ms/step - loss: 0.4693 - accuracy: 0.3305\n",
            "Epoch 212/500\n",
            "111/111 [==============================] - 12s 106ms/step - loss: 0.4684 - accuracy: 0.3350\n",
            "Epoch 213/500\n",
            "111/111 [==============================] - 12s 106ms/step - loss: 0.4676 - accuracy: 0.3427\n",
            "Epoch 214/500\n",
            "111/111 [==============================] - 12s 105ms/step - loss: 0.4657 - accuracy: 0.3452\n",
            "Epoch 215/500\n",
            "111/111 [==============================] - 12s 105ms/step - loss: 0.4673 - accuracy: 0.3384\n",
            "Epoch 216/500\n",
            "111/111 [==============================] - 12s 105ms/step - loss: 0.4688 - accuracy: 0.3407\n",
            "Epoch 217/500\n",
            "111/111 [==============================] - 12s 105ms/step - loss: 0.4691 - accuracy: 0.3480\n",
            "Epoch 218/500\n",
            "111/111 [==============================] - 12s 106ms/step - loss: 0.4688 - accuracy: 0.3489\n",
            "Epoch 219/500\n",
            "111/111 [==============================] - 12s 106ms/step - loss: 0.4639 - accuracy: 0.3630\n",
            "Epoch 220/500\n",
            "111/111 [==============================] - 12s 106ms/step - loss: 0.4661 - accuracy: 0.3492\n",
            "Epoch 221/500\n",
            "111/111 [==============================] - 12s 106ms/step - loss: 0.4664 - accuracy: 0.3435\n",
            "Epoch 222/500\n",
            "111/111 [==============================] - 12s 106ms/step - loss: 0.4651 - accuracy: 0.3486\n",
            "Epoch 223/500\n",
            "111/111 [==============================] - 12s 105ms/step - loss: 0.4644 - accuracy: 0.3489\n",
            "Epoch 224/500\n",
            "111/111 [==============================] - 12s 105ms/step - loss: 0.4684 - accuracy: 0.3441\n",
            "Epoch 225/500\n",
            "111/111 [==============================] - 12s 106ms/step - loss: 0.4672 - accuracy: 0.3449\n",
            "Epoch 226/500\n",
            "111/111 [==============================] - 12s 106ms/step - loss: 0.4657 - accuracy: 0.3556\n",
            "Epoch 227/500\n",
            "111/111 [==============================] - 12s 105ms/step - loss: 0.4651 - accuracy: 0.3494\n",
            "Epoch 228/500\n",
            "111/111 [==============================] - 12s 105ms/step - loss: 0.4668 - accuracy: 0.3494\n",
            "Epoch 229/500\n",
            "111/111 [==============================] - 12s 106ms/step - loss: 0.4652 - accuracy: 0.3466\n",
            "Epoch 230/500\n",
            "111/111 [==============================] - 12s 105ms/step - loss: 0.4649 - accuracy: 0.3432\n",
            "Epoch 231/500\n",
            "111/111 [==============================] - 12s 105ms/step - loss: 0.4668 - accuracy: 0.3494\n",
            "Epoch 232/500\n",
            "111/111 [==============================] - 12s 106ms/step - loss: 0.4658 - accuracy: 0.3472\n",
            "Epoch 233/500\n",
            "111/111 [==============================] - 12s 106ms/step - loss: 0.4669 - accuracy: 0.3520\n",
            "Epoch 234/500\n",
            "111/111 [==============================] - 12s 106ms/step - loss: 0.4633 - accuracy: 0.3621\n",
            "Epoch 235/500\n",
            "111/111 [==============================] - 12s 106ms/step - loss: 0.4641 - accuracy: 0.3723\n",
            "Epoch 236/500\n",
            "111/111 [==============================] - 12s 105ms/step - loss: 0.4640 - accuracy: 0.3520\n",
            "Epoch 237/500\n",
            "111/111 [==============================] - 12s 106ms/step - loss: 0.4630 - accuracy: 0.3573\n",
            "Epoch 238/500\n",
            "111/111 [==============================] - 12s 106ms/step - loss: 0.4642 - accuracy: 0.3554\n",
            "Epoch 239/500\n",
            "111/111 [==============================] - 12s 105ms/step - loss: 0.4646 - accuracy: 0.3556\n",
            "Epoch 240/500\n",
            "111/111 [==============================] - 12s 106ms/step - loss: 0.4632 - accuracy: 0.3573\n",
            "Epoch 241/500\n",
            "111/111 [==============================] - 12s 106ms/step - loss: 0.4638 - accuracy: 0.3511\n",
            "Epoch 242/500\n",
            "111/111 [==============================] - 12s 106ms/step - loss: 0.4621 - accuracy: 0.3593\n",
            "Epoch 243/500\n",
            "111/111 [==============================] - 12s 106ms/step - loss: 0.4630 - accuracy: 0.3621\n",
            "Epoch 244/500\n",
            "111/111 [==============================] - 12s 106ms/step - loss: 0.4630 - accuracy: 0.3667\n",
            "Epoch 245/500\n",
            "111/111 [==============================] - 12s 106ms/step - loss: 0.4622 - accuracy: 0.3579\n",
            "Epoch 246/500\n",
            "111/111 [==============================] - 12s 106ms/step - loss: 0.4612 - accuracy: 0.3647\n",
            "Epoch 247/500\n",
            "111/111 [==============================] - 12s 106ms/step - loss: 0.4612 - accuracy: 0.3664\n",
            "Epoch 248/500\n",
            "111/111 [==============================] - 12s 106ms/step - loss: 0.4635 - accuracy: 0.3678\n",
            "Epoch 249/500\n",
            "111/111 [==============================] - 12s 106ms/step - loss: 0.4635 - accuracy: 0.3528\n",
            "Epoch 250/500\n",
            "111/111 [==============================] - 12s 105ms/step - loss: 0.4626 - accuracy: 0.3621\n",
            "Epoch 251/500\n",
            "111/111 [==============================] - 12s 106ms/step - loss: 0.4620 - accuracy: 0.3636\n",
            "Epoch 252/500\n",
            "111/111 [==============================] - 12s 106ms/step - loss: 0.4636 - accuracy: 0.3554\n",
            "Epoch 253/500\n",
            "111/111 [==============================] - 12s 105ms/step - loss: 0.4596 - accuracy: 0.3647\n",
            "Epoch 254/500\n",
            "111/111 [==============================] - 12s 106ms/step - loss: 0.4606 - accuracy: 0.3709\n",
            "Epoch 255/500\n",
            "111/111 [==============================] - 12s 106ms/step - loss: 0.4602 - accuracy: 0.3630\n",
            "Epoch 256/500\n",
            "111/111 [==============================] - 12s 106ms/step - loss: 0.4620 - accuracy: 0.3559\n",
            "Epoch 257/500\n",
            "111/111 [==============================] - 12s 106ms/step - loss: 0.4639 - accuracy: 0.3576\n",
            "Epoch 258/500\n",
            "111/111 [==============================] - 12s 106ms/step - loss: 0.4615 - accuracy: 0.3624\n",
            "Epoch 259/500\n",
            "111/111 [==============================] - 12s 106ms/step - loss: 0.4599 - accuracy: 0.3669\n",
            "Epoch 260/500\n",
            "111/111 [==============================] - 12s 106ms/step - loss: 0.4604 - accuracy: 0.3616\n",
            "Epoch 261/500\n",
            "111/111 [==============================] - 12s 105ms/step - loss: 0.4597 - accuracy: 0.3647\n",
            "Epoch 262/500\n",
            "111/111 [==============================] - 12s 106ms/step - loss: 0.4616 - accuracy: 0.3556\n",
            "Epoch 263/500\n",
            "111/111 [==============================] - 12s 106ms/step - loss: 0.4622 - accuracy: 0.3537\n",
            "Epoch 264/500\n",
            "111/111 [==============================] - 12s 106ms/step - loss: 0.4583 - accuracy: 0.3757\n",
            "Epoch 265/500\n",
            "111/111 [==============================] - 12s 106ms/step - loss: 0.4611 - accuracy: 0.3624\n",
            "Epoch 266/500\n",
            "111/111 [==============================] - 12s 106ms/step - loss: 0.4589 - accuracy: 0.3655\n",
            "Epoch 267/500\n",
            "111/111 [==============================] - 12s 106ms/step - loss: 0.4586 - accuracy: 0.3638\n",
            "Epoch 268/500\n",
            "111/111 [==============================] - 12s 106ms/step - loss: 0.4613 - accuracy: 0.3661\n",
            "Epoch 269/500\n",
            "111/111 [==============================] - 12s 106ms/step - loss: 0.4632 - accuracy: 0.3585\n",
            "Epoch 270/500\n",
            "111/111 [==============================] - 12s 106ms/step - loss: 0.4586 - accuracy: 0.3686\n",
            "Epoch 271/500\n",
            "111/111 [==============================] - 12s 106ms/step - loss: 0.4606 - accuracy: 0.3573\n",
            "Epoch 272/500\n",
            "111/111 [==============================] - 12s 105ms/step - loss: 0.4577 - accuracy: 0.3718\n",
            "Epoch 273/500\n",
            "111/111 [==============================] - 12s 106ms/step - loss: 0.4590 - accuracy: 0.3672\n",
            "Epoch 274/500\n",
            "111/111 [==============================] - 12s 105ms/step - loss: 0.4590 - accuracy: 0.3695\n",
            "Epoch 275/500\n",
            "111/111 [==============================] - 12s 105ms/step - loss: 0.4617 - accuracy: 0.3624\n",
            "Epoch 276/500\n",
            "111/111 [==============================] - 12s 105ms/step - loss: 0.4580 - accuracy: 0.3760\n",
            "Epoch 277/500\n",
            "111/111 [==============================] - 12s 105ms/step - loss: 0.4583 - accuracy: 0.3616\n",
            "Epoch 278/500\n",
            "111/111 [==============================] - 12s 105ms/step - loss: 0.4584 - accuracy: 0.3712\n",
            "Epoch 279/500\n",
            "111/111 [==============================] - 12s 105ms/step - loss: 0.4565 - accuracy: 0.3768\n",
            "Epoch 280/500\n",
            "111/111 [==============================] - 12s 105ms/step - loss: 0.4548 - accuracy: 0.3703\n",
            "Epoch 281/500\n",
            "111/111 [==============================] - 12s 105ms/step - loss: 0.4588 - accuracy: 0.3706\n",
            "Epoch 282/500\n",
            "111/111 [==============================] - 12s 105ms/step - loss: 0.4579 - accuracy: 0.3653\n",
            "Epoch 283/500\n",
            "111/111 [==============================] - 12s 105ms/step - loss: 0.4558 - accuracy: 0.3706\n",
            "Epoch 284/500\n",
            "111/111 [==============================] - 12s 105ms/step - loss: 0.4564 - accuracy: 0.3749\n",
            "Epoch 285/500\n",
            "111/111 [==============================] - 12s 106ms/step - loss: 0.4576 - accuracy: 0.3734\n",
            "Epoch 286/500\n",
            "111/111 [==============================] - 12s 105ms/step - loss: 0.4574 - accuracy: 0.3701\n",
            "Epoch 287/500\n",
            "111/111 [==============================] - 12s 105ms/step - loss: 0.4525 - accuracy: 0.3808\n",
            "Epoch 288/500\n",
            "111/111 [==============================] - 12s 105ms/step - loss: 0.4556 - accuracy: 0.3853\n",
            "Epoch 289/500\n",
            "111/111 [==============================] - 12s 105ms/step - loss: 0.4561 - accuracy: 0.3760\n",
            "Epoch 290/500\n",
            "111/111 [==============================] - 12s 106ms/step - loss: 0.4571 - accuracy: 0.3802\n",
            "Epoch 291/500\n",
            "111/111 [==============================] - 12s 106ms/step - loss: 0.4578 - accuracy: 0.3777\n",
            "Epoch 292/500\n",
            "111/111 [==============================] - 12s 105ms/step - loss: 0.4566 - accuracy: 0.3703\n",
            "Epoch 293/500\n",
            "111/111 [==============================] - 12s 105ms/step - loss: 0.4549 - accuracy: 0.3845\n",
            "Epoch 294/500\n",
            "111/111 [==============================] - 12s 105ms/step - loss: 0.4525 - accuracy: 0.3873\n",
            "Epoch 295/500\n",
            "111/111 [==============================] - 12s 105ms/step - loss: 0.4546 - accuracy: 0.3794\n",
            "Epoch 296/500\n",
            "111/111 [==============================] - 12s 105ms/step - loss: 0.4542 - accuracy: 0.3805\n",
            "Epoch 297/500\n",
            "111/111 [==============================] - 12s 106ms/step - loss: 0.4590 - accuracy: 0.3638\n",
            "Epoch 298/500\n",
            "111/111 [==============================] - 12s 105ms/step - loss: 0.4529 - accuracy: 0.3839\n",
            "Epoch 299/500\n",
            "111/111 [==============================] - 12s 105ms/step - loss: 0.4561 - accuracy: 0.3802\n",
            "Epoch 300/500\n",
            "111/111 [==============================] - 12s 105ms/step - loss: 0.4551 - accuracy: 0.3791\n",
            "Epoch 301/500\n",
            "111/111 [==============================] - 12s 105ms/step - loss: 0.4554 - accuracy: 0.3749\n",
            "Epoch 302/500\n",
            " 14/111 [==>...........................] - ETA: 10s - loss: 0.4572 - accuracy: 0.3772"
          ]
        }
      ]
    },
    {
      "cell_type": "code",
      "metadata": {
        "id": "rNUs9UFwlF4r"
      },
      "source": [
        "model.save_weights(\"/content/facial_palsy.h5\")"
      ],
      "execution_count": null,
      "outputs": []
    },
    {
      "cell_type": "markdown",
      "metadata": {
        "id": "Aqxdbyjh_U_P"
      },
      "source": [
        "# **Model2**"
      ]
    },
    {
      "cell_type": "code",
      "metadata": {
        "id": "RM6YmcfC_UTk"
      },
      "source": [
        "in_shape=(BATCH_SIZE,IMAGE_SIZE,IMAGE_SIZE,1)\n",
        "model=models.Sequential(\n",
        "[\n",
        "    resize_and_rescale,\n",
        "    data_augmentation,\n",
        "    layers.Conv2D(32,(3,3),activation=\"relu\",input_shape=in_shape),\n",
        "    layers.MaxPooling2D((2,2)),\n",
        "    layers.BatchNormalization(),\n",
        " \n",
        "    layers.Conv2D(64,  kernel_size = (3,3), activation='relu'),\n",
        "    layers.MaxPooling2D((2, 2)),\n",
        "    layers.BatchNormalization(),\n",
        " \n",
        "    layers.Conv2D(64,  kernel_size = (3,3), activation='relu'),\n",
        "    layers.MaxPooling2D((2, 2)),\n",
        "    layers.BatchNormalization(),\n",
        " \n",
        "    layers.Conv2D(128, (3, 3), activation='relu'),\n",
        "    layers.MaxPooling2D((2, 2)),\n",
        "    layers.BatchNormalization(),\n",
        " \n",
        "    layers.Conv2D(256, (3, 3), activation='relu'),\n",
        "    layers.MaxPooling2D((2, 2)),\n",
        "    layers.BatchNormalization(),\n",
        " \n",
        "    layers.Conv2D(64, (3, 3), activation='relu'),\n",
        "    layers.MaxPooling2D((2, 2)),\n",
        "    layers.BatchNormalization(),\n",
        "    layers.Dropout(0.2),\n",
        "    layers.Flatten(),\n",
        "    layers.Dense(64, activation='relu'),\n",
        "    layers.Dense(1, activation='softmax'),\n",
        "]\n",
        ")\n",
        "model.build(input_shape=in_shape)"
      ],
      "execution_count": null,
      "outputs": []
    },
    {
      "cell_type": "code",
      "metadata": {
        "id": "ofmDAKBlEEVv"
      },
      "source": [
        "y_train = np.asarray(y_train).astype('float32').reshape((-1,1))"
      ],
      "execution_count": null,
      "outputs": []
    },
    {
      "cell_type": "code",
      "metadata": {
        "colab": {
          "base_uri": "https://localhost:8080/"
        },
        "id": "oFBWyYFrEVHV",
        "outputId": "edd7cee2-68db-44b9-8010-174b14cb3fa1"
      },
      "source": [
        "x_train.shape"
      ],
      "execution_count": null,
      "outputs": [
        {
          "output_type": "execute_result",
          "data": {
            "text/plain": [
              "(94, 248, 248, 1)"
            ]
          },
          "metadata": {},
          "execution_count": 113
        }
      ]
    },
    {
      "cell_type": "code",
      "metadata": {
        "colab": {
          "base_uri": "https://localhost:8080/"
        },
        "id": "6ekp79U8Dmd8",
        "outputId": "00b704c5-8f4d-47f0-dd10-9df8cd9331f0"
      },
      "source": [
        "# compile the model\n",
        "model.compile(optimizer='adam', loss='binary_crossentropy', metrics=[f1_m])\n",
        "\n",
        "# fit the model\n",
        "history = model.fit(x_train, y_train, validation_split=0.3, epochs=500)"
      ],
      "execution_count": null,
      "outputs": [
        {
          "output_type": "stream",
          "name": "stdout",
          "text": [
            "Epoch 1/500\n",
            "3/3 [==============================] - 3s 274ms/step - loss: 0.7532 - f1_m: 0.7762 - val_loss: nan - val_f1_m: nan\n",
            "Epoch 2/500\n",
            "3/3 [==============================] - 0s 115ms/step - loss: 0.7248 - f1_m: 0.4528 - val_loss: nan - val_f1_m: nan\n",
            "Epoch 3/500\n",
            "3/3 [==============================] - 0s 104ms/step - loss: 0.7142 - f1_m: 0.4535 - val_loss: nan - val_f1_m: nan\n",
            "Epoch 4/500\n",
            "3/3 [==============================] - 0s 105ms/step - loss: 0.6996 - f1_m: 0.4460 - val_loss: nan - val_f1_m: nan\n",
            "Epoch 5/500\n",
            "3/3 [==============================] - 0s 106ms/step - loss: 0.7498 - f1_m: 0.7774 - val_loss: nan - val_f1_m: nan\n",
            "Epoch 6/500\n",
            "3/3 [==============================] - 0s 108ms/step - loss: 0.7891 - f1_m: 0.4535 - val_loss: nan - val_f1_m: nan\n",
            "Epoch 7/500\n",
            "3/3 [==============================] - 0s 105ms/step - loss: 0.7532 - f1_m: 0.7774 - val_loss: nan - val_f1_m: nan\n",
            "Epoch 8/500\n",
            "3/3 [==============================] - 0s 106ms/step - loss: 0.7235 - f1_m: 0.4528 - val_loss: nan - val_f1_m: nan\n",
            "Epoch 9/500\n",
            "3/3 [==============================] - 0s 104ms/step - loss: 0.7376 - f1_m: 0.7762 - val_loss: nan - val_f1_m: nan\n",
            "Epoch 10/500\n",
            "3/3 [==============================] - 0s 105ms/step - loss: 0.7091 - f1_m: 0.4528 - val_loss: nan - val_f1_m: nan\n",
            "Epoch 11/500\n",
            "3/3 [==============================] - 0s 106ms/step - loss: 0.7011 - f1_m: 0.4528 - val_loss: nan - val_f1_m: nan\n",
            "Epoch 12/500\n",
            "3/3 [==============================] - 0s 103ms/step - loss: 0.7213 - f1_m: 0.7743 - val_loss: nan - val_f1_m: nan\n",
            "Epoch 13/500\n",
            "3/3 [==============================] - 0s 105ms/step - loss: 0.7429 - f1_m: 0.4513 - val_loss: nan - val_f1_m: nan\n",
            "Epoch 14/500\n",
            "3/3 [==============================] - 0s 106ms/step - loss: 0.7666 - f1_m: 0.4528 - val_loss: nan - val_f1_m: nan\n",
            "Epoch 15/500\n",
            "3/3 [==============================] - 0s 108ms/step - loss: 0.7073 - f1_m: 0.7743 - val_loss: nan - val_f1_m: nan\n",
            "Epoch 16/500\n",
            "3/3 [==============================] - 0s 106ms/step - loss: 0.7120 - f1_m: 0.7774 - val_loss: nan - val_f1_m: nan\n",
            "Epoch 17/500\n",
            "3/3 [==============================] - 0s 105ms/step - loss: 0.7327 - f1_m: 0.7774 - val_loss: nan - val_f1_m: nan\n",
            "Epoch 18/500\n",
            "3/3 [==============================] - 0s 103ms/step - loss: 0.7015 - f1_m: 0.7743 - val_loss: nan - val_f1_m: nan\n",
            "Epoch 19/500\n",
            "3/3 [==============================] - 0s 106ms/step - loss: 0.7225 - f1_m: 0.7762 - val_loss: nan - val_f1_m: nan\n",
            "Epoch 20/500\n",
            "3/3 [==============================] - 0s 106ms/step - loss: 0.6916 - f1_m: 0.7778 - val_loss: nan - val_f1_m: nan\n",
            "Epoch 21/500\n",
            "3/3 [==============================] - 0s 100ms/step - loss: 0.6942 - f1_m: 0.7743 - val_loss: nan - val_f1_m: nan\n",
            "Epoch 22/500\n",
            "3/3 [==============================] - 0s 107ms/step - loss: 0.7231 - f1_m: 0.7743 - val_loss: nan - val_f1_m: nan\n",
            "Epoch 23/500\n",
            "3/3 [==============================] - 0s 105ms/step - loss: 0.6922 - f1_m: 0.7762 - val_loss: nan - val_f1_m: nan\n",
            "Epoch 24/500\n",
            "3/3 [==============================] - 0s 105ms/step - loss: 0.6521 - f1_m: 0.4513 - val_loss: nan - val_f1_m: nan\n",
            "Epoch 25/500\n",
            "3/3 [==============================] - 0s 102ms/step - loss: 0.6994 - f1_m: 0.7762 - val_loss: nan - val_f1_m: nan\n",
            "Epoch 26/500\n",
            "3/3 [==============================] - 0s 111ms/step - loss: 0.6971 - f1_m: 0.4535 - val_loss: nan - val_f1_m: nan\n",
            "Epoch 27/500\n",
            "3/3 [==============================] - 0s 103ms/step - loss: 0.7108 - f1_m: 0.4528 - val_loss: nan - val_f1_m: nan\n",
            "Epoch 28/500\n",
            "3/3 [==============================] - 0s 105ms/step - loss: 0.7291 - f1_m: 0.4513 - val_loss: nan - val_f1_m: nan\n",
            "Epoch 29/500\n",
            "3/3 [==============================] - 0s 107ms/step - loss: 0.7694 - f1_m: 0.7680 - val_loss: nan - val_f1_m: nan\n",
            "Epoch 30/500\n",
            "3/3 [==============================] - 0s 106ms/step - loss: 0.6919 - f1_m: 0.4513 - val_loss: nan - val_f1_m: nan\n",
            "Epoch 31/500\n",
            "3/3 [==============================] - 0s 102ms/step - loss: 0.6676 - f1_m: 0.4513 - val_loss: nan - val_f1_m: nan\n",
            "Epoch 32/500\n",
            "3/3 [==============================] - 0s 106ms/step - loss: 0.7250 - f1_m: 0.4535 - val_loss: nan - val_f1_m: nan\n",
            "Epoch 33/500\n",
            "3/3 [==============================] - 0s 114ms/step - loss: 0.6787 - f1_m: 0.4513 - val_loss: nan - val_f1_m: nan\n",
            "Epoch 34/500\n",
            "3/3 [==============================] - 0s 106ms/step - loss: 0.6989 - f1_m: 0.7762 - val_loss: nan - val_f1_m: nan\n",
            "Epoch 35/500\n",
            "3/3 [==============================] - 0s 103ms/step - loss: 0.6596 - f1_m: 0.7774 - val_loss: nan - val_f1_m: nan\n",
            "Epoch 36/500\n",
            "3/3 [==============================] - 0s 104ms/step - loss: 0.6868 - f1_m: 0.4490 - val_loss: nan - val_f1_m: nan\n",
            "Epoch 37/500\n",
            "3/3 [==============================] - 0s 102ms/step - loss: 0.6901 - f1_m: 0.7778 - val_loss: nan - val_f1_m: nan\n",
            "Epoch 38/500\n",
            "3/3 [==============================] - 0s 104ms/step - loss: 0.7068 - f1_m: 0.7762 - val_loss: nan - val_f1_m: nan\n",
            "Epoch 39/500\n",
            "3/3 [==============================] - 0s 106ms/step - loss: 0.6846 - f1_m: 0.4513 - val_loss: nan - val_f1_m: nan\n",
            "Epoch 40/500\n",
            "3/3 [==============================] - 0s 118ms/step - loss: 0.7222 - f1_m: 0.4535 - val_loss: nan - val_f1_m: nan\n",
            "Epoch 41/500\n",
            "3/3 [==============================] - 0s 104ms/step - loss: 0.7130 - f1_m: 0.4490 - val_loss: nan - val_f1_m: nan\n",
            "Epoch 42/500\n",
            "3/3 [==============================] - 0s 107ms/step - loss: 0.6828 - f1_m: 0.7774 - val_loss: nan - val_f1_m: nan\n",
            "Epoch 43/500\n",
            "3/3 [==============================] - 0s 104ms/step - loss: 0.7086 - f1_m: 0.7762 - val_loss: nan - val_f1_m: nan\n",
            "Epoch 44/500\n",
            "3/3 [==============================] - 0s 109ms/step - loss: 0.7149 - f1_m: 0.4535 - val_loss: nan - val_f1_m: nan\n",
            "Epoch 45/500\n",
            "3/3 [==============================] - 0s 105ms/step - loss: 0.7385 - f1_m: 0.4528 - val_loss: nan - val_f1_m: nan\n",
            "Epoch 46/500\n",
            "3/3 [==============================] - 0s 108ms/step - loss: 0.6687 - f1_m: 0.7762 - val_loss: nan - val_f1_m: nan\n",
            "Epoch 47/500\n",
            "3/3 [==============================] - 0s 104ms/step - loss: 0.6980 - f1_m: 0.7680 - val_loss: nan - val_f1_m: nan\n",
            "Epoch 48/500\n",
            "3/3 [==============================] - 0s 107ms/step - loss: 0.6884 - f1_m: 0.7774 - val_loss: nan - val_f1_m: nan\n",
            "Epoch 49/500\n",
            "3/3 [==============================] - 0s 103ms/step - loss: 0.7552 - f1_m: 0.7762 - val_loss: nan - val_f1_m: nan\n",
            "Epoch 50/500\n",
            "3/3 [==============================] - 0s 106ms/step - loss: 0.6955 - f1_m: 0.4535 - val_loss: nan - val_f1_m: nan\n",
            "Epoch 51/500\n",
            "3/3 [==============================] - 0s 109ms/step - loss: 0.7343 - f1_m: 0.7716 - val_loss: nan - val_f1_m: nan\n",
            "Epoch 52/500\n",
            "3/3 [==============================] - 0s 114ms/step - loss: 0.6646 - f1_m: 0.4535 - val_loss: nan - val_f1_m: nan\n",
            "Epoch 53/500\n",
            "3/3 [==============================] - 0s 106ms/step - loss: 0.6853 - f1_m: 0.4528 - val_loss: nan - val_f1_m: nan\n",
            "Epoch 54/500\n",
            "3/3 [==============================] - 0s 105ms/step - loss: 0.6783 - f1_m: 0.7762 - val_loss: nan - val_f1_m: nan\n",
            "Epoch 55/500\n",
            "3/3 [==============================] - 0s 105ms/step - loss: 0.6952 - f1_m: 0.7774 - val_loss: nan - val_f1_m: nan\n",
            "Epoch 56/500\n",
            "3/3 [==============================] - 0s 105ms/step - loss: 0.7269 - f1_m: 0.4490 - val_loss: nan - val_f1_m: nan\n",
            "Epoch 57/500\n",
            "3/3 [==============================] - 0s 106ms/step - loss: 0.6472 - f1_m: 0.4535 - val_loss: nan - val_f1_m: nan\n",
            "Epoch 58/500\n",
            "3/3 [==============================] - 0s 106ms/step - loss: 0.6580 - f1_m: 0.7762 - val_loss: nan - val_f1_m: nan\n",
            "Epoch 59/500\n",
            "3/3 [==============================] - 0s 106ms/step - loss: 0.6343 - f1_m: 0.4535 - val_loss: nan - val_f1_m: nan\n",
            "Epoch 60/500\n",
            "3/3 [==============================] - 0s 104ms/step - loss: 0.6617 - f1_m: 0.4535 - val_loss: nan - val_f1_m: nan\n",
            "Epoch 61/500\n",
            "3/3 [==============================] - 0s 103ms/step - loss: 0.6654 - f1_m: 0.4528 - val_loss: nan - val_f1_m: nan\n",
            "Epoch 62/500\n",
            "3/3 [==============================] - 0s 106ms/step - loss: 0.7182 - f1_m: 0.4535 - val_loss: nan - val_f1_m: nan\n",
            "Epoch 63/500\n",
            "3/3 [==============================] - 0s 107ms/step - loss: 0.7131 - f1_m: 0.4528 - val_loss: nan - val_f1_m: nan\n",
            "Epoch 64/500\n",
            "3/3 [==============================] - 0s 117ms/step - loss: 0.6634 - f1_m: 0.7774 - val_loss: nan - val_f1_m: nan\n",
            "Epoch 65/500\n",
            "3/3 [==============================] - 0s 104ms/step - loss: 0.6622 - f1_m: 0.4528 - val_loss: nan - val_f1_m: nan\n",
            "Epoch 66/500\n",
            "3/3 [==============================] - 0s 103ms/step - loss: 0.6358 - f1_m: 0.4513 - val_loss: nan - val_f1_m: nan\n",
            "Epoch 67/500\n",
            "3/3 [==============================] - 0s 105ms/step - loss: 0.6488 - f1_m: 0.4535 - val_loss: nan - val_f1_m: nan\n",
            "Epoch 68/500\n",
            "3/3 [==============================] - 0s 107ms/step - loss: 0.6852 - f1_m: 0.4535 - val_loss: nan - val_f1_m: nan\n",
            "Epoch 69/500\n",
            "3/3 [==============================] - 0s 106ms/step - loss: 0.6479 - f1_m: 0.7716 - val_loss: nan - val_f1_m: nan\n",
            "Epoch 70/500\n",
            "3/3 [==============================] - 0s 108ms/step - loss: 0.6530 - f1_m: 0.7778 - val_loss: nan - val_f1_m: nan\n",
            "Epoch 71/500\n",
            "3/3 [==============================] - 0s 109ms/step - loss: 0.6835 - f1_m: 0.4535 - val_loss: nan - val_f1_m: nan\n",
            "Epoch 72/500\n",
            "3/3 [==============================] - 0s 106ms/step - loss: 0.7146 - f1_m: 0.4535 - val_loss: nan - val_f1_m: nan\n",
            "Epoch 73/500\n",
            "3/3 [==============================] - 0s 104ms/step - loss: 0.7304 - f1_m: 0.7774 - val_loss: nan - val_f1_m: nan\n",
            "Epoch 74/500\n",
            "3/3 [==============================] - 0s 107ms/step - loss: 0.6413 - f1_m: 0.7762 - val_loss: nan - val_f1_m: nan\n",
            "Epoch 75/500\n",
            "3/3 [==============================] - 0s 106ms/step - loss: 0.6313 - f1_m: 0.4513 - val_loss: nan - val_f1_m: nan\n",
            "Epoch 76/500\n",
            "3/3 [==============================] - 0s 106ms/step - loss: 0.5935 - f1_m: 0.7743 - val_loss: nan - val_f1_m: nan\n",
            "Epoch 77/500\n",
            "3/3 [==============================] - 0s 105ms/step - loss: 0.6305 - f1_m: 0.7716 - val_loss: nan - val_f1_m: nan\n",
            "Epoch 78/500\n",
            "3/3 [==============================] - 0s 103ms/step - loss: 0.6496 - f1_m: 0.7778 - val_loss: nan - val_f1_m: nan\n",
            "Epoch 79/500\n",
            "3/3 [==============================] - 0s 107ms/step - loss: 0.6304 - f1_m: 0.4460 - val_loss: nan - val_f1_m: nan\n",
            "Epoch 80/500\n",
            "3/3 [==============================] - 0s 106ms/step - loss: 0.6417 - f1_m: 0.4513 - val_loss: nan - val_f1_m: nan\n",
            "Epoch 81/500\n",
            "3/3 [==============================] - 0s 106ms/step - loss: 0.6489 - f1_m: 0.4535 - val_loss: nan - val_f1_m: nan\n",
            "Epoch 82/500\n",
            "3/3 [==============================] - 0s 104ms/step - loss: 0.5900 - f1_m: 0.4490 - val_loss: nan - val_f1_m: nan\n",
            "Epoch 83/500\n",
            "3/3 [==============================] - 0s 104ms/step - loss: 0.6649 - f1_m: 0.7762 - val_loss: nan - val_f1_m: nan\n",
            "Epoch 84/500\n",
            "3/3 [==============================] - 0s 105ms/step - loss: 0.6073 - f1_m: 0.7778 - val_loss: nan - val_f1_m: nan\n",
            "Epoch 85/500\n",
            "3/3 [==============================] - 0s 106ms/step - loss: 0.6016 - f1_m: 0.7774 - val_loss: nan - val_f1_m: nan\n",
            "Epoch 86/500\n",
            "3/3 [==============================] - 0s 106ms/step - loss: 0.5743 - f1_m: 0.7743 - val_loss: nan - val_f1_m: nan\n",
            "Epoch 87/500\n",
            "3/3 [==============================] - 0s 105ms/step - loss: 0.6324 - f1_m: 0.7778 - val_loss: nan - val_f1_m: nan\n",
            "Epoch 88/500\n",
            "3/3 [==============================] - 0s 109ms/step - loss: 0.6264 - f1_m: 0.7743 - val_loss: nan - val_f1_m: nan\n",
            "Epoch 89/500\n",
            "3/3 [==============================] - 0s 106ms/step - loss: 0.6501 - f1_m: 0.4535 - val_loss: nan - val_f1_m: nan\n",
            "Epoch 90/500\n",
            "3/3 [==============================] - 0s 106ms/step - loss: 0.6353 - f1_m: 0.7774 - val_loss: nan - val_f1_m: nan\n",
            "Epoch 91/500\n",
            "3/3 [==============================] - 0s 104ms/step - loss: 0.5852 - f1_m: 0.4535 - val_loss: nan - val_f1_m: nan\n",
            "Epoch 92/500\n",
            "3/3 [==============================] - 0s 103ms/step - loss: 0.5677 - f1_m: 0.7778 - val_loss: nan - val_f1_m: nan\n",
            "Epoch 93/500\n",
            "3/3 [==============================] - 0s 105ms/step - loss: 0.5192 - f1_m: 0.7762 - val_loss: nan - val_f1_m: nan\n",
            "Epoch 94/500\n",
            "3/3 [==============================] - 0s 103ms/step - loss: 0.5656 - f1_m: 0.4460 - val_loss: nan - val_f1_m: nan\n",
            "Epoch 95/500\n",
            "3/3 [==============================] - 0s 106ms/step - loss: 0.5546 - f1_m: 0.7778 - val_loss: nan - val_f1_m: nan\n",
            "Epoch 96/500\n",
            "3/3 [==============================] - 0s 104ms/step - loss: 0.5290 - f1_m: 0.4513 - val_loss: nan - val_f1_m: nan\n",
            "Epoch 97/500\n",
            "3/3 [==============================] - 0s 107ms/step - loss: 0.5838 - f1_m: 0.4535 - val_loss: nan - val_f1_m: nan\n",
            "Epoch 98/500\n",
            "3/3 [==============================] - 0s 107ms/step - loss: 0.5549 - f1_m: 0.7778 - val_loss: nan - val_f1_m: nan\n",
            "Epoch 99/500\n",
            "3/3 [==============================] - 0s 108ms/step - loss: 0.5943 - f1_m: 0.7762 - val_loss: nan - val_f1_m: nan\n",
            "Epoch 100/500\n",
            "3/3 [==============================] - 0s 110ms/step - loss: 0.6505 - f1_m: 0.7743 - val_loss: nan - val_f1_m: nan\n",
            "Epoch 101/500\n",
            "3/3 [==============================] - 0s 105ms/step - loss: 0.5798 - f1_m: 0.7778 - val_loss: nan - val_f1_m: nan\n",
            "Epoch 102/500\n",
            "3/3 [==============================] - 0s 107ms/step - loss: 0.6470 - f1_m: 0.4513 - val_loss: nan - val_f1_m: nan\n",
            "Epoch 103/500\n",
            "3/3 [==============================] - 0s 110ms/step - loss: 0.5399 - f1_m: 0.4528 - val_loss: nan - val_f1_m: nan\n",
            "Epoch 104/500\n",
            "3/3 [==============================] - 0s 108ms/step - loss: 0.5986 - f1_m: 0.4513 - val_loss: nan - val_f1_m: nan\n",
            "Epoch 105/500\n",
            "3/3 [==============================] - 0s 107ms/step - loss: 0.4695 - f1_m: 0.7774 - val_loss: nan - val_f1_m: nan\n",
            "Epoch 106/500\n",
            "3/3 [==============================] - 0s 107ms/step - loss: 0.5902 - f1_m: 0.7774 - val_loss: nan - val_f1_m: nan\n",
            "Epoch 107/500\n",
            "3/3 [==============================] - 0s 107ms/step - loss: 0.5995 - f1_m: 0.7774 - val_loss: nan - val_f1_m: nan\n",
            "Epoch 108/500\n",
            "3/3 [==============================] - 0s 104ms/step - loss: 0.6590 - f1_m: 0.4513 - val_loss: nan - val_f1_m: nan\n",
            "Epoch 109/500\n",
            "3/3 [==============================] - 0s 106ms/step - loss: 0.6035 - f1_m: 0.4528 - val_loss: nan - val_f1_m: nan\n",
            "Epoch 110/500\n",
            "3/3 [==============================] - 0s 105ms/step - loss: 0.6523 - f1_m: 0.7680 - val_loss: nan - val_f1_m: nan\n",
            "Epoch 111/500\n",
            "3/3 [==============================] - 0s 106ms/step - loss: 0.6179 - f1_m: 0.4535 - val_loss: nan - val_f1_m: nan\n",
            "Epoch 112/500\n",
            "3/3 [==============================] - 0s 106ms/step - loss: 0.6317 - f1_m: 0.7743 - val_loss: nan - val_f1_m: nan\n",
            "Epoch 113/500\n",
            "3/3 [==============================] - 0s 108ms/step - loss: 0.5826 - f1_m: 0.7774 - val_loss: nan - val_f1_m: nan\n",
            "Epoch 114/500\n",
            "3/3 [==============================] - 0s 106ms/step - loss: 0.7171 - f1_m: 0.4528 - val_loss: nan - val_f1_m: nan\n",
            "Epoch 115/500\n",
            "3/3 [==============================] - 0s 104ms/step - loss: 0.5985 - f1_m: 0.7774 - val_loss: nan - val_f1_m: nan\n",
            "Epoch 116/500\n",
            "3/3 [==============================] - 0s 108ms/step - loss: 0.6465 - f1_m: 0.4535 - val_loss: nan - val_f1_m: nan\n",
            "Epoch 117/500\n",
            "3/3 [==============================] - 0s 105ms/step - loss: 0.5401 - f1_m: 0.4513 - val_loss: nan - val_f1_m: nan\n",
            "Epoch 118/500\n",
            "3/3 [==============================] - 0s 107ms/step - loss: 0.5960 - f1_m: 0.4490 - val_loss: nan - val_f1_m: nan\n",
            "Epoch 119/500\n",
            "3/3 [==============================] - 0s 105ms/step - loss: 0.5744 - f1_m: 0.4513 - val_loss: nan - val_f1_m: nan\n",
            "Epoch 120/500\n",
            "3/3 [==============================] - 0s 110ms/step - loss: 0.6473 - f1_m: 0.7762 - val_loss: nan - val_f1_m: nan\n",
            "Epoch 121/500\n",
            "3/3 [==============================] - 0s 107ms/step - loss: 0.5385 - f1_m: 0.7778 - val_loss: nan - val_f1_m: nan\n",
            "Epoch 122/500\n",
            "3/3 [==============================] - 0s 105ms/step - loss: 0.5510 - f1_m: 0.4528 - val_loss: nan - val_f1_m: nan\n",
            "Epoch 123/500\n",
            "3/3 [==============================] - 0s 114ms/step - loss: 0.5252 - f1_m: 0.4513 - val_loss: nan - val_f1_m: nan\n",
            "Epoch 124/500\n",
            "3/3 [==============================] - 0s 104ms/step - loss: 0.6263 - f1_m: 0.4535 - val_loss: nan - val_f1_m: nan\n",
            "Epoch 125/500\n",
            "3/3 [==============================] - 0s 105ms/step - loss: 0.5664 - f1_m: 0.7762 - val_loss: nan - val_f1_m: nan\n",
            "Epoch 126/500\n",
            "3/3 [==============================] - 0s 105ms/step - loss: 0.6042 - f1_m: 0.7774 - val_loss: nan - val_f1_m: nan\n",
            "Epoch 127/500\n",
            "3/3 [==============================] - 0s 104ms/step - loss: 0.6060 - f1_m: 0.7743 - val_loss: nan - val_f1_m: nan\n",
            "Epoch 128/500\n",
            "3/3 [==============================] - 0s 108ms/step - loss: 0.4748 - f1_m: 0.7743 - val_loss: nan - val_f1_m: nan\n",
            "Epoch 129/500\n",
            "3/3 [==============================] - 0s 110ms/step - loss: 0.5782 - f1_m: 0.7762 - val_loss: nan - val_f1_m: nan\n",
            "Epoch 130/500\n",
            "3/3 [==============================] - 0s 106ms/step - loss: 0.6393 - f1_m: 0.4513 - val_loss: nan - val_f1_m: nan\n",
            "Epoch 131/500\n",
            "3/3 [==============================] - 0s 121ms/step - loss: 0.6052 - f1_m: 0.7774 - val_loss: nan - val_f1_m: nan\n",
            "Epoch 132/500\n",
            "3/3 [==============================] - 0s 107ms/step - loss: 0.5612 - f1_m: 0.4535 - val_loss: nan - val_f1_m: nan\n",
            "Epoch 133/500\n",
            "3/3 [==============================] - 0s 104ms/step - loss: 0.5561 - f1_m: 0.4528 - val_loss: nan - val_f1_m: nan\n",
            "Epoch 134/500\n",
            "3/3 [==============================] - 0s 108ms/step - loss: 0.5437 - f1_m: 0.7774 - val_loss: nan - val_f1_m: nan\n",
            "Epoch 135/500\n",
            "3/3 [==============================] - 0s 109ms/step - loss: 0.5046 - f1_m: 0.7743 - val_loss: nan - val_f1_m: nan\n",
            "Epoch 136/500\n",
            "3/3 [==============================] - 0s 107ms/step - loss: 0.5038 - f1_m: 0.7778 - val_loss: nan - val_f1_m: nan\n",
            "Epoch 137/500\n",
            "3/3 [==============================] - 0s 103ms/step - loss: 0.5163 - f1_m: 0.7774 - val_loss: nan - val_f1_m: nan\n",
            "Epoch 138/500\n",
            "3/3 [==============================] - 0s 108ms/step - loss: 0.6091 - f1_m: 0.4528 - val_loss: nan - val_f1_m: nan\n",
            "Epoch 139/500\n",
            "3/3 [==============================] - 0s 104ms/step - loss: 0.5619 - f1_m: 0.7762 - val_loss: nan - val_f1_m: nan\n",
            "Epoch 140/500\n",
            "3/3 [==============================] - 0s 106ms/step - loss: 0.4997 - f1_m: 0.7774 - val_loss: nan - val_f1_m: nan\n",
            "Epoch 141/500\n",
            "3/3 [==============================] - 0s 107ms/step - loss: 0.4994 - f1_m: 0.7762 - val_loss: nan - val_f1_m: nan\n",
            "Epoch 142/500\n",
            "3/3 [==============================] - 0s 107ms/step - loss: 0.4825 - f1_m: 0.4535 - val_loss: nan - val_f1_m: nan\n",
            "Epoch 143/500\n",
            "3/3 [==============================] - 0s 106ms/step - loss: 0.5293 - f1_m: 0.7774 - val_loss: nan - val_f1_m: nan\n",
            "Epoch 144/500\n",
            "3/3 [==============================] - 0s 117ms/step - loss: 0.6281 - f1_m: 0.7716 - val_loss: nan - val_f1_m: nan\n",
            "Epoch 145/500\n",
            "3/3 [==============================] - 0s 106ms/step - loss: 0.5697 - f1_m: 0.4535 - val_loss: nan - val_f1_m: nan\n",
            "Epoch 146/500\n",
            "3/3 [==============================] - 0s 107ms/step - loss: 0.5559 - f1_m: 0.4535 - val_loss: nan - val_f1_m: nan\n",
            "Epoch 147/500\n",
            "3/3 [==============================] - 0s 106ms/step - loss: 0.5870 - f1_m: 0.7774 - val_loss: nan - val_f1_m: nan\n",
            "Epoch 148/500\n",
            "3/3 [==============================] - 0s 106ms/step - loss: 0.4714 - f1_m: 0.4535 - val_loss: nan - val_f1_m: nan\n",
            "Epoch 149/500\n",
            "3/3 [==============================] - 0s 107ms/step - loss: 0.4598 - f1_m: 0.7774 - val_loss: nan - val_f1_m: nan\n",
            "Epoch 150/500\n",
            "3/3 [==============================] - 0s 107ms/step - loss: 0.5102 - f1_m: 0.7778 - val_loss: nan - val_f1_m: nan\n",
            "Epoch 151/500\n",
            "3/3 [==============================] - 0s 105ms/step - loss: 0.5546 - f1_m: 0.4528 - val_loss: nan - val_f1_m: nan\n",
            "Epoch 152/500\n",
            "3/3 [==============================] - 0s 103ms/step - loss: 0.4900 - f1_m: 0.4460 - val_loss: nan - val_f1_m: nan\n",
            "Epoch 153/500\n",
            "3/3 [==============================] - 0s 113ms/step - loss: 0.4655 - f1_m: 0.4535 - val_loss: nan - val_f1_m: nan\n",
            "Epoch 154/500\n",
            "3/3 [==============================] - 0s 118ms/step - loss: 0.4256 - f1_m: 0.7743 - val_loss: nan - val_f1_m: nan\n",
            "Epoch 155/500\n",
            "3/3 [==============================] - 0s 104ms/step - loss: 0.4766 - f1_m: 0.7774 - val_loss: nan - val_f1_m: nan\n",
            "Epoch 156/500\n",
            "3/3 [==============================] - 0s 107ms/step - loss: 0.5326 - f1_m: 0.7743 - val_loss: nan - val_f1_m: nan\n",
            "Epoch 157/500\n",
            "3/3 [==============================] - 0s 106ms/step - loss: 0.5361 - f1_m: 0.7774 - val_loss: nan - val_f1_m: nan\n",
            "Epoch 158/500\n",
            "3/3 [==============================] - 0s 109ms/step - loss: 0.5787 - f1_m: 0.7680 - val_loss: nan - val_f1_m: nan\n",
            "Epoch 159/500\n",
            "3/3 [==============================] - 0s 105ms/step - loss: 0.4055 - f1_m: 0.7762 - val_loss: nan - val_f1_m: nan\n",
            "Epoch 160/500\n",
            "3/3 [==============================] - 0s 106ms/step - loss: 0.4553 - f1_m: 0.7762 - val_loss: nan - val_f1_m: nan\n",
            "Epoch 161/500\n",
            "3/3 [==============================] - 0s 107ms/step - loss: 0.4438 - f1_m: 0.4528 - val_loss: nan - val_f1_m: nan\n",
            "Epoch 162/500\n",
            "3/3 [==============================] - 0s 107ms/step - loss: 0.5074 - f1_m: 0.4535 - val_loss: nan - val_f1_m: nan\n",
            "Epoch 163/500\n",
            "3/3 [==============================] - 0s 103ms/step - loss: 0.4894 - f1_m: 0.7778 - val_loss: nan - val_f1_m: nan\n",
            "Epoch 164/500\n",
            "3/3 [==============================] - 0s 105ms/step - loss: 0.5369 - f1_m: 0.4535 - val_loss: nan - val_f1_m: nan\n",
            "Epoch 165/500\n",
            "3/3 [==============================] - 0s 106ms/step - loss: 0.4426 - f1_m: 0.4535 - val_loss: nan - val_f1_m: nan\n",
            "Epoch 166/500\n",
            "3/3 [==============================] - 0s 104ms/step - loss: 0.4263 - f1_m: 0.7778 - val_loss: nan - val_f1_m: nan\n",
            "Epoch 167/500\n",
            "3/3 [==============================] - 0s 117ms/step - loss: 0.5084 - f1_m: 0.7762 - val_loss: nan - val_f1_m: nan\n",
            "Epoch 168/500\n",
            "3/3 [==============================] - 0s 106ms/step - loss: 0.5388 - f1_m: 0.7774 - val_loss: nan - val_f1_m: nan\n",
            "Epoch 169/500\n",
            "3/3 [==============================] - 0s 106ms/step - loss: 0.4747 - f1_m: 0.7762 - val_loss: nan - val_f1_m: nan\n",
            "Epoch 170/500\n",
            "3/3 [==============================] - 0s 104ms/step - loss: 0.5237 - f1_m: 0.4535 - val_loss: nan - val_f1_m: nan\n",
            "Epoch 171/500\n",
            "3/3 [==============================] - 0s 106ms/step - loss: 0.4855 - f1_m: 0.4528 - val_loss: nan - val_f1_m: nan\n",
            "Epoch 172/500\n",
            "3/3 [==============================] - 0s 104ms/step - loss: 0.4017 - f1_m: 0.7778 - val_loss: nan - val_f1_m: nan\n",
            "Epoch 173/500\n",
            "3/3 [==============================] - 0s 104ms/step - loss: 0.4791 - f1_m: 0.4460 - val_loss: nan - val_f1_m: nan\n",
            "Epoch 174/500\n",
            "3/3 [==============================] - 0s 107ms/step - loss: 0.4732 - f1_m: 0.7680 - val_loss: nan - val_f1_m: nan\n",
            "Epoch 175/500\n",
            "3/3 [==============================] - 0s 103ms/step - loss: 0.4359 - f1_m: 0.7774 - val_loss: nan - val_f1_m: nan\n",
            "Epoch 176/500\n",
            "3/3 [==============================] - 0s 110ms/step - loss: 0.4071 - f1_m: 0.4513 - val_loss: nan - val_f1_m: nan\n",
            "Epoch 177/500\n",
            "3/3 [==============================] - 0s 105ms/step - loss: 0.4202 - f1_m: 0.7778 - val_loss: nan - val_f1_m: nan\n",
            "Epoch 178/500\n",
            "3/3 [==============================] - 0s 104ms/step - loss: 0.4631 - f1_m: 0.7774 - val_loss: nan - val_f1_m: nan\n",
            "Epoch 179/500\n",
            "3/3 [==============================] - 0s 104ms/step - loss: 0.4521 - f1_m: 0.7778 - val_loss: nan - val_f1_m: nan\n",
            "Epoch 180/500\n",
            "3/3 [==============================] - 0s 106ms/step - loss: 0.3961 - f1_m: 0.7778 - val_loss: nan - val_f1_m: nan\n",
            "Epoch 181/500\n",
            "3/3 [==============================] - 0s 112ms/step - loss: 0.3687 - f1_m: 0.4535 - val_loss: nan - val_f1_m: nan\n",
            "Epoch 182/500\n",
            "3/3 [==============================] - 0s 106ms/step - loss: 0.4621 - f1_m: 0.4528 - val_loss: nan - val_f1_m: nan\n",
            "Epoch 183/500\n",
            "3/3 [==============================] - 0s 105ms/step - loss: 0.4673 - f1_m: 0.7774 - val_loss: nan - val_f1_m: nan\n",
            "Epoch 184/500\n",
            "3/3 [==============================] - 0s 107ms/step - loss: 0.4262 - f1_m: 0.4535 - val_loss: nan - val_f1_m: nan\n",
            "Epoch 185/500\n",
            "3/3 [==============================] - 0s 104ms/step - loss: 0.4945 - f1_m: 0.4528 - val_loss: nan - val_f1_m: nan\n",
            "Epoch 186/500\n",
            "3/3 [==============================] - 0s 106ms/step - loss: 0.4490 - f1_m: 0.7774 - val_loss: nan - val_f1_m: nan\n",
            "Epoch 187/500\n",
            "3/3 [==============================] - 0s 105ms/step - loss: 0.4777 - f1_m: 0.4528 - val_loss: nan - val_f1_m: nan\n",
            "Epoch 188/500\n",
            "3/3 [==============================] - 0s 109ms/step - loss: 0.4988 - f1_m: 0.7743 - val_loss: nan - val_f1_m: nan\n",
            "Epoch 189/500\n",
            "3/3 [==============================] - 0s 106ms/step - loss: 0.4057 - f1_m: 0.4528 - val_loss: nan - val_f1_m: nan\n",
            "Epoch 190/500\n",
            "3/3 [==============================] - 0s 106ms/step - loss: 0.3834 - f1_m: 0.7778 - val_loss: nan - val_f1_m: nan\n",
            "Epoch 191/500\n",
            "3/3 [==============================] - 0s 108ms/step - loss: 0.4114 - f1_m: 0.7762 - val_loss: nan - val_f1_m: nan\n",
            "Epoch 192/500\n",
            "3/3 [==============================] - 0s 105ms/step - loss: 0.4066 - f1_m: 0.7774 - val_loss: nan - val_f1_m: nan\n",
            "Epoch 193/500\n",
            "3/3 [==============================] - 0s 105ms/step - loss: 0.4624 - f1_m: 0.4535 - val_loss: nan - val_f1_m: nan\n",
            "Epoch 194/500\n",
            "3/3 [==============================] - 0s 106ms/step - loss: 0.4420 - f1_m: 0.7778 - val_loss: nan - val_f1_m: nan\n",
            "Epoch 195/500\n",
            "3/3 [==============================] - 0s 109ms/step - loss: 0.4398 - f1_m: 0.7743 - val_loss: nan - val_f1_m: nan\n",
            "Epoch 196/500\n",
            "3/3 [==============================] - 0s 109ms/step - loss: 0.4814 - f1_m: 0.7762 - val_loss: nan - val_f1_m: nan\n",
            "Epoch 197/500\n",
            "3/3 [==============================] - 0s 106ms/step - loss: 0.4024 - f1_m: 0.4460 - val_loss: nan - val_f1_m: nan\n",
            "Epoch 198/500\n",
            "3/3 [==============================] - 0s 106ms/step - loss: 0.4681 - f1_m: 0.4528 - val_loss: nan - val_f1_m: nan\n",
            "Epoch 199/500\n",
            "3/3 [==============================] - 0s 108ms/step - loss: 0.4352 - f1_m: 0.4513 - val_loss: nan - val_f1_m: nan\n",
            "Epoch 200/500\n",
            "3/3 [==============================] - 0s 103ms/step - loss: 0.4105 - f1_m: 0.4528 - val_loss: nan - val_f1_m: nan\n",
            "Epoch 201/500\n",
            "3/3 [==============================] - 0s 108ms/step - loss: 0.4717 - f1_m: 0.7716 - val_loss: nan - val_f1_m: nan\n",
            "Epoch 202/500\n",
            "3/3 [==============================] - 0s 103ms/step - loss: 0.5194 - f1_m: 0.7762 - val_loss: nan - val_f1_m: nan\n",
            "Epoch 203/500\n",
            "3/3 [==============================] - 0s 107ms/step - loss: 0.4304 - f1_m: 0.7762 - val_loss: nan - val_f1_m: nan\n",
            "Epoch 204/500\n",
            "3/3 [==============================] - 0s 105ms/step - loss: 0.3505 - f1_m: 0.7774 - val_loss: nan - val_f1_m: nan\n",
            "Epoch 205/500\n",
            "3/3 [==============================] - 0s 109ms/step - loss: 0.4027 - f1_m: 0.4528 - val_loss: nan - val_f1_m: nan\n",
            "Epoch 206/500\n",
            "3/3 [==============================] - 0s 108ms/step - loss: 0.4636 - f1_m: 0.4528 - val_loss: nan - val_f1_m: nan\n",
            "Epoch 207/500\n",
            "3/3 [==============================] - 0s 105ms/step - loss: 0.4107 - f1_m: 0.4513 - val_loss: nan - val_f1_m: nan\n",
            "Epoch 208/500\n",
            "3/3 [==============================] - 0s 108ms/step - loss: 0.4826 - f1_m: 0.7743 - val_loss: nan - val_f1_m: nan\n",
            "Epoch 209/500\n",
            "3/3 [==============================] - 0s 105ms/step - loss: 0.4715 - f1_m: 0.7778 - val_loss: nan - val_f1_m: nan\n",
            "Epoch 210/500\n",
            "3/3 [==============================] - 0s 106ms/step - loss: 0.4418 - f1_m: 0.7778 - val_loss: nan - val_f1_m: nan\n",
            "Epoch 211/500\n",
            "3/3 [==============================] - 0s 110ms/step - loss: 0.3575 - f1_m: 0.7762 - val_loss: nan - val_f1_m: nan\n",
            "Epoch 212/500\n",
            "3/3 [==============================] - 0s 103ms/step - loss: 0.4331 - f1_m: 0.4513 - val_loss: nan - val_f1_m: nan\n",
            "Epoch 213/500\n",
            "3/3 [==============================] - 0s 110ms/step - loss: 0.3217 - f1_m: 0.4490 - val_loss: nan - val_f1_m: nan\n",
            "Epoch 214/500\n",
            "3/3 [==============================] - 0s 105ms/step - loss: 0.4663 - f1_m: 0.7743 - val_loss: nan - val_f1_m: nan\n",
            "Epoch 215/500\n",
            "3/3 [==============================] - 0s 104ms/step - loss: 0.4384 - f1_m: 0.7774 - val_loss: nan - val_f1_m: nan\n",
            "Epoch 216/500\n",
            "3/3 [==============================] - 0s 105ms/step - loss: 0.3355 - f1_m: 0.7778 - val_loss: nan - val_f1_m: nan\n",
            "Epoch 217/500\n",
            "3/3 [==============================] - 0s 113ms/step - loss: 0.4491 - f1_m: 0.7762 - val_loss: nan - val_f1_m: nan\n",
            "Epoch 218/500\n",
            "3/3 [==============================] - 0s 109ms/step - loss: 0.4672 - f1_m: 0.4490 - val_loss: nan - val_f1_m: nan\n",
            "Epoch 219/500\n",
            "3/3 [==============================] - 0s 104ms/step - loss: 0.4867 - f1_m: 0.7774 - val_loss: nan - val_f1_m: nan\n",
            "Epoch 220/500\n",
            "3/3 [==============================] - 0s 107ms/step - loss: 0.4135 - f1_m: 0.7680 - val_loss: nan - val_f1_m: nan\n",
            "Epoch 221/500\n",
            "3/3 [==============================] - 0s 103ms/step - loss: 0.3637 - f1_m: 0.7774 - val_loss: nan - val_f1_m: nan\n",
            "Epoch 222/500\n",
            "3/3 [==============================] - 0s 118ms/step - loss: 0.4799 - f1_m: 0.4421 - val_loss: nan - val_f1_m: nan\n",
            "Epoch 223/500\n",
            "3/3 [==============================] - 0s 109ms/step - loss: 0.3529 - f1_m: 0.7774 - val_loss: nan - val_f1_m: nan\n",
            "Epoch 224/500\n",
            "3/3 [==============================] - 0s 107ms/step - loss: 0.3593 - f1_m: 0.4528 - val_loss: nan - val_f1_m: nan\n",
            "Epoch 225/500\n",
            "3/3 [==============================] - 0s 103ms/step - loss: 0.3308 - f1_m: 0.7743 - val_loss: nan - val_f1_m: nan\n",
            "Epoch 226/500\n",
            "3/3 [==============================] - 0s 113ms/step - loss: 0.3218 - f1_m: 0.7774 - val_loss: nan - val_f1_m: nan\n",
            "Epoch 227/500\n",
            "3/3 [==============================] - 0s 104ms/step - loss: 0.3848 - f1_m: 0.4535 - val_loss: nan - val_f1_m: nan\n",
            "Epoch 228/500\n",
            "3/3 [==============================] - 0s 102ms/step - loss: 0.4237 - f1_m: 0.4535 - val_loss: nan - val_f1_m: nan\n",
            "Epoch 229/500\n",
            "3/3 [==============================] - 0s 106ms/step - loss: 0.2854 - f1_m: 0.7762 - val_loss: nan - val_f1_m: nan\n",
            "Epoch 230/500\n",
            "3/3 [==============================] - 0s 103ms/step - loss: 0.3773 - f1_m: 0.4535 - val_loss: nan - val_f1_m: nan\n",
            "Epoch 231/500\n",
            "3/3 [==============================] - 0s 109ms/step - loss: 0.3467 - f1_m: 0.4535 - val_loss: nan - val_f1_m: nan\n",
            "Epoch 232/500\n",
            "3/3 [==============================] - 0s 108ms/step - loss: 0.3911 - f1_m: 0.7778 - val_loss: nan - val_f1_m: nan\n",
            "Epoch 233/500\n",
            "3/3 [==============================] - 0s 107ms/step - loss: 0.3364 - f1_m: 0.4535 - val_loss: nan - val_f1_m: nan\n",
            "Epoch 234/500\n",
            "3/3 [==============================] - 0s 103ms/step - loss: 0.3840 - f1_m: 0.7774 - val_loss: nan - val_f1_m: nan\n",
            "Epoch 235/500\n",
            "3/3 [==============================] - 0s 108ms/step - loss: 0.4985 - f1_m: 0.7774 - val_loss: nan - val_f1_m: nan\n",
            "Epoch 236/500\n",
            "3/3 [==============================] - 0s 106ms/step - loss: 0.4653 - f1_m: 0.7743 - val_loss: nan - val_f1_m: nan\n",
            "Epoch 237/500\n",
            "3/3 [==============================] - 0s 107ms/step - loss: 0.4996 - f1_m: 0.7762 - val_loss: nan - val_f1_m: nan\n",
            "Epoch 238/500\n",
            "3/3 [==============================] - 0s 106ms/step - loss: 0.3715 - f1_m: 0.4528 - val_loss: nan - val_f1_m: nan\n",
            "Epoch 239/500\n",
            "3/3 [==============================] - 0s 109ms/step - loss: 0.3746 - f1_m: 0.7778 - val_loss: nan - val_f1_m: nan\n",
            "Epoch 240/500\n",
            "3/3 [==============================] - 0s 108ms/step - loss: 0.3738 - f1_m: 0.4535 - val_loss: nan - val_f1_m: nan\n",
            "Epoch 241/500\n",
            "3/3 [==============================] - 0s 105ms/step - loss: 0.3267 - f1_m: 0.4528 - val_loss: nan - val_f1_m: nan\n",
            "Epoch 242/500\n",
            "3/3 [==============================] - 0s 106ms/step - loss: 0.4503 - f1_m: 0.7762 - val_loss: nan - val_f1_m: nan\n",
            "Epoch 243/500\n",
            "3/3 [==============================] - 0s 105ms/step - loss: 0.3274 - f1_m: 0.4528 - val_loss: nan - val_f1_m: nan\n",
            "Epoch 244/500\n",
            "3/3 [==============================] - 0s 100ms/step - loss: 0.3310 - f1_m: 0.4528 - val_loss: nan - val_f1_m: nan\n",
            "Epoch 245/500\n",
            "3/3 [==============================] - 0s 106ms/step - loss: 0.3738 - f1_m: 0.7778 - val_loss: nan - val_f1_m: nan\n",
            "Epoch 246/500\n",
            "3/3 [==============================] - 0s 104ms/step - loss: 0.3840 - f1_m: 0.4513 - val_loss: nan - val_f1_m: nan\n",
            "Epoch 247/500\n",
            "3/3 [==============================] - 0s 103ms/step - loss: 0.2782 - f1_m: 0.7762 - val_loss: nan - val_f1_m: nan\n",
            "Epoch 248/500\n",
            "3/3 [==============================] - 0s 109ms/step - loss: 0.3858 - f1_m: 0.4513 - val_loss: nan - val_f1_m: nan\n",
            "Epoch 249/500\n",
            "3/3 [==============================] - 0s 105ms/step - loss: 0.3181 - f1_m: 0.7716 - val_loss: nan - val_f1_m: nan\n",
            "Epoch 250/500\n",
            "3/3 [==============================] - 0s 104ms/step - loss: 0.3518 - f1_m: 0.4535 - val_loss: nan - val_f1_m: nan\n",
            "Epoch 251/500\n",
            "3/3 [==============================] - 0s 107ms/step - loss: 0.2601 - f1_m: 0.4535 - val_loss: nan - val_f1_m: nan\n",
            "Epoch 252/500\n",
            "3/3 [==============================] - 0s 111ms/step - loss: 0.2861 - f1_m: 0.7774 - val_loss: nan - val_f1_m: nan\n",
            "Epoch 253/500\n",
            "3/3 [==============================] - 0s 114ms/step - loss: 0.2910 - f1_m: 0.7743 - val_loss: nan - val_f1_m: nan\n",
            "Epoch 254/500\n",
            "3/3 [==============================] - 0s 102ms/step - loss: 0.3411 - f1_m: 0.7762 - val_loss: nan - val_f1_m: nan\n",
            "Epoch 255/500\n",
            "3/3 [==============================] - 0s 117ms/step - loss: 0.3769 - f1_m: 0.4528 - val_loss: nan - val_f1_m: nan\n",
            "Epoch 256/500\n",
            "3/3 [==============================] - 0s 108ms/step - loss: 0.3364 - f1_m: 0.4513 - val_loss: nan - val_f1_m: nan\n",
            "Epoch 257/500\n",
            "3/3 [==============================] - 0s 107ms/step - loss: 0.3834 - f1_m: 0.7774 - val_loss: nan - val_f1_m: nan\n",
            "Epoch 258/500\n",
            "3/3 [==============================] - 0s 107ms/step - loss: 0.3135 - f1_m: 0.4528 - val_loss: nan - val_f1_m: nan\n",
            "Epoch 259/500\n",
            "3/3 [==============================] - 0s 103ms/step - loss: 0.3369 - f1_m: 0.7762 - val_loss: nan - val_f1_m: nan\n",
            "Epoch 260/500\n",
            "3/3 [==============================] - 0s 103ms/step - loss: 0.3453 - f1_m: 0.7778 - val_loss: nan - val_f1_m: nan\n",
            "Epoch 261/500\n",
            "3/3 [==============================] - 0s 107ms/step - loss: 0.3303 - f1_m: 0.7774 - val_loss: nan - val_f1_m: nan\n",
            "Epoch 262/500\n",
            "3/3 [==============================] - 0s 105ms/step - loss: 0.4878 - f1_m: 0.4513 - val_loss: nan - val_f1_m: nan\n",
            "Epoch 263/500\n",
            "3/3 [==============================] - 0s 102ms/step - loss: 0.3448 - f1_m: 0.7716 - val_loss: nan - val_f1_m: nan\n",
            "Epoch 264/500\n",
            "3/3 [==============================] - 0s 109ms/step - loss: 0.3202 - f1_m: 0.4535 - val_loss: nan - val_f1_m: nan\n",
            "Epoch 265/500\n",
            "3/3 [==============================] - 0s 108ms/step - loss: 0.3132 - f1_m: 0.4513 - val_loss: nan - val_f1_m: nan\n",
            "Epoch 266/500\n",
            "3/3 [==============================] - 0s 107ms/step - loss: 0.2766 - f1_m: 0.4535 - val_loss: nan - val_f1_m: nan\n",
            "Epoch 267/500\n",
            "3/3 [==============================] - 0s 115ms/step - loss: 0.3219 - f1_m: 0.4528 - val_loss: nan - val_f1_m: nan\n",
            "Epoch 268/500\n",
            "3/3 [==============================] - 0s 114ms/step - loss: 0.2494 - f1_m: 0.7774 - val_loss: nan - val_f1_m: nan\n",
            "Epoch 269/500\n",
            "3/3 [==============================] - 0s 102ms/step - loss: 0.3920 - f1_m: 0.7778 - val_loss: nan - val_f1_m: nan\n",
            "Epoch 270/500\n",
            "3/3 [==============================] - 0s 106ms/step - loss: 0.2884 - f1_m: 0.7778 - val_loss: nan - val_f1_m: nan\n",
            "Epoch 271/500\n",
            "3/3 [==============================] - 0s 111ms/step - loss: 0.3013 - f1_m: 0.4528 - val_loss: nan - val_f1_m: nan\n",
            "Epoch 272/500\n",
            "3/3 [==============================] - 0s 106ms/step - loss: 0.2410 - f1_m: 0.7778 - val_loss: nan - val_f1_m: nan\n",
            "Epoch 273/500\n",
            "3/3 [==============================] - 0s 106ms/step - loss: 0.2825 - f1_m: 0.7774 - val_loss: nan - val_f1_m: nan\n",
            "Epoch 274/500\n",
            "3/3 [==============================] - 0s 105ms/step - loss: 0.2757 - f1_m: 0.7743 - val_loss: nan - val_f1_m: nan\n",
            "Epoch 275/500\n",
            "3/3 [==============================] - 0s 106ms/step - loss: 0.2950 - f1_m: 0.7762 - val_loss: nan - val_f1_m: nan\n",
            "Epoch 276/500\n",
            "3/3 [==============================] - 0s 104ms/step - loss: 0.2329 - f1_m: 0.7762 - val_loss: nan - val_f1_m: nan\n",
            "Epoch 277/500\n",
            "3/3 [==============================] - 0s 105ms/step - loss: 0.2806 - f1_m: 0.4513 - val_loss: nan - val_f1_m: nan\n",
            "Epoch 278/500\n",
            "3/3 [==============================] - 0s 106ms/step - loss: 0.4797 - f1_m: 0.7743 - val_loss: nan - val_f1_m: nan\n",
            "Epoch 279/500\n",
            "3/3 [==============================] - 0s 107ms/step - loss: 0.3973 - f1_m: 0.7762 - val_loss: nan - val_f1_m: nan\n",
            "Epoch 280/500\n",
            "3/3 [==============================] - 0s 107ms/step - loss: 0.3196 - f1_m: 0.4528 - val_loss: nan - val_f1_m: nan\n",
            "Epoch 281/500\n",
            "3/3 [==============================] - 0s 107ms/step - loss: 0.3478 - f1_m: 0.4460 - val_loss: nan - val_f1_m: nan\n",
            "Epoch 282/500\n",
            "3/3 [==============================] - 0s 114ms/step - loss: 0.3110 - f1_m: 0.7778 - val_loss: nan - val_f1_m: nan\n",
            "Epoch 283/500\n",
            "3/3 [==============================] - 0s 107ms/step - loss: 0.3854 - f1_m: 0.4535 - val_loss: nan - val_f1_m: nan\n",
            "Epoch 284/500\n",
            "3/3 [==============================] - 0s 104ms/step - loss: 0.4294 - f1_m: 0.4513 - val_loss: nan - val_f1_m: nan\n",
            "Epoch 285/500\n",
            "3/3 [==============================] - 0s 104ms/step - loss: 0.2992 - f1_m: 0.7743 - val_loss: nan - val_f1_m: nan\n",
            "Epoch 286/500\n",
            "3/3 [==============================] - 0s 109ms/step - loss: 0.2861 - f1_m: 0.7774 - val_loss: nan - val_f1_m: nan\n",
            "Epoch 287/500\n",
            "3/3 [==============================] - 0s 104ms/step - loss: 0.3342 - f1_m: 0.4513 - val_loss: nan - val_f1_m: nan\n",
            "Epoch 288/500\n",
            "3/3 [==============================] - 0s 106ms/step - loss: 0.3000 - f1_m: 0.7762 - val_loss: nan - val_f1_m: nan\n",
            "Epoch 289/500\n",
            "3/3 [==============================] - 0s 103ms/step - loss: 0.2839 - f1_m: 0.4513 - val_loss: nan - val_f1_m: nan\n",
            "Epoch 290/500\n",
            "3/3 [==============================] - 0s 106ms/step - loss: 0.3240 - f1_m: 0.7762 - val_loss: nan - val_f1_m: nan\n",
            "Epoch 291/500\n",
            "3/3 [==============================] - 0s 106ms/step - loss: 0.2877 - f1_m: 0.4513 - val_loss: nan - val_f1_m: nan\n",
            "Epoch 292/500\n",
            "3/3 [==============================] - 0s 111ms/step - loss: 0.2570 - f1_m: 0.4513 - val_loss: nan - val_f1_m: nan\n",
            "Epoch 293/500\n",
            "3/3 [==============================] - 0s 107ms/step - loss: 0.3219 - f1_m: 0.4528 - val_loss: nan - val_f1_m: nan\n",
            "Epoch 294/500\n",
            "3/3 [==============================] - 0s 102ms/step - loss: 0.3046 - f1_m: 0.7778 - val_loss: nan - val_f1_m: nan\n",
            "Epoch 295/500\n",
            "3/3 [==============================] - 0s 109ms/step - loss: 0.3423 - f1_m: 0.4535 - val_loss: nan - val_f1_m: nan\n",
            "Epoch 296/500\n",
            "3/3 [==============================] - 0s 108ms/step - loss: 0.2526 - f1_m: 0.7774 - val_loss: nan - val_f1_m: nan\n",
            "Epoch 297/500\n",
            "3/3 [==============================] - 0s 117ms/step - loss: 0.3152 - f1_m: 0.4535 - val_loss: nan - val_f1_m: nan\n",
            "Epoch 298/500\n",
            "3/3 [==============================] - 0s 108ms/step - loss: 0.2105 - f1_m: 0.4528 - val_loss: nan - val_f1_m: nan\n",
            "Epoch 299/500\n",
            "3/3 [==============================] - 0s 112ms/step - loss: 0.1947 - f1_m: 0.7774 - val_loss: nan - val_f1_m: nan\n",
            "Epoch 300/500\n",
            "3/3 [==============================] - 0s 109ms/step - loss: 0.2241 - f1_m: 0.4535 - val_loss: nan - val_f1_m: nan\n",
            "Epoch 301/500\n",
            "3/3 [==============================] - 0s 106ms/step - loss: 0.2357 - f1_m: 0.7762 - val_loss: nan - val_f1_m: nan\n",
            "Epoch 302/500\n",
            "3/3 [==============================] - 0s 107ms/step - loss: 0.1878 - f1_m: 0.7774 - val_loss: nan - val_f1_m: nan\n",
            "Epoch 303/500\n",
            "3/3 [==============================] - 0s 104ms/step - loss: 0.2815 - f1_m: 0.7637 - val_loss: nan - val_f1_m: nan\n",
            "Epoch 304/500\n",
            "3/3 [==============================] - 0s 106ms/step - loss: 0.2320 - f1_m: 0.7743 - val_loss: nan - val_f1_m: nan\n",
            "Epoch 305/500\n",
            "3/3 [==============================] - 0s 105ms/step - loss: 0.2176 - f1_m: 0.4535 - val_loss: nan - val_f1_m: nan\n",
            "Epoch 306/500\n",
            "3/3 [==============================] - 0s 108ms/step - loss: 0.2666 - f1_m: 0.4535 - val_loss: nan - val_f1_m: nan\n",
            "Epoch 307/500\n",
            "3/3 [==============================] - 0s 110ms/step - loss: 0.2910 - f1_m: 0.7743 - val_loss: nan - val_f1_m: nan\n",
            "Epoch 308/500\n",
            "3/3 [==============================] - 0s 111ms/step - loss: 0.2130 - f1_m: 0.4528 - val_loss: nan - val_f1_m: nan\n",
            "Epoch 309/500\n",
            "3/3 [==============================] - 0s 113ms/step - loss: 0.2252 - f1_m: 0.4535 - val_loss: nan - val_f1_m: nan\n",
            "Epoch 310/500\n",
            "3/3 [==============================] - 0s 108ms/step - loss: 0.1997 - f1_m: 0.7762 - val_loss: nan - val_f1_m: nan\n",
            "Epoch 311/500\n",
            "3/3 [==============================] - 0s 103ms/step - loss: 0.3541 - f1_m: 0.4535 - val_loss: nan - val_f1_m: nan\n",
            "Epoch 312/500\n",
            "3/3 [==============================] - 0s 108ms/step - loss: 0.3807 - f1_m: 0.4490 - val_loss: nan - val_f1_m: nan\n",
            "Epoch 313/500\n",
            "3/3 [==============================] - 0s 111ms/step - loss: 0.2610 - f1_m: 0.7778 - val_loss: nan - val_f1_m: nan\n",
            "Epoch 314/500\n",
            "3/3 [==============================] - 0s 108ms/step - loss: 0.2858 - f1_m: 0.4528 - val_loss: nan - val_f1_m: nan\n",
            "Epoch 315/500\n",
            "3/3 [==============================] - 0s 106ms/step - loss: 0.2594 - f1_m: 0.7716 - val_loss: nan - val_f1_m: nan\n",
            "Epoch 316/500\n",
            "3/3 [==============================] - 0s 105ms/step - loss: 0.2447 - f1_m: 0.7743 - val_loss: nan - val_f1_m: nan\n",
            "Epoch 317/500\n",
            "3/3 [==============================] - 0s 109ms/step - loss: 0.2110 - f1_m: 0.7778 - val_loss: nan - val_f1_m: nan\n",
            "Epoch 318/500\n",
            "3/3 [==============================] - 0s 106ms/step - loss: 0.2725 - f1_m: 0.7743 - val_loss: nan - val_f1_m: nan\n",
            "Epoch 319/500\n",
            "3/3 [==============================] - 0s 103ms/step - loss: 0.1868 - f1_m: 0.4535 - val_loss: nan - val_f1_m: nan\n",
            "Epoch 320/500\n",
            "3/3 [==============================] - 0s 107ms/step - loss: 0.1666 - f1_m: 0.4535 - val_loss: nan - val_f1_m: nan\n",
            "Epoch 321/500\n",
            "3/3 [==============================] - 0s 106ms/step - loss: 0.2887 - f1_m: 0.7778 - val_loss: nan - val_f1_m: nan\n",
            "Epoch 322/500\n",
            "3/3 [==============================] - 0s 110ms/step - loss: 0.2020 - f1_m: 0.7778 - val_loss: nan - val_f1_m: nan\n",
            "Epoch 323/500\n",
            "3/3 [==============================] - 0s 104ms/step - loss: 0.2897 - f1_m: 0.7774 - val_loss: nan - val_f1_m: nan\n",
            "Epoch 324/500\n",
            "3/3 [==============================] - 0s 106ms/step - loss: 0.2422 - f1_m: 0.4490 - val_loss: nan - val_f1_m: nan\n",
            "Epoch 325/500\n",
            "3/3 [==============================] - 0s 105ms/step - loss: 0.1612 - f1_m: 0.7778 - val_loss: nan - val_f1_m: nan\n",
            "Epoch 326/500\n",
            "3/3 [==============================] - 0s 108ms/step - loss: 0.2275 - f1_m: 0.7743 - val_loss: nan - val_f1_m: nan\n",
            "Epoch 327/500\n",
            "3/3 [==============================] - 0s 113ms/step - loss: 0.1806 - f1_m: 0.4535 - val_loss: nan - val_f1_m: nan\n",
            "Epoch 328/500\n",
            "3/3 [==============================] - 0s 112ms/step - loss: 0.3158 - f1_m: 0.7743 - val_loss: nan - val_f1_m: nan\n",
            "Epoch 329/500\n",
            "3/3 [==============================] - 0s 106ms/step - loss: 0.2809 - f1_m: 0.4528 - val_loss: nan - val_f1_m: nan\n",
            "Epoch 330/500\n",
            "3/3 [==============================] - 0s 106ms/step - loss: 0.2215 - f1_m: 0.4528 - val_loss: nan - val_f1_m: nan\n",
            "Epoch 331/500\n",
            "3/3 [==============================] - 0s 105ms/step - loss: 0.2462 - f1_m: 0.4535 - val_loss: nan - val_f1_m: nan\n",
            "Epoch 332/500\n",
            "3/3 [==============================] - 0s 115ms/step - loss: 0.2150 - f1_m: 0.7778 - val_loss: nan - val_f1_m: nan\n",
            "Epoch 333/500\n",
            "3/3 [==============================] - 0s 111ms/step - loss: 0.2742 - f1_m: 0.4528 - val_loss: nan - val_f1_m: nan\n",
            "Epoch 334/500\n",
            "3/3 [==============================] - 0s 111ms/step - loss: 0.2645 - f1_m: 0.4528 - val_loss: nan - val_f1_m: nan\n",
            "Epoch 335/500\n",
            "3/3 [==============================] - 0s 107ms/step - loss: 0.2848 - f1_m: 0.4535 - val_loss: nan - val_f1_m: nan\n",
            "Epoch 336/500\n",
            "3/3 [==============================] - 0s 107ms/step - loss: 0.1950 - f1_m: 0.4535 - val_loss: nan - val_f1_m: nan\n",
            "Epoch 337/500\n",
            "3/3 [==============================] - 0s 111ms/step - loss: 0.2680 - f1_m: 0.4490 - val_loss: nan - val_f1_m: nan\n",
            "Epoch 338/500\n",
            "3/3 [==============================] - 0s 111ms/step - loss: 0.2725 - f1_m: 0.4528 - val_loss: nan - val_f1_m: nan\n",
            "Epoch 339/500\n",
            "3/3 [==============================] - 0s 107ms/step - loss: 0.3016 - f1_m: 0.7774 - val_loss: nan - val_f1_m: nan\n",
            "Epoch 340/500\n",
            "3/3 [==============================] - 0s 108ms/step - loss: 0.2056 - f1_m: 0.7774 - val_loss: nan - val_f1_m: nan\n",
            "Epoch 341/500\n",
            "3/3 [==============================] - 0s 108ms/step - loss: 0.2049 - f1_m: 0.7774 - val_loss: nan - val_f1_m: nan\n",
            "Epoch 342/500\n",
            "3/3 [==============================] - 0s 107ms/step - loss: 0.2299 - f1_m: 0.7743 - val_loss: nan - val_f1_m: nan\n",
            "Epoch 343/500\n",
            "3/3 [==============================] - 0s 107ms/step - loss: 0.3191 - f1_m: 0.7778 - val_loss: nan - val_f1_m: nan\n",
            "Epoch 344/500\n",
            "3/3 [==============================] - 0s 107ms/step - loss: 0.2523 - f1_m: 0.7774 - val_loss: nan - val_f1_m: nan\n",
            "Epoch 345/500\n",
            "3/3 [==============================] - 0s 106ms/step - loss: 0.2274 - f1_m: 0.4513 - val_loss: nan - val_f1_m: nan\n",
            "Epoch 346/500\n",
            "3/3 [==============================] - 0s 109ms/step - loss: 0.2683 - f1_m: 0.4528 - val_loss: nan - val_f1_m: nan\n",
            "Epoch 347/500\n",
            "3/3 [==============================] - 0s 104ms/step - loss: 0.3248 - f1_m: 0.4460 - val_loss: nan - val_f1_m: nan\n",
            "Epoch 348/500\n",
            "3/3 [==============================] - 0s 106ms/step - loss: 0.1565 - f1_m: 0.7774 - val_loss: nan - val_f1_m: nan\n",
            "Epoch 349/500\n",
            "3/3 [==============================] - 0s 106ms/step - loss: 0.4433 - f1_m: 0.4421 - val_loss: nan - val_f1_m: nan\n",
            "Epoch 350/500\n",
            "3/3 [==============================] - 0s 114ms/step - loss: 0.2739 - f1_m: 0.7778 - val_loss: nan - val_f1_m: nan\n",
            "Epoch 351/500\n",
            "3/3 [==============================] - 0s 106ms/step - loss: 0.2827 - f1_m: 0.4528 - val_loss: nan - val_f1_m: nan\n",
            "Epoch 352/500\n",
            "3/3 [==============================] - 0s 110ms/step - loss: 0.2110 - f1_m: 0.4535 - val_loss: nan - val_f1_m: nan\n",
            "Epoch 353/500\n",
            "3/3 [==============================] - 0s 102ms/step - loss: 0.2066 - f1_m: 0.7774 - val_loss: nan - val_f1_m: nan\n",
            "Epoch 354/500\n",
            "3/3 [==============================] - 0s 113ms/step - loss: 0.2409 - f1_m: 0.4460 - val_loss: nan - val_f1_m: nan\n",
            "Epoch 355/500\n",
            "3/3 [==============================] - 0s 108ms/step - loss: 0.2210 - f1_m: 0.7743 - val_loss: nan - val_f1_m: nan\n",
            "Epoch 356/500\n",
            "3/3 [==============================] - 0s 108ms/step - loss: 0.1837 - f1_m: 0.7762 - val_loss: nan - val_f1_m: nan\n",
            "Epoch 357/500\n",
            "3/3 [==============================] - 0s 119ms/step - loss: 0.1655 - f1_m: 0.4535 - val_loss: nan - val_f1_m: nan\n",
            "Epoch 358/500\n",
            "3/3 [==============================] - 0s 106ms/step - loss: 0.2040 - f1_m: 0.4535 - val_loss: nan - val_f1_m: nan\n",
            "Epoch 359/500\n",
            "3/3 [==============================] - 0s 104ms/step - loss: 0.2534 - f1_m: 0.7762 - val_loss: nan - val_f1_m: nan\n",
            "Epoch 360/500\n",
            "3/3 [==============================] - 0s 102ms/step - loss: 0.2321 - f1_m: 0.4513 - val_loss: nan - val_f1_m: nan\n",
            "Epoch 361/500\n",
            "3/3 [==============================] - 0s 102ms/step - loss: 0.2511 - f1_m: 0.4490 - val_loss: nan - val_f1_m: nan\n",
            "Epoch 362/500\n",
            "3/3 [==============================] - 0s 119ms/step - loss: 0.1744 - f1_m: 0.4490 - val_loss: nan - val_f1_m: nan\n",
            "Epoch 363/500\n",
            "3/3 [==============================] - 0s 107ms/step - loss: 0.1674 - f1_m: 0.4535 - val_loss: nan - val_f1_m: nan\n",
            "Epoch 364/500\n",
            "3/3 [==============================] - 0s 111ms/step - loss: 0.2639 - f1_m: 0.4535 - val_loss: nan - val_f1_m: nan\n",
            "Epoch 365/500\n",
            "3/3 [==============================] - 0s 108ms/step - loss: 0.1782 - f1_m: 0.4528 - val_loss: nan - val_f1_m: nan\n",
            "Epoch 366/500\n",
            "3/3 [==============================] - 0s 106ms/step - loss: 0.1886 - f1_m: 0.7716 - val_loss: nan - val_f1_m: nan\n",
            "Epoch 367/500\n",
            "3/3 [==============================] - 0s 107ms/step - loss: 0.1711 - f1_m: 0.4535 - val_loss: nan - val_f1_m: nan\n",
            "Epoch 368/500\n",
            "3/3 [==============================] - 0s 112ms/step - loss: 0.1641 - f1_m: 0.7774 - val_loss: nan - val_f1_m: nan\n",
            "Epoch 369/500\n",
            "3/3 [==============================] - 0s 105ms/step - loss: 0.1543 - f1_m: 0.7762 - val_loss: nan - val_f1_m: nan\n",
            "Epoch 370/500\n",
            "3/3 [==============================] - 0s 106ms/step - loss: 0.1411 - f1_m: 0.7778 - val_loss: nan - val_f1_m: nan\n",
            "Epoch 371/500\n",
            "3/3 [==============================] - 0s 110ms/step - loss: 0.1653 - f1_m: 0.7774 - val_loss: nan - val_f1_m: nan\n",
            "Epoch 372/500\n",
            "3/3 [==============================] - 0s 103ms/step - loss: 0.2515 - f1_m: 0.4460 - val_loss: nan - val_f1_m: nan\n",
            "Epoch 373/500\n",
            "3/3 [==============================] - 0s 107ms/step - loss: 0.1710 - f1_m: 0.7774 - val_loss: nan - val_f1_m: nan\n",
            "Epoch 374/500\n",
            "3/3 [==============================] - 0s 108ms/step - loss: 0.1428 - f1_m: 0.7778 - val_loss: nan - val_f1_m: nan\n",
            "Epoch 375/500\n",
            "3/3 [==============================] - 0s 109ms/step - loss: 0.1133 - f1_m: 0.7778 - val_loss: nan - val_f1_m: nan\n",
            "Epoch 376/500\n",
            "3/3 [==============================] - 0s 105ms/step - loss: 0.1622 - f1_m: 0.7762 - val_loss: nan - val_f1_m: nan\n",
            "Epoch 377/500\n",
            "3/3 [==============================] - 0s 112ms/step - loss: 0.1903 - f1_m: 0.7762 - val_loss: nan - val_f1_m: nan\n",
            "Epoch 378/500\n",
            "3/3 [==============================] - 0s 107ms/step - loss: 0.1545 - f1_m: 0.7774 - val_loss: nan - val_f1_m: nan\n",
            "Epoch 379/500\n",
            "3/3 [==============================] - 0s 108ms/step - loss: 0.1459 - f1_m: 0.4535 - val_loss: nan - val_f1_m: nan\n",
            "Epoch 380/500\n",
            "3/3 [==============================] - 0s 108ms/step - loss: 0.1759 - f1_m: 0.7774 - val_loss: nan - val_f1_m: nan\n",
            "Epoch 381/500\n",
            "3/3 [==============================] - 0s 106ms/step - loss: 0.1559 - f1_m: 0.4490 - val_loss: nan - val_f1_m: nan\n",
            "Epoch 382/500\n",
            "3/3 [==============================] - 0s 109ms/step - loss: 0.1640 - f1_m: 0.7762 - val_loss: nan - val_f1_m: nan\n",
            "Epoch 383/500\n",
            "3/3 [==============================] - 0s 106ms/step - loss: 0.2251 - f1_m: 0.7778 - val_loss: nan - val_f1_m: nan\n",
            "Epoch 384/500\n",
            "3/3 [==============================] - 0s 109ms/step - loss: 0.1216 - f1_m: 0.4528 - val_loss: nan - val_f1_m: nan\n",
            "Epoch 385/500\n",
            "3/3 [==============================] - 0s 108ms/step - loss: 0.2209 - f1_m: 0.4513 - val_loss: nan - val_f1_m: nan\n",
            "Epoch 386/500\n",
            "3/3 [==============================] - 0s 107ms/step - loss: 0.1969 - f1_m: 0.7778 - val_loss: nan - val_f1_m: nan\n",
            "Epoch 387/500\n",
            "3/3 [==============================] - 0s 106ms/step - loss: 0.2117 - f1_m: 0.7774 - val_loss: nan - val_f1_m: nan\n",
            "Epoch 388/500\n",
            "3/3 [==============================] - 0s 115ms/step - loss: 0.1778 - f1_m: 0.4513 - val_loss: nan - val_f1_m: nan\n",
            "Epoch 389/500\n",
            "3/3 [==============================] - 0s 107ms/step - loss: 0.2211 - f1_m: 0.4460 - val_loss: nan - val_f1_m: nan\n",
            "Epoch 390/500\n",
            "3/3 [==============================] - 0s 112ms/step - loss: 0.1304 - f1_m: 0.7762 - val_loss: nan - val_f1_m: nan\n",
            "Epoch 391/500\n",
            "3/3 [==============================] - 0s 105ms/step - loss: 0.1639 - f1_m: 0.7774 - val_loss: nan - val_f1_m: nan\n",
            "Epoch 392/500\n",
            "3/3 [==============================] - 0s 106ms/step - loss: 0.2083 - f1_m: 0.4535 - val_loss: nan - val_f1_m: nan\n",
            "Epoch 393/500\n",
            "3/3 [==============================] - 0s 112ms/step - loss: 0.2244 - f1_m: 0.4535 - val_loss: nan - val_f1_m: nan\n",
            "Epoch 394/500\n",
            "3/3 [==============================] - 0s 108ms/step - loss: 0.2379 - f1_m: 0.4535 - val_loss: nan - val_f1_m: nan\n",
            "Epoch 395/500\n",
            "3/3 [==============================] - 0s 107ms/step - loss: 0.1103 - f1_m: 0.7762 - val_loss: nan - val_f1_m: nan\n",
            "Epoch 396/500\n",
            "3/3 [==============================] - 0s 107ms/step - loss: 0.1672 - f1_m: 0.4528 - val_loss: nan - val_f1_m: nan\n",
            "Epoch 397/500\n",
            "3/3 [==============================] - 0s 109ms/step - loss: 0.1379 - f1_m: 0.7774 - val_loss: nan - val_f1_m: nan\n",
            "Epoch 398/500\n",
            "3/3 [==============================] - 0s 110ms/step - loss: 0.2187 - f1_m: 0.4513 - val_loss: nan - val_f1_m: nan\n",
            "Epoch 399/500\n",
            "3/3 [==============================] - 0s 114ms/step - loss: 0.2130 - f1_m: 0.7743 - val_loss: nan - val_f1_m: nan\n",
            "Epoch 400/500\n",
            "3/3 [==============================] - 0s 110ms/step - loss: 0.3155 - f1_m: 0.4490 - val_loss: nan - val_f1_m: nan\n",
            "Epoch 401/500\n",
            "3/3 [==============================] - 0s 110ms/step - loss: 0.1985 - f1_m: 0.7762 - val_loss: nan - val_f1_m: nan\n",
            "Epoch 402/500\n",
            "3/3 [==============================] - 0s 111ms/step - loss: 0.1312 - f1_m: 0.7774 - val_loss: nan - val_f1_m: nan\n",
            "Epoch 403/500\n",
            "3/3 [==============================] - 0s 109ms/step - loss: 0.1723 - f1_m: 0.7762 - val_loss: nan - val_f1_m: nan\n",
            "Epoch 404/500\n",
            "3/3 [==============================] - 0s 105ms/step - loss: 0.1600 - f1_m: 0.4528 - val_loss: nan - val_f1_m: nan\n",
            "Epoch 405/500\n",
            "3/3 [==============================] - 0s 110ms/step - loss: 0.1051 - f1_m: 0.4490 - val_loss: nan - val_f1_m: nan\n",
            "Epoch 406/500\n",
            "3/3 [==============================] - 0s 103ms/step - loss: 0.1310 - f1_m: 0.7774 - val_loss: nan - val_f1_m: nan\n",
            "Epoch 407/500\n",
            "3/3 [==============================] - 0s 108ms/step - loss: 0.1004 - f1_m: 0.7774 - val_loss: nan - val_f1_m: nan\n",
            "Epoch 408/500\n",
            "3/3 [==============================] - 0s 112ms/step - loss: 0.1135 - f1_m: 0.7762 - val_loss: nan - val_f1_m: nan\n",
            "Epoch 409/500\n",
            "3/3 [==============================] - 0s 117ms/step - loss: 0.1392 - f1_m: 0.4535 - val_loss: nan - val_f1_m: nan\n",
            "Epoch 410/500\n",
            "3/3 [==============================] - 0s 108ms/step - loss: 0.1960 - f1_m: 0.7680 - val_loss: nan - val_f1_m: nan\n",
            "Epoch 411/500\n",
            "3/3 [==============================] - 0s 110ms/step - loss: 0.2072 - f1_m: 0.4513 - val_loss: nan - val_f1_m: nan\n",
            "Epoch 412/500\n",
            "3/3 [==============================] - 0s 110ms/step - loss: 0.1450 - f1_m: 0.7774 - val_loss: nan - val_f1_m: nan\n",
            "Epoch 413/500\n",
            "3/3 [==============================] - 0s 108ms/step - loss: 0.1708 - f1_m: 0.7774 - val_loss: nan - val_f1_m: nan\n",
            "Epoch 414/500\n",
            "3/3 [==============================] - 0s 112ms/step - loss: 0.1592 - f1_m: 0.7774 - val_loss: nan - val_f1_m: nan\n",
            "Epoch 415/500\n",
            "3/3 [==============================] - 0s 111ms/step - loss: 0.1856 - f1_m: 0.7774 - val_loss: nan - val_f1_m: nan\n",
            "Epoch 416/500\n",
            "3/3 [==============================] - 0s 109ms/step - loss: 0.0954 - f1_m: 0.7778 - val_loss: nan - val_f1_m: nan\n",
            "Epoch 417/500\n",
            "3/3 [==============================] - 0s 103ms/step - loss: 0.1026 - f1_m: 0.4535 - val_loss: nan - val_f1_m: nan\n",
            "Epoch 418/500\n",
            "3/3 [==============================] - 0s 106ms/step - loss: 0.1959 - f1_m: 0.7716 - val_loss: nan - val_f1_m: nan\n",
            "Epoch 419/500\n",
            "3/3 [==============================] - 0s 107ms/step - loss: 0.1637 - f1_m: 0.7774 - val_loss: nan - val_f1_m: nan\n",
            "Epoch 420/500\n",
            "3/3 [==============================] - 0s 112ms/step - loss: 0.1027 - f1_m: 0.4535 - val_loss: nan - val_f1_m: nan\n",
            "Epoch 421/500\n",
            "3/3 [==============================] - 0s 107ms/step - loss: 0.3818 - f1_m: 0.4421 - val_loss: nan - val_f1_m: nan\n",
            "Epoch 422/500\n",
            "3/3 [==============================] - 0s 111ms/step - loss: 0.1145 - f1_m: 0.7774 - val_loss: nan - val_f1_m: nan\n",
            "Epoch 423/500\n",
            "3/3 [==============================] - 0s 113ms/step - loss: 0.5716 - f1_m: 0.7680 - val_loss: nan - val_f1_m: nan\n",
            "Epoch 424/500\n",
            "3/3 [==============================] - 0s 111ms/step - loss: 0.6788 - f1_m: 0.7762 - val_loss: nan - val_f1_m: nan\n",
            "Epoch 425/500\n",
            "3/3 [==============================] - 0s 110ms/step - loss: 0.2782 - f1_m: 0.4528 - val_loss: nan - val_f1_m: nan\n",
            "Epoch 426/500\n",
            "3/3 [==============================] - 0s 106ms/step - loss: 0.3906 - f1_m: 0.7743 - val_loss: nan - val_f1_m: nan\n",
            "Epoch 427/500\n",
            "3/3 [==============================] - 0s 108ms/step - loss: 0.2629 - f1_m: 0.7743 - val_loss: nan - val_f1_m: nan\n",
            "Epoch 428/500\n",
            "3/3 [==============================] - 0s 113ms/step - loss: 0.2838 - f1_m: 0.4490 - val_loss: nan - val_f1_m: nan\n",
            "Epoch 429/500\n",
            "3/3 [==============================] - 0s 109ms/step - loss: 0.2157 - f1_m: 0.4535 - val_loss: nan - val_f1_m: nan\n",
            "Epoch 430/500\n",
            "3/3 [==============================] - 0s 107ms/step - loss: 0.2211 - f1_m: 0.4535 - val_loss: nan - val_f1_m: nan\n",
            "Epoch 431/500\n",
            "3/3 [==============================] - 0s 108ms/step - loss: 0.2739 - f1_m: 0.4490 - val_loss: nan - val_f1_m: nan\n",
            "Epoch 432/500\n",
            "3/3 [==============================] - 0s 112ms/step - loss: 0.2242 - f1_m: 0.7762 - val_loss: nan - val_f1_m: nan\n",
            "Epoch 433/500\n",
            "3/3 [==============================] - 0s 109ms/step - loss: 0.1539 - f1_m: 0.4513 - val_loss: nan - val_f1_m: nan\n",
            "Epoch 434/500\n",
            "3/3 [==============================] - 0s 111ms/step - loss: 0.1856 - f1_m: 0.7774 - val_loss: nan - val_f1_m: nan\n",
            "Epoch 435/500\n",
            "3/3 [==============================] - 0s 104ms/step - loss: 0.3009 - f1_m: 0.7743 - val_loss: nan - val_f1_m: nan\n",
            "Epoch 436/500\n",
            "3/3 [==============================] - 0s 107ms/step - loss: 0.2432 - f1_m: 0.7778 - val_loss: nan - val_f1_m: nan\n",
            "Epoch 437/500\n",
            "3/3 [==============================] - 0s 109ms/step - loss: 0.1245 - f1_m: 0.4528 - val_loss: nan - val_f1_m: nan\n",
            "Epoch 438/500\n",
            "3/3 [==============================] - 0s 108ms/step - loss: 0.2421 - f1_m: 0.4490 - val_loss: nan - val_f1_m: nan\n",
            "Epoch 439/500\n",
            "3/3 [==============================] - 0s 109ms/step - loss: 0.1167 - f1_m: 0.4535 - val_loss: nan - val_f1_m: nan\n",
            "Epoch 440/500\n",
            "3/3 [==============================] - 0s 115ms/step - loss: 0.2046 - f1_m: 0.7762 - val_loss: nan - val_f1_m: nan\n",
            "Epoch 441/500\n",
            "3/3 [==============================] - 0s 117ms/step - loss: 0.2005 - f1_m: 0.7762 - val_loss: nan - val_f1_m: nan\n",
            "Epoch 442/500\n",
            "3/3 [==============================] - 0s 110ms/step - loss: 0.1059 - f1_m: 0.7774 - val_loss: nan - val_f1_m: nan\n",
            "Epoch 443/500\n",
            "3/3 [==============================] - 0s 112ms/step - loss: 0.1304 - f1_m: 0.4535 - val_loss: nan - val_f1_m: nan\n",
            "Epoch 444/500\n",
            "3/3 [==============================] - 0s 108ms/step - loss: 0.1950 - f1_m: 0.4513 - val_loss: nan - val_f1_m: nan\n",
            "Epoch 445/500\n",
            "3/3 [==============================] - 0s 109ms/step - loss: 0.1000 - f1_m: 0.7762 - val_loss: nan - val_f1_m: nan\n",
            "Epoch 446/500\n",
            "3/3 [==============================] - 0s 113ms/step - loss: 0.1951 - f1_m: 0.4490 - val_loss: nan - val_f1_m: nan\n",
            "Epoch 447/500\n",
            "3/3 [==============================] - 0s 113ms/step - loss: 0.1582 - f1_m: 0.7778 - val_loss: nan - val_f1_m: nan\n",
            "Epoch 448/500\n",
            "3/3 [==============================] - 0s 112ms/step - loss: 0.1802 - f1_m: 0.7774 - val_loss: nan - val_f1_m: nan\n",
            "Epoch 449/500\n",
            "3/3 [==============================] - 0s 115ms/step - loss: 0.2500 - f1_m: 0.4490 - val_loss: nan - val_f1_m: nan\n",
            "Epoch 450/500\n",
            "3/3 [==============================] - 0s 109ms/step - loss: 0.1697 - f1_m: 0.7778 - val_loss: nan - val_f1_m: nan\n",
            "Epoch 451/500\n",
            "3/3 [==============================] - 0s 111ms/step - loss: 0.1520 - f1_m: 0.7778 - val_loss: nan - val_f1_m: nan\n",
            "Epoch 452/500\n",
            "3/3 [==============================] - 0s 105ms/step - loss: 0.1500 - f1_m: 0.4528 - val_loss: nan - val_f1_m: nan\n",
            "Epoch 453/500\n",
            "3/3 [==============================] - 0s 106ms/step - loss: 0.2048 - f1_m: 0.4528 - val_loss: nan - val_f1_m: nan\n",
            "Epoch 454/500\n",
            "3/3 [==============================] - 0s 105ms/step - loss: 0.1632 - f1_m: 0.4535 - val_loss: nan - val_f1_m: nan\n",
            "Epoch 455/500\n",
            "3/3 [==============================] - 0s 110ms/step - loss: 0.1222 - f1_m: 0.7774 - val_loss: nan - val_f1_m: nan\n",
            "Epoch 456/500\n",
            "3/3 [==============================] - 0s 109ms/step - loss: 0.1619 - f1_m: 0.7743 - val_loss: nan - val_f1_m: nan\n",
            "Epoch 457/500\n",
            "3/3 [==============================] - 0s 106ms/step - loss: 0.1234 - f1_m: 0.7762 - val_loss: nan - val_f1_m: nan\n",
            "Epoch 458/500\n",
            "3/3 [==============================] - 0s 110ms/step - loss: 0.2156 - f1_m: 0.4460 - val_loss: nan - val_f1_m: nan\n",
            "Epoch 459/500\n",
            "3/3 [==============================] - 0s 107ms/step - loss: 0.2028 - f1_m: 0.4535 - val_loss: nan - val_f1_m: nan\n",
            "Epoch 460/500\n",
            "3/3 [==============================] - 0s 109ms/step - loss: 0.0987 - f1_m: 0.7778 - val_loss: nan - val_f1_m: nan\n",
            "Epoch 461/500\n",
            "3/3 [==============================] - 0s 108ms/step - loss: 0.3133 - f1_m: 0.4535 - val_loss: nan - val_f1_m: nan\n",
            "Epoch 462/500\n",
            "3/3 [==============================] - 0s 106ms/step - loss: 0.2322 - f1_m: 0.7716 - val_loss: nan - val_f1_m: nan\n",
            "Epoch 463/500\n",
            "3/3 [==============================] - 0s 110ms/step - loss: 0.1153 - f1_m: 0.7762 - val_loss: nan - val_f1_m: nan\n",
            "Epoch 464/500\n",
            "3/3 [==============================] - 0s 112ms/step - loss: 0.2299 - f1_m: 0.4528 - val_loss: nan - val_f1_m: nan\n",
            "Epoch 465/500\n",
            "3/3 [==============================] - 0s 107ms/step - loss: 0.2196 - f1_m: 0.7778 - val_loss: nan - val_f1_m: nan\n",
            "Epoch 466/500\n",
            "3/3 [==============================] - 0s 105ms/step - loss: 0.1689 - f1_m: 0.4513 - val_loss: nan - val_f1_m: nan\n",
            "Epoch 467/500\n",
            "3/3 [==============================] - 0s 108ms/step - loss: 0.2573 - f1_m: 0.4535 - val_loss: nan - val_f1_m: nan\n",
            "Epoch 468/500\n",
            "3/3 [==============================] - 0s 109ms/step - loss: 0.1998 - f1_m: 0.4535 - val_loss: nan - val_f1_m: nan\n",
            "Epoch 469/500\n",
            "3/3 [==============================] - 0s 106ms/step - loss: 0.1183 - f1_m: 0.4535 - val_loss: nan - val_f1_m: nan\n",
            "Epoch 470/500\n",
            "3/3 [==============================] - 0s 110ms/step - loss: 0.2127 - f1_m: 0.7762 - val_loss: nan - val_f1_m: nan\n",
            "Epoch 471/500\n",
            "3/3 [==============================] - 0s 109ms/step - loss: 0.1321 - f1_m: 0.4460 - val_loss: nan - val_f1_m: nan\n",
            "Epoch 472/500\n",
            "3/3 [==============================] - 0s 111ms/step - loss: 0.1943 - f1_m: 0.7762 - val_loss: nan - val_f1_m: nan\n",
            "Epoch 473/500\n",
            "3/3 [==============================] - 0s 108ms/step - loss: 0.1764 - f1_m: 0.4535 - val_loss: nan - val_f1_m: nan\n",
            "Epoch 474/500\n",
            "3/3 [==============================] - 0s 110ms/step - loss: 0.1692 - f1_m: 0.4535 - val_loss: nan - val_f1_m: nan\n",
            "Epoch 475/500\n",
            "3/3 [==============================] - 0s 106ms/step - loss: 0.2832 - f1_m: 0.4490 - val_loss: nan - val_f1_m: nan\n",
            "Epoch 476/500\n",
            "3/3 [==============================] - 0s 107ms/step - loss: 0.1853 - f1_m: 0.7774 - val_loss: nan - val_f1_m: nan\n",
            "Epoch 477/500\n",
            "3/3 [==============================] - 0s 114ms/step - loss: 0.1873 - f1_m: 0.4528 - val_loss: nan - val_f1_m: nan\n",
            "Epoch 478/500\n",
            "3/3 [==============================] - 0s 114ms/step - loss: 0.2089 - f1_m: 0.7716 - val_loss: nan - val_f1_m: nan\n",
            "Epoch 479/500\n",
            "3/3 [==============================] - 0s 111ms/step - loss: 0.1292 - f1_m: 0.7716 - val_loss: nan - val_f1_m: nan\n",
            "Epoch 480/500\n",
            "3/3 [==============================] - 0s 114ms/step - loss: 0.0854 - f1_m: 0.4535 - val_loss: nan - val_f1_m: nan\n",
            "Epoch 481/500\n",
            "3/3 [==============================] - 0s 112ms/step - loss: 0.1942 - f1_m: 0.4528 - val_loss: nan - val_f1_m: nan\n",
            "Epoch 482/500\n",
            "3/3 [==============================] - 0s 108ms/step - loss: 0.1899 - f1_m: 0.4490 - val_loss: nan - val_f1_m: nan\n",
            "Epoch 483/500\n",
            "3/3 [==============================] - 0s 117ms/step - loss: 0.1458 - f1_m: 0.7762 - val_loss: nan - val_f1_m: nan\n",
            "Epoch 484/500\n",
            "3/3 [==============================] - 0s 108ms/step - loss: 0.1371 - f1_m: 0.4528 - val_loss: nan - val_f1_m: nan\n",
            "Epoch 485/500\n",
            "3/3 [==============================] - 0s 113ms/step - loss: 0.1343 - f1_m: 0.7637 - val_loss: nan - val_f1_m: nan\n",
            "Epoch 486/500\n",
            "3/3 [==============================] - 0s 104ms/step - loss: 0.2290 - f1_m: 0.4490 - val_loss: nan - val_f1_m: nan\n",
            "Epoch 487/500\n",
            "3/3 [==============================] - 0s 106ms/step - loss: 0.1799 - f1_m: 0.4528 - val_loss: nan - val_f1_m: nan\n",
            "Epoch 488/500\n",
            "3/3 [==============================] - 0s 108ms/step - loss: 0.1318 - f1_m: 0.4535 - val_loss: nan - val_f1_m: nan\n",
            "Epoch 489/500\n",
            "3/3 [==============================] - 0s 113ms/step - loss: 0.1248 - f1_m: 0.7778 - val_loss: nan - val_f1_m: nan\n",
            "Epoch 490/500\n",
            "3/3 [==============================] - 0s 107ms/step - loss: 0.1100 - f1_m: 0.4535 - val_loss: nan - val_f1_m: nan\n",
            "Epoch 491/500\n",
            "3/3 [==============================] - 0s 106ms/step - loss: 0.1570 - f1_m: 0.7778 - val_loss: nan - val_f1_m: nan\n",
            "Epoch 492/500\n",
            "3/3 [==============================] - 0s 117ms/step - loss: 0.1557 - f1_m: 0.4535 - val_loss: nan - val_f1_m: nan\n",
            "Epoch 493/500\n",
            "3/3 [==============================] - 0s 110ms/step - loss: 0.0880 - f1_m: 0.7774 - val_loss: nan - val_f1_m: nan\n",
            "Epoch 494/500\n",
            "3/3 [==============================] - 0s 108ms/step - loss: 0.1354 - f1_m: 0.4513 - val_loss: nan - val_f1_m: nan\n",
            "Epoch 495/500\n",
            "3/3 [==============================] - 0s 105ms/step - loss: 0.1300 - f1_m: 0.7743 - val_loss: nan - val_f1_m: nan\n",
            "Epoch 496/500\n",
            "3/3 [==============================] - 0s 112ms/step - loss: 0.1623 - f1_m: 0.7778 - val_loss: nan - val_f1_m: nan\n",
            "Epoch 497/500\n",
            "3/3 [==============================] - 0s 112ms/step - loss: 0.1485 - f1_m: 0.7778 - val_loss: nan - val_f1_m: nan\n",
            "Epoch 498/500\n",
            "3/3 [==============================] - 0s 104ms/step - loss: 0.1426 - f1_m: 0.7778 - val_loss: nan - val_f1_m: nan\n",
            "Epoch 499/500\n",
            "3/3 [==============================] - 0s 108ms/step - loss: 0.1505 - f1_m: 0.4513 - val_loss: nan - val_f1_m: nan\n",
            "Epoch 500/500\n",
            "3/3 [==============================] - 0s 112ms/step - loss: 0.2228 - f1_m: 0.4535 - val_loss: nan - val_f1_m: nan\n"
          ]
        }
      ]
    },
    {
      "cell_type": "markdown",
      "metadata": {
        "id": "S49NEa8tCj8x"
      },
      "source": [
        "# **Parkinson's Disease Predictions**"
      ]
    },
    {
      "cell_type": "code",
      "metadata": {
        "id": "NpUHK_x0usIm"
      },
      "source": [
        "img = plt.imread(\"/content/Parkinson/parkinson ID_0/0_file_df_20.png\")\n",
        "img = np.asarray(img)\n",
        "img = np.resize(img, (IMAGE_SIZE, IMAGE_SIZE,1))\n"
      ],
      "execution_count": null,
      "outputs": []
    },
    {
      "cell_type": "code",
      "metadata": {
        "colab": {
          "base_uri": "https://localhost:8080/"
        },
        "id": "HuW2aJ-r3yja",
        "outputId": "14dbad70-146c-4b9a-dcb7-208b6e44a3ed"
      },
      "source": [
        "img.shape"
      ],
      "execution_count": null,
      "outputs": [
        {
          "output_type": "execute_result",
          "data": {
            "text/plain": [
              "(248, 248, 1)"
            ]
          },
          "metadata": {},
          "execution_count": 116
        }
      ]
    },
    {
      "cell_type": "code",
      "metadata": {
        "colab": {
          "base_uri": "https://localhost:8080/"
        },
        "id": "xZihSg3h2i8Q",
        "outputId": "e3fe2a23-e6f2-4229-a6a2-8f7252a33317"
      },
      "source": [
        "img = np.reshape(img,(1, IMAGE_SIZE, IMAGE_SIZE, 1))\n",
        "model.predict(img).argmax()"
      ],
      "execution_count": null,
      "outputs": [
        {
          "output_type": "execute_result",
          "data": {
            "text/plain": [
              "0"
            ]
          },
          "metadata": {},
          "execution_count": 117
        }
      ]
    },
    {
      "cell_type": "code",
      "metadata": {
        "id": "ztY0YCn1JDXR"
      },
      "source": [
        "x_test = []\n",
        "y_test = []\n",
        "\n",
        "import os\n",
        "healthy = os.listdir(\"/content/Parkinson/healthy ID_0\")\n",
        "parkinson = os.listdir(\"/content/Parkinson/parkinson ID_0\")\n",
        "healthy.sort()\n",
        "parkinson.sort()\n",
        "\n",
        "for i in range(12, 15):\n",
        "  img = plt.imread(\"/content/Parkinson/healthy ID_0/\" + str(healthy[i]))\n",
        "  img = np.asarray(img)\n",
        "  img = np.resize(img, (IMAGE_SIZE, IMAGE_SIZE,1))\n",
        "  x_test.append(img)\n",
        "  y_test.append(\"1\")\n",
        "for i in range(12, 20):\n",
        "  img = plt.imread(\"/content/Parkinson/parkinson ID_0/\" + str(parkinson[i]))\n",
        "  img = np.asarray(img)\n",
        "  img = np.resize(img, (IMAGE_SIZE, IMAGE_SIZE,1))\n",
        "  x_test.append(img)\n",
        "  y_test.append(\"0\")"
      ],
      "execution_count": null,
      "outputs": []
    },
    {
      "cell_type": "code",
      "metadata": {
        "id": "z5rkuOH3LtJ7"
      },
      "source": [
        "x_test = np.asarray(x_test)"
      ],
      "execution_count": null,
      "outputs": []
    },
    {
      "cell_type": "code",
      "metadata": {
        "id": "lG7am3jxJgWN"
      },
      "source": [
        "x_test = np.reshape(x_test,(11, IMAGE_SIZE, IMAGE_SIZE, 1))\n",
        "y_pred=[]\n",
        "for i in x_test:\n",
        "  i = np.reshape(i,(1, IMAGE_SIZE, IMAGE_SIZE, 1))\n",
        "  y_pred.append(model.predict(i).argmax())"
      ],
      "execution_count": null,
      "outputs": []
    },
    {
      "cell_type": "code",
      "metadata": {
        "colab": {
          "base_uri": "https://localhost:8080/"
        },
        "id": "VO5qafNEK7KX",
        "outputId": "40fea0c3-d89e-46bf-d814-cbac38511f34"
      },
      "source": [
        "from sklearn import metrics\n",
        "metrics.confusion_matrix(np.array(y_test).astype('float32'), y_pred)"
      ],
      "execution_count": null,
      "outputs": [
        {
          "output_type": "execute_result",
          "data": {
            "text/plain": [
              "array([[8, 0],\n",
              "       [3, 0]])"
            ]
          },
          "metadata": {},
          "execution_count": 121
        }
      ]
    },
    {
      "cell_type": "code",
      "metadata": {
        "id": "uaHWTpgRNkSk",
        "colab": {
          "base_uri": "https://localhost:8080/"
        },
        "outputId": "9b6b41c4-0fb9-432b-a7d1-ec27074d3e26"
      },
      "source": [
        "y_pred"
      ],
      "execution_count": null,
      "outputs": [
        {
          "output_type": "execute_result",
          "data": {
            "text/plain": [
              "[0, 0, 0, 0, 0, 0, 0, 0, 0, 0, 0]"
            ]
          },
          "metadata": {},
          "execution_count": 122
        }
      ]
    },
    {
      "cell_type": "code",
      "metadata": {
        "id": "73tv_6MkC29n"
      },
      "source": [
        "# 59% on training - model"
      ],
      "execution_count": null,
      "outputs": []
    },
    {
      "cell_type": "code",
      "metadata": {
        "id": "1y_vEK2fJUuf"
      },
      "source": [
        "model.save_weights(\"/content/model2_weights\")"
      ],
      "execution_count": null,
      "outputs": []
    }
  ]
}