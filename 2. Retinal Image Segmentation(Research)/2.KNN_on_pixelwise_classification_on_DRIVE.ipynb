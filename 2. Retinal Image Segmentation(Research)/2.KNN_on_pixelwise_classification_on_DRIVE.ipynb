{
  "nbformat": 4,
  "nbformat_minor": 0,
  "metadata": {
    "colab": {
      "name": "KNN on pixelwise classification on DRIVE.ipynb",
      "provenance": [],
      "mount_file_id": "1bzg455W2G1OKC12tMpQSrtrkWXZJ8e8V",
      "authorship_tag": "ABX9TyOZJqPQY7FEToxq/nisCMf0",
      "include_colab_link": true
    },
    "kernelspec": {
      "display_name": "Python 3",
      "name": "python3"
    },
    "language_info": {
      "name": "python"
    }
  },
  "cells": [
    {
      "cell_type": "markdown",
      "metadata": {
        "id": "view-in-github",
        "colab_type": "text"
      },
      "source": [
        "<a href=\"https://colab.research.google.com/github/SOUMEE2000/Machine-Learning-Stash/blob/main/2.KNN_on_pixelwise_classification_on_DRIVE.ipynb\" target=\"_parent\"><img src=\"https://colab.research.google.com/assets/colab-badge.svg\" alt=\"Open In Colab\"/></a>"
      ]
    },
    {
      "cell_type": "markdown",
      "metadata": {
        "id": "KNbH3P9YOOYh"
      },
      "source": [
        "# **Utility Functions**"
      ]
    },
    {
      "cell_type": "code",
      "metadata": {
        "colab": {
          "base_uri": "https://localhost:8080/"
        },
        "id": "fP5CQX1LSMf5",
        "outputId": "a220d92a-43e4-488a-b34b-32ab6f2123a4"
      },
      "source": [
        "from zipfile import ZipFile\n",
        "file_name = \"/content/drive/MyDrive/Datasets/DRIVE_ModifiedTrain.zip\"\n",
        "with ZipFile(file_name,'r') as zip:\n",
        "  zip.extractall()\n",
        "  print('finish')"
      ],
      "execution_count": null,
      "outputs": [
        {
          "output_type": "stream",
          "text": [
            "finish\n"
          ],
          "name": "stdout"
        }
      ]
    },
    {
      "cell_type": "code",
      "metadata": {
        "colab": {
          "base_uri": "https://localhost:8080/"
        },
        "id": "Ev4m7zcU2I9Y",
        "outputId": "d07eb1f6-0ccb-4709-c160-7ef5c5ca91cd"
      },
      "source": [
        "from zipfile import ZipFile\n",
        "file_name = \"/content/drive/MyDrive/Datasets/DRIVE.zip\"\n",
        "with ZipFile(file_name,'r') as zip:\n",
        "  zip.extractall()\n",
        "  print('finish')"
      ],
      "execution_count": null,
      "outputs": [
        {
          "output_type": "stream",
          "text": [
            "finish\n"
          ],
          "name": "stdout"
        }
      ]
    },
    {
      "cell_type": "code",
      "metadata": {
        "id": "e6wCtzXN728P"
      },
      "source": [
        "import os\n",
        "import pandas as pd\n",
        "\n",
        "training= os.listdir(\"/content/Modified_dataset_train\")\n",
        "test= os.listdir(\"/content/DRIVE/test/test/images\")\n",
        "\n",
        "training.sort()\n",
        "test.sort()"
      ],
      "execution_count": null,
      "outputs": []
    },
    {
      "cell_type": "code",
      "metadata": {
        "id": "ifnHFnY-g53m"
      },
      "source": [
        "import matplotlib.pyplot as plt\n",
        "import numpy as np\n",
        "\n",
        "def flattten_the_image(location):\n",
        "\n",
        "   img = plt.imread(location)\n",
        "   print(img.shape)\n",
        "   R=img[:,:,0]\n",
        "   G=img[:,:,1]\n",
        "   B=img[:,:,2]\n",
        "   flat_R=R.flatten(order='C')\n",
        "   flat_G=G.flatten(order='C')\n",
        "   flat_B=B.flatten(order='C')\n",
        "   \n",
        "   total_img_flattened=np.column_stack((flat_R,flat_G,flat_B))\n",
        "   \n",
        "   img_df=pd.DataFrame(total_img_flattened, columns = ['R','G','B'])\n",
        "   return img_df"
      ],
      "execution_count": null,
      "outputs": []
    },
    {
      "cell_type": "markdown",
      "metadata": {
        "id": "SdXgQd-xOdn1"
      },
      "source": [
        "# **Preparing Data**"
      ]
    },
    {
      "cell_type": "code",
      "metadata": {
        "id": "x1EAGZ-z2KK2"
      },
      "source": [
        "li=[]\n",
        "for i in range(1,len(training)):\n",
        "  df= pd.read_csv(\"/content/Modified_dataset_train/\" + training[i], index_col=None, header=0)\n",
        "  li.append(df)\n",
        "\n",
        "frame = pd.concat(li, axis=0, ignore_index=True)"
      ],
      "execution_count": 51,
      "outputs": []
    },
    {
      "cell_type": "code",
      "metadata": {
        "colab": {
          "base_uri": "https://localhost:8080/"
        },
        "id": "suzN0wF524YW",
        "outputId": "cd3ffed0-627a-4582-bbf8-00f3f0bddca0"
      },
      "source": [
        "frame[\"truth labels\"].value_counts()"
      ],
      "execution_count": 52,
      "outputs": [
        {
          "output_type": "execute_result",
          "data": {
            "text/plain": [
              "0      5640621\n",
              "255     544957\n",
              "Name: truth labels, dtype: int64"
            ]
          },
          "metadata": {
            "tags": []
          },
          "execution_count": 52
        }
      ]
    },
    {
      "cell_type": "code",
      "metadata": {
        "id": "cp6L8D_0ulE4"
      },
      "source": [
        "frame= frame[[\"R\",\"G\",\"B\",\"truth labels\"]]"
      ],
      "execution_count": 53,
      "outputs": []
    },
    {
      "cell_type": "code",
      "metadata": {
        "colab": {
          "base_uri": "https://localhost:8080/",
          "height": 203
        },
        "id": "79K19JDdrDc-",
        "outputId": "4f6e5a59-fe71-4f0a-935c-67c70a5d6111"
      },
      "source": [
        "frame.head()"
      ],
      "execution_count": 54,
      "outputs": [
        {
          "output_type": "execute_result",
          "data": {
            "text/html": [
              "<div>\n",
              "<style scoped>\n",
              "    .dataframe tbody tr th:only-of-type {\n",
              "        vertical-align: middle;\n",
              "    }\n",
              "\n",
              "    .dataframe tbody tr th {\n",
              "        vertical-align: top;\n",
              "    }\n",
              "\n",
              "    .dataframe thead th {\n",
              "        text-align: right;\n",
              "    }\n",
              "</style>\n",
              "<table border=\"1\" class=\"dataframe\">\n",
              "  <thead>\n",
              "    <tr style=\"text-align: right;\">\n",
              "      <th></th>\n",
              "      <th>R</th>\n",
              "      <th>G</th>\n",
              "      <th>B</th>\n",
              "      <th>truth labels</th>\n",
              "    </tr>\n",
              "  </thead>\n",
              "  <tbody>\n",
              "    <tr>\n",
              "      <th>0</th>\n",
              "      <td>1</td>\n",
              "      <td>1</td>\n",
              "      <td>1</td>\n",
              "      <td>0</td>\n",
              "    </tr>\n",
              "    <tr>\n",
              "      <th>1</th>\n",
              "      <td>1</td>\n",
              "      <td>1</td>\n",
              "      <td>1</td>\n",
              "      <td>0</td>\n",
              "    </tr>\n",
              "    <tr>\n",
              "      <th>2</th>\n",
              "      <td>1</td>\n",
              "      <td>1</td>\n",
              "      <td>1</td>\n",
              "      <td>0</td>\n",
              "    </tr>\n",
              "    <tr>\n",
              "      <th>3</th>\n",
              "      <td>1</td>\n",
              "      <td>1</td>\n",
              "      <td>1</td>\n",
              "      <td>0</td>\n",
              "    </tr>\n",
              "    <tr>\n",
              "      <th>4</th>\n",
              "      <td>1</td>\n",
              "      <td>1</td>\n",
              "      <td>1</td>\n",
              "      <td>0</td>\n",
              "    </tr>\n",
              "  </tbody>\n",
              "</table>\n",
              "</div>"
            ],
            "text/plain": [
              "   R  G  B  truth labels\n",
              "0  1  1  1             0\n",
              "1  1  1  1             0\n",
              "2  1  1  1             0\n",
              "3  1  1  1             0\n",
              "4  1  1  1             0"
            ]
          },
          "metadata": {
            "tags": []
          },
          "execution_count": 54
        }
      ]
    },
    {
      "cell_type": "markdown",
      "metadata": {
        "id": "lsoDRL6qP5_9"
      },
      "source": [
        "# **Nearest Neighbor Models**"
      ]
    },
    {
      "cell_type": "code",
      "metadata": {
        "id": "2a-rOGguRBhR"
      },
      "source": [
        "from sklearn.metrics import classification_report,confusion_matrix\n",
        "from sklearn.model_selection import cross_val_score"
      ],
      "execution_count": 47,
      "outputs": []
    },
    {
      "cell_type": "markdown",
      "metadata": {
        "id": "KZUlhtrUd0uI"
      },
      "source": [
        "## KNN With Data Engineering"
      ]
    },
    {
      "cell_type": "markdown",
      "metadata": {
        "id": "xC65F44GW7TD"
      },
      "source": [
        "**Random Experiments**"
      ]
    },
    {
      "cell_type": "code",
      "metadata": {
        "id": "4-jnCH7GmPlh"
      },
      "source": [
        "to_remove = np.random.choice(frame[frame['truth labels']==0].index,size=2600000,replace=False)\n",
        "frame.drop(to_remove, inplace=True)\n",
        "\n",
        "to_add = pd.DataFrame(np.repeat(frame[frame[\"truth labels\"]==255].values, 5, axis=0), columns=frame.columns)\n",
        "concat_list=[to_add, frame]\n",
        "frame = pd.concat(concat_list, axis=0, ignore_index=True)\n",
        "frame= frame.sample(frac=1)\n",
        "\n",
        "\n",
        "from sklearn.preprocessing import MinMaxScaler\n",
        "scaler = MinMaxScaler()\n",
        "scaled_features = scaler.fit_transform(frame.drop('truth labels', axis=1))\n",
        "\n",
        "\n",
        "from sklearn.model_selection import train_test_split\n",
        "X_train, X_test, y_train, y_test = train_test_split(scaled_features,frame['truth labels'],\n",
        "                                                    test_size=0.30)"
      ],
      "execution_count": null,
      "outputs": []
    },
    {
      "cell_type": "markdown",
      "metadata": {
        "id": "tu-E95igNLmB"
      },
      "source": [
        "**Random Undersampling**"
      ]
    },
    {
      "cell_type": "code",
      "metadata": {
        "id": "_9daTkLvLquu",
        "colab": {
          "base_uri": "https://localhost:8080/"
        },
        "outputId": "c2cf27f8-8970-4b59-b113-2e424f7fb47e"
      },
      "source": [
        "from imblearn.under_sampling import RandomUnderSampler\n",
        "\n",
        "rus = RandomUnderSampler(random_state=42, sampling_strategy=0.5,replacement=True)# fit predictor and target variable\n",
        "X, y = rus.fit_resample(frame.drop(\"truth labels\", axis = 1), frame[\"truth labels\"])\n",
        "\n",
        "from sklearn.preprocessing import MinMaxScaler\n",
        "scaler = MinMaxScaler()\n",
        "scaled_features = scaler.fit_transform(X)\n",
        "\n",
        "\n",
        "from sklearn.model_selection import train_test_split\n",
        "X_train, X_test, y_train, y_test = train_test_split(scaled_features,y , test_size=0.30)"
      ],
      "execution_count": 55,
      "outputs": [
        {
          "output_type": "stream",
          "text": [
            "/usr/local/lib/python3.7/dist-packages/sklearn/utils/deprecation.py:87: FutureWarning: Function safe_indexing is deprecated; safe_indexing is deprecated in version 0.22 and will be removed in version 0.24.\n",
            "  warnings.warn(msg, category=FutureWarning)\n"
          ],
          "name": "stderr"
        }
      ]
    },
    {
      "cell_type": "markdown",
      "metadata": {
        "id": "3LgPIoySbfT1"
      },
      "source": [
        "**Random oversampling**"
      ]
    },
    {
      "cell_type": "code",
      "metadata": {
        "id": "YgY4zWPxbXZ7"
      },
      "source": [
        "from imblearn.under_sampling import RandomOverSampler\n",
        "\n",
        "rus = RandomOverSampler(random_state=42, sampling_strategy=0.5,replacement=True)# fit predictor and target variable\n",
        "X, y = rus.fit_resample(frame.drop(\"truth labels\", axis = 1), frame[\"truth labels\"])\n",
        "\n",
        "from sklearn.preprocessing import MinMaxScaler\n",
        "scaler = MinMaxScaler()\n",
        "scaled_features = scaler.fit_transform(X)\n",
        "\n",
        "\n",
        "from sklearn.model_selection import train_test_split\n",
        "X_train, X_test, y_train, y_test = train_test_split(scaled_features,y , test_size=0.30)"
      ],
      "execution_count": null,
      "outputs": []
    },
    {
      "cell_type": "markdown",
      "metadata": {
        "id": "IfmvpId4GH3A"
      },
      "source": [
        "**SMOTE along with Random Undersampling**"
      ]
    },
    {
      "cell_type": "code",
      "metadata": {
        "colab": {
          "base_uri": "https://localhost:8080/"
        },
        "id": "JdjHEOW7OaIa",
        "outputId": "694af617-b323-4d3c-f27f-a6bb8e151884"
      },
      "source": [
        "from imblearn.over_sampling import SMOTE\n",
        "from imblearn.under_sampling import RandomUnderSampler\n",
        "from imblearn.pipeline import Pipeline\n",
        "\n",
        "over = SMOTE(sampling_strategy=0.1, )\n",
        "under = RandomUnderSampler(sampling_strategy=0.5)\n",
        "steps = [('o', over), ('u', under)]\n",
        "pipeline = Pipeline(steps=steps)\n",
        "# transform the dataset\n",
        "X, y = pipeline.fit_resample(frame.drop(\"truth labels\", axis = 1), frame[\"truth labels\"])\n",
        "\n",
        "\n",
        "from sklearn.preprocessing import MinMaxScaler\n",
        "scaler = MinMaxScaler()\n",
        "scaled_features = scaler.fit_transform(X)\n",
        "\n",
        "\n",
        "from sklearn.model_selection import train_test_split\n",
        "X_train, X_test, y_train, y_test = train_test_split(scaled_features,y , test_size=0.30)"
      ],
      "execution_count": null,
      "outputs": [
        {
          "output_type": "stream",
          "text": [
            "/usr/local/lib/python3.7/dist-packages/sklearn/utils/deprecation.py:87: FutureWarning: Function safe_indexing is deprecated; safe_indexing is deprecated in version 0.22 and will be removed in version 0.24.\n",
            "  warnings.warn(msg, category=FutureWarning)\n",
            "/usr/local/lib/python3.7/dist-packages/sklearn/utils/deprecation.py:87: FutureWarning: Function safe_indexing is deprecated; safe_indexing is deprecated in version 0.22 and will be removed in version 0.24.\n",
            "  warnings.warn(msg, category=FutureWarning)\n"
          ],
          "name": "stderr"
        }
      ]
    },
    {
      "cell_type": "code",
      "metadata": {
        "colab": {
          "base_uri": "https://localhost:8080/"
        },
        "id": "AyuFDdxe3vp2",
        "outputId": "7ff5abe8-7a3c-473c-d1a3-a09a7f94df75"
      },
      "source": [
        "frame[\"truth labels\"].value_counts()"
      ],
      "execution_count": null,
      "outputs": [
        {
          "output_type": "execute_result",
          "data": {
            "text/plain": [
              "0      5640621\n",
              "255     544957\n",
              "Name: truth labels, dtype: int64"
            ]
          },
          "metadata": {
            "tags": []
          },
          "execution_count": 11
        }
      ]
    },
    {
      "cell_type": "code",
      "metadata": {
        "colab": {
          "base_uri": "https://localhost:8080/"
        },
        "id": "o5ZrvGkb0GxW",
        "outputId": "f777b93e-5909-4942-d93f-d47e7ec514c4"
      },
      "source": [
        "(unique, counts) = np.unique(y, return_counts=True)\n",
        "print(unique)\n",
        "print(counts)"
      ],
      "execution_count": 56,
      "outputs": [
        {
          "output_type": "stream",
          "text": [
            "[  0 255]\n",
            "[1089914  544957]\n"
          ],
          "name": "stdout"
        }
      ]
    },
    {
      "cell_type": "code",
      "metadata": {
        "id": "tZO9T20vhsC_"
      },
      "source": [
        "from sklearn.neighbors import KNeighborsClassifier\n",
        "\n",
        "knn = KNeighborsClassifier(n_neighbors=37)\n",
        "\n",
        "knn.fit(X_train,y_train)\n",
        "pred = knn.predict(X_test)"
      ],
      "execution_count": 57,
      "outputs": []
    },
    {
      "cell_type": "code",
      "metadata": {
        "colab": {
          "base_uri": "https://localhost:8080/"
        },
        "id": "mGeij8Dq6ZP5",
        "outputId": "9c863821-7714-439a-cc11-9adaf138c2c7"
      },
      "source": [
        "print('\\n')\n",
        "print(confusion_matrix(y_test,pred))\n",
        "print('\\n')\n",
        "print(classification_report(y_test,pred))"
      ],
      "execution_count": 58,
      "outputs": [
        {
          "output_type": "stream",
          "text": [
            "\n",
            "\n",
            "[[283751  43052]\n",
            " [ 79074  84585]]\n",
            "\n",
            "\n",
            "              precision    recall  f1-score   support\n",
            "\n",
            "           0       0.78      0.87      0.82    326803\n",
            "         255       0.66      0.52      0.58    163659\n",
            "\n",
            "    accuracy                           0.75    490462\n",
            "   macro avg       0.72      0.69      0.70    490462\n",
            "weighted avg       0.74      0.75      0.74    490462\n",
            "\n"
          ],
          "name": "stdout"
        }
      ]
    },
    {
      "cell_type": "markdown",
      "metadata": {
        "id": "6ldqBLQ4kiuo"
      },
      "source": [
        "## Radius-Neighbors-Classifier"
      ]
    },
    {
      "cell_type": "code",
      "metadata": {
        "id": "8xLRZp_SHUJD"
      },
      "source": [
        "from sklearn.preprocessing import MinMaxScaler\n",
        "\n",
        "scaler = MinMaxScaler()\n",
        "scaled_features = scaler.fit_transform(frame.drop('truth labels', axis=1))"
      ],
      "execution_count": null,
      "outputs": []
    },
    {
      "cell_type": "code",
      "metadata": {
        "id": "WHO4XnamHqYb"
      },
      "source": [
        "scaled_features= frame.drop(\"truth labels\", axis=1)"
      ],
      "execution_count": null,
      "outputs": []
    },
    {
      "cell_type": "code",
      "metadata": {
        "colab": {
          "base_uri": "https://localhost:8080/"
        },
        "id": "pibfvcRobDNY",
        "outputId": "4d9889f7-c8df-49e9-adc8-85c164f6a7ba"
      },
      "source": [
        "frame[\"truth labels\"].value_counts()"
      ],
      "execution_count": null,
      "outputs": [
        {
          "output_type": "execute_result",
          "data": {
            "text/plain": [
              "0      5640621\n",
              "255     544957\n",
              "Name: truth labels, dtype: int64"
            ]
          },
          "metadata": {
            "tags": []
          },
          "execution_count": 14
        }
      ]
    },
    {
      "cell_type": "code",
      "metadata": {
        "id": "Fv8bOceXHfGW"
      },
      "source": [
        "from sklearn.model_selection import train_test_split\n",
        "\n",
        "X_train, X_test, y_train, y_test = train_test_split(scaled_features, frame['truth labels'],\n",
        "                                                    test_size=0.30)"
      ],
      "execution_count": null,
      "outputs": []
    },
    {
      "cell_type": "code",
      "metadata": {
        "id": "pgnNu17jksnG"
      },
      "source": [
        "from sklearn.neighbors import RadiusNeighborsClassifier\n",
        "\n",
        "rnn = RadiusNeighborsClassifier(weights=\"uniform\", radius=1.0)\n",
        "rnn.fit(X_train,y_train)\n",
        "pred = rnn.predict(X_test)\n"
      ],
      "execution_count": null,
      "outputs": []
    },
    {
      "cell_type": "code",
      "metadata": {
        "id": "jjfUXm8AOuNI"
      },
      "source": [
        "print('WITH K=23')\n",
        "print('\\n')\n",
        "print(confusion_matrix(y_test,pred))\n",
        "print('\\n')\n",
        "print(classification_report(y_test,pred))"
      ],
      "execution_count": null,
      "outputs": []
    },
    {
      "cell_type": "markdown",
      "metadata": {
        "id": "9jZ4xgEbaKb-"
      },
      "source": [
        "## Displaying the image"
      ]
    },
    {
      "cell_type": "code",
      "metadata": {
        "colab": {
          "base_uri": "https://localhost:8080/"
        },
        "id": "bubDcgc86yc7",
        "outputId": "be572a98-8976-484c-956a-477333707acb"
      },
      "source": [
        "img_df = flattten_the_image(\"/content/DRIVE/test/test/images/01_test.tif\")\n",
        "scaled_features = scaler.transform(img_df)\n",
        "y_pred= knn.predict(scaled_features)"
      ],
      "execution_count": 39,
      "outputs": [
        {
          "output_type": "stream",
          "text": [
            "(584, 565, 3)\n"
          ],
          "name": "stdout"
        }
      ]
    },
    {
      "cell_type": "code",
      "metadata": {
        "id": "vl0XTPMc7c6j"
      },
      "source": [
        "y_pred= y_pred.reshape(584,565)"
      ],
      "execution_count": 40,
      "outputs": []
    },
    {
      "cell_type": "code",
      "metadata": {
        "id": "MQeagvRy7hwM"
      },
      "source": [
        "from PIL import Image\n",
        "y_pred= y_pred.astype(np.uint8)\n",
        "img = Image.fromarray(y_pred)"
      ],
      "execution_count": 41,
      "outputs": []
    },
    {
      "cell_type": "code",
      "metadata": {
        "colab": {
          "base_uri": "https://localhost:8080/",
          "height": 286
        },
        "id": "RKaZe8k77lkc",
        "outputId": "1a5b0e83-abef-480e-8a54-88b9cf603542"
      },
      "source": [
        "plt.imshow(img, cmap= \"gray\")"
      ],
      "execution_count": 42,
      "outputs": [
        {
          "output_type": "execute_result",
          "data": {
            "text/plain": [
              "<matplotlib.image.AxesImage at 0x7f9e038e0210>"
            ]
          },
          "metadata": {
            "tags": []
          },
          "execution_count": 42
        },
        {
          "output_type": "display_data",
          "data": {
            "image/png": "[encoded data removed]",
            "text/plain": [
              "<Figure size 432x288 with 1 Axes>"
            ]
          },
          "metadata": {
            "tags": [],
            "needs_background": "light"
          }
        }
      ]
    },
    {
      "cell_type": "code",
      "metadata": {
        "id": "kuWnTlK4Nvcd"
      },
      "source": [
        "img.save(\"/content/test1.jpg\")"
      ],
      "execution_count": null,
      "outputs": []
    },
    {
      "cell_type": "code",
      "metadata": {
        "colab": {
          "base_uri": "https://localhost:8080/"
        },
        "id": "mP3YONfYNJ58",
        "outputId": "5912e201-d37e-4303-c9be-e7aaa4c31f17"
      },
      "source": [
        "from PIL import Image\n",
        "\n",
        "for i in test:\n",
        "  img_df = flattten_the_image('/content/DRIVE/test/test/images/' + i)\n",
        "  scaled_features = scaler.transform(img_df)\n",
        "  y_pred= knn.predict(scaled_features)\n",
        "  y_pred= y_pred.reshape(584,565)\n",
        "  y_pred= y_pred.astype(np.uint8)\n",
        "  img = Image.fromarray(y_pred)\n",
        "  img.save(\"result_\" + i)"
      ],
      "execution_count": null,
      "outputs": [
        {
          "output_type": "stream",
          "text": [
            "(584, 565, 3)\n",
            "(584, 565, 3)\n",
            "(584, 565, 3)\n",
            "(584, 565, 3)\n",
            "(584, 565, 3)\n",
            "(584, 565, 3)\n",
            "(584, 565, 3)\n",
            "(584, 565, 3)\n",
            "(584, 565, 3)\n",
            "(584, 565, 3)\n",
            "(584, 565, 3)\n",
            "(584, 565, 3)\n",
            "(584, 565, 3)\n",
            "(584, 565, 3)\n",
            "(584, 565, 3)\n",
            "(584, 565, 3)\n",
            "(584, 565, 3)\n",
            "(584, 565, 3)\n",
            "(584, 565, 3)\n",
            "(584, 565, 3)\n"
          ],
          "name": "stdout"
        }
      ]
    },
    {
      "cell_type": "markdown",
      "metadata": {
        "id": "dUSWyvvGmUBZ"
      },
      "source": [
        "## Results for KNN on DRIVE(RGB)"
      ]
    },
    {
      "cell_type": "markdown",
      "metadata": {
        "id": "iFSy01Dc9kmQ"
      },
      "source": [
        "By deletion:\n",
        "* 1:5 ,  k=50,  f1-score{0:0.91, 255: 0.34}; outline detected correctly\n",
        "* 1:4 ,  k=50,  f1-score{0:0.89, 255: 0.40}; outline detected correctly\n",
        "* 1:4 ,  k=40,  f1-score{0:0.89, 255: 0.40}; looked better\n",
        "* 1:4 ,  k=25,  f1-score{0:0.89, 255: 0.42}; looked better\n",
        "* 1:1 ,  k=25,  f1-score{0:0.74, 255: 0.71}; looked better\n",
        "\n",
        "By both addition and deletion:\n",
        "* 1:2 ,  k=30,  f1-score{0:0.82, 255: 0.60}; (1000000 0s 2000000 255s)\n",
        "* 1:1 ,  k=35,  f1-score{0:0.71, 255: 0.77}; (2000000 0s 2000000 255s)(best)\n",
        "* 1:1 ,  k=35,  f1-score{0:0.71, 255: 0.77}; (3000000 0s 3000000 255s)(no improvement)\n",
        "* 3:5 ,  k=25,  f1-score{0:0.80, 255: 0.64}; (3000000 0s 5600000 255s)\n",
        "* 1:1 ,  k=25,  f1-score{0:0.73, 255: 0.75}; (5400000 0s 5600000 255s)"
      ]
    },
    {
      "cell_type": "markdown",
      "metadata": {
        "id": "Kaa_jzuzw3c-"
      },
      "source": [
        "Therefore considering 3000000 : 3000000 as the ideal set as 1:1 gives best results and things don't improve from there\n",
        "\n",
        "* k=15 , f1-score{0:0.71, 255: 0.76}\n",
        "* k=10 , f1-score{0:0.71, 255: 0.74}"
      ]
    },
    {
      "cell_type": "markdown",
      "metadata": {
        "id": "UEzv9fOlLg2_"
      },
      "source": [
        "Min-max scaler(image turns out to be the best for same accuracies)\n",
        "* For n_neighbors = 20 , accuracy = 0.721\n",
        "* For n_neighbors = 21 , accuracy = 0.723\n",
        "* For n_neighbors = 22 , accuracy = 0.722\n",
        "* For n_neighbors = 23 , accuracy = 0.723\n",
        "* For n_neighbors = 24 , accuracy = 0.723\n",
        "* For n_neighbors = 25 , accuracy = 0.724\n",
        "* For n_neighbors = 26 , accuracy = 0.723\n",
        "* For n_neighbors = 27 , accuracy = 0.725\n",
        "* For n_neighbors = 28 , accuracy = 0.724\n",
        "* For n_neighbors = 29 , accuracy = 0.725\n",
        "* For n_neighbors = 30 , accuracy = 0.725\n",
        "* For n_neighbors = 31 , accuracy = 0.726\n",
        "* For n_neighbors = 32 , accuracy = 0.725\n",
        "* For n_neighbors = 33 , accuracy = 0.726\n",
        "* For n_neighbors = 34 , accuracy = 0.726\n",
        "* For n_neighbors = 35 , accuracy = 0.726\n",
        "* For n_neighbors = 36 , accuracy = 0.726\n",
        "* For n_neighbors = 37 , accuracy = 0.727\n",
        "* For n_neighbors = 38 , accuracy = 0.727\n",
        "* For n_neighbors = 39 , accuracy = 0.727\n"
      ]
    },
    {
      "cell_type": "markdown",
      "metadata": {
        "id": "qoq4lHI6kTLH"
      },
      "source": [
        "* min-max2.png k=35, original things. 0:0.96, 255:0.22(best average f1-score so far)\n",
        "* min-max3.png k=35, 3:5. 0:0.81, 255:0.64 (with or without leaf_size)\n",
        "* min-max4.png k=37, leaf-size=10 500000:3000000 0:0.92, 255:0.32\n",
        "*  3:3  0:0.71, 255:0.77\n",
        "* min-max original things, leaf-size= (10,5,25), 0.71, 0.77"
      ]
    },
    {
      "cell_type": "markdown",
      "metadata": {
        "id": "nmJBpWNKD2n8"
      },
      "source": [
        "SMOTE + RUS:\n",
        "* 0:0.82 and 255: 0.58\n",
        "\n"
      ]
    },
    {
      "cell_type": "markdown",
      "metadata": {
        "id": "vmBz2TPtlc5e"
      },
      "source": [
        "## Sanity Checks"
      ]
    },
    {
      "cell_type": "code",
      "metadata": {
        "id": "0arS6sg8lbLK"
      },
      "source": [
        "index_list=frame[frame[\"truth labels\"]==255].index"
      ],
      "execution_count": null,
      "outputs": []
    },
    {
      "cell_type": "code",
      "metadata": {
        "id": "6fED-HRrl1IT"
      },
      "source": [
        "newdf = pd.DataFrame(np.repeat(frame[frame[\"truth labels\"]==255].values, 1, axis=0), columns=df.columns)"
      ],
      "execution_count": null,
      "outputs": []
    },
    {
      "cell_type": "code",
      "metadata": {
        "colab": {
          "base_uri": "https://localhost:8080/"
        },
        "id": "zeEXLWCwoOq2",
        "outputId": "4d24c53f-411a-49b5-9726-b22d3b3a7e00"
      },
      "source": [
        "newdf[\"truth labels\"].value_counts()"
      ],
      "execution_count": null,
      "outputs": [
        {
          "output_type": "execute_result",
          "data": {
            "text/plain": [
              "255    544957\n",
              "Name: truth labels, dtype: int64"
            ]
          },
          "metadata": {
            "tags": []
          },
          "execution_count": 85
        }
      ]
    },
    {
      "cell_type": "code",
      "metadata": {
        "colab": {
          "base_uri": "https://localhost:8080/"
        },
        "id": "ApmKYRxspBr6",
        "outputId": "071219dd-13ab-4ab4-b676-d1e464e4e25e"
      },
      "source": [
        "frame[\"truth labels\"].value_counts()"
      ],
      "execution_count": null,
      "outputs": [
        {
          "output_type": "execute_result",
          "data": {
            "text/plain": [
              "0      5640621\n",
              "255     544957\n",
              "Name: truth labels, dtype: int64"
            ]
          },
          "metadata": {
            "tags": []
          },
          "execution_count": 73
        }
      ]
    },
    {
      "cell_type": "code",
      "metadata": {
        "id": "4eACr0bApoDC"
      },
      "source": [
        "concat_list=[newdf, frame]"
      ],
      "execution_count": null,
      "outputs": []
    },
    {
      "cell_type": "code",
      "metadata": {
        "id": "33Pw0IPjpfEw"
      },
      "source": [
        "frame = pd.concat(concat_list, axis=0, ignore_index=True)"
      ],
      "execution_count": null,
      "outputs": []
    },
    {
      "cell_type": "code",
      "metadata": {
        "colab": {
          "base_uri": "https://localhost:8080/"
        },
        "id": "YZS3vhVkqkwH",
        "outputId": "6875d733-53e0-45d7-e3dc-d441f01dd911"
      },
      "source": [
        "frame[\"truth labels\"].value_counts()"
      ],
      "execution_count": null,
      "outputs": [
        {
          "output_type": "execute_result",
          "data": {
            "text/plain": [
              "0      5640621\n",
              "255    1089914\n",
              "Name: truth labels, dtype: int64"
            ]
          },
          "metadata": {
            "tags": []
          },
          "execution_count": 89
        }
      ]
    },
    {
      "cell_type": "code",
      "metadata": {
        "id": "GJ02bhJqqxhF"
      },
      "source": [
        ""
      ],
      "execution_count": null,
      "outputs": []
    }
  ]
}
