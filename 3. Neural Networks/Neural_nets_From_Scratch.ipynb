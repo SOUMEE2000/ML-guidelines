{
  "nbformat": 4,
  "nbformat_minor": 0,
  "metadata": {
    "colab": {
      "name": "Neural_nets_From_Scratch.ipynb",
      "provenance": [],
      "include_colab_link": true
    },
    "kernelspec": {
      "name": "python3",
      "display_name": "Python 3"
    },
    "language_info": {
      "name": "python"
    }
  },
  "cells": [
    {
      "cell_type": "markdown",
      "metadata": {
        "id": "view-in-github",
        "colab_type": "text"
      },
      "source": [
        "<a href=\"https://colab.research.google.com/github/SOUMEE2000/Machine-Learning-Stash/blob/main/Neural_nets_From_Scratch.ipynb\" target=\"_parent\"><img src=\"https://colab.research.google.com/assets/colab-badge.svg\" alt=\"Open In Colab\"/></a>"
      ]
    },
    {
      "cell_type": "markdown",
      "metadata": {
        "id": "D1FmJSGLINk3"
      },
      "source": [
        "\n",
        "# **Single-Layer-Perceptron**"
      ]
    },
    {
      "cell_type": "code",
      "metadata": {
        "id": "QeOC5-FpHwiz"
      },
      "source": [
        "import numpy as np\n",
        "import seaborn as sns"
      ],
      "execution_count": null,
      "outputs": []
    },
    {
      "cell_type": "code",
      "metadata": {
        "id": "-oe1WkTBIku3"
      },
      "source": [
        "X= np.array([[1,0,0],[1,0,1],[1,0,1],[0,0,0]])\n",
        "Y= np.array([[1],[0],[0],[1]])"
      ],
      "execution_count": null,
      "outputs": []
    },
    {
      "cell_type": "code",
      "metadata": {
        "colab": {
          "base_uri": "https://localhost:8080/"
        },
        "id": "iMfsGiFqLBXB",
        "outputId": "55a4bb38-217f-4203-e38b-5c19724f574b"
      },
      "source": [
        "X.shape[1]"
      ],
      "execution_count": null,
      "outputs": [
        {
          "output_type": "execute_result",
          "data": {
            "text/plain": [
              "3"
            ]
          },
          "metadata": {
            "tags": []
          },
          "execution_count": 3
        }
      ]
    },
    {
      "cell_type": "code",
      "metadata": {
        "colab": {
          "base_uri": "https://localhost:8080/"
        },
        "id": "MlMQzVO8Kkuq",
        "outputId": "c9c0db90-1797-46e5-8996-53753a7d10a6"
      },
      "source": [
        "#### Weights\n",
        "np.random.seed(10)\n",
        "weights = np.random.random((3,1))\n",
        "weights"
      ],
      "execution_count": null,
      "outputs": [
        {
          "output_type": "execute_result",
          "data": {
            "text/plain": [
              "array([[0.77132064],\n",
              "       [0.02075195],\n",
              "       [0.63364823]])"
            ]
          },
          "metadata": {
            "tags": []
          },
          "execution_count": 4
        }
      ]
    },
    {
      "cell_type": "code",
      "metadata": {
        "colab": {
          "base_uri": "https://localhost:8080/"
        },
        "id": "zvWqdBj9K6VU",
        "outputId": "f312eaba-fe9f-4e82-bde3-649435b0f4d4"
      },
      "source": [
        "weights.shape"
      ],
      "execution_count": null,
      "outputs": [
        {
          "output_type": "execute_result",
          "data": {
            "text/plain": [
              "(3, 1)"
            ]
          },
          "metadata": {
            "tags": []
          },
          "execution_count": 5
        }
      ]
    },
    {
      "cell_type": "code",
      "metadata": {
        "id": "0xvbEjS-JPSA"
      },
      "source": [
        "bias=0.02\n",
        "sum= np.dot(X,weights) +bias"
      ],
      "execution_count": null,
      "outputs": []
    },
    {
      "cell_type": "code",
      "metadata": {
        "id": "2lRSJs-2LT6Y"
      },
      "source": [
        "#activation function\n",
        "def sigmoid(x):\n",
        "    return 1/(1+np.exp(-x))"
      ],
      "execution_count": null,
      "outputs": []
    },
    {
      "cell_type": "code",
      "metadata": {
        "colab": {
          "base_uri": "https://localhost:8080/"
        },
        "id": "0U3gJptCLieE",
        "outputId": "81a28567-4068-4bec-a158-8622e7ba0308"
      },
      "source": [
        "predicted_output= sigmoid(sum)\n",
        "predicted_output"
      ],
      "execution_count": null,
      "outputs": [
        {
          "output_type": "execute_result",
          "data": {
            "text/plain": [
              "array([[0.68811483],\n",
              "       [0.8061162 ],\n",
              "       [0.8061162 ],\n",
              "       [0.50499983]])"
            ]
          },
          "metadata": {
            "tags": []
          },
          "execution_count": 8
        }
      ]
    },
    {
      "cell_type": "code",
      "metadata": {
        "colab": {
          "base_uri": "https://localhost:8080/"
        },
        "id": "jSQALWdSMujz",
        "outputId": "907e86f1-73e4-4609-a07e-3d695f54b8a9"
      },
      "source": [
        "# cost= out-pred\n",
        "error = Y - predicted_output\n",
        "error"
      ],
      "execution_count": null,
      "outputs": [
        {
          "output_type": "execute_result",
          "data": {
            "text/plain": [
              "array([[ 0.31188517],\n",
              "       [-0.8061162 ],\n",
              "       [-0.8061162 ],\n",
              "       [ 0.49500017]])"
            ]
          },
          "metadata": {
            "tags": []
          },
          "execution_count": 9
        }
      ]
    },
    {
      "cell_type": "code",
      "metadata": {
        "id": "FnaNKY3DM8Yd"
      },
      "source": [
        "def gradient(x):\n",
        "  return x * (1-x)"
      ],
      "execution_count": null,
      "outputs": []
    },
    {
      "cell_type": "code",
      "metadata": {
        "colab": {
          "base_uri": "https://localhost:8080/"
        },
        "id": "eunBwVh2NLv8",
        "outputId": "766463d4-3643-4fb0-bd12-f9021caca3d3"
      },
      "source": [
        "for i in range(2000):\n",
        "    sum = 0.02 + np.dot(X,weights)\n",
        "    predicted_output = sigmoid(sum)\n",
        "    error = (Y- predicted_output)\n",
        "    adjustment = error * gradient(predicted_output)   ### gradient descent\n",
        "    weights += 0.01*np.dot(X.T,adjustment)     # input_samples.T is transpose so that matrix dimension matches\n",
        "error"
      ],
      "execution_count": null,
      "outputs": [
        {
          "output_type": "execute_result",
          "data": {
            "text/plain": [
              "array([[ 0.39108414],\n",
              "       [-0.18807247],\n",
              "       [-0.18807247],\n",
              "       [ 0.49500017]])"
            ]
          },
          "metadata": {
            "tags": []
          },
          "execution_count": 11
        }
      ]
    },
    {
      "cell_type": "markdown",
      "metadata": {
        "id": "Go0h7ubJN8mL"
      },
      "source": [
        "# **Multi-Layer Perceptron (Using Matrices)**\n",
        "*For n neurons, 1 hidden layer*"
      ]
    },
    {
      "cell_type": "code",
      "metadata": {
        "id": "kSEr8n8_qHgA",
        "cellView": "form"
      },
      "source": [
        "learning_rate = 0.48 #@param {type:\"slider\", min:0, max:1, step:0.01}\n",
        "no_of_hidden_neurons = 5 #@param {type:\"slider\", min:0, max:10, step:1}\n",
        "epochs = 10 #@param {type:\"slider\", min:0, max:500, step:10}"
      ],
      "execution_count": 30,
      "outputs": []
    },
    {
      "cell_type": "code",
      "metadata": {
        "id": "3UgUSWa1NPFU"
      },
      "source": [
        "import numpy as np\n",
        "import seaborn as sns"
      ],
      "execution_count": 31,
      "outputs": []
    },
    {
      "cell_type": "code",
      "metadata": {
        "id": "NdlAu2WONovU"
      },
      "source": [
        "\n",
        "#activation function\n",
        "def sigmoid(x):\n",
        "    return 1/(1+np.exp(-x))"
      ],
      "execution_count": 32,
      "outputs": []
    },
    {
      "cell_type": "code",
      "metadata": {
        "id": "VoN1B7jLNve7"
      },
      "source": [
        "def gradient(x):\n",
        "  return x * (1-x)"
      ],
      "execution_count": 33,
      "outputs": []
    },
    {
      "cell_type": "code",
      "metadata": {
        "id": "T42DgDDIn97e"
      },
      "source": [
        "def network(input_layer, output_layer, weights1, weights2, learning_rate):\n",
        "   \n",
        "   X_input_hidden= np.dot(input_layer, weights1)\n",
        "   predicted_output_hidden= sigmoid(X_input_hidden)\n",
        "   \n",
        "   X_input_output= np.dot(predicted_output_hidden, weights2)\n",
        "   predicted_output= sigmoid(X_input_output)\n",
        "     \n",
        "   error_output= predicted_output - output_layer               ### error at the output layer\n",
        "   error_hidden= np.dot(error_output,weights2.T)                ### error at the hidden layer\n",
        "   \n",
        "   adjustment = error_output * gradient(predicted_output)   ### gradient descent for hidden-output layer\n",
        "   weights2 -= learning_rate*np.dot(predicted_output_hidden.T,adjustment)          ### weight updation of hidden-output layer.\n",
        "  \n",
        "   adjustment = error_hidden * gradient(predicted_output_hidden)   ### gradient descent between input-hidden layer\n",
        "   weights1 -= learning_rate*np.dot(input_layer.T,adjustment)           ### weight updation between input-hidden layer.\n",
        "   \n",
        "   return (weights1, weights2, error_output)\n",
        "     "
      ],
      "execution_count": 34,
      "outputs": []
    },
    {
      "cell_type": "code",
      "metadata": {
        "id": "ynwAbsAAfRRm"
      },
      "source": [
        "def training_network(epochs, inputs, outputs, no_of_hidden_neurons, learning_rate):\n",
        "\n",
        "  h =no_of_hidden_neurons\n",
        "\n",
        "  weights1=np.random.random(size=(inputs.shape[1], h))\n",
        "  weights2= np.random.random(size=(h, outputs.shape[1]))\n",
        "  for i in range(epochs):\n",
        "    for j in range(len(inputs)):\n",
        "      weights1, weights2, error_output = network(np.array([inputs[j]]), np.array([outputs[j]]), weights1, weights2,learning_rate)\n",
        "    print(\"For epoch %d error: %.3f \" %(i, error_output.mean()))"
      ],
      "execution_count": 35,
      "outputs": []
    },
    {
      "cell_type": "code",
      "metadata": {
        "id": "2FlqN59WqNaq"
      },
      "source": [
        "\n",
        "dataset = np.array([[2.7810836,2.550537003],\n",
        "\t[1.465489372,2.362125076],\n",
        "\t[3.396561688,4.400293529],\n",
        "\t[1.38807019,1.850220317],\n",
        "\t[3.06407232,3.005305973],\n",
        "\t[7.627531214,2.759262235],\n",
        "\t[5.332441248,2.088626775],\n",
        "\t[6.922596716,1.77106367],\n",
        "\t[8.675418651,-0.242068655],\n",
        "\t[7.673756466,3.508563011]])\n",
        "\n",
        "Y= np.array([[1,0],\n",
        "             [0,1],\n",
        "             [1,1],\n",
        "             [0,1],\n",
        "             [1,0],\n",
        "             [1,1],\n",
        "             [0,1],\n",
        "             [0,0],\n",
        "             [1,1],\n",
        "             [0,1]])\n"
      ],
      "execution_count": 36,
      "outputs": []
    },
    {
      "cell_type": "code",
      "metadata": {
        "id": "_AflcpmRvIBd",
        "colab": {
          "base_uri": "https://localhost:8080/"
        },
        "outputId": "1f8e0e55-010f-4cb7-b6ac-c3f18384f1d9"
      },
      "source": [
        "training_network(epochs, dataset, Y, no_of_hidden_neurons, learning_rate)"
      ],
      "execution_count": 37,
      "outputs": [
        {
          "output_type": "stream",
          "text": [
            "For epoch 0 error: 0.313 \n",
            "For epoch 1 error: 0.159 \n",
            "For epoch 2 error: 0.135 \n",
            "For epoch 3 error: 0.123 \n",
            "For epoch 4 error: 0.118 \n",
            "For epoch 5 error: 0.116 \n",
            "For epoch 6 error: 0.115 \n",
            "For epoch 7 error: 0.114 \n",
            "For epoch 8 error: 0.114 \n",
            "For epoch 9 error: 0.115 \n"
          ],
          "name": "stdout"
        }
      ]
    },
    {
      "cell_type": "markdown",
      "metadata": {
        "id": "nTbaSJku3jUh"
      },
      "source": [
        "The error has definitely decreased."
      ]
    },
    {
      "cell_type": "code",
      "metadata": {
        "colab": {
          "base_uri": "https://localhost:8080/"
        },
        "id": "_sIm79DBuWXS",
        "outputId": "50916c2f-a281-4984-ca92-dd2248391c2d"
      },
      "source": [
        "np.array([dataset[0]]).shape"
      ],
      "execution_count": 38,
      "outputs": [
        {
          "output_type": "execute_result",
          "data": {
            "text/plain": [
              "(1, 2)"
            ]
          },
          "metadata": {
            "tags": []
          },
          "execution_count": 38
        }
      ]
    },
    {
      "cell_type": "code",
      "metadata": {
        "colab": {
          "base_uri": "https://localhost:8080/"
        },
        "id": "utflF78WvXVg",
        "outputId": "1cf57ccb-8a02-49f5-e74b-cbe14263bd93"
      },
      "source": [
        "Y.shape"
      ],
      "execution_count": 39,
      "outputs": [
        {
          "output_type": "execute_result",
          "data": {
            "text/plain": [
              "(10, 2)"
            ]
          },
          "metadata": {
            "tags": []
          },
          "execution_count": 39
        }
      ]
    },
    {
      "cell_type": "markdown",
      "metadata": {
        "id": "qHJtotXZ6r4L"
      },
      "source": [
        "# **Multi-Layer Perceptron (Using Matrices)**\n",
        "\n",
        "*For n neurons, m hidden layers*"
      ]
    },
    {
      "cell_type": "code",
      "metadata": {
        "id": "ZD1_WcNNUI3r"
      },
      "source": [
        "learning_rate = 0.22 #@param {type:\"slider\", min:0, max:1, step:0.01}\n",
        "epochs = 90 #@param {type:\"slider\", min:0, max:500, step:10}"
      ],
      "execution_count": 87,
      "outputs": []
    },
    {
      "cell_type": "code",
      "metadata": {
        "id": "NtOr5Q9FHvYR"
      },
      "source": [
        "!jupyter nbconvert --to markdown Neural_nets_From_Scratch.ipynb"
      ],
      "execution_count": null,
      "outputs": []
    },
    {
      "cell_type": "code",
      "metadata": {
        "id": "BuPKqPTd6-87"
      },
      "source": [
        "import numpy as np\n",
        "import seaborn as sns"
      ],
      "execution_count": 42,
      "outputs": []
    },
    {
      "cell_type": "code",
      "metadata": {
        "id": "UgEIUIMw6_ur"
      },
      "source": [
        "#activation function\n",
        "def sigmoid(x):\n",
        "    return 1/(1+np.exp(-x))"
      ],
      "execution_count": 43,
      "outputs": []
    },
    {
      "cell_type": "code",
      "metadata": {
        "id": "seWc_yBR7GB0"
      },
      "source": [
        "def gradient(x):\n",
        "  return x * (1-x)"
      ],
      "execution_count": 44,
      "outputs": []
    },
    {
      "cell_type": "code",
      "metadata": {
        "id": "vnhLbBWQyNQY"
      },
      "source": [
        "def network(input_layer, output_layer, weights, learning_rate):\n",
        "\n",
        "   predicted=[]\n",
        "   input=input_layer\n",
        "   for i in weights:\n",
        "     X_input_hidden= np.dot(input, i)\n",
        "     predicted_output_hidden= sigmoid(X_input_hidden)\n",
        "     predicted.append(predicted_output_hidden)\n",
        "     input= predicted_output_hidden\n",
        "\n",
        "   error=[]\n",
        "   error_output = predicted[-1]- output_layer\n",
        "   error.append(error_output)\n",
        "   weights.reverse()\n",
        "\n",
        "   for i in range(len(weights)-1):\n",
        "     error_hidden= np.dot(error_output,weights[i].T)\n",
        "     error.insert(0, error_hidden)\n",
        "     error_output= error_hidden\n",
        "  \n",
        "   weights.reverse()\n",
        "   adjustment = error[0] * gradient(predicted[0])   ### gradient descent between input-hidden layer\n",
        "   weights[0] -= learning_rate * np.dot(input_layer.T,adjustment)\n",
        "   for i in range(0,len(weights)-1):\n",
        "     adjustment = error[i+1] * gradient(predicted[i+1])\n",
        "     weights[i+1] -= learning_rate * np.dot(predicted[i].T, adjustment)\n",
        "   \n",
        "   return (weights, predicted[-1]- output_layer)\n",
        "     "
      ],
      "execution_count": 45,
      "outputs": []
    },
    {
      "cell_type": "code",
      "metadata": {
        "id": "SWP33Siz7QYk"
      },
      "source": [
        "def training_network(epochs, inputs, outputs, no_of_hidden_neurons, learning_rate):\n",
        "\n",
        "  h= no_of_hidden_neurons\n",
        "  weights=[]\n",
        "  weights.append(np.random.random(size=(inputs.shape[1],h[0])))\n",
        "  \n",
        "  for i in range(0,len(no_of_hidden_neurons)-1):\n",
        "    weights.append(np.random.random(size=(h[i], h[i+1])))\n",
        "  \n",
        "  weights.append(np.random.random(size=(h[-1], outputs.shape[1])))\n",
        "  \n",
        "  for i in range(epochs):\n",
        "   for j in range(len(inputs)):\n",
        "    weights, error_output = network(np.array([inputs[j]]), np.array([outputs[j]]), weights,learning_rate)\n",
        "   print(\"For epoch %d error: %.3f \" %(i, error_output.mean()))"
      ],
      "execution_count": 46,
      "outputs": []
    },
    {
      "cell_type": "code",
      "metadata": {
        "id": "N6SJNQxy9MUV"
      },
      "source": [
        "\n",
        "dataset = np.array([[2.7810836,2.550537003],\n",
        "\t[1.465489372,2.362125076],\n",
        "\t[3.396561688,4.400293529],\n",
        "\t[1.38807019,1.850220317],\n",
        "\t[3.06407232,3.005305973],\n",
        "\t[7.627531214,2.759262235],\n",
        "\t[5.332441248,2.088626775],\n",
        "\t[6.922596716,1.77106367],\n",
        "\t[8.675418651,-0.242068655],\n",
        "\t[7.673756466,3.508563011]])\n",
        "\n",
        "Y= np.array([[1,0],\n",
        "             [0,1],\n",
        "             [1,1],\n",
        "             [1,0],\n",
        "             [0,0],\n",
        "             [0,1],\n",
        "             [0,1],\n",
        "             [0,1],\n",
        "             [1,1],\n",
        "             [1,0]])"
      ],
      "execution_count": 47,
      "outputs": []
    },
    {
      "cell_type": "code",
      "metadata": {
        "colab": {
          "base_uri": "https://localhost:8080/"
        },
        "id": "4CFx5Uck9RPT",
        "outputId": "59a6fe72-6ef1-4ad0-dd14-37d3d1290b47"
      },
      "source": [
        "training_network(epochs, dataset, Y, (4,4), learning_rate)"
      ],
      "execution_count": 48,
      "outputs": [
        {
          "output_type": "stream",
          "text": [
            "For epoch 0 error: 0.224 \n",
            "For epoch 1 error: 0.158 \n",
            "For epoch 2 error: 0.137 \n",
            "For epoch 3 error: 0.123 \n",
            "For epoch 4 error: 0.112 \n",
            "For epoch 5 error: 0.102 \n",
            "For epoch 6 error: 0.095 \n",
            "For epoch 7 error: 0.089 \n",
            "For epoch 8 error: 0.084 \n",
            "For epoch 9 error: 0.081 \n",
            "For epoch 10 error: 0.078 \n",
            "For epoch 11 error: 0.076 \n",
            "For epoch 12 error: 0.074 \n",
            "For epoch 13 error: 0.073 \n",
            "For epoch 14 error: 0.072 \n",
            "For epoch 15 error: 0.071 \n",
            "For epoch 16 error: 0.070 \n",
            "For epoch 17 error: 0.070 \n",
            "For epoch 18 error: 0.070 \n",
            "For epoch 19 error: 0.069 \n",
            "For epoch 20 error: 0.069 \n",
            "For epoch 21 error: 0.069 \n",
            "For epoch 22 error: 0.069 \n",
            "For epoch 23 error: 0.069 \n",
            "For epoch 24 error: 0.068 \n",
            "For epoch 25 error: 0.068 \n",
            "For epoch 26 error: 0.068 \n",
            "For epoch 27 error: 0.068 \n",
            "For epoch 28 error: 0.068 \n",
            "For epoch 29 error: 0.068 \n",
            "For epoch 30 error: 0.068 \n",
            "For epoch 31 error: 0.068 \n",
            "For epoch 32 error: 0.067 \n",
            "For epoch 33 error: 0.067 \n",
            "For epoch 34 error: 0.067 \n",
            "For epoch 35 error: 0.067 \n",
            "For epoch 36 error: 0.067 \n",
            "For epoch 37 error: 0.066 \n",
            "For epoch 38 error: 0.066 \n",
            "For epoch 39 error: 0.066 \n",
            "For epoch 40 error: 0.065 \n",
            "For epoch 41 error: 0.065 \n",
            "For epoch 42 error: 0.065 \n",
            "For epoch 43 error: 0.064 \n",
            "For epoch 44 error: 0.064 \n",
            "For epoch 45 error: 0.064 \n",
            "For epoch 46 error: 0.063 \n",
            "For epoch 47 error: 0.063 \n",
            "For epoch 48 error: 0.062 \n",
            "For epoch 49 error: 0.062 \n",
            "For epoch 50 error: 0.061 \n",
            "For epoch 51 error: 0.061 \n",
            "For epoch 52 error: 0.060 \n",
            "For epoch 53 error: 0.060 \n",
            "For epoch 54 error: 0.059 \n",
            "For epoch 55 error: 0.059 \n",
            "For epoch 56 error: 0.058 \n",
            "For epoch 57 error: 0.058 \n",
            "For epoch 58 error: 0.057 \n",
            "For epoch 59 error: 0.057 \n",
            "For epoch 60 error: 0.056 \n",
            "For epoch 61 error: 0.056 \n",
            "For epoch 62 error: 0.055 \n",
            "For epoch 63 error: 0.055 \n",
            "For epoch 64 error: 0.054 \n",
            "For epoch 65 error: 0.054 \n",
            "For epoch 66 error: 0.053 \n",
            "For epoch 67 error: 0.052 \n",
            "For epoch 68 error: 0.052 \n",
            "For epoch 69 error: 0.051 \n",
            "For epoch 70 error: 0.051 \n",
            "For epoch 71 error: 0.050 \n",
            "For epoch 72 error: 0.049 \n",
            "For epoch 73 error: 0.049 \n",
            "For epoch 74 error: 0.048 \n",
            "For epoch 75 error: 0.048 \n",
            "For epoch 76 error: 0.047 \n",
            "For epoch 77 error: 0.047 \n",
            "For epoch 78 error: 0.046 \n",
            "For epoch 79 error: 0.045 \n",
            "For epoch 80 error: 0.045 \n",
            "For epoch 81 error: 0.044 \n",
            "For epoch 82 error: 0.044 \n",
            "For epoch 83 error: 0.043 \n",
            "For epoch 84 error: 0.044 \n",
            "For epoch 85 error: 0.039 \n",
            "For epoch 86 error: 0.092 \n",
            "For epoch 87 error: 0.032 \n",
            "For epoch 88 error: 0.059 \n",
            "For epoch 89 error: 0.035 \n"
          ],
          "name": "stdout"
        }
      ]
    },
    {
      "cell_type": "markdown",
      "metadata": {
        "id": "8tAHCH7pVCjH"
      },
      "source": [
        "# **Iris Dataset**"
      ]
    },
    {
      "cell_type": "code",
      "metadata": {
        "cellView": "form",
        "id": "xTPWM_k-EHA9"
      },
      "source": [
        "learning_rate = 0.22 #@param {type:\"slider\", min:0, max:1, step:0.01}\n",
        "epoch = 0.22 #@param {type:\"slider\", min:0, max:500, step:10}\n"
      ],
      "execution_count": null,
      "outputs": []
    },
    {
      "cell_type": "code",
      "metadata": {
        "id": "wcSe--25LZxz",
        "colab": {
          "base_uri": "https://localhost:8080/"
        },
        "outputId": "0a627392-7573-4d82-d76b-039578b1b6b5"
      },
      "source": [
        "from zipfile import ZipFile\n",
        "file_name = \"/content/archive.zip\"\n",
        "with ZipFile(file_name,'r') as zip:\n",
        "  zip.extractall()\n",
        "  print('finish')"
      ],
      "execution_count": 49,
      "outputs": [
        {
          "output_type": "stream",
          "text": [
            "finish\n"
          ],
          "name": "stdout"
        }
      ]
    },
    {
      "cell_type": "code",
      "metadata": {
        "id": "zlmmRp1iTErU"
      },
      "source": [
        "import pandas as pd\n",
        "import numpy as np\n",
        "dataset= pd.read_csv(\"Iris.csv\", index_col=0)"
      ],
      "execution_count": 292,
      "outputs": []
    },
    {
      "cell_type": "code",
      "metadata": {
        "colab": {
          "base_uri": "https://localhost:8080/",
          "height": 234
        },
        "id": "ZvRI-qZXTRzi",
        "outputId": "395e8fea-d38d-4d0e-c964-7d9c0ecc81f0"
      },
      "source": [
        "dataset.head()"
      ],
      "execution_count": 293,
      "outputs": [
        {
          "output_type": "execute_result",
          "data": {
            "text/html": [
              "<div>\n",
              "<style scoped>\n",
              "    .dataframe tbody tr th:only-of-type {\n",
              "        vertical-align: middle;\n",
              "    }\n",
              "\n",
              "    .dataframe tbody tr th {\n",
              "        vertical-align: top;\n",
              "    }\n",
              "\n",
              "    .dataframe thead th {\n",
              "        text-align: right;\n",
              "    }\n",
              "</style>\n",
              "<table border=\"1\" class=\"dataframe\">\n",
              "  <thead>\n",
              "    <tr style=\"text-align: right;\">\n",
              "      <th></th>\n",
              "      <th>SepalLengthCm</th>\n",
              "      <th>SepalWidthCm</th>\n",
              "      <th>PetalLengthCm</th>\n",
              "      <th>PetalWidthCm</th>\n",
              "      <th>Species</th>\n",
              "    </tr>\n",
              "    <tr>\n",
              "      <th>Id</th>\n",
              "      <th></th>\n",
              "      <th></th>\n",
              "      <th></th>\n",
              "      <th></th>\n",
              "      <th></th>\n",
              "    </tr>\n",
              "  </thead>\n",
              "  <tbody>\n",
              "    <tr>\n",
              "      <th>1</th>\n",
              "      <td>5.1</td>\n",
              "      <td>3.5</td>\n",
              "      <td>1.4</td>\n",
              "      <td>0.2</td>\n",
              "      <td>Iris-setosa</td>\n",
              "    </tr>\n",
              "    <tr>\n",
              "      <th>2</th>\n",
              "      <td>4.9</td>\n",
              "      <td>3.0</td>\n",
              "      <td>1.4</td>\n",
              "      <td>0.2</td>\n",
              "      <td>Iris-setosa</td>\n",
              "    </tr>\n",
              "    <tr>\n",
              "      <th>3</th>\n",
              "      <td>4.7</td>\n",
              "      <td>3.2</td>\n",
              "      <td>1.3</td>\n",
              "      <td>0.2</td>\n",
              "      <td>Iris-setosa</td>\n",
              "    </tr>\n",
              "    <tr>\n",
              "      <th>4</th>\n",
              "      <td>4.6</td>\n",
              "      <td>3.1</td>\n",
              "      <td>1.5</td>\n",
              "      <td>0.2</td>\n",
              "      <td>Iris-setosa</td>\n",
              "    </tr>\n",
              "    <tr>\n",
              "      <th>5</th>\n",
              "      <td>5.0</td>\n",
              "      <td>3.6</td>\n",
              "      <td>1.4</td>\n",
              "      <td>0.2</td>\n",
              "      <td>Iris-setosa</td>\n",
              "    </tr>\n",
              "  </tbody>\n",
              "</table>\n",
              "</div>"
            ],
            "text/plain": [
              "    SepalLengthCm  SepalWidthCm  PetalLengthCm  PetalWidthCm      Species\n",
              "Id                                                                       \n",
              "1             5.1           3.5            1.4           0.2  Iris-setosa\n",
              "2             4.9           3.0            1.4           0.2  Iris-setosa\n",
              "3             4.7           3.2            1.3           0.2  Iris-setosa\n",
              "4             4.6           3.1            1.5           0.2  Iris-setosa\n",
              "5             5.0           3.6            1.4           0.2  Iris-setosa"
            ]
          },
          "metadata": {
            "tags": []
          },
          "execution_count": 293
        }
      ]
    },
    {
      "cell_type": "code",
      "metadata": {
        "id": "0rARgufVDasj"
      },
      "source": [
        "# shuffle around\n",
        "dataset= dataset.sample(frac=1)"
      ],
      "execution_count": 294,
      "outputs": []
    },
    {
      "cell_type": "code",
      "metadata": {
        "colab": {
          "base_uri": "https://localhost:8080/"
        },
        "id": "4mJcTUthT4ha",
        "outputId": "f1bd3d40-ec11-41f6-8466-f030f9f5a2d9"
      },
      "source": [
        "dataset[\"Species\"].value_counts()"
      ],
      "execution_count": 295,
      "outputs": [
        {
          "output_type": "execute_result",
          "data": {
            "text/plain": [
              "Iris-virginica     50\n",
              "Iris-versicolor    50\n",
              "Iris-setosa        50\n",
              "Name: Species, dtype: int64"
            ]
          },
          "metadata": {
            "tags": []
          },
          "execution_count": 295
        }
      ]
    },
    {
      "cell_type": "code",
      "metadata": {
        "id": "qUQfeClxa7w2"
      },
      "source": [
        "list_spec=[]\n",
        "\n",
        "for i in dataset[\"Species\"]:\n",
        "  if i==\"Iris-setosa\":\n",
        "    list_spec.append(0)\n",
        "  elif i==\"Iris-versicolor\":\n",
        "    list_spec.append(1)\n",
        "  elif i== \"Iris-virginica\":\n",
        "    list_spec.append(2)"
      ],
      "execution_count": 296,
      "outputs": []
    },
    {
      "cell_type": "code",
      "metadata": {
        "id": "OzyQxoqTaCgq"
      },
      "source": [
        "from numpy import array\n",
        "from numpy import argmax\n",
        "from tensorflow.keras.utils import to_categorical\n",
        "# define example\n",
        "data = list_spec\n",
        "data = array(data)\n",
        "\n",
        "# one hot encode\n",
        "encoded = to_categorical(data)\n",
        "print(encoded)"
      ],
      "execution_count": null,
      "outputs": []
    },
    {
      "cell_type": "code",
      "metadata": {
        "id": "Q4ncKhNQbyrC"
      },
      "source": [
        "data_feature=dataset.drop(\"Species\", axis=1)"
      ],
      "execution_count": 298,
      "outputs": []
    },
    {
      "cell_type": "code",
      "metadata": {
        "id": "5Umpits1nWXm"
      },
      "source": [
        "class neural_network():\n",
        "\n",
        "  def __init__(self):\n",
        "    self.weights=[]\n",
        "  \n",
        "  def network(self, input_layer, output_layer, learning_rate):\n",
        "\n",
        "    predicted=[]\n",
        "    input=input_layer\n",
        "    for i in self.weights:\n",
        "      X_input_hidden= np.dot(input, i)\n",
        "      predicted_output_hidden= sigmoid(X_input_hidden)\n",
        "      predicted.append(predicted_output_hidden)\n",
        "      input= predicted_output_hidden\n",
        "\n",
        "    error=[]\n",
        "    error_output = predicted[-1]- output_layer\n",
        "    error.append(error_output)\n",
        "    self.weights.reverse()\n",
        "    \n",
        "    for i in self.weights:\n",
        "      error_hidden= np.dot(error_output,i.T)\n",
        "      error.insert(0, error_hidden)\n",
        "      error_output= error_hidden\n",
        "\n",
        "    self.weights.reverse()\n",
        "    error = error[1:]\n",
        "    adjustment = error[0] * gradient(predicted[0])   ### gradient descent between input-hidden layer\n",
        "    self.weights[0] -= learning_rate * np.dot(input_layer.T,adjustment)\n",
        "\n",
        "    for i in range(0,len(self.weights)-1):\n",
        "      adjustment = error[i+1] * gradient(predicted[i+1])\n",
        "      self.weights[i+1] -= learning_rate * np.dot(predicted[i].T, adjustment)\n",
        "\n",
        "    return (self.weights, predicted[-1]- output_layer)\n",
        "\n",
        "  \n",
        "  \n",
        "  def training_network(self, epochs, inputs, outputs, no_of_hidden_neurons, learning_rate):\n",
        "    \n",
        "    h= no_of_hidden_neurons\n",
        "    self.weights.append(np.random.random(size=(inputs.shape[1],h[0])))\n",
        "    \n",
        "    for i in range(0,len(no_of_hidden_neurons)-1):\n",
        "      self.weights.append(np.random.random(size=(h[i], h[i+1])))\n",
        "    self.weights.append(np.random.random(size=(h[-1], outputs.shape[1])))\n",
        "\n",
        "    for i in range(epochs):\n",
        "      for j in range(len(inputs)):\n",
        "        self.weights, error_output = self.network(np.array([inputs[j]]), outputs[j], learning_rate)\n",
        "\n",
        "      print(\"For epoch %d error: %.3f \" %(i, error_output.mean()))\n",
        "\n",
        "    \n",
        "  def predict(self, X_test):\n",
        "    results=[]\n",
        "    for j in X_test:\n",
        "      input=j\n",
        "      for i in self.weights:\n",
        "        X_input_hidden= np.dot(input, i)\n",
        "        predicted_output_hidden= sigmoid(X_input_hidden)\n",
        "        input= predicted_output_hidden\n",
        "      results.append(np.argmax(predicted_output_hidden))\n",
        "\n",
        "    return results\n",
        "\n",
        "    \n"
      ],
      "execution_count": 299,
      "outputs": []
    },
    {
      "cell_type": "code",
      "metadata": {
        "colab": {
          "base_uri": "https://localhost:8080/"
        },
        "id": "ytlx94mbb-IY",
        "outputId": "7dfe2be4-3db2-4cdf-a754-cd064028f0ea"
      },
      "source": [
        "print(np.array(y_train[0]))"
      ],
      "execution_count": 300,
      "outputs": [
        {
          "output_type": "stream",
          "text": [
            "[0. 0. 1.]\n"
          ],
          "name": "stdout"
        }
      ]
    },
    {
      "cell_type": "code",
      "metadata": {
        "colab": {
          "base_uri": "https://localhost:8080/"
        },
        "id": "ZakRq3zujGol",
        "outputId": "e307ff2e-7a86-4635-a7fa-204f38f44671"
      },
      "source": [
        "np.array([y_train[0]]).shape"
      ],
      "execution_count": 301,
      "outputs": [
        {
          "output_type": "execute_result",
          "data": {
            "text/plain": [
              "(1, 3)"
            ]
          },
          "metadata": {
            "tags": []
          },
          "execution_count": 301
        }
      ]
    },
    {
      "cell_type": "code",
      "metadata": {
        "id": "aI4dIWrCjvAW"
      },
      "source": [
        "from sklearn.preprocessing import MinMaxScaler\n",
        "\n",
        "scaler = MinMaxScaler()\n",
        "scaled_features = scaler.fit_transform(dataset.drop('Species', axis=1))"
      ],
      "execution_count": 302,
      "outputs": []
    },
    {
      "cell_type": "code",
      "metadata": {
        "id": "kpFxxm69jYbL"
      },
      "source": [
        "from sklearn.model_selection import train_test_split\n",
        "\n",
        "X_train, X_test, y_train, y_test = train_test_split(scaled_features, list_spec,\n",
        "                                                    test_size=0.30)\n",
        "y_train= to_categorical(y_train)"
      ],
      "execution_count": 308,
      "outputs": []
    },
    {
      "cell_type": "code",
      "metadata": {
        "id": "T0TnahrXt-5Y"
      },
      "source": [
        "mlp = neural_network()"
      ],
      "execution_count": 309,
      "outputs": []
    },
    {
      "cell_type": "code",
      "metadata": {
        "colab": {
          "base_uri": "https://localhost:8080/"
        },
        "id": "tcab19kKSXS1",
        "outputId": "04f70709-e1c0-4913-d339-7a65a5543a0e"
      },
      "source": [
        "mlp.training_network(epochs, X_train, y_train, (15,20), learning_rate)"
      ],
      "execution_count": 310,
      "outputs": [
        {
          "output_type": "stream",
          "text": [
            "For epoch 0 error: 0.543 \n",
            "For epoch 1 error: 0.409 \n",
            "For epoch 2 error: 0.216 \n",
            "For epoch 3 error: 0.075 \n",
            "For epoch 4 error: 0.030 \n",
            "For epoch 5 error: 0.017 \n",
            "For epoch 6 error: 0.014 \n",
            "For epoch 7 error: 0.013 \n",
            "For epoch 8 error: 0.014 \n",
            "For epoch 9 error: 0.014 \n",
            "For epoch 10 error: 0.015 \n",
            "For epoch 11 error: 0.016 \n",
            "For epoch 12 error: 0.018 \n",
            "For epoch 13 error: 0.019 \n",
            "For epoch 14 error: 0.021 \n",
            "For epoch 15 error: 0.024 \n",
            "For epoch 16 error: 0.029 \n",
            "For epoch 17 error: 0.036 \n",
            "For epoch 18 error: 0.043 \n",
            "For epoch 19 error: 0.047 \n",
            "For epoch 20 error: 0.048 \n",
            "For epoch 21 error: 0.047 \n",
            "For epoch 22 error: 0.046 \n",
            "For epoch 23 error: 0.045 \n",
            "For epoch 24 error: 0.044 \n",
            "For epoch 25 error: 0.042 \n",
            "For epoch 26 error: 0.041 \n",
            "For epoch 27 error: 0.040 \n",
            "For epoch 28 error: 0.039 \n",
            "For epoch 29 error: 0.038 \n",
            "For epoch 30 error: 0.038 \n",
            "For epoch 31 error: 0.038 \n",
            "For epoch 32 error: 0.038 \n",
            "For epoch 33 error: 0.038 \n",
            "For epoch 34 error: 0.039 \n",
            "For epoch 35 error: 0.040 \n",
            "For epoch 36 error: 0.041 \n",
            "For epoch 37 error: 0.042 \n",
            "For epoch 38 error: 0.044 \n",
            "For epoch 39 error: 0.045 \n",
            "For epoch 40 error: 0.047 \n",
            "For epoch 41 error: 0.048 \n",
            "For epoch 42 error: 0.050 \n",
            "For epoch 43 error: 0.051 \n",
            "For epoch 44 error: 0.053 \n",
            "For epoch 45 error: 0.054 \n",
            "For epoch 46 error: 0.056 \n",
            "For epoch 47 error: 0.058 \n",
            "For epoch 48 error: 0.059 \n",
            "For epoch 49 error: 0.061 \n",
            "For epoch 50 error: 0.062 \n",
            "For epoch 51 error: 0.063 \n",
            "For epoch 52 error: 0.065 \n",
            "For epoch 53 error: 0.066 \n",
            "For epoch 54 error: 0.067 \n",
            "For epoch 55 error: 0.067 \n",
            "For epoch 56 error: 0.068 \n",
            "For epoch 57 error: 0.068 \n",
            "For epoch 58 error: 0.069 \n",
            "For epoch 59 error: 0.069 \n",
            "For epoch 60 error: 0.068 \n",
            "For epoch 61 error: 0.068 \n",
            "For epoch 62 error: 0.067 \n",
            "For epoch 63 error: 0.066 \n",
            "For epoch 64 error: 0.065 \n",
            "For epoch 65 error: 0.064 \n",
            "For epoch 66 error: 0.062 \n",
            "For epoch 67 error: 0.060 \n",
            "For epoch 68 error: 0.059 \n",
            "For epoch 69 error: 0.057 \n",
            "For epoch 70 error: 0.055 \n",
            "For epoch 71 error: 0.053 \n",
            "For epoch 72 error: 0.051 \n",
            "For epoch 73 error: 0.049 \n",
            "For epoch 74 error: 0.047 \n",
            "For epoch 75 error: 0.045 \n",
            "For epoch 76 error: 0.044 \n",
            "For epoch 77 error: 0.042 \n",
            "For epoch 78 error: 0.041 \n",
            "For epoch 79 error: 0.039 \n",
            "For epoch 80 error: 0.038 \n",
            "For epoch 81 error: 0.037 \n",
            "For epoch 82 error: 0.035 \n",
            "For epoch 83 error: 0.034 \n",
            "For epoch 84 error: 0.033 \n",
            "For epoch 85 error: 0.032 \n",
            "For epoch 86 error: 0.031 \n",
            "For epoch 87 error: 0.031 \n",
            "For epoch 88 error: 0.030 \n",
            "For epoch 89 error: 0.029 \n"
          ],
          "name": "stdout"
        }
      ]
    },
    {
      "cell_type": "code",
      "metadata": {
        "id": "95EreSwCkyDa"
      },
      "source": [
        "y_pred = mlp.predict(X_test)"
      ],
      "execution_count": 311,
      "outputs": []
    },
    {
      "cell_type": "code",
      "metadata": {
        "colab": {
          "base_uri": "https://localhost:8080/"
        },
        "id": "ltOJiDmMvojC",
        "outputId": "6f87aed7-57f7-4708-8bfb-01aa0295a759"
      },
      "source": [
        "from sklearn.metrics import accuracy_score\n",
        "accuracy_score(y_test, y_pred)"
      ],
      "execution_count": 312,
      "outputs": [
        {
          "output_type": "execute_result",
          "data": {
            "text/plain": [
              "0.9555555555555556"
            ]
          },
          "metadata": {
            "tags": []
          },
          "execution_count": 312
        }
      ]
    },
    {
      "cell_type": "code",
      "metadata": {
        "id": "2_FnGbKWwV6R"
      },
      "source": [
        ""
      ],
      "execution_count": null,
      "outputs": []
    }
  ]
}
