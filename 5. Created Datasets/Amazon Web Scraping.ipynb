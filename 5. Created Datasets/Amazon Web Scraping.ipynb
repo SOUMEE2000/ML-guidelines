{
 "cells": [
  {
   "cell_type": "code",
   "execution_count": 2,
   "metadata": {},
   "outputs": [],
   "source": [
    "import requests\n",
    "from bs4 import BeautifulSoup as bs"
   ]
  },
  {
   "cell_type": "code",
   "execution_count": 3,
   "metadata": {},
   "outputs": [
    {
     "data": {
      "text/plain": [
       "<Response [200]>"
      ]
     },
     "execution_count": 3,
     "metadata": {},
     "output_type": "execute_result"
    }
   ],
   "source": [
    "url = \"https://www.amazon.in/Test-Exclusive-746/product-reviews/B07DJHXTLJ/ref=cm_cr_dp_d_show_all_btm?ie=UTF8&reviewerType=all_reviews\"\n",
    "page = requests.get(url)\n",
    "page"
   ]
  },
  {
   "cell_type": "code",
   "execution_count": 8,
   "metadata": {},
   "outputs": [
    {
     "data": {
      "text/plain": [
       "[<span class=\"a-profile-name\">Amazon Customer</span>,\n",
       " <span class=\"a-profile-name\">Praggya</span>,\n",
       " <span class=\"a-profile-name\">Praggya</span>,\n",
       " <span class=\"a-profile-name\">Amazon Customer</span>,\n",
       " <span class=\"a-profile-name\">Kshitij Kumar</span>,\n",
       " <span class=\"a-profile-name\">manikanta</span>,\n",
       " <span class=\"a-profile-name\">Rajesh Adhikary</span>,\n",
       " <span class=\"a-profile-name\">Yugal View Extra</span>,\n",
       " <span class=\"a-profile-name\">Vicky Sen</span>,\n",
       " <span class=\"a-profile-name\">Piyush Vaibhav</span>,\n",
       " <span class=\"a-profile-name\">KESH</span>,\n",
       " <span class=\"a-profile-name\">Dheeraj Malhotra</span>]"
      ]
     },
     "execution_count": 8,
     "metadata": {},
     "output_type": "execute_result"
    }
   ],
   "source": [
    "name=soup.select('div span.a-profile-name')\n",
    "name"
   ]
  },
  {
   "cell_type": "code",
   "execution_count": 10,
   "metadata": {},
   "outputs": [
    {
     "data": {
      "text/plain": [
       "[<span class=\"a-profile-name\">Praggya</span>,\n",
       " <span class=\"a-profile-name\">Amazon Customer</span>,\n",
       " <span class=\"a-profile-name\">Kshitij Kumar</span>,\n",
       " <span class=\"a-profile-name\">manikanta</span>,\n",
       " <span class=\"a-profile-name\">Rajesh Adhikary</span>,\n",
       " <span class=\"a-profile-name\">Yugal View Extra</span>,\n",
       " <span class=\"a-profile-name\">Vicky Sen</span>,\n",
       " <span class=\"a-profile-name\">Piyush Vaibhav</span>,\n",
       " <span class=\"a-profile-name\">KESH</span>,\n",
       " <span class=\"a-profile-name\">Dheeraj Malhotra</span>]"
      ]
     },
     "execution_count": 10,
     "metadata": {},
     "output_type": "execute_result"
    }
   ],
   "source": [
    "# First two anmes always repeated\n",
    "\n",
    "data= name[2:]\n",
    "data"
   ]
  },
  {
   "cell_type": "code",
   "execution_count": 11,
   "metadata": {},
   "outputs": [
    {
     "data": {
      "text/plain": [
       "['Praggya',\n",
       " 'Amazon Customer',\n",
       " 'Kshitij Kumar',\n",
       " 'manikanta',\n",
       " 'Rajesh Adhikary',\n",
       " 'Yugal View Extra',\n",
       " 'Vicky Sen',\n",
       " 'Piyush Vaibhav',\n",
       " 'KESH',\n",
       " 'Dheeraj Malhotra']"
      ]
     },
     "execution_count": 11,
     "metadata": {},
     "output_type": "execute_result"
    }
   ],
   "source": [
    "cust_name=[]\n",
    "for i in data:\n",
    "    cust_name.append(i.get_text())\n",
    "\n",
    "cust_name"
   ]
  },
  {
   "cell_type": "code",
   "execution_count": 17,
   "metadata": {},
   "outputs": [
    {
     "data": {
      "text/plain": [
       "[<span class=\"a-icon-alt\">4.5 out of 5 stars</span>,\n",
       " <span class=\"a-icon-alt\">4.0 out of 5 stars</span>,\n",
       " <span class=\"a-icon-alt\">3.0 out of 5 stars</span>,\n",
       " <span class=\"a-icon-alt\">3.0 out of 5 stars</span>,\n",
       " <span class=\"a-icon-alt\">4.0 out of 5 stars</span>,\n",
       " <span class=\"a-icon-alt\">5.0 out of 5 stars</span>,\n",
       " <span class=\"a-icon-alt\">5.0 out of 5 stars</span>,\n",
       " <span class=\"a-icon-alt\">4.0 out of 5 stars</span>,\n",
       " <span class=\"a-icon-alt\">5.0 out of 5 stars</span>,\n",
       " <span class=\"a-icon-alt\">1.0 out of 5 stars</span>,\n",
       " <span class=\"a-icon-alt\">5.0 out of 5 stars</span>,\n",
       " <span class=\"a-icon-alt\">1.0 out of 5 stars</span>,\n",
       " <span class=\"a-icon-alt\">4.0 out of 5 stars</span>]"
      ]
     },
     "execution_count": 17,
     "metadata": {},
     "output_type": "execute_result"
    }
   ],
   "source": [
    "soup.select('div.a-row i.a-icon span.a-icon-alt')"
   ]
  },
  {
   "cell_type": "code",
   "execution_count": 20,
   "metadata": {},
   "outputs": [
    {
     "data": {
      "text/plain": [
       "['3.0 out of 5 stars',\n",
       " '4.0 out of 5 stars',\n",
       " '5.0 out of 5 stars',\n",
       " '5.0 out of 5 stars',\n",
       " '4.0 out of 5 stars',\n",
       " '5.0 out of 5 stars',\n",
       " '1.0 out of 5 stars',\n",
       " '5.0 out of 5 stars',\n",
       " '1.0 out of 5 stars',\n",
       " '4.0 out of 5 stars']"
      ]
     },
     "execution_count": 20,
     "metadata": {},
     "output_type": "execute_result"
    }
   ],
   "source": [
    "#To remove the extra data at the top\n",
    "\n",
    "ratings=soup.select('div.a-row i.a-icon span.a-icon-alt')[3:]\n",
    "ratings\n",
    "data=[]\n",
    "for i in ratings:\n",
    "    data.append(i.get_text())\n",
    "\n",
    "data"
   ]
  },
  {
   "cell_type": "code",
   "execution_count": 38,
   "metadata": {},
   "outputs": [
    {
     "data": {
      "text/plain": [
       "10"
      ]
     },
     "execution_count": 38,
     "metadata": {},
     "output_type": "execute_result"
    }
   ],
   "source": [
    "len(data)"
   ]
  },
  {
   "cell_type": "code",
   "execution_count": 23,
   "metadata": {},
   "outputs": [
    {
     "data": {
      "text/plain": [
       "['Think and evaluate before you go for it',\n",
       " 'Treat to the eye',\n",
       " 'Best experience',\n",
       " 'One Plus 7T - One Word, STUNNING!!',\n",
       " 'Pro Camera, performance, looks. Cons Battery drain and heating up issues',\n",
       " 'Super fast phone with super amazing camera',\n",
       " 'Please improve your build quality other wise india will fire you 😠',\n",
       " 'I think an all rounder!',\n",
       " \"PLEASE SAVE YOUR MONEY AND DON'T BUY THIS PHONE.\",\n",
       " 'No earphone jack']"
      ]
     },
     "execution_count": 23,
     "metadata": {},
     "output_type": "execute_result"
    }
   ],
   "source": [
    "title=soup.select('a.review-title span')\n",
    "rev_title=[]\n",
    "\n",
    "for i in title:\n",
    "    rev_title.append(i.get_text())\n",
    "\n",
    "rev_title"
   ]
  },
  {
   "cell_type": "code",
   "execution_count": 35,
   "metadata": {},
   "outputs": [
    {
     "data": {
      "text/plain": [
       "['Reviewed in India on 5 October 2019',\n",
       " 'Reviewed in India on 6 October 2019',\n",
       " 'Reviewed in India on 6 October 2019',\n",
       " 'Reviewed in India on 5 October 2019',\n",
       " 'Reviewed in India on 3 October 2019',\n",
       " 'Reviewed in India on 2 October 2019',\n",
       " 'Reviewed in India on 2 October 2019',\n",
       " 'Reviewed in India on 9 October 2019',\n",
       " 'Reviewed in India on 3 October 2019',\n",
       " 'Reviewed in India on 5 October 2019',\n",
       " 'Reviewed in India on 10 October 2019',\n",
       " 'Reviewed in India on 2 October 2019']"
      ]
     },
     "execution_count": 35,
     "metadata": {},
     "output_type": "execute_result"
    }
   ],
   "source": [
    "date=soup.select('span.review-date')\n",
    "rev_date=[]\n",
    "\n",
    "for i in date:\n",
    "    rev_date.append(i.get_text())\n",
    "    \n",
    "rev_date"
   ]
  },
  {
   "cell_type": "code",
   "execution_count": 36,
   "metadata": {},
   "outputs": [
    {
     "data": {
      "text/plain": [
       "12"
      ]
     },
     "execution_count": 36,
     "metadata": {},
     "output_type": "execute_result"
    }
   ],
   "source": [
    "len(rev_date)"
   ]
  },
  {
   "cell_type": "code",
   "execution_count": 37,
   "metadata": {},
   "outputs": [
    {
     "data": {
      "text/plain": [
       "10"
      ]
     },
     "execution_count": 37,
     "metadata": {},
     "output_type": "execute_result"
    }
   ],
   "source": [
    "#We have 10 only\n",
    "rev_date=rev_date[2:]\n",
    "len(rev_date)"
   ]
  },
  {
   "cell_type": "code",
   "execution_count": 30,
   "metadata": {},
   "outputs": [
    {
     "data": {
      "text/plain": [
       "[\"After reading a lot of geeky reviews on YouTube and portals, I bought Oneplus7t. Pls, note I have been using OnePlus from last many years now so my expectations were clear. My experience with the device says that most of the reviews or unboxing things are influenced. Pls, note I have bought it with my own money unlike leading reviewers or unboxing video geeks who get it for free. So pls don't go by them blindly. Go for users reviews who bought them with their own money. So I am writing my 5 days experience with the phone.I am not a gamer or a geek. A regular user who wants to do all the office work on the phone, social media, blogging and vlogging, etc.The last OnePlus phone I was using was Oneplus 5 and was quite happy with it until it screen got broken and replacement cost was higher than the selling price of the device itself.The day it arrived from Amazon I opened it with a lot of excitement which continued till I have held it in my hands.Here are the issues:1. Weight: It weighed too much I felt like holding a brick. And it is thick. When I hold it in one hand for a few minutes I get a deep red pit in my hand (due to blood circulation).2. Camera: Then I had to go for a conference there I tried clicking pictures. Picture quality did not come out well. Still, I thought it may be light or background because of my previous experiences I could not believe it to be not good. So I continued clicking pictures which really missed detailing. As you zoom in it will make it blurred. I have clicked a magazine cover picture with my Oneplus 5 which had only 16 MP camera but pic quality was natural and good. It clicks blur pics may it has to do with image Stabilization.3. Battery:  Battery is avg. All those time I teased my iPhone or Samsung Series colleagues and friends for their battery life. Welcome to the league. This offers an avg battery life. I never carried a charger with me in previous models if I Start with 90% even after two years. But here I have to carry it even for the average usage. I m wondering what would be this phone battery life in a year or more.4. 90 Hz refresh rate is a gimmick to sell this device. It will give you fluid experience but the soon it consumes battery you will always prefer to keep it to 60hz which is an option given in the display settings. If you always stick to a desk or have a power source around you can keep it to 90hz. Not for people who are on the move most of the time. Don't fall for it.5. Sound: It's average. Phone calls are not crisp and clear. At times the caller's voice gets hazy and husky. Voice is even audible to person the person sitting next to me. Even on lower volumes. Speakers volume is loud but the sound quality is not good.6. No premium-feeling anymore. With multiple variants, it has joined the league of Samsung, Mi, Oppo, Vivo. Now they are launching 7t pro on Oct 10 again it is a disappointment for those who bought 7t on day 1. Maybe their R&D or trials have some problem here that in every two months they are launching a new device with an update to the previous faults. Like OnePlus 7 has voice receiver on one side which is right. So if you take calls or hear the phone from left you won't get a clear voice or volume. So they added receivers on both the side in this device.I am still not getting why I have spent Rs 40,000 on it. No camera quality, no battery life, no sound quality on calls, getting wounds on holding it for long.I have always recommended OnePlus devices to everyone around and had high hopes and trust on the brand that I bought it on the day of the launch but with this experience, I won't recommend OnePlus 7t to my colleagues and friends who are planning to upgrade their devices.\",\n",
       " 'Detailed review --Design - 4/5+Reduced notch+Premium glass back-Camera bumpPerformance - 5/5+Latest and greatest hardware+Smart optimisationsOS - 4.5/5+Smooth Android experience - Oxygen OSDisplay - 4.5/5+Butter smooth 90 Hz Amoled display - treat to the eyeBattery -3.5/5+Fastest charging ever seen-Less capacityCamera -4/5+Overall good output with all 3 cameras+ Amazing macro mode- Misses details and messes up with Colors sometimesAudio - 4/5+Clear and loud - quality output',\n",
       " 'Awesome experience..best in class camera... oxygen os..love',\n",
       " \"I received One Plus 7T 2 days back. I will describe you my experience in these 2 days.Firstly, kudos to Amazon for such a quick delivery and excellent packaging.Coming to the mobile, the first impression is just amazing. Its smooth, fast and you can't come out of it.The amoeld display is stunning and camera is amazing. Battery backup is also too good. And it took me 40 min to charge from 2% to 100%.PROS:CAMERA - 4.8/5BATTERY- 5/5Display - 4.7/5Performance - 4.8/5Speed - 5/5Gaming experience- 4.8/5CONSNO Headset jack.One Plus didn't even provide 3.5mm Type C Converter either which dissapointed me.Camera design could have been made better (But I feel better compared to Apple 11 pro)Overall: 4.7/5  One Plus proves again why its the BEST MOBILE right now. Go for it.\",\n",
       " 'This phone has great performance, good camera and ambiance. Charging is fast as per the Oneplus standards set in earlier phones. What is concerning me is the heating issue which crops up off and on. The Battery drains quickly so we have to keep it at 60Hz to longer life. Is there anyone else feeling the heating issues?',\n",
       " '8 Gb Ram128 Gb storage.This is super amazing phone.It is super fast Like bullet Train.Obviously it will never hang.Camera quality is better than OnePlus 7  Because it has triple camera 😍 .Design of phone is also amazing.Turbo charging with 3800 mAH battery is too good.',\n",
       " 'My first one+7t & its make me so sad. I received the ph with manufacturing defect in display. Gum came out from the edges of display. How can a consumer aspects from a reputed brand after he paying 40000/- 🤔😭😟🥺😓',\n",
       " \"I am among the first to buy this phone with prime membership. Posting this review after a week of using the phone. I can't compare it with other flagships as this is my first one in this range. I loved the 90Hz display and the fingerprint reader is also quite good. There is no lagging issue till now. The battery backup is good but not excellent with such a higher frame rate but man the charging speed is much more than wonderful. I was totally amazed at first. Camera quality is good but the colour sensing needs some improvements. It's a bit warm and not natural as you can see in the photos provided,one without adjustment and the other one with warmth reduced a bit. Speakers are loud and produce decent sound. Haven't checked the selfie camera and the video recording till now.\",\n",
       " \"THIS IS ONE OF THE WORST PHONE I HAVE EVER PURCHASED. PLEASE DONT BUY THIS PHONE AND PUT YOUR HARD EARNED MONEY ON STAKE. THERE ARE SO MANY CONS IN THIS PHONE. EARLIER I HAVE USED ONE PLUS 5T PHONE SO I KNEW WHAT TO EXPECT FROM THIS PHONE BUT THIS TIME I AM SO MUCH DISAPPOINTED.HERE ARE MY CONCERNS1. SCREEN RESOLUTION AND QUALITY OF THE SCREEN IS SO POOR. THERE IS GRAINS AND COLOR BANDING ISSUE IN SCREEN. IMAGES LOOKS GRAINY AND UNSHARP IN COMPARISION TO ONE PLUS 5T OR 6T. PHONE RATIO IS 20:9 SO INSTAGRAM IMAGES WILL BE IN SHOWN IN PORTRAIT MODE INSTEAD OF LANDSCAPE MODE. IMAGES ON THE SCREEN IS SO BLURRRY2. DESIGN OF THE PHONE IS MESS. SO MUCH CAMERA BULK. EVEN THE PROVIDED CASE CANNOT PROTECT IT FROM SCRATCHES. PHONE IS VERY FAT AND HAEVY. LENGTH IS ALSO TOO MUCH BECAUSE OF THE RATIO. ALSO THERE IS NO PREMIUM FEELING AFTER HOLDING THIS PHONE AS WAS WITH THE ONE PLUS 5T.3. 3.5MM JACK IS BIG OMMISSION SINCE ONE PLUS 6 PHONE. THERE IS NO BENEFIT OF REMOVING IT. THERE IS NO BIGGER BATTERY. ALSO YOU HAVE TO BUY A SEPERATE ADAPTER OR NEW BLUTOOTH EARPHONES AND BLUTOOTH EARPHONES QUALITY CAN NEVER BE AS GOOD AS WIRED EARPHONES.4. CAMERA QUALITY IS AVERAGE. NO INCREASE IN PICTURE QUALITY. 3 CAMERAS ARE ONLY FOR NAME SAKE.I WAS VERY HAPPY ONE PLUS CUSTOMER, BUT NOW I WON'T RECOMMEND THIS PHONE TO ANYONE. PLEASE DONT WASTE YOUR MONEY.\",\n",
       " 'No earphone jack']"
      ]
     },
     "execution_count": 30,
     "metadata": {},
     "output_type": "execute_result"
    }
   ],
   "source": [
    "content=soup.select('span.review-text-content span')\n",
    "rev_content=[]\n",
    "\n",
    "for i in content:\n",
    "    rev_content.append(i.get_text())\n",
    "\n",
    "rev_content"
   ]
  },
  {
   "cell_type": "code",
   "execution_count": 31,
   "metadata": {},
   "outputs": [
    {
     "data": {
      "text/plain": [
       "10"
      ]
     },
     "execution_count": 31,
     "metadata": {},
     "output_type": "execute_result"
    }
   ],
   "source": [
    "len(rev_content)"
   ]
  },
  {
   "cell_type": "markdown",
   "metadata": {},
   "source": [
    "## Converting into Dataframe"
   ]
  },
  {
   "cell_type": "code",
   "execution_count": 39,
   "metadata": {},
   "outputs": [],
   "source": [
    "import pandas as pd"
   ]
  },
  {
   "cell_type": "code",
   "execution_count": 40,
   "metadata": {},
   "outputs": [],
   "source": [
    "df= pd.DataFrame()\n",
    "\n",
    "df[\"Date\"]= rev_date\n",
    "df[\"Customer\"]=cust_name\n",
    "df[\"Title\"]=rev_title\n",
    "df[\"Review\"]=rev_content\n",
    "df[\"Ratings\"]=data"
   ]
  },
  {
   "cell_type": "code",
   "execution_count": 41,
   "metadata": {},
   "outputs": [],
   "source": [
    "df.to_csv(\"Reviews.csv\")"
   ]
  },
  {
   "cell_type": "code",
   "execution_count": 42,
   "metadata": {},
   "outputs": [
    {
     "data": {
      "text/html": [
       "<div>\n",
       "<style scoped>\n",
       "    .dataframe tbody tr th:only-of-type {\n",
       "        vertical-align: middle;\n",
       "    }\n",
       "\n",
       "    .dataframe tbody tr th {\n",
       "        vertical-align: top;\n",
       "    }\n",
       "\n",
       "    .dataframe thead th {\n",
       "        text-align: right;\n",
       "    }\n",
       "</style>\n",
       "<table border=\"1\" class=\"dataframe\">\n",
       "  <thead>\n",
       "    <tr style=\"text-align: right;\">\n",
       "      <th></th>\n",
       "      <th>Date</th>\n",
       "      <th>Customer</th>\n",
       "      <th>Title</th>\n",
       "      <th>Review</th>\n",
       "      <th>Ratings</th>\n",
       "    </tr>\n",
       "  </thead>\n",
       "  <tbody>\n",
       "    <tr>\n",
       "      <th>0</th>\n",
       "      <td>Reviewed in India on 6 October 2019</td>\n",
       "      <td>Praggya</td>\n",
       "      <td>Think and evaluate before you go for it</td>\n",
       "      <td>After reading a lot of geeky reviews on YouTub...</td>\n",
       "      <td>3.0 out of 5 stars</td>\n",
       "    </tr>\n",
       "    <tr>\n",
       "      <th>1</th>\n",
       "      <td>Reviewed in India on 5 October 2019</td>\n",
       "      <td>Amazon Customer</td>\n",
       "      <td>Treat to the eye</td>\n",
       "      <td>Detailed review --Design - 4/5+Reduced notch+P...</td>\n",
       "      <td>4.0 out of 5 stars</td>\n",
       "    </tr>\n",
       "    <tr>\n",
       "      <th>2</th>\n",
       "      <td>Reviewed in India on 3 October 2019</td>\n",
       "      <td>Kshitij Kumar</td>\n",
       "      <td>Best experience</td>\n",
       "      <td>Awesome experience..best in class camera... ox...</td>\n",
       "      <td>5.0 out of 5 stars</td>\n",
       "    </tr>\n",
       "    <tr>\n",
       "      <th>3</th>\n",
       "      <td>Reviewed in India on 2 October 2019</td>\n",
       "      <td>manikanta</td>\n",
       "      <td>One Plus 7T - One Word, STUNNING!!</td>\n",
       "      <td>I received One Plus 7T 2 days back. I will des...</td>\n",
       "      <td>5.0 out of 5 stars</td>\n",
       "    </tr>\n",
       "    <tr>\n",
       "      <th>4</th>\n",
       "      <td>Reviewed in India on 2 October 2019</td>\n",
       "      <td>Rajesh Adhikary</td>\n",
       "      <td>Pro Camera, performance, looks. Cons Battery d...</td>\n",
       "      <td>This phone has great performance, good camera ...</td>\n",
       "      <td>4.0 out of 5 stars</td>\n",
       "    </tr>\n",
       "  </tbody>\n",
       "</table>\n",
       "</div>"
      ],
      "text/plain": [
       "                                  Date         Customer  \\\n",
       "0  Reviewed in India on 6 October 2019          Praggya   \n",
       "1  Reviewed in India on 5 October 2019  Amazon Customer   \n",
       "2  Reviewed in India on 3 October 2019    Kshitij Kumar   \n",
       "3  Reviewed in India on 2 October 2019        manikanta   \n",
       "4  Reviewed in India on 2 October 2019  Rajesh Adhikary   \n",
       "\n",
       "                                               Title  \\\n",
       "0            Think and evaluate before you go for it   \n",
       "1                                   Treat to the eye   \n",
       "2                                    Best experience   \n",
       "3                 One Plus 7T - One Word, STUNNING!!   \n",
       "4  Pro Camera, performance, looks. Cons Battery d...   \n",
       "\n",
       "                                              Review             Ratings  \n",
       "0  After reading a lot of geeky reviews on YouTub...  3.0 out of 5 stars  \n",
       "1  Detailed review --Design - 4/5+Reduced notch+P...  4.0 out of 5 stars  \n",
       "2  Awesome experience..best in class camera... ox...  5.0 out of 5 stars  \n",
       "3  I received One Plus 7T 2 days back. I will des...  5.0 out of 5 stars  \n",
       "4  This phone has great performance, good camera ...  4.0 out of 5 stars  "
      ]
     },
     "execution_count": 42,
     "metadata": {},
     "output_type": "execute_result"
    }
   ],
   "source": [
    "df.head()"
   ]
  },
  {
   "cell_type": "code",
   "execution_count": null,
   "metadata": {},
   "outputs": [],
   "source": []
  }
 ],
 "metadata": {
  "kernelspec": {
   "display_name": "Python 3",
   "language": "python",
   "name": "python3"
  },
  "language_info": {
   "codemirror_mode": {
    "name": "ipython",
    "version": 3
   },
   "file_extension": ".py",
   "mimetype": "text/x-python",
   "name": "python",
   "nbconvert_exporter": "python",
   "pygments_lexer": "ipython3",
   "version": "3.7.4"
  }
 },
 "nbformat": 4,
 "nbformat_minor": 4
}
