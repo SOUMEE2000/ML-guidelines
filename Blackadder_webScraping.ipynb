{
  "nbformat": 4,
  "nbformat_minor": 0,
  "metadata": {
    "colab": {
      "name": "Blackadder_webScraping.ipynb",
      "provenance": [],
      "toc_visible": true,
      "authorship_tag": "ABX9TyOYtTdwVlJukf7n2ZyqpXZz",
      "include_colab_link": true
    },
    "kernelspec": {
      "name": "python3",
      "display_name": "Python 3"
    },
    "language_info": {
      "name": "python"
    }
  },
  "cells": [
    {
      "cell_type": "markdown",
      "metadata": {
        "id": "view-in-github",
        "colab_type": "text"
      },
      "source": [
        "<a href=\"https://colab.research.google.com/github/SOUMEE2000/Natural-Language-Processing/blob/main/Blackadder_webScraping.ipynb\" target=\"_parent\"><img src=\"https://colab.research.google.com/assets/colab-badge.svg\" alt=\"Open In Colab\"/></a>"
      ]
    },
    {
      "cell_type": "code",
      "metadata": {
        "id": "t35eo_u3jx_l"
      },
      "source": [
        "import requests\n",
        "from bs4 import BeautifulSoup"
      ],
      "execution_count": null,
      "outputs": []
    },
    {
      "cell_type": "markdown",
      "metadata": {
        "id": "223P83IsyNxJ"
      },
      "source": [
        "# **Episode 1 Season 4**"
      ]
    },
    {
      "cell_type": "code",
      "metadata": {
        "id": "syFfYRG5kjCq"
      },
      "source": [
        "url=\"https://blackadderquotes.com/blackadder-series-4-episode-1-captain-cook-full-script\""
      ],
      "execution_count": null,
      "outputs": []
    },
    {
      "cell_type": "code",
      "metadata": {
        "id": "tskF7qzIkviP",
        "colab": {
          "base_uri": "https://localhost:8080/"
        },
        "outputId": "0146ba08-243c-4eb7-b932-ff5ca477f60a"
      },
      "source": [
        "page= requests.get(url)\n",
        "page "
      ],
      "execution_count": null,
      "outputs": [
        {
          "output_type": "execute_result",
          "data": {
            "text/plain": [
              "<Response [200]>"
            ]
          },
          "metadata": {
            "tags": []
          },
          "execution_count": 3
        }
      ]
    },
    {
      "cell_type": "code",
      "metadata": {
        "id": "CHGXNmFJmIPx"
      },
      "source": [
        "soup= BeautifulSoup(page.content, 'html.parser')"
      ],
      "execution_count": null,
      "outputs": []
    },
    {
      "cell_type": "code",
      "metadata": {
        "id": "5fwlBXCumMjt"
      },
      "source": [
        "script=soup.select('div.entry-content p')"
      ],
      "execution_count": null,
      "outputs": []
    },
    {
      "cell_type": "code",
      "metadata": {
        "id": "ai4IQJjznJMe"
      },
      "source": [
        "# the output was not included due to it being very long\n",
        "script\n"
      ],
      "execution_count": null,
      "outputs": []
    },
    {
      "cell_type": "code",
      "metadata": {
        "id": "micFQ-1mp8fN"
      },
      "source": [
        "# the ouput was not included as it is pretty long\n",
        "dialogues=[]\n",
        "for i in script:\n",
        "    dialogues.append(i.get_text())\n",
        "    \n",
        "dialogues"
      ],
      "execution_count": null,
      "outputs": []
    },
    {
      "cell_type": "code",
      "metadata": {
        "id": "6EivG8R6qhPp"
      },
      "source": [
        "file1 = open(\"Season 4.txt\",\"a+\")\n",
        "for dialogue in dialogues:\n",
        "  dialogue=dialogue.rstrip(\"\\n\")\n",
        "  file1.write(dialogue)\n",
        "  file1.write(\"\\n\")\n",
        "file1.close()\n",
        "  "
      ],
      "execution_count": null,
      "outputs": []
    },
    {
      "cell_type": "markdown",
      "metadata": {
        "id": "1sTR5N5zy_Sh"
      },
      "source": [
        "# **Putting the above code into one function**"
      ]
    },
    {
      "cell_type": "code",
      "metadata": {
        "id": "Fi_Zvq2PuEiq"
      },
      "source": [
        "def make_txt(url, file):\n",
        "  page= requests.get(url)\n",
        "  soup= BeautifulSoup(page.content, 'html.parser')\n",
        "  script=soup.select('div.entry-content p')\n",
        "  dialogues=[]\n",
        "  for i in script:\n",
        "    dialogues.append(i.get_text())\n",
        "  file1 = open(file,\"a+\")\n",
        "  for dialogue in dialogues:\n",
        "    dialogue=dialogue.rstrip(\"\\n\")\n",
        "    file1.write(dialogue)\n",
        "    file1.write(\"\\n\")\n",
        "  file1.close()\n"
      ],
      "execution_count": null,
      "outputs": []
    },
    {
      "cell_type": "markdown",
      "metadata": {
        "id": "BCPdIxp20XD3"
      },
      "source": [
        "# **Rest of Season 4**"
      ]
    },
    {
      "cell_type": "code",
      "metadata": {
        "id": "WqoTm3DT0TD7"
      },
      "source": [
        "make_txt(\"https://blackadderquotes.com/blackadder-series-4-episode-2-corporal-punishment-full-script\", \"Season 4.txt\")"
      ],
      "execution_count": null,
      "outputs": []
    },
    {
      "cell_type": "code",
      "metadata": {
        "id": "BjNewPTZ1CGP"
      },
      "source": [
        "make_txt(\"https://blackadderquotes.com/blackadder-series-4-episode-3-major-star-full-script\", \"Season 4.txt\")\n",
        "make_txt(\"https://blackadderquotes.com/blackadder-series-4-episode-4-private-plane-full-script\", \"Season 4.txt\")\n",
        "make_txt(\"https://blackadderquotes.com/blackadder-series-4-episode-5-general-hospital-full-script\", \"Season 4.txt\")\n",
        "make_txt(\"https://blackadderquotes.com/blackadder-series-4-episode-6-goodbyeee-full-script\", \"Season 4.txt\")\n",
        " "
      ],
      "execution_count": null,
      "outputs": []
    },
    {
      "cell_type": "markdown",
      "metadata": {
        "id": "EmQJCs2NU_jy"
      },
      "source": [
        "# **Season 3**"
      ]
    },
    {
      "cell_type": "code",
      "metadata": {
        "id": "gqaJ7ZlfUr7e"
      },
      "source": [
        "make_txt(\"https://blackadderquotes.com/blackadder-series-3-episode-1-dish-and-dishonesty-full-script\", \"Season 3.txt\")\n",
        "make_txt(\"https://blackadderquotes.com/blackadder-series-3-episode-2-ink-and-incapability-full-script\", \"Season 3.txt\")\n",
        "make_txt(\"https://blackadderquotes.com/blackadder-series-3-episode-3-nob-and-nobility-full-script\", \"Season 3.txt\")\n",
        "make_txt(\"https://blackadderquotes.com/blackadder-series-3-episode-4-sense-and-senility-full-script\", \"Season 3.txt\")\n",
        "make_txt(\"https://blackadderquotes.com/blackadder-series-3-episode-5-amy-and-amiability-full-script\", \"Season 3.txt\")\n",
        "make_txt(\"https://blackadderquotes.com/blackadder-series-3-episode-6-duel-and-duality-full-script\", \"Season 3.txt\")"
      ],
      "execution_count": null,
      "outputs": []
    },
    {
      "cell_type": "markdown",
      "metadata": {
        "id": "yy9oJLcCRJOp"
      },
      "source": [
        "# **Season 2**"
      ]
    },
    {
      "cell_type": "code",
      "metadata": {
        "id": "rOft5Xy_eJSW"
      },
      "source": [
        "make_txt(\"https://blackadderquotes.com/blackadder-series-2-episode-1-bells-full-script\", \"Season 2.txt\")\n",
        "make_txt(\"https://blackadderquotes.com/blackadder-series-2-episode-2-head-full-script-2\", \"Season 2.txt\")\n",
        "make_txt(\"https://blackadderquotes.com/blackadder-series-2-episode-3-potato-full-script\", \"Season 2.txt\")\n",
        "make_txt(\"https://blackadderquotes.com/blackadder-series-2-episode-4-money-full-script\", \"Season 2.txt\")\n",
        "make_txt(\"https://blackadderquotes.com/blackadder-series-2-episode-5-beer-full-script\", \"Season 2.txt\")\n",
        "make_txt(\"https://blackadderquotes.com/blackadder-series-2-episode-6-chains-full-script\", \"Season 2.txt\")"
      ],
      "execution_count": null,
      "outputs": []
    },
    {
      "cell_type": "markdown",
      "metadata": {
        "id": "Lh6vhOLDSc0O"
      },
      "source": [
        "# **Season 1**"
      ]
    },
    {
      "cell_type": "code",
      "metadata": {
        "id": "MSn5bK2hSWzk"
      },
      "source": [
        "make_txt(\"https://blackadderquotes.com/blackadder-series-1-episode-1-full-script\", \"Season 1.txt\")\n",
        "make_txt(\"https://blackadderquotes.com/blackadder-series-i-episode-2-born-to-be-king-full-script\", \"Season 1.txt\")\n",
        "make_txt(\"https://blackadderquotes.com/blackadder-i-episode-3-the-archbishop-full-script\", \"Season 1.txt\")\n",
        "make_txt(\"https://blackadderquotes.com/blackadder-i-episode-4-the-queen-of-spains-beard-full-script\", \"Season 1.txt\")\n",
        "make_txt(\"https://blackadderquotes.com/blackadder-i-episode-5-witchsmeller-pursuivant\", \"Season 1.txt\")\n",
        "make_txt(\"https://blackadderquotes.com/blackadder-series-i-episode-6-the-black-seal\", \"Season 1.txt\")"
      ],
      "execution_count": null,
      "outputs": []
    },
    {
      "cell_type": "code",
      "metadata": {
        "id": "7Tw9T6tTT0Nk"
      },
      "source": [
        ""
      ],
      "execution_count": null,
      "outputs": []
    }
  ]
}