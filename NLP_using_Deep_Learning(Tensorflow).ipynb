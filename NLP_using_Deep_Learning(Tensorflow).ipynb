{
  "nbformat": 4,
  "nbformat_minor": 0,
  "metadata": {
    "colab": {
      "name": "NLP using Deep Learning(Tensorflow).ipynb",
      "provenance": [],
      "toc_visible": true,
      "authorship_tag": "ABX9TyOng8rq5zBMsrXRFs4L0ZLD",
      "include_colab_link": true
    },
    "kernelspec": {
      "name": "python3",
      "display_name": "Python 3"
    },
    "accelerator": "GPU"
  },
  "cells": [
    {
      "cell_type": "markdown",
      "metadata": {
        "id": "view-in-github",
        "colab_type": "text"
      },
      "source": [
        "<a href=\"https://colab.research.google.com/github/SOUMEE2000/ML-guidelines/blob/main/NLP_using_Deep_Learning(Tensorflow).ipynb\" target=\"_parent\"><img src=\"https://colab.research.google.com/assets/colab-badge.svg\" alt=\"Open In Colab\"/></a>"
      ]
    },
    {
      "cell_type": "code",
      "metadata": {
        "id": "Pu_jpB6z621w"
      },
      "source": [
        "source=\"https://towardsdatascience.com/natural-language-processing-with-tensorflow-e0a701ef5cef\""
      ],
      "execution_count": null,
      "outputs": []
    },
    {
      "cell_type": "markdown",
      "metadata": {
        "id": "x9NpocPCG4WR"
      },
      "source": [
        "## **Examples on using tensorflow**"
      ]
    },
    {
      "cell_type": "code",
      "metadata": {
        "id": "tDanafvk5VzI"
      },
      "source": [
        "import tensorflow as tf\r\n",
        "from tensorflow.keras.preprocessing.text import Tokenizer"
      ],
      "execution_count": null,
      "outputs": []
    },
    {
      "cell_type": "code",
      "metadata": {
        "id": "pP00DahYuoqH",
        "colab": {
          "base_uri": "https://localhost:8080/"
        },
        "outputId": "c5858247-5eb5-4f91-f715-35f2f9427bc4"
      },
      "source": [
        "sentences=[\"how are you\", \"you are so nice\"]\r\n",
        "tokenizer=Tokenizer(num_words=100)            # hundred most common words are tokenized, words are assigned a code\r\n",
        "tokenizer.fit_on_texts(sentences)\r\n",
        "print(tokenizer.word_index)"
      ],
      "execution_count": null,
      "outputs": [
        {
          "output_type": "stream",
          "text": [
            "{'are': 1, 'you': 2, 'how': 3, 'so': 4, 'nice': 5}\n"
          ],
          "name": "stdout"
        }
      ]
    },
    {
      "cell_type": "code",
      "metadata": {
        "colab": {
          "base_uri": "https://localhost:8080/"
        },
        "id": "ipxKtYdz6RYi",
        "outputId": "dda84ca4-d853-47ba-8e4d-c97fc326c15f"
      },
      "source": [
        "tokenizer.texts_to_sequences(sentences)           # encoding my statements"
      ],
      "execution_count": null,
      "outputs": [
        {
          "output_type": "execute_result",
          "data": {
            "text/plain": [
              "[[3, 1, 2], [2, 1, 4, 5]]"
            ]
          },
          "metadata": {
            "tags": []
          },
          "execution_count": 63
        }
      ]
    },
    {
      "cell_type": "code",
      "metadata": {
        "colab": {
          "base_uri": "https://localhost:8080/"
        },
        "id": "KMlbRWrF9ga5",
        "outputId": "0aa2982d-f819-432a-bbbc-2b8816c3ad89"
      },
      "source": [
        "sentences1=[\"you are not so nice\",\"but who cares\"]        # code for unknown words not present\r\n",
        "tokenizer.texts_to_sequences(sentences1)"
      ],
      "execution_count": null,
      "outputs": [
        {
          "output_type": "execute_result",
          "data": {
            "text/plain": [
              "[[2, 1, 4, 5], []]"
            ]
          },
          "metadata": {
            "tags": []
          },
          "execution_count": 64
        }
      ]
    },
    {
      "cell_type": "code",
      "metadata": {
        "colab": {
          "base_uri": "https://localhost:8080/"
        },
        "id": "l17a3kTP-b5M",
        "outputId": "a4bacbad-0751-4420-d03f-0101927d04c0"
      },
      "source": [
        "tokenizer=Tokenizer(num_words=100, oov_token=\"<oov>\")   # oov encoding\r\n",
        "tokenizer.fit_on_texts(sentences)\r\n",
        "print(tokenizer.word_index)\r\n",
        "print(tokenizer.texts_to_sequences(sentences1) ) "
      ],
      "execution_count": null,
      "outputs": [
        {
          "output_type": "stream",
          "text": [
            "{'<oov>': 1, 'are': 2, 'you': 3, 'how': 4, 'so': 5, 'nice': 6}\n",
            "[[3, 2, 1, 5, 6], [1, 1, 1]]\n"
          ],
          "name": "stdout"
        }
      ]
    },
    {
      "cell_type": "markdown",
      "metadata": {
        "id": "3eDLuw22HI_J"
      },
      "source": [
        "# **IMDB Dataset Sentiment Analysis**"
      ]
    },
    {
      "cell_type": "code",
      "metadata": {
        "colab": {
          "base_uri": "https://localhost:8080/"
        },
        "id": "uLtVpex-IyZ6",
        "outputId": "a75f23c3-6f6b-4ed1-bfa5-807fed0d9c49"
      },
      "source": [
        "!unzip IMDB.zip"
      ],
      "execution_count": null,
      "outputs": [
        {
          "output_type": "stream",
          "text": [
            "Archive:  IMDB.zip\n",
            "  inflating: IMDB Dataset.csv        \n"
          ],
          "name": "stdout"
        }
      ]
    },
    {
      "cell_type": "code",
      "metadata": {
        "id": "LyV-bMOZIy59"
      },
      "source": [
        "import pandas as pd\r\n",
        "df=pd.read_csv(\"IMDB Dataset.csv\")"
      ],
      "execution_count": null,
      "outputs": []
    },
    {
      "cell_type": "code",
      "metadata": {
        "id": "9Qa8OnEXIzKz"
      },
      "source": [
        "feature=[]\r\n",
        "for i in df[\"sentiment\"]:\r\n",
        "  if i==\"positive\":\r\n",
        "    feature.append(1)\r\n",
        "  elif i==\"negative\":\r\n",
        "    feature.append(0)\r\n",
        "df[\"feature\"]=feature"
      ],
      "execution_count": null,
      "outputs": []
    },
    {
      "cell_type": "code",
      "metadata": {
        "colab": {
          "base_uri": "https://localhost:8080/"
        },
        "id": "DamzBnKpKGQ6",
        "outputId": "048bbdd3-c3f8-43ac-dc62-2a46bce0ddc1"
      },
      "source": [
        "df['review_processed'] = df['review'].str.replace(\"[^a-zA-Z#]\", \" \") \r\n",
        "df['review_processed']=[review.lower() for review in df['review_processed']]\r\n",
        "\r\n",
        "# Removing Stopwords Begin\r\n",
        "import nltk\r\n",
        "nltk.download('punkt')\r\n",
        "nltk.download('stopwords')\r\n",
        "from nltk.corpus import stopwords\r\n",
        "from nltk import word_tokenize\r\n",
        "stop_words = stopwords.words('english')\r\n",
        "\r\n",
        "# Making custom list of words to be removed \r\n",
        "add_words = ['movie','film','one','make','even','the']\r\n",
        "stop_words.extend(add_words)\r\n",
        "\r\n",
        "# Function to remove stop words \r\n",
        "def remove_stopwords(rev):\r\n",
        "    review_tokenized = word_tokenize(rev)\r\n",
        "    rev_new = \" \".join([i for i in review_tokenized  if i not in stop_words])\r\n",
        "    return rev_new\r\n",
        "\r\n",
        "# Removing stopwords\r\n",
        "df['review_processed'] = [remove_stopwords(r) for r in df['review_processed']]\r\n",
        "\r\n",
        "# Replacing short words\r\n",
        "df['review_processed'] = df['review_processed'].apply(lambda x: ' '.join([w for w in x.split() if len(w)>2]))"
      ],
      "execution_count": null,
      "outputs": [
        {
          "output_type": "stream",
          "text": [
            "[nltk_data] Downloading package punkt to /root/nltk_data...\n",
            "[nltk_data]   Unzipping tokenizers/punkt.zip.\n",
            "[nltk_data] Downloading package stopwords to /root/nltk_data...\n",
            "[nltk_data]   Unzipping corpora/stopwords.zip.\n"
          ],
          "name": "stdout"
        }
      ]
    },
    {
      "cell_type": "code",
      "metadata": {
        "id": "brA2fk8iAvsj"
      },
      "source": [
        "# Importing module\r\n",
        "from sklearn.feature_extraction.text import TfidfVectorizer\r\n",
        "\r\n",
        "# Creating sparse matrix of top 2500 tokens\r\n",
        "cv = TfidfVectorizer(max_features = 2500)\r\n",
        "X = cv.fit_transform(df.review_processed).toarray()\r\n",
        "y = df.feature.values\r\n",
        "\r\n",
        "# Splitting the dataset into train and test\r\n",
        "from sklearn.model_selection import train_test_split\r\n",
        "X_train, X_test, y_train, y_test = train_test_split(X, y, test_size = 0.20, random_state = 0)"
      ],
      "execution_count": null,
      "outputs": []
    },
    {
      "cell_type": "code",
      "metadata": {
        "colab": {
          "base_uri": "https://localhost:8080/"
        },
        "id": "vl5BCooRNgTg",
        "outputId": "0c1de0df-d154-4b5c-8093-f901a14819aa"
      },
      "source": [
        "y_train.shape"
      ],
      "execution_count": null,
      "outputs": [
        {
          "output_type": "execute_result",
          "data": {
            "text/plain": [
              "(40000,)"
            ]
          },
          "metadata": {
            "tags": []
          },
          "execution_count": 31
        }
      ]
    },
    {
      "cell_type": "code",
      "metadata": {
        "id": "DXLcW-RtlJTc"
      },
      "source": [
        "y_train=y_train.reshape(40000,1)\r\n",
        "X_train=X_train.reshape(40000,2500)"
      ],
      "execution_count": null,
      "outputs": []
    },
    {
      "cell_type": "code",
      "metadata": {
        "colab": {
          "base_uri": "https://localhost:8080/"
        },
        "id": "uBNs7zssN_Vf",
        "outputId": "09f29cd9-1ab2-4853-d178-db401f875662"
      },
      "source": [
        "y_train"
      ],
      "execution_count": null,
      "outputs": [
        {
          "output_type": "execute_result",
          "data": {
            "text/plain": [
              "array([[[0],\n",
              "        [0],\n",
              "        [1],\n",
              "        ...,\n",
              "        [1],\n",
              "        [0],\n",
              "        [1]]])"
            ]
          },
          "metadata": {
            "tags": []
          },
          "execution_count": 38
        }
      ]
    },
    {
      "cell_type": "code",
      "metadata": {
        "id": "IMyEMzN6Gvld"
      },
      "source": [
        "import tensorflow.keras as tf\r\n",
        "model=tf.models.Sequential()\r\n",
        "model.add(tf.layers.Flatten())\r\n",
        "model.add(tf.layers.Dense(784, activation=\"sigmoid\"))    #Hidden                             \r\n",
        "model.add(tf.layers.Dense(2, activation=\"softmax\"))       #Output (2 because we have only 2 classes for classification: positive and negative)\r\n",
        "model.compile(optimizer='adam',loss='sparse_categorical_crossentropy'\r\n",
        "                ,metrics=['accuracy']) #adam name for gradient descent"
      ],
      "execution_count": null,
      "outputs": []
    },
    {
      "cell_type": "code",
      "metadata": {
        "id": "od8eYMhK_SdS"
      },
      "source": [
        "trained_model= model.fit(X_train, y_train, epochs=14, batch_size=35)"
      ],
      "execution_count": null,
      "outputs": []
    },
    {
      "cell_type": "code",
      "metadata": {
        "id": "RMSRbF4XPXFV"
      },
      "source": [
        "ypred = model.predict(X_test)"
      ],
      "execution_count": null,
      "outputs": []
    },
    {
      "cell_type": "code",
      "metadata": {
        "id": "BpHD2xsr_h7F"
      },
      "source": [
        "# what y_pred has is a list of probabilities associated with each class\r\n",
        "# we want the max of those so that we know which class is more probable\r\n",
        "y_pred[0]"
      ],
      "execution_count": null,
      "outputs": []
    },
    {
      "cell_type": "code",
      "metadata": {
        "id": "jbJsCXW2SfqQ"
      },
      "source": [
        "import numpy as np\r\n",
        "y_pred=[]\r\n",
        "for i in ypred:\r\n",
        "  y_pred.append(np.argmax(i))   # to get the maximum of the probabilities"
      ],
      "execution_count": null,
      "outputs": []
    },
    {
      "cell_type": "code",
      "metadata": {
        "colab": {
          "base_uri": "https://localhost:8080/"
        },
        "id": "WJc96IexOEY5",
        "outputId": "12c372b5-a756-46fc-a244-397eeb01e5b0"
      },
      "source": [
        "from sklearn.metrics import confusion_matrix, accuracy_score\r\n",
        "accuracy = accuracy_score(y_test, y_pred)\r\n",
        "cm = confusion_matrix(y_test, y_pred)\r\n",
        "print(cm)\r\n",
        "print(\"The model accuracy is\", accuracy )"
      ],
      "execution_count": null,
      "outputs": [
        {
          "output_type": "stream",
          "text": [
            "[[4539  496]\n",
            " [ 757 4208]]\n",
            "The model accuracy is 0.8747\n"
          ],
          "name": "stdout"
        }
      ]
    },
    {
      "cell_type": "markdown",
      "metadata": {
        "id": "aLvEQ8s2-pXG"
      },
      "source": [
        "# **Some Results**"
      ]
    },
    {
      "cell_type": "code",
      "metadata": {
        "id": "ir37bz8aPGt9"
      },
      "source": [
        "# (flatten, (D,784,relu),(D,2,softmax))    87.84\r\n",
        "# (flatten, (D,10, relu),(D,784,relu),(D,2,softmax))    85.1\r\n",
        "# (flatten, (D,784,relu),(D,2,sigmoid))    87.88%\r\n",
        "# (flatten, (D,784,sigmoid),(D,2,softmax))    87.74%"
      ],
      "execution_count": null,
      "outputs": []
    }
  ]
}