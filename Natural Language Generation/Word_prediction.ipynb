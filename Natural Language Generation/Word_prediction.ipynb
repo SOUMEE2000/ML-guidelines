{
  "nbformat": 4,
  "nbformat_minor": 0,
  "metadata": {
    "colab": {
      "name": "Word_prediction.ipynb",
      "provenance": [],
      "toc_visible": true,
      "authorship_tag": "ABX9TyMLygF3MT2Yh/Z7ZVmj0wB/",
      "include_colab_link": true
    },
    "kernelspec": {
      "name": "python3",
      "display_name": "Python 3"
    },
    "accelerator": "GPU"
  },
  "cells": [
    {
      "cell_type": "markdown",
      "metadata": {
        "id": "view-in-github",
        "colab_type": "text"
      },
      "source": [
        "<a href=\"https://colab.research.google.com/github/SOUMEE2000/Sentiment-Analysis-guidelines-IMDB-Datset-/blob/main/Word_prediction.ipynb\" target=\"_parent\"><img src=\"https://colab.research.google.com/assets/colab-badge.svg\" alt=\"Open In Colab\"/></a>"
      ]
    },
    {
      "cell_type": "markdown",
      "metadata": {
        "id": "7D6kX7wlymPy"
      },
      "source": [
        "# **Techniques to predict the next words or sentences**"
      ]
    },
    {
      "cell_type": "code",
      "metadata": {
        "id": "t1kfxdaryzm6",
        "colab": {
          "base_uri": "https://localhost:8080/"
        },
        "outputId": "ba8e0e39-fcce-4a1c-9665-4181eed6e441"
      },
      "source": [
        "import nltk\n",
        "nltk.download(\"gutenberg\")\n",
        "nltk.download(\"punkt\")\n",
        "nltk.corpus.gutenberg.fileids()"
      ],
      "execution_count": null,
      "outputs": [
        {
          "output_type": "stream",
          "text": [
            "[nltk_data] Downloading package gutenberg to /root/nltk_data...\n",
            "[nltk_data]   Unzipping corpora/gutenberg.zip.\n",
            "[nltk_data] Downloading package punkt to /root/nltk_data...\n",
            "[nltk_data]   Unzipping tokenizers/punkt.zip.\n"
          ],
          "name": "stdout"
        },
        {
          "output_type": "execute_result",
          "data": {
            "text/plain": [
              "['austen-emma.txt',\n",
              " 'austen-persuasion.txt',\n",
              " 'austen-sense.txt',\n",
              " 'bible-kjv.txt',\n",
              " 'blake-poems.txt',\n",
              " 'bryant-stories.txt',\n",
              " 'burgess-busterbrown.txt',\n",
              " 'carroll-alice.txt',\n",
              " 'chesterton-ball.txt',\n",
              " 'chesterton-brown.txt',\n",
              " 'chesterton-thursday.txt',\n",
              " 'edgeworth-parents.txt',\n",
              " 'melville-moby_dick.txt',\n",
              " 'milton-paradise.txt',\n",
              " 'shakespeare-caesar.txt',\n",
              " 'shakespeare-hamlet.txt',\n",
              " 'shakespeare-macbeth.txt',\n",
              " 'whitman-leaves.txt']"
            ]
          },
          "metadata": {
            "tags": []
          },
          "execution_count": 3
        }
      ]
    },
    {
      "cell_type": "markdown",
      "metadata": {
        "id": "FBB2qOA39c6T"
      },
      "source": [
        "### **Preprocessing text**"
      ]
    },
    {
      "cell_type": "code",
      "metadata": {
        "id": "SxNfMelpy_Ef"
      },
      "source": [
        "from nltk import bigrams, word_tokenize\n",
        "import numpy as np\n",
        "import collections\n",
        "from collections import Counter"
      ],
      "execution_count": null,
      "outputs": []
    },
    {
      "cell_type": "code",
      "metadata": {
        "id": "8tmGEn-MzPjB"
      },
      "source": [
        "# importing from nltk in raw form\n",
        "emma=nltk.corpus.gutenberg.raw(\"austen-emma.txt\")\n",
        "\n",
        "# removing punctuation from the text and lowering it\n",
        "def remove_punctuation(text):\n",
        "   punctuation=[',','.','\\n','\\\\',']','[',';',':','\\'s','_','-','?','\\\"',\"(\",')']\n",
        "   for i in punctuation:\n",
        "     text=str(text).replace(str(i),\" \")\n",
        "   return text\n",
        "new_emma= remove_punctuation(emma)\n",
        "new_emma= new_emma.lower()\n",
        "new_emma"
      ],
      "execution_count": null,
      "outputs": []
    },
    {
      "cell_type": "markdown",
      "metadata": {
        "id": "oLxKCd5cyq8F"
      },
      "source": [
        "### **Using Bi-grams**"
      ]
    },
    {
      "cell_type": "code",
      "metadata": {
        "id": "77uXJHls0NFu"
      },
      "source": [
        "#creating bigram of the corpus\n",
        "bigrm = list(nltk.bigrams(word_tokenize(new_emma)))\n",
        "bigrm"
      ],
      "execution_count": null,
      "outputs": []
    },
    {
      "cell_type": "code",
      "metadata": {
        "id": "LBzrwHGB219e"
      },
      "source": [
        "# converting to a probabilistic language model\n",
        "probability_score=[]\n",
        "word=[]\n",
        "\n",
        "def build_bigram_model():\n",
        "    bigram_model = collections.defaultdict(lambda: collections.defaultdict(lambda: 0))\n",
        "    for w1, w2 in bigrm:\n",
        "        bigram_model[w1][w2] += 1\n",
        "    for w1 in bigram_model:\n",
        "            #total count of bigrams starting with w1\n",
        "            bigram_count_4_w1 = float(sum(bigram_model[w1].values()))\n",
        "            #distribute the probability mass for all bigrams starting with w1\n",
        "            for w2 in bigram_model[w1]:\n",
        "                bigram_model[w1][w2] /= bigram_count_4_w1\n",
        "    return bigram_model\n",
        "\n",
        "def predict_next_word(first_word):\n",
        "    #buikd the model\n",
        "    model = build_bigram_model()\n",
        "    #get the next for the bigram starting with 'word'\n",
        "    second_word = model[first_word]\n",
        "    #get the top 10 words whose first word is 'first_word'\n",
        "    top10words = Counter(second_word).most_common(10)\n",
        "\n",
        "    for i in top10words:\n",
        "      probability_score.append(i[1])\n",
        "      word.append(i[0])"
      ],
      "execution_count": null,
      "outputs": []
    },
    {
      "cell_type": "code",
      "metadata": {
        "id": "kpEd_LXY4WMk"
      },
      "source": [
        "predict_next_word('how')"
      ],
      "execution_count": null,
      "outputs": []
    },
    {
      "cell_type": "code",
      "metadata": {
        "colab": {
          "base_uri": "https://localhost:8080/",
          "height": 295
        },
        "id": "36bdTpWx4isx",
        "outputId": "bf1339bb-c7b8-4c8b-8f2a-6f6ebd0d7ac4"
      },
      "source": [
        "import matplotlib.pyplot as plt\n",
        "x_pos = np.arange(len(word))\n",
        "plt.bar(x_pos,probability_score,align='center')\n",
        "plt.xticks(x_pos,word)\n",
        "plt.ylabel('Probability Score')\n",
        "plt.xlabel('Predicted Words')\n",
        "plt.title('Predicted words for ' + 'how')\n",
        "plt.show()"
      ],
      "execution_count": null,
      "outputs": [
        {
          "output_type": "display_data",
          "data": {
            "image/png": "[encoded data removed]",
            "text/plain": [
              "<Figure size 432x288 with 1 Axes>"
            ]
          },
          "metadata": {
            "tags": [],
            "needs_background": "light"
          }
        }
      ]
    },
    {
      "cell_type": "code",
      "metadata": {
        "colab": {
          "base_uri": "https://localhost:8080/"
        },
        "id": "FTYK_NSL7RNs",
        "outputId": "93fa17d8-1f85-41e4-8edc-564597bdd4d3"
      },
      "source": [
        "x_pos"
      ],
      "execution_count": null,
      "outputs": [
        {
          "output_type": "execute_result",
          "data": {
            "text/plain": [
              "array([0, 1, 2, 3, 4, 5, 6, 7, 8, 9])"
            ]
          },
          "metadata": {
            "tags": []
          },
          "execution_count": 24
        }
      ]
    },
    {
      "cell_type": "markdown",
      "metadata": {
        "id": "nmEj4xXZ9_7T"
      },
      "source": [
        "**Quite the same process for trigramns and 4-grams**"
      ]
    },
    {
      "cell_type": "markdown",
      "metadata": {
        "id": "Hf_Rotup-oOP"
      },
      "source": [
        "### **Using trigrams**"
      ]
    },
    {
      "cell_type": "code",
      "metadata": {
        "id": "brwM_uIW7Sc5"
      },
      "source": [
        "#creating bigram of the corpus\n",
        "trigrm = list(nltk.trigrams(word_tokenize(new_emma)))\n",
        "trigrm"
      ],
      "execution_count": null,
      "outputs": []
    },
    {
      "cell_type": "code",
      "metadata": {
        "id": "aJkZMB1EASjU"
      },
      "source": [
        "# converting to a probabilistic language model\n",
        "probability_score=[]\n",
        "word=[]\n",
        "\n",
        "def build_trigram_model():\n",
        "    trigram_model = collections.defaultdict(lambda: collections.defaultdict(lambda: 0))\n",
        "    for w1, w2, w3 in trigrm:\n",
        "        trigram_model[(w1,w2)][w3] += 1\n",
        "    for w1_w2 in trigram_model:\n",
        "            #total count of bigrams starting with w1_w2\n",
        "            trigram_count_4_w1_w2 = float(sum(trigram_model[w1_w2].values()))\n",
        "            #distribute the probability mass for all trigrams starting with w1_w2\n",
        "            for w3 in trigram_model[w1_w2]:\n",
        "                trigram_model[w1_w2][w3] /= trigram_count_4_w1_w2\n",
        "    return trigram_model\n",
        "\n",
        "def predict_next_word(w1, w2):\n",
        "    #buikd the model\n",
        "    model = build_trigram_model()\n",
        "    #get the next for the trigram starting with 'word'\n",
        "    second_word = model[(w1,w2)]\n",
        "    #get the top 10 words whose first word is 'first_word'\n",
        "    top10words = Counter(second_word).most_common(15)\n",
        "\n",
        "    for i in top10words:\n",
        "      probability_score.append(i[1])\n",
        "      word.append(i[0])"
      ],
      "execution_count": null,
      "outputs": []
    },
    {
      "cell_type": "code",
      "metadata": {
        "id": "V1iq9NtHa3zD"
      },
      "source": [
        "predict_next_word('how','far')"
      ],
      "execution_count": null,
      "outputs": []
    },
    {
      "cell_type": "code",
      "metadata": {
        "colab": {
          "base_uri": "https://localhost:8080/",
          "height": 295
        },
        "id": "MAnlSgiJbnPk",
        "outputId": "6cf6d31f-4804-4e4a-f896-42c63f7c2b5c"
      },
      "source": [
        "import matplotlib.pyplot as plt\n",
        "x_pos = np.arange(len(word))\n",
        "plt.bar(x_pos,probability_score,align='center')\n",
        "plt.xticks(x_pos,word)\n",
        "plt.ylabel('Probability Score')\n",
        "plt.xlabel('Predicted Words')\n",
        "plt.title('Predicted words for ')\n",
        "plt.show()"
      ],
      "execution_count": null,
      "outputs": [
        {
          "output_type": "display_data",
          "data": {
            "image/png": "[encoded data removed]",
            "text/plain": [
              "<Figure size 432x288 with 1 Axes>"
            ]
          },
          "metadata": {
            "tags": [],
            "needs_background": "light"
          }
        }
      ]
    },
    {
      "cell_type": "code",
      "metadata": {
        "colab": {
          "base_uri": "https://localhost:8080/"
        },
        "id": "wWU_nP9HcKBv",
        "outputId": "b48c570b-b475-4ad5-adc2-d6a7c1ed200c"
      },
      "source": [
        "word"
      ],
      "execution_count": null,
      "outputs": [
        {
          "output_type": "execute_result",
          "data": {
            "text/plain": [
              "['you', 'they']"
            ]
          },
          "metadata": {
            "tags": []
          },
          "execution_count": 36
        }
      ]
    },
    {
      "cell_type": "markdown",
      "metadata": {
        "id": "mcyCHVTeSXWm"
      },
      "source": [
        "### **Using LSTM**"
      ]
    },
    {
      "cell_type": "code",
      "metadata": {
        "colab": {
          "base_uri": "https://localhost:8080/"
        },
        "id": "xJJm8Gx25BE0",
        "outputId": "a5fcf7da-d18c-4d9e-e878-089b5bae690d"
      },
      "source": [
        "from google.colab import drive\n",
        "drive.mount('/content/gdrive')"
      ],
      "execution_count": null,
      "outputs": [
        {
          "output_type": "stream",
          "text": [
            "Mounted at /content/gdrive\n"
          ],
          "name": "stdout"
        }
      ]
    },
    {
      "cell_type": "code",
      "metadata": {
        "id": "VBPLNBPGc1-c"
      },
      "source": [
        "source=\"https://machinelearningmastery.com/develop-word-based-neural-language-models-python-keras/\""
      ],
      "execution_count": null,
      "outputs": []
    },
    {
      "cell_type": "markdown",
      "metadata": {
        "id": "7i6vzCmH8-mg"
      },
      "source": [
        "##### **One-input, one-output model(needs maintenance**"
      ]
    },
    {
      "cell_type": "code",
      "metadata": {
        "id": "rwNfevjCSvm-"
      },
      "source": [
        "from tensorflow.keras.preprocessing.text import Tokenizer\n",
        "tokenizer=Tokenizer()\n",
        "tokenizer.fit_on_texts([new_emma])\n",
        "encoded = tokenizer.texts_to_sequences([new_emma])[0]"
      ],
      "execution_count": null,
      "outputs": []
    },
    {
      "cell_type": "code",
      "metadata": {
        "id": "Uw0A8gFXTZIG"
      },
      "source": [
        "encoded"
      ],
      "execution_count": null,
      "outputs": []
    },
    {
      "cell_type": "code",
      "metadata": {
        "id": "bn7UsmWzTk5d"
      },
      "source": [
        "tokenizer.word_index"
      ],
      "execution_count": null,
      "outputs": []
    },
    {
      "cell_type": "code",
      "metadata": {
        "colab": {
          "base_uri": "https://localhost:8080/"
        },
        "id": "RF_fx3G-VTOf",
        "outputId": "68a446d6-4a95-420a-8089-be499ab76b95"
      },
      "source": [
        "vocab_size = len(tokenizer.word_index) + 1\n",
        "print('Vocabulary Size: %d' % vocab_size)"
      ],
      "execution_count": null,
      "outputs": [
        {
          "output_type": "stream",
          "text": [
            "Vocabulary Size: 7128\n"
          ],
          "name": "stdout"
        }
      ]
    },
    {
      "cell_type": "code",
      "metadata": {
        "id": "C3CD5ediVk40"
      },
      "source": [
        "sequences = list()\n",
        "for i in range(1, len(encoded)):\n",
        "\tsequence = encoded[i-1:i+1]\n",
        "\tsequences.append(sequence)\n"
      ],
      "execution_count": null,
      "outputs": []
    },
    {
      "cell_type": "code",
      "metadata": {
        "id": "DLwwMLQ9fCf6"
      },
      "source": [
        "# split into X and y elements\n",
        "import numpy as np\n",
        "sequences = np.array(sequences)\n",
        "X, y = sequences[:,0],sequences[:,1]"
      ],
      "execution_count": null,
      "outputs": []
    },
    {
      "cell_type": "code",
      "metadata": {
        "id": "kV6yhOc3fO9W"
      },
      "source": [
        "# Getting one-hot encoded vector\n",
        "from tensorflow.keras.utils import to_categorical\n",
        "y = to_categorical(y, num_classes=vocab_size)"
      ],
      "execution_count": null,
      "outputs": []
    },
    {
      "cell_type": "code",
      "metadata": {
        "colab": {
          "base_uri": "https://localhost:8080/"
        },
        "id": "BtytAFWPhdkv",
        "outputId": "6f981d73-1cd0-4784-c8ed-bbec4566449e"
      },
      "source": [
        "import tensorflow.keras as tf\n",
        "model=tf.models.Sequential()\n",
        "model.add(tf.layers.Embedding(vocab_size, 10, input_length=1))\n",
        "model.add(tf.layers.LSTM(50))\n",
        "model.add(tf.layers.Dense(vocab_size, activation='softmax'))\n",
        "# compile network\n",
        "model.compile(loss='categorical_crossentropy', optimizer='adam', metrics=['accuracy'])\n",
        "print(model.summary())"
      ],
      "execution_count": null,
      "outputs": [
        {
          "output_type": "stream",
          "text": [
            "Model: \"sequential\"\n",
            "_________________________________________________________________\n",
            "Layer (type)                 Output Shape              Param #   \n",
            "=================================================================\n",
            "embedding (Embedding)        (None, 1, 10)             71280     \n",
            "_________________________________________________________________\n",
            "lstm (LSTM)                  (None, 50)                12200     \n",
            "_________________________________________________________________\n",
            "dense (Dense)                (None, 7128)              363528    \n",
            "=================================================================\n",
            "Total params: 447,008\n",
            "Trainable params: 447,008\n",
            "Non-trainable params: 0\n",
            "_________________________________________________________________\n",
            "None\n"
          ],
          "name": "stdout"
        }
      ]
    },
    {
      "cell_type": "code",
      "metadata": {
        "id": "CI0XCH7EiB7_"
      },
      "source": [
        "# fit network\n",
        "model.fit(X, y, epochs=500, verbose=2)"
      ],
      "execution_count": null,
      "outputs": []
    },
    {
      "cell_type": "code",
      "metadata": {
        "id": "CucV88PYkmGa"
      },
      "source": [
        "# getting predictions from the model, predicting next 5 words\n",
        "sent=\"\"\n",
        "in_text = \"You\"\n",
        "for i in range(5):\n",
        "  sent= sent+\" \" + in_text\n",
        "  encoded_text = tokenizer.texts_to_sequences([in_text])[0]\n",
        "  encoded_text = np.array(encoded_text)\n",
        "  yhat = np.argmax(model.predict(encoded_text))\n",
        "  for word, index in tokenizer.word_index.items():\n",
        "    if index == yhat:\n",
        "      in_text=word\n",
        "      break"
      ],
      "execution_count": null,
      "outputs": []
    },
    {
      "cell_type": "code",
      "metadata": {
        "id": "kA9nx8TewS1b"
      },
      "source": [
        "print(sent)\n",
        "# doesn't make any sense whatsoever"
      ],
      "execution_count": null,
      "outputs": []
    },
    {
      "cell_type": "code",
      "metadata": {
        "id": "MyMJNDW4j_Fw"
      },
      "source": [
        "#using model.save_weights() to save the weights of the model in HDF5 format\n",
        "# remove while uploading to github about loading\n",
        "model.save_weights(\"/content/gdrive/My Drive/weights.h5\")"
      ],
      "execution_count": null,
      "outputs": []
    },
    {
      "cell_type": "code",
      "metadata": {
        "id": "RLcY-eAd6mfj"
      },
      "source": [
        "model.load_weights(\"/content/gdrive/My Drive/weights.h5\")"
      ],
      "execution_count": null,
      "outputs": []
    },
    {
      "cell_type": "code",
      "metadata": {
        "id": "bD98YvFimvB4"
      },
      "source": [
        "tokenizer.word_index"
      ],
      "execution_count": null,
      "outputs": []
    },
    {
      "cell_type": "code",
      "metadata": {
        "id": "k_duiJVdrrj9"
      },
      "source": [
        "yhat"
      ],
      "execution_count": null,
      "outputs": []
    },
    {
      "cell_type": "code",
      "metadata": {
        "id": "a1IiKulmscGB"
      },
      "source": [
        "source=\"https://stackoverflow.com/questions/41859997/keras-model-load-weights-for-neural-net/41860156\"\n",
        "# loading models"
      ],
      "execution_count": null,
      "outputs": []
    },
    {
      "cell_type": "markdown",
      "metadata": {
        "id": "pTSMEFtl-Xel"
      },
      "source": [
        "##### **Line-by- line sequence model**"
      ]
    },
    {
      "cell_type": "code",
      "metadata": {
        "id": "x7FUExdUoggf"
      },
      "source": [
        "# Here preprocessing is a bit different because lines have to be separated. We don't remove the '.' to indicate end of line\n",
        "# importing from nltk in raw form\n",
        "emma=nltk.corpus.gutenberg.raw(\"austen-emma.txt\")\n",
        "\n",
        "# removing punctuation from the text and lowering it\n",
        "def remove_punctuation(text):\n",
        "   punctuation=[',','\\n','\\\\',']','[',';',':','\\'s','_','-','?','\\\"',\"(\",')']\n",
        "   for i in punctuation:\n",
        "     text=str(text).replace(str(i),\" \")\n",
        "   return text\n",
        "new_emma= remove_punctuation(emma)\n",
        "new_emma= new_emma.lower()"
      ],
      "execution_count": null,
      "outputs": []
    },
    {
      "cell_type": "code",
      "metadata": {
        "id": "GUEkAgav-3q8"
      },
      "source": [
        "from tensorflow.keras.preprocessing.text import Tokenizer\n",
        "tokenizer=Tokenizer()\n",
        "tokenizer.fit_on_texts([new_emma])\n",
        "# create line-based sequences\n",
        "sequences = []\n",
        "for line in new_emma.split('.'):\n",
        "    encoded = tokenizer.texts_to_sequences([line])[0]\n",
        "    for i in range(1, len(encoded)):\n",
        "      sequence = encoded\n",
        "      sequences.append(sequence)\n"
      ],
      "execution_count": null,
      "outputs": []
    },
    {
      "cell_type": "code",
      "metadata": {
        "colab": {
          "base_uri": "https://localhost:8080/"
        },
        "id": "rxzouQ3Tm2Gc",
        "outputId": "80846cf2-74bc-4c39-ae5d-ac9112013cba"
      },
      "source": [
        "len(sequences)"
      ],
      "execution_count": null,
      "outputs": [
        {
          "output_type": "execute_result",
          "data": {
            "text/plain": [
              "152247"
            ]
          },
          "metadata": {
            "tags": []
          },
          "execution_count": 6
        }
      ]
    },
    {
      "cell_type": "code",
      "metadata": {
        "id": "Dx0uWe7EpqRX"
      },
      "source": [
        "import tensorflow as tf\n",
        "from tensorflow.keras.preprocessing.sequence import pad_sequences\n",
        "# padding input\n",
        "max_length = max([len(seq) for seq in sequences])\n",
        "sequences = pad_sequences(sequences, maxlen=max_length, padding='pre')"
      ],
      "execution_count": null,
      "outputs": []
    },
    {
      "cell_type": "code",
      "metadata": {
        "id": "A44mHzjG4OOQ"
      },
      "source": [
        "#split into output and input sequences\n",
        "import numpy as np\n",
        "from tensorflow.keras.utils import to_categorical\n",
        "sequences = np.array(sequences)\n",
        "X, y = sequences[:,:-1],sequences[:,-1]\n",
        "vocab_size = len(tokenizer.word_index) + 1\n",
        "y = to_categorical(y, num_classes=vocab_size)"
      ],
      "execution_count": null,
      "outputs": []
    },
    {
      "cell_type": "code",
      "metadata": {
        "colab": {
          "base_uri": "https://localhost:8080/"
        },
        "id": "fZmaOwrP5WF2",
        "outputId": "6e286601-71b8-48a7-c699-a29fa3412c9f"
      },
      "source": [
        "import tensorflow.keras as tf\n",
        "model=tf.models.Sequential()\n",
        "model.add(tf.layers.Embedding(vocab_size, 10, input_length=1))\n",
        "model.add(tf.layers.LSTM(50))\n",
        "model.add(tf.layers.Dense(vocab_size, activation='softmax'))\n",
        "# compile network\n",
        "model.compile(loss='categorical_crossentropy', optimizer='adam', metrics=['accuracy'])\n",
        "print(model.summary())"
      ],
      "execution_count": null,
      "outputs": [
        {
          "output_type": "stream",
          "text": [
            "Model: \"sequential\"\n",
            "_________________________________________________________________\n",
            "Layer (type)                 Output Shape              Param #   \n",
            "=================================================================\n",
            "embedding (Embedding)        (None, 1, 10)             71280     \n",
            "_________________________________________________________________\n",
            "lstm (LSTM)                  (None, 50)                12200     \n",
            "_________________________________________________________________\n",
            "dense (Dense)                (None, 7128)              363528    \n",
            "=================================================================\n",
            "Total params: 447,008\n",
            "Trainable params: 447,008\n",
            "Non-trainable params: 0\n",
            "_________________________________________________________________\n",
            "None\n"
          ],
          "name": "stdout"
        }
      ]
    },
    {
      "cell_type": "code",
      "metadata": {
        "id": "xMEKahuw64jm"
      },
      "source": [
        "# fit network\n",
        "model.fit(X, y, epochs=500, verbose=2)"
      ],
      "execution_count": null,
      "outputs": []
    },
    {
      "cell_type": "code",
      "metadata": {
        "id": "Y_1Qkf829a6J",
        "colab": {
          "base_uri": "https://localhost:8080/"
        },
        "outputId": "52fb06c8-a31d-4051-bc15-1369214a389e"
      },
      "source": [
        "from google.colab import drive\n",
        "drive.mount('/content/gdrive')\n",
        "model.save_weights(\"/content/gdrive/My Drive/weights_line.h5\")"
      ],
      "execution_count": null,
      "outputs": [
        {
          "output_type": "stream",
          "text": [
            "Mounted at /content/gdrive\n"
          ],
          "name": "stdout"
        }
      ]
    },
    {
      "cell_type": "code",
      "metadata": {
        "colab": {
          "base_uri": "https://localhost:8080/",
          "height": 35
        },
        "id": "DekHhXiuM15j",
        "outputId": "ffa9c9bf-4fec-4920-ca5d-df8ea2fe0cc1"
      },
      "source": [
        "sent=\"\"\n",
        "in_text = \"What\"\n",
        "for i in range(5):\n",
        "  sent= sent+\" \" + in_text\n",
        "  encoded_text = tokenizer.texts_to_sequences([in_text])[0]\n",
        "  encoded_text = np.array(encoded_text)\n",
        "  yhat = np.argmax(model.predict(encoded_text))\n",
        "  for word, index in tokenizer.word_index.items():\n",
        "    if index == yhat:\n",
        "      in_text=word\n",
        "      break\n",
        "sent"
      ],
      "execution_count": null,
      "outputs": [
        {
          "output_type": "execute_result",
          "data": {
            "application/vnd.google.colaboratory.intrinsic+json": {
              "type": "string"
            },
            "text/plain": [
              "' What stir off very martin'"
            ]
          },
          "metadata": {
            "tags": []
          },
          "execution_count": 18
        }
      ]
    },
    {
      "cell_type": "markdown",
      "metadata": {
        "id": "TYlAsY-ttf3B"
      },
      "source": [
        " **Other one is two words input one word input or inputting subsequences of a statement. That is similar to the first one. The ouput for some of the kernels have been cleared to reduce the size of the notebook.**"
      ]
    }
  ]
}
