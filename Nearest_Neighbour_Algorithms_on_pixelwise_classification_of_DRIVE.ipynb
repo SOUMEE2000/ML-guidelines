{
  "nbformat": 4,
  "nbformat_minor": 0,
  "metadata": {
    "colab": {
      "name": "Nearest Neighbour Algorithms on pixelwise classification of DRIVE.ipynb",
      "provenance": [],
      "toc_visible": true,
      "mount_file_id": "1bzg455W2G1OKC12tMpQSrtrkWXZJ8e8V",
      "authorship_tag": "ABX9TyPuF9AaT2GztsnH8bI00VdA",
      "include_colab_link": true
    },
    "kernelspec": {
      "display_name": "Python 3",
      "name": "python3"
    },
    "language_info": {
      "name": "python"
    }
  },
  "cells": [
    {
      "cell_type": "markdown",
      "metadata": {
        "id": "view-in-github",
        "colab_type": "text"
      },
      "source": [
        "<a href=\"https://colab.research.google.com/github/SOUMEE2000/Machine-Learning-Stash/blob/main/Nearest_Neighbour_Algorithms_on_pixelwise_classification_of_DRIVE.ipynb\" target=\"_parent\"><img src=\"https://colab.research.google.com/assets/colab-badge.svg\" alt=\"Open In Colab\"/></a>"
      ]
    },
    {
      "cell_type": "markdown",
      "metadata": {
        "id": "KNbH3P9YOOYh"
      },
      "source": [
        "# **Utility Functions**"
      ]
    },
    {
      "cell_type": "code",
      "metadata": {
        "colab": {
          "base_uri": "https://localhost:8080/"
        },
        "id": "fP5CQX1LSMf5",
        "outputId": "5d29fcab-dbb4-4fe1-f534-7f4fad641fc6"
      },
      "source": [
        "from zipfile import ZipFile\n",
        "file_name = \"/content/drive/MyDrive/Datasets/Modified_dataset_train.zip\"\n",
        "with ZipFile(file_name,'r') as zip:\n",
        "  zip.extractall()\n",
        "  print('finish')"
      ],
      "execution_count": null,
      "outputs": [
        {
          "output_type": "stream",
          "text": [
            "finish\n"
          ],
          "name": "stdout"
        }
      ]
    },
    {
      "cell_type": "code",
      "metadata": {
        "colab": {
          "base_uri": "https://localhost:8080/"
        },
        "id": "Ev4m7zcU2I9Y",
        "outputId": "15fa43b2-15c1-4478-ba95-062cb4f0627f"
      },
      "source": [
        "from zipfile import ZipFile\n",
        "file_name = \"/content/drive/MyDrive/Datasets/DRIVE.zip\"\n",
        "with ZipFile(file_name,'r') as zip:\n",
        "  zip.extractall()\n",
        "  print('finish')"
      ],
      "execution_count": null,
      "outputs": [
        {
          "output_type": "stream",
          "text": [
            "finish\n"
          ],
          "name": "stdout"
        }
      ]
    },
    {
      "cell_type": "code",
      "metadata": {
        "id": "e6wCtzXN728P"
      },
      "source": [
        "import os\n",
        "import pandas as pd\n",
        "\n",
        "training= os.listdir(\"/content/Modified_dataset_train\")\n",
        "test= os.listdir(\"/content/DRIVE/test/test/images\")\n",
        "\n",
        "training.sort()\n",
        "test.sort()"
      ],
      "execution_count": null,
      "outputs": []
    },
    {
      "cell_type": "code",
      "metadata": {
        "id": "ifnHFnY-g53m"
      },
      "source": [
        "import matplotlib.pyplot as plt\n",
        "import numpy as np\n",
        "\n",
        "def flattten_the_image(location):\n",
        "\n",
        "   img = plt.imread(location)\n",
        "   print(img.shape)\n",
        "   R=img[:,:,0]\n",
        "   G=img[:,:,1]\n",
        "   B=img[:,:,2]\n",
        "   flat_R=R.flatten(order='C')\n",
        "   flat_G=G.flatten(order='C')\n",
        "   flat_B=B.flatten(order='C')\n",
        "   \n",
        "   total_img_flattened=np.column_stack((flat_R,flat_G,flat_B))\n",
        "   \n",
        "   img_df=pd.DataFrame(total_img_flattened, columns = ['R','G','B'])\n",
        "   return img_df"
      ],
      "execution_count": null,
      "outputs": []
    },
    {
      "cell_type": "markdown",
      "metadata": {
        "id": "SdXgQd-xOdn1"
      },
      "source": [
        "# **Preparing Data**"
      ]
    },
    {
      "cell_type": "code",
      "metadata": {
        "id": "x1EAGZ-z2KK2"
      },
      "source": [
        "li=[]\n",
        "for i in range(1,len(training)):\n",
        "  df= pd.read_csv(\"/content/Modified_dataset_train/\" + training[i], index_col=None, header=0)\n",
        "  li.append(df)\n",
        "\n",
        "frame = pd.concat(li, axis=0, ignore_index=True)"
      ],
      "execution_count": null,
      "outputs": []
    },
    {
      "cell_type": "code",
      "metadata": {
        "colab": {
          "base_uri": "https://localhost:8080/"
        },
        "id": "suzN0wF524YW",
        "outputId": "a9f89735-7859-46d8-d489-e15f840ae131"
      },
      "source": [
        "frame[\"truth labels\"].value_counts()"
      ],
      "execution_count": null,
      "outputs": [
        {
          "output_type": "execute_result",
          "data": {
            "text/plain": [
              "0      5640621\n",
              "255     544957\n",
              "Name: truth labels, dtype: int64"
            ]
          },
          "metadata": {
            "tags": []
          },
          "execution_count": 8
        }
      ]
    },
    {
      "cell_type": "code",
      "metadata": {
        "id": "cp6L8D_0ulE4"
      },
      "source": [
        "frame= frame[[\"R\",\"G\",\"B\",\"truth labels\"]]"
      ],
      "execution_count": null,
      "outputs": []
    },
    {
      "cell_type": "code",
      "metadata": {
        "colab": {
          "base_uri": "https://localhost:8080/"
        },
        "id": "79K19JDdrDc-",
        "outputId": "b636791b-0817-4b65-91f2-8fd8f19bbb74"
      },
      "source": [
        "frame.head()"
      ],
      "execution_count": null,
      "outputs": [
        {
          "output_type": "execute_result",
          "data": {
            "text/html": [
              "<div>\n",
              "<style scoped>\n",
              "    .dataframe tbody tr th:only-of-type {\n",
              "        vertical-align: middle;\n",
              "    }\n",
              "\n",
              "    .dataframe tbody tr th {\n",
              "        vertical-align: top;\n",
              "    }\n",
              "\n",
              "    .dataframe thead th {\n",
              "        text-align: right;\n",
              "    }\n",
              "</style>\n",
              "<table border=\"1\" class=\"dataframe\">\n",
              "  <thead>\n",
              "    <tr style=\"text-align: right;\">\n",
              "      <th></th>\n",
              "      <th>R</th>\n",
              "      <th>G</th>\n",
              "      <th>B</th>\n",
              "      <th>truth labels</th>\n",
              "    </tr>\n",
              "  </thead>\n",
              "  <tbody>\n",
              "    <tr>\n",
              "      <th>0</th>\n",
              "      <td>1</td>\n",
              "      <td>1</td>\n",
              "      <td>1</td>\n",
              "      <td>0</td>\n",
              "    </tr>\n",
              "    <tr>\n",
              "      <th>1</th>\n",
              "      <td>1</td>\n",
              "      <td>1</td>\n",
              "      <td>1</td>\n",
              "      <td>0</td>\n",
              "    </tr>\n",
              "    <tr>\n",
              "      <th>2</th>\n",
              "      <td>1</td>\n",
              "      <td>1</td>\n",
              "      <td>1</td>\n",
              "      <td>0</td>\n",
              "    </tr>\n",
              "    <tr>\n",
              "      <th>3</th>\n",
              "      <td>1</td>\n",
              "      <td>1</td>\n",
              "      <td>1</td>\n",
              "      <td>0</td>\n",
              "    </tr>\n",
              "    <tr>\n",
              "      <th>4</th>\n",
              "      <td>1</td>\n",
              "      <td>1</td>\n",
              "      <td>1</td>\n",
              "      <td>0</td>\n",
              "    </tr>\n",
              "  </tbody>\n",
              "</table>\n",
              "</div>"
            ],
            "text/plain": [
              "   R  G  B  truth labels\n",
              "0  1  1  1             0\n",
              "1  1  1  1             0\n",
              "2  1  1  1             0\n",
              "3  1  1  1             0\n",
              "4  1  1  1             0"
            ]
          },
          "metadata": {
            "tags": []
          },
          "execution_count": 10
        }
      ]
    },
    {
      "cell_type": "markdown",
      "metadata": {
        "id": "lsoDRL6qP5_9"
      },
      "source": [
        "# **Nearest Neighbor Models**"
      ]
    },
    {
      "cell_type": "code",
      "metadata": {
        "id": "2a-rOGguRBhR"
      },
      "source": [
        "from sklearn.metrics import classification_report,confusion_matrix\n",
        "from sklearn.model_selection import cross_val_score"
      ],
      "execution_count": null,
      "outputs": []
    },
    {
      "cell_type": "markdown",
      "metadata": {
        "id": "KZUlhtrUd0uI"
      },
      "source": [
        "## KNN With Data Engineering"
      ]
    },
    {
      "cell_type": "code",
      "metadata": {
        "id": "4-jnCH7GmPlh"
      },
      "source": [
        "to_remove = np.random.choice(frame[frame['truth labels']==0].index,size=2600000,replace=False)\n",
        "frame.drop(to_remove, inplace=True)"
      ],
      "execution_count": null,
      "outputs": []
    },
    {
      "cell_type": "code",
      "metadata": {
        "id": "AFampsrcrWeH"
      },
      "source": [
        "to_add = pd.DataFrame(np.repeat(frame[frame[\"truth labels\"]==255].values, 5, axis=0), columns=frame.columns)\n",
        "concat_list=[to_add, frame]\n",
        "frame = pd.concat(concat_list, axis=0, ignore_index=True)\n",
        "frame= frame.sample(frac=1)"
      ],
      "execution_count": null,
      "outputs": []
    },
    {
      "cell_type": "code",
      "metadata": {
        "colab": {
          "base_uri": "https://localhost:8080/"
        },
        "id": "AyuFDdxe3vp2",
        "outputId": "719164cf-c88b-41c1-fc33-7f798af0f5fc"
      },
      "source": [
        "frame[\"truth labels\"].value_counts()"
      ],
      "execution_count": null,
      "outputs": [
        {
          "output_type": "execute_result",
          "data": {
            "text/plain": [
              "0      5640621\n",
              "255    3269742\n",
              "Name: truth labels, dtype: int64"
            ]
          },
          "metadata": {
            "tags": []
          },
          "execution_count": 56
        }
      ]
    },
    {
      "cell_type": "code",
      "metadata": {
        "id": "KCXQwxCi5478"
      },
      "source": [
        "from sklearn.preprocessing import MinMaxScaler\n",
        "\n",
        "scaler = MinMaxScaler()\n",
        "scaled_features = scaler.fit_transform(frame.drop('truth labels', axis=1))"
      ],
      "execution_count": null,
      "outputs": []
    },
    {
      "cell_type": "code",
      "metadata": {
        "id": "AwOz3adahkXD"
      },
      "source": [
        "from sklearn.preprocessing import StandardScaler\n",
        "\n",
        "# scaling\n",
        "\n",
        "scaler = StandardScaler()\n",
        "scaler.fit(frame.drop('truth labels', axis=1))\n",
        "scaled_features = scaler.transform(frame.drop('truth labels', axis=1))"
      ],
      "execution_count": null,
      "outputs": []
    },
    {
      "cell_type": "code",
      "metadata": {
        "id": "_cGSpzr7hbe4"
      },
      "source": [
        "from sklearn.model_selection import train_test_split\n",
        "\n",
        "X_train, X_test, y_train, y_test = train_test_split(scaled_features,frame['truth labels'],\n",
        "                                                    test_size=0.30)"
      ],
      "execution_count": null,
      "outputs": []
    },
    {
      "cell_type": "code",
      "metadata": {
        "id": "tZO9T20vhsC_"
      },
      "source": [
        "from sklearn.neighbors import KNeighborsClassifier\n",
        "\n",
        "knn = KNeighborsClassifier(n_neighbors=37, leaf_size=25)\n",
        "\n",
        "knn.fit(X_train,y_train)\n",
        "pred = knn.predict(X_test)"
      ],
      "execution_count": null,
      "outputs": []
    },
    {
      "cell_type": "code",
      "metadata": {
        "colab": {
          "base_uri": "https://localhost:8080/"
        },
        "id": "Zm8m_955Lmkc",
        "outputId": "e96b3617-6573-4e23-add1-f1b6267e91dc"
      },
      "source": [
        "from sklearn.neighbors import KNeighborsClassifier\n",
        "accuracy_rate = []\n",
        "error_rate = []\n",
        "\n",
        "for i in range(20,40):\n",
        "    \n",
        "    knn = KNeighborsClassifier(n_neighbors=i)\n",
        "    score=cross_val_score(knn,X_train, y_train,cv=10)\n",
        "    accuracy_rate.append(score.mean())\n",
        "    print(\"For n_neighbors = %d , accuracy = %.3f\" %(i,score.mean()))\n",
        "    error_rate.append(1-score.mean())"
      ],
      "execution_count": null,
      "outputs": [
        {
          "output_type": "stream",
          "text": [
            "For n_neighbors = 20 , accuracy = 0.721\n",
            "For n_neighbors = 21 , accuracy = 0.723\n",
            "For n_neighbors = 22 , accuracy = 0.722\n",
            "For n_neighbors = 23 , accuracy = 0.723\n",
            "For n_neighbors = 24 , accuracy = 0.723\n",
            "For n_neighbors = 25 , accuracy = 0.724\n",
            "For n_neighbors = 26 , accuracy = 0.723\n",
            "For n_neighbors = 27 , accuracy = 0.725\n",
            "For n_neighbors = 28 , accuracy = 0.724\n",
            "For n_neighbors = 29 , accuracy = 0.725\n",
            "For n_neighbors = 30 , accuracy = 0.725\n",
            "For n_neighbors = 31 , accuracy = 0.726\n",
            "For n_neighbors = 32 , accuracy = 0.725\n",
            "For n_neighbors = 33 , accuracy = 0.726\n",
            "For n_neighbors = 34 , accuracy = 0.726\n",
            "For n_neighbors = 35 , accuracy = 0.726\n",
            "For n_neighbors = 36 , accuracy = 0.726\n",
            "For n_neighbors = 37 , accuracy = 0.727\n",
            "For n_neighbors = 38 , accuracy = 0.727\n",
            "For n_neighbors = 39 , accuracy = 0.727\n"
          ],
          "name": "stdout"
        }
      ]
    },
    {
      "cell_type": "code",
      "metadata": {
        "id": "raTBHMCrMElB"
      },
      "source": [
        "plt.figure(figsize=(10,6))\n",
        "plt.plot(range(20,40),accuracy_rate,color='blue', linestyle='dashed', marker='o',\n",
        "         markerfacecolor='red', markersize=10)\n",
        "plt.title('Acuracy Rate vs. K Value')\n",
        "plt.xlabel('K')\n",
        "plt.ylabel('Acccuracy Rate')"
      ],
      "execution_count": null,
      "outputs": []
    },
    {
      "cell_type": "code",
      "metadata": {
        "colab": {
          "base_uri": "https://localhost:8080/"
        },
        "id": "mGeij8Dq6ZP5",
        "outputId": "b48e0364-1535-4737-af15-e9c275747c6d"
      },
      "source": [
        "print('WITH K=50')\n",
        "print('\\n')\n",
        "print(confusion_matrix(y_test,pred))\n",
        "print('\\n')\n",
        "print(classification_report(y_test,pred))"
      ],
      "execution_count": null,
      "outputs": [
        {
          "output_type": "stream",
          "text": [
            "WITH K=50\n",
            "\n",
            "\n",
            "[[1404340  288326]\n",
            " [ 385662  594781]]\n",
            "\n",
            "\n",
            "              precision    recall  f1-score   support\n",
            "\n",
            "           0       0.78      0.83      0.81   1692666\n",
            "         255       0.67      0.61      0.64    980443\n",
            "\n",
            "    accuracy                           0.75   2673109\n",
            "   macro avg       0.73      0.72      0.72   2673109\n",
            "weighted avg       0.74      0.75      0.74   2673109\n",
            "\n"
          ],
          "name": "stdout"
        }
      ]
    },
    {
      "cell_type": "markdown",
      "metadata": {
        "id": "6ldqBLQ4kiuo"
      },
      "source": [
        "## Radius-Neighbors-Classifier"
      ]
    },
    {
      "cell_type": "code",
      "metadata": {
        "id": "8xLRZp_SHUJD"
      },
      "source": [
        "from sklearn.preprocessing import MinMaxScaler\n",
        "\n",
        "scaler = MinMaxScaler()\n",
        "scaled_features = scaler.fit_transform(frame.drop('truth labels', axis=1))"
      ],
      "execution_count": null,
      "outputs": []
    },
    {
      "cell_type": "code",
      "metadata": {
        "id": "WHO4XnamHqYb"
      },
      "source": [
        "scaled_features= frame.drop(\"truth labels\", axis=1)"
      ],
      "execution_count": null,
      "outputs": []
    },
    {
      "cell_type": "code",
      "metadata": {
        "colab": {
          "base_uri": "https://localhost:8080/"
        },
        "id": "pibfvcRobDNY",
        "outputId": "4d9889f7-c8df-49e9-adc8-85c164f6a7ba"
      },
      "source": [
        "frame[\"truth labels\"].value_counts()"
      ],
      "execution_count": null,
      "outputs": [
        {
          "output_type": "execute_result",
          "data": {
            "text/plain": [
              "0      5640621\n",
              "255     544957\n",
              "Name: truth labels, dtype: int64"
            ]
          },
          "metadata": {
            "tags": []
          },
          "execution_count": 14
        }
      ]
    },
    {
      "cell_type": "code",
      "metadata": {
        "id": "Fv8bOceXHfGW"
      },
      "source": [
        "from sklearn.model_selection import train_test_split\n",
        "\n",
        "X_train, X_test, y_train, y_test = train_test_split(scaled_features, frame['truth labels'],\n",
        "                                                    test_size=0.30)"
      ],
      "execution_count": null,
      "outputs": []
    },
    {
      "cell_type": "code",
      "metadata": {
        "id": "pgnNu17jksnG"
      },
      "source": [
        "from sklearn.neighbors import RadiusNeighborsClassifier\n",
        "\n",
        "rnn = RadiusNeighborsClassifier(weights=\"uniform\", radius=1.0)\n",
        "rnn.fit(X_train,y_train)\n",
        "pred = rnn.predict(X_test)\n"
      ],
      "execution_count": null,
      "outputs": []
    },
    {
      "cell_type": "code",
      "metadata": {
        "id": "jjfUXm8AOuNI"
      },
      "source": [
        "print('WITH K=23')\n",
        "print('\\n')\n",
        "print(confusion_matrix(y_test,pred))\n",
        "print('\\n')\n",
        "print(classification_report(y_test,pred))"
      ],
      "execution_count": null,
      "outputs": []
    },
    {
      "cell_type": "markdown",
      "metadata": {
        "id": "9jZ4xgEbaKb-"
      },
      "source": [
        "## Displaying the image"
      ]
    },
    {
      "cell_type": "code",
      "metadata": {
        "colab": {
          "base_uri": "https://localhost:8080/"
        },
        "id": "bubDcgc86yc7",
        "outputId": "3a1bc195-431f-42f8-cc11-175ae04f3862"
      },
      "source": [
        "img_df = flattten_the_image(\"/content/DRIVE/test/test/images/01_test.tif\")\n",
        "scaled_features = scaler.transform(img_df)\n",
        "y_pred= knn.predict(scaled_features)"
      ],
      "execution_count": null,
      "outputs": [
        {
          "output_type": "stream",
          "text": [
            "(584, 565, 3)\n"
          ],
          "name": "stdout"
        }
      ]
    },
    {
      "cell_type": "code",
      "metadata": {
        "id": "vl0XTPMc7c6j"
      },
      "source": [
        "y_pred= y_pred.reshape(584,565)"
      ],
      "execution_count": null,
      "outputs": []
    },
    {
      "cell_type": "code",
      "metadata": {
        "id": "MQeagvRy7hwM"
      },
      "source": [
        "from PIL import Image\n",
        "y_pred= y_pred.astype(np.uint8)\n",
        "img = Image.fromarray(y_pred)"
      ],
      "execution_count": null,
      "outputs": []
    },
    {
      "cell_type": "code",
      "metadata": {
        "colab": {
          "base_uri": "https://localhost:8080/",
          "height": 286
        },
        "id": "RKaZe8k77lkc",
        "outputId": "29c3bff9-7fae-47c1-c806-7c5f39ca9dc5"
      },
      "source": [
        "plt.imshow(img, cmap= \"gray\")"
      ],
      "execution_count": null,
      "outputs": [
        {
          "output_type": "execute_result",
          "data": {
            "text/plain": [
              "<matplotlib.image.AxesImage at 0x7f6aedd97590>"
            ]
          },
          "metadata": {
            "tags": []
          },
          "execution_count": 37
        },
        {
          "output_type": "display_data",
          "data": {
            "image/png": "[encoded data removed]",
            "text/plain": [
              "<Figure size 432x288 with 1 Axes>"
            ]
          },
          "metadata": {
            "tags": [],
            "needs_background": "light"
          }
        }
      ]
    },
    {
      "cell_type": "markdown",
      "metadata": {
        "id": "dUSWyvvGmUBZ"
      },
      "source": [
        "## Results for KNN"
      ]
    },
    {
      "cell_type": "markdown",
      "metadata": {
        "id": "iFSy01Dc9kmQ"
      },
      "source": [
        "By deletion:\n",
        "* 1:5 ,  k=50,  f1-score{0:0.91, 255: 0.34}; outline detected correctly\n",
        "* 1:4 ,  k=50,  f1-score{0:0.89, 255: 0.40}; outline detected correctly\n",
        "* 1:4 ,  k=40,  f1-score{0:0.89, 255: 0.40}; looked better\n",
        "* 1:4 ,  k=25,  f1-score{0:0.89, 255: 0.42}; looked better\n",
        "* 1:1 ,  k=25,  f1-score{0:0.74, 255: 0.71}; looked better\n",
        "\n",
        "By both addition and deletion:\n",
        "* 1:2 ,  k=30,  f1-score{0:0.82, 255: 0.60}; (1000000 0s 2000000 255s)\n",
        "* 1:1 ,  k=35,  f1-score{0:0.71, 255: 0.77}; (2000000 0s 2000000 255s)(best)\n",
        "* 1:1 ,  k=35,  f1-score{0:0.71, 255: 0.77}; (3000000 0s 3000000 255s)(no improvement)\n",
        "* 3:5 ,  k=25,  f1-score{0:0.80, 255: 0.64}; (3000000 0s 5600000 255s)\n",
        "* 1:1 ,  k=25,  f1-score{0:0.73, 255: 0.75}; (5400000 0s 5600000 255s)"
      ]
    },
    {
      "cell_type": "markdown",
      "metadata": {
        "id": "Kaa_jzuzw3c-"
      },
      "source": [
        "Therefore considering 3000000 : 3000000 as the ideal set as 1:1 gives best results and things don't improve from there\n",
        "\n",
        "* k=15 , f1-score{0:0.71, 255: 0.76}\n",
        "* k=10 , f1-score{0:0.71, 255: 0.74}"
      ]
    },
    {
      "cell_type": "markdown",
      "metadata": {
        "id": "UEzv9fOlLg2_"
      },
      "source": [
        "Min-max scaler(image turns out to be the best for same accuracies)\n",
        "* For n_neighbors = 20 , accuracy = 0.721\n",
        "* For n_neighbors = 21 , accuracy = 0.723\n",
        "* For n_neighbors = 22 , accuracy = 0.722\n",
        "* For n_neighbors = 23 , accuracy = 0.723\n",
        "* For n_neighbors = 24 , accuracy = 0.723\n",
        "* For n_neighbors = 25 , accuracy = 0.724\n",
        "* For n_neighbors = 26 , accuracy = 0.723\n",
        "* For n_neighbors = 27 , accuracy = 0.725\n",
        "* For n_neighbors = 28 , accuracy = 0.724\n",
        "* For n_neighbors = 29 , accuracy = 0.725\n",
        "* For n_neighbors = 30 , accuracy = 0.725\n",
        "* For n_neighbors = 31 , accuracy = 0.726\n",
        "* For n_neighbors = 32 , accuracy = 0.725\n",
        "* For n_neighbors = 33 , accuracy = 0.726\n",
        "* For n_neighbors = 34 , accuracy = 0.726\n",
        "* For n_neighbors = 35 , accuracy = 0.726\n",
        "* For n_neighbors = 36 , accuracy = 0.726\n",
        "* For n_neighbors = 37 , accuracy = 0.727\n",
        "* For n_neighbors = 38 , accuracy = 0.727\n",
        "* For n_neighbors = 39 , accuracy = 0.727\n"
      ]
    },
    {
      "cell_type": "markdown",
      "metadata": {
        "id": "qoq4lHI6kTLH"
      },
      "source": [
        "* min-max2.png k=35, original things. 0:0.96, 255:0.22(best average f1-score so far)\n",
        "* min-max3.png k=35, 3:5. 0:0.81, 255:0.64 (with or without leaf_size)\n",
        "* min-max4.png k=37, leaf-size=10 500000:3000000 0:0.92, 255:0.32\n",
        "*  3:3  0:0.71, 255:0.77\n",
        "* min-max original things, leaf-size= (10,5,25), 0.71, 0.77"
      ]
    },
    {
      "cell_type": "markdown",
      "metadata": {
        "id": "vmBz2TPtlc5e"
      },
      "source": [
        "## Little Checks"
      ]
    },
    {
      "cell_type": "code",
      "metadata": {
        "id": "0arS6sg8lbLK"
      },
      "source": [
        "index_list=frame[frame[\"truth labels\"]==255].index"
      ],
      "execution_count": null,
      "outputs": []
    },
    {
      "cell_type": "code",
      "metadata": {
        "id": "6fED-HRrl1IT"
      },
      "source": [
        "newdf = pd.DataFrame(np.repeat(frame[frame[\"truth labels\"]==255].values, 1, axis=0), columns=df.columns)"
      ],
      "execution_count": null,
      "outputs": []
    },
    {
      "cell_type": "code",
      "metadata": {
        "colab": {
          "base_uri": "https://localhost:8080/"
        },
        "id": "zeEXLWCwoOq2",
        "outputId": "4d24c53f-411a-49b5-9726-b22d3b3a7e00"
      },
      "source": [
        "newdf[\"truth labels\"].value_counts()"
      ],
      "execution_count": null,
      "outputs": [
        {
          "output_type": "execute_result",
          "data": {
            "text/plain": [
              "255    544957\n",
              "Name: truth labels, dtype: int64"
            ]
          },
          "metadata": {
            "tags": []
          },
          "execution_count": 85
        }
      ]
    },
    {
      "cell_type": "code",
      "metadata": {
        "colab": {
          "base_uri": "https://localhost:8080/"
        },
        "id": "ApmKYRxspBr6",
        "outputId": "071219dd-13ab-4ab4-b676-d1e464e4e25e"
      },
      "source": [
        "frame[\"truth labels\"].value_counts()"
      ],
      "execution_count": null,
      "outputs": [
        {
          "output_type": "execute_result",
          "data": {
            "text/plain": [
              "0      5640621\n",
              "255     544957\n",
              "Name: truth labels, dtype: int64"
            ]
          },
          "metadata": {
            "tags": []
          },
          "execution_count": 73
        }
      ]
    },
    {
      "cell_type": "code",
      "metadata": {
        "id": "4eACr0bApoDC"
      },
      "source": [
        "concat_list=[newdf, frame]"
      ],
      "execution_count": null,
      "outputs": []
    },
    {
      "cell_type": "code",
      "metadata": {
        "id": "33Pw0IPjpfEw"
      },
      "source": [
        "frame = pd.concat(concat_list, axis=0, ignore_index=True)"
      ],
      "execution_count": null,
      "outputs": []
    },
    {
      "cell_type": "code",
      "metadata": {
        "colab": {
          "base_uri": "https://localhost:8080/"
        },
        "id": "YZS3vhVkqkwH",
        "outputId": "6875d733-53e0-45d7-e3dc-d441f01dd911"
      },
      "source": [
        "frame[\"truth labels\"].value_counts()"
      ],
      "execution_count": null,
      "outputs": [
        {
          "output_type": "execute_result",
          "data": {
            "text/plain": [
              "0      5640621\n",
              "255    1089914\n",
              "Name: truth labels, dtype: int64"
            ]
          },
          "metadata": {
            "tags": []
          },
          "execution_count": 89
        }
      ]
    },
    {
      "cell_type": "code",
      "metadata": {
        "id": "GJ02bhJqqxhF"
      },
      "source": [
        ""
      ],
      "execution_count": null,
      "outputs": []
    }
  ]
}