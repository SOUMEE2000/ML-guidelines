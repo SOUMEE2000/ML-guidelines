{
 "cells": [
  {
   "cell_type": "markdown",
   "metadata": {},
   "source": [
    "##  Libraries:  nltk, TextBlob, Spacy"
   ]
  },
  {
   "cell_type": "code",
   "execution_count": 2,
   "metadata": {},
   "outputs": [
    {
     "name": "stderr",
     "output_type": "stream",
     "text": [
      "[nltk_data] Downloading package vader_lexicon to\n",
      "[nltk_data]     C:\\Users\\Soumee\\AppData\\Roaming\\nltk_data...\n"
     ]
    },
    {
     "data": {
      "text/plain": [
       "True"
      ]
     },
     "execution_count": 2,
     "metadata": {},
     "output_type": "execute_result"
    }
   ],
   "source": [
    "import nltk\n",
    "nltk.download('vader_lexicon')\n",
    "# vader_lexicon package devloped by fb for sentiment analysis"
   ]
  },
  {
   "cell_type": "code",
   "execution_count": 5,
   "metadata": {},
   "outputs": [],
   "source": [
    "from nltk.sentiment.vader import SentimentIntensityAnalyzer\n",
    "sia = SentimentIntensityAnalyzer()"
   ]
  },
  {
   "cell_type": "markdown",
   "metadata": {},
   "source": [
    "## If  compound>0 means positive  compound<0 means negaative... Value goes from -1 to 1"
   ]
  },
  {
   "cell_type": "code",
   "execution_count": 7,
   "metadata": {},
   "outputs": [
    {
     "data": {
      "text/plain": [
       "{'neg': 0.0, 'neu': 0.256, 'pos': 0.744, 'compound': 0.4404}"
      ]
     },
     "execution_count": 7,
     "metadata": {},
     "output_type": "execute_result"
    }
   ],
   "source": [
    "review1= \"Good movie\"\n",
    "sia.polarity_scores(review1)"
   ]
  },
  {
   "cell_type": "code",
   "execution_count": 10,
   "metadata": {},
   "outputs": [
    {
     "data": {
      "text/plain": [
       "{'neg': 0.778, 'neu': 0.222, 'pos': 0.0, 'compound': -0.5423}"
      ]
     },
     "execution_count": 10,
     "metadata": {},
     "output_type": "execute_result"
    }
   ],
   "source": [
    "review2= \"bad movie\"\n",
    "sia.polarity_scores(review2)"
   ]
  },
  {
   "cell_type": "code",
   "execution_count": 11,
   "metadata": {},
   "outputs": [
    {
     "data": {
      "text/plain": [
       "{'neg': 0.0, 'neu': 0.192, 'pos': 0.808, 'compound': 0.6369}"
      ]
     },
     "execution_count": 11,
     "metadata": {},
     "output_type": "execute_result"
    }
   ],
   "source": [
    "sia.polarity_scores(\"best movie\")"
   ]
  },
  {
   "cell_type": "code",
   "execution_count": 17,
   "metadata": {},
   "outputs": [
    {
     "data": {
      "text/plain": [
       "{'neg': 0.0, 'neu': 0.071, 'pos': 0.929, 'compound': 0.9801}"
      ]
     },
     "execution_count": 17,
     "metadata": {},
     "output_type": "execute_result"
    }
   ],
   "source": [
    "sia.polarity_scores(\"best coolest awesome, wonderful gorgeous perfect lovely heartwrenching stunning\")"
   ]
  },
  {
   "cell_type": "code",
   "execution_count": 15,
   "metadata": {},
   "outputs": [
    {
     "data": {
      "text/plain": [
       "{'neg': 1.0, 'neu': 0.0, 'pos': 0.0, 'compound': -0.8625}"
      ]
     },
     "execution_count": 15,
     "metadata": {},
     "output_type": "execute_result"
    }
   ],
   "source": [
    "sia.polarity_scores(\"damned hellish waste\")"
   ]
  },
  {
   "cell_type": "code",
   "execution_count": 19,
   "metadata": {},
   "outputs": [
    {
     "data": {
      "text/plain": [
       "{'neg': 0.0, 'neu': 1.0, 'pos': 0.0, 'compound': 0.0}"
      ]
     },
     "execution_count": 19,
     "metadata": {},
     "output_type": "execute_result"
    }
   ],
   "source": [
    "sia.polarity_scores(\"I don't know this person\")"
   ]
  },
  {
   "cell_type": "code",
   "execution_count": 20,
   "metadata": {},
   "outputs": [
    {
     "data": {
      "text/plain": [
       "{'neg': 0.0, 'neu': 0.457, 'pos': 0.543, 'compound': 0.6956}"
      ]
     },
     "execution_count": 20,
     "metadata": {},
     "output_type": "execute_result"
    }
   ],
   "source": [
    "sia.polarity_scores(\"I don't know this gorgeous person\")"
   ]
  },
  {
   "cell_type": "markdown",
   "metadata": {},
   "source": [
    "## Pandas"
   ]
  },
  {
   "cell_type": "code",
   "execution_count": 30,
   "metadata": {},
   "outputs": [],
   "source": [
    "import pandas as pd"
   ]
  },
  {
   "cell_type": "code",
   "execution_count": 31,
   "metadata": {},
   "outputs": [],
   "source": [
    "df= pd.read_csv(\"reviews.csv\")"
   ]
  },
  {
   "cell_type": "code",
   "execution_count": 32,
   "metadata": {},
   "outputs": [
    {
     "data": {
      "text/html": [
       "<div>\n",
       "<style scoped>\n",
       "    .dataframe tbody tr th:only-of-type {\n",
       "        vertical-align: middle;\n",
       "    }\n",
       "\n",
       "    .dataframe tbody tr th {\n",
       "        vertical-align: top;\n",
       "    }\n",
       "\n",
       "    .dataframe thead th {\n",
       "        text-align: right;\n",
       "    }\n",
       "</style>\n",
       "<table border=\"1\" class=\"dataframe\">\n",
       "  <thead>\n",
       "    <tr style=\"text-align: right;\">\n",
       "      <th></th>\n",
       "      <th>Unnamed: 0</th>\n",
       "      <th>Date</th>\n",
       "      <th>Customer</th>\n",
       "      <th>Title</th>\n",
       "      <th>Review</th>\n",
       "      <th>Ratings</th>\n",
       "    </tr>\n",
       "  </thead>\n",
       "  <tbody>\n",
       "    <tr>\n",
       "      <th>0</th>\n",
       "      <td>0</td>\n",
       "      <td>Reviewed in India on 6 October 2019</td>\n",
       "      <td>Praggya</td>\n",
       "      <td>Think and evaluate before you go for it</td>\n",
       "      <td>After reading a lot of geeky reviews on YouTub...</td>\n",
       "      <td>3.0 out of 5 stars</td>\n",
       "    </tr>\n",
       "    <tr>\n",
       "      <th>1</th>\n",
       "      <td>1</td>\n",
       "      <td>Reviewed in India on 5 October 2019</td>\n",
       "      <td>Amazon Customer</td>\n",
       "      <td>Treat to the eye</td>\n",
       "      <td>Detailed review --Design - 4/5+Reduced notch+P...</td>\n",
       "      <td>4.0 out of 5 stars</td>\n",
       "    </tr>\n",
       "    <tr>\n",
       "      <th>2</th>\n",
       "      <td>2</td>\n",
       "      <td>Reviewed in India on 3 October 2019</td>\n",
       "      <td>Kshitij Kumar</td>\n",
       "      <td>Best experience</td>\n",
       "      <td>Awesome experience..best in class camera... ox...</td>\n",
       "      <td>5.0 out of 5 stars</td>\n",
       "    </tr>\n",
       "    <tr>\n",
       "      <th>3</th>\n",
       "      <td>3</td>\n",
       "      <td>Reviewed in India on 2 October 2019</td>\n",
       "      <td>manikanta</td>\n",
       "      <td>One Plus 7T - One Word, STUNNING!!</td>\n",
       "      <td>I received One Plus 7T 2 days back. I will des...</td>\n",
       "      <td>5.0 out of 5 stars</td>\n",
       "    </tr>\n",
       "    <tr>\n",
       "      <th>4</th>\n",
       "      <td>4</td>\n",
       "      <td>Reviewed in India on 2 October 2019</td>\n",
       "      <td>Rajesh Adhikary</td>\n",
       "      <td>Pro Camera, performance, looks. Cons Battery d...</td>\n",
       "      <td>This phone has great performance, good camera ...</td>\n",
       "      <td>4.0 out of 5 stars</td>\n",
       "    </tr>\n",
       "  </tbody>\n",
       "</table>\n",
       "</div>"
      ],
      "text/plain": [
       "   Unnamed: 0                                 Date         Customer  \\\n",
       "0           0  Reviewed in India on 6 October 2019          Praggya   \n",
       "1           1  Reviewed in India on 5 October 2019  Amazon Customer   \n",
       "2           2  Reviewed in India on 3 October 2019    Kshitij Kumar   \n",
       "3           3  Reviewed in India on 2 October 2019        manikanta   \n",
       "4           4  Reviewed in India on 2 October 2019  Rajesh Adhikary   \n",
       "\n",
       "                                               Title  \\\n",
       "0            Think and evaluate before you go for it   \n",
       "1                                   Treat to the eye   \n",
       "2                                    Best experience   \n",
       "3                 One Plus 7T - One Word, STUNNING!!   \n",
       "4  Pro Camera, performance, looks. Cons Battery d...   \n",
       "\n",
       "                                              Review             Ratings  \n",
       "0  After reading a lot of geeky reviews on YouTub...  3.0 out of 5 stars  \n",
       "1  Detailed review --Design - 4/5+Reduced notch+P...  4.0 out of 5 stars  \n",
       "2  Awesome experience..best in class camera... ox...  5.0 out of 5 stars  \n",
       "3  I received One Plus 7T 2 days back. I will des...  5.0 out of 5 stars  \n",
       "4  This phone has great performance, good camera ...  4.0 out of 5 stars  "
      ]
     },
     "execution_count": 32,
     "metadata": {},
     "output_type": "execute_result"
    }
   ],
   "source": [
    "df.head()"
   ]
  },
  {
   "cell_type": "code",
   "execution_count": 33,
   "metadata": {},
   "outputs": [
    {
     "data": {
      "text/plain": [
       "0    After reading a lot of geeky reviews on YouTub...\n",
       "1    Detailed review --Design - 4/5+Reduced notch+P...\n",
       "2    Awesome experience..best in class camera... ox...\n",
       "3    I received One Plus 7T 2 days back. I will des...\n",
       "4    This phone has great performance, good camera ...\n",
       "5    8 Gb Ram128 Gb storage.This is super amazing p...\n",
       "6    My first one+7t & its make me so sad. I receiv...\n",
       "7    I am among the first to buy this phone with pr...\n",
       "8    THIS IS ONE OF THE WORST PHONE I HAVE EVER PUR...\n",
       "9                                     No earphone jack\n",
       "Name: Review, dtype: object"
      ]
     },
     "execution_count": 33,
     "metadata": {},
     "output_type": "execute_result"
    }
   ],
   "source": [
    "df[\"Review\"]"
   ]
  },
  {
   "cell_type": "code",
   "execution_count": 35,
   "metadata": {},
   "outputs": [
    {
     "data": {
      "text/plain": [
       "{'neg': 0.054, 'neu': 0.862, 'pos': 0.084, 'compound': 0.9585}"
      ]
     },
     "execution_count": 35,
     "metadata": {},
     "output_type": "execute_result"
    }
   ],
   "source": [
    "sia.polarity_scores(df[\"Review\"][0])"
   ]
  },
  {
   "cell_type": "code",
   "execution_count": 36,
   "metadata": {},
   "outputs": [],
   "source": [
    "scores=[]\n",
    "for i in df[\"Review\"]:\n",
    "    scores.append(sia.polarity_scores(i))"
   ]
  },
  {
   "cell_type": "code",
   "execution_count": 37,
   "metadata": {},
   "outputs": [
    {
     "data": {
      "text/plain": [
       "[{'neg': 0.054, 'neu': 0.862, 'pos': 0.084, 'compound': 0.9585},\n",
       " {'neg': 0.029, 'neu': 0.763, 'pos': 0.208, 'compound': 0.9136},\n",
       " {'neg': 0.0, 'neu': 0.594, 'pos': 0.406, 'compound': 0.6249},\n",
       " {'neg': 0.0, 'neu': 0.757, 'pos': 0.243, 'compound': 0.9866},\n",
       " {'neg': 0.0, 'neu': 0.866, 'pos': 0.134, 'compound': 0.8176},\n",
       " {'neg': 0.0, 'neu': 0.644, 'pos': 0.356, 'compound': 0.9633},\n",
       " {'neg': 0.158, 'neu': 0.842, 'pos': 0.0, 'compound': -0.75},\n",
       " {'neg': 0.06, 'neu': 0.752, 'pos': 0.188, 'compound': 0.9706},\n",
       " {'neg': 0.143, 'neu': 0.757, 'pos': 0.1, 'compound': -0.9126},\n",
       " {'neg': 0.524, 'neu': 0.476, 'pos': 0.0, 'compound': -0.296}]"
      ]
     },
     "execution_count": 37,
     "metadata": {},
     "output_type": "execute_result"
    }
   ],
   "source": [
    "scores"
   ]
  },
  {
   "cell_type": "code",
   "execution_count": 43,
   "metadata": {},
   "outputs": [],
   "source": [
    "sent=[]\n",
    "for i in range(0,len(scores)):\n",
    "    if scores[i][\"compound\"]>0:\n",
    "        sent.append(\"Positive\")\n",
    "    elif scores[i][\"compound\"]<0:\n",
    "        sent.append(\"Negative\")\n",
    "    else:\n",
    "        sent.append(\"Neutral\")\n",
    "        \n"
   ]
  },
  {
   "cell_type": "code",
   "execution_count": 44,
   "metadata": {},
   "outputs": [
    {
     "data": {
      "text/plain": [
       "['Positive',\n",
       " 'Positive',\n",
       " 'Positive',\n",
       " 'Positive',\n",
       " 'Positive',\n",
       " 'Positive',\n",
       " 'Negative',\n",
       " 'Positive',\n",
       " 'Negative',\n",
       " 'Negative']"
      ]
     },
     "execution_count": 44,
     "metadata": {},
     "output_type": "execute_result"
    }
   ],
   "source": [
    "sent"
   ]
  },
  {
   "cell_type": "code",
   "execution_count": null,
   "metadata": {},
   "outputs": [],
   "source": []
  }
 ],
 "metadata": {
  "kernelspec": {
   "display_name": "Python 3",
   "language": "python",
   "name": "python3"
  },
  "language_info": {
   "codemirror_mode": {
    "name": "ipython",
    "version": 3
   },
   "file_extension": ".py",
   "mimetype": "text/x-python",
   "name": "python",
   "nbconvert_exporter": "python",
   "pygments_lexer": "ipython3",
   "version": "3.7.4"
  }
 },
 "nbformat": 4,
 "nbformat_minor": 4
}
