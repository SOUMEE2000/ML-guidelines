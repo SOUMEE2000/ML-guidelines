{
  "nbformat": 4,
  "nbformat_minor": 0,
  "metadata": {
    "accelerator": "GPU",
    "colab": {
      "name": "Sentiment Analysis.ipynb",
      "provenance": [],
      "toc_visible": true,
      "include_colab_link": true
    },
    "kernelspec": {
      "display_name": "Python 3",
      "language": "python",
      "name": "python3"
    },
    "language_info": {
      "codemirror_mode": {
        "name": "ipython",
        "version": 3
      },
      "file_extension": ".py",
      "mimetype": "text/x-python",
      "name": "python",
      "nbconvert_exporter": "python",
      "pygments_lexer": "ipython3",
      "version": "3.7.4"
    }
  },
  "cells": [
    {
      "cell_type": "markdown",
      "metadata": {
        "id": "view-in-github",
        "colab_type": "text"
      },
      "source": [
        "<a href=\"https://colab.research.google.com/github/SOUMEE2000/ML-guidelines/blob/main/Sentiment_Analysis.ipynb\" target=\"_parent\"><img src=\"https://colab.research.google.com/assets/colab-badge.svg\" alt=\"Open In Colab\"/></a>"
      ]
    },
    {
      "cell_type": "code",
      "metadata": {
        "id": "pzYtTsjwYIzQ"
      },
      "source": [
        "source=\"https://medium.com/analytics-vidhya/natural-language-processing-from-scratch-sentiment-analysis-e09711d4f7eb\"\r\n"
      ],
      "execution_count": null,
      "outputs": []
    },
    {
      "cell_type": "code",
      "metadata": {
        "id": "8hywIqXEWA1D"
      },
      "source": [
        "!unzip IMDB.zip"
      ],
      "execution_count": null,
      "outputs": []
    },
    {
      "cell_type": "code",
      "metadata": {
        "id": "RJjXCM0uYIzV"
      },
      "source": [
        "import numpy as np\n",
        "import pandas as pd\n",
        "import matplotlib.pyplot as plt\n",
        "df = pd.read_csv('IMDB Dataset.csv')\n",
        "df.head()"
      ],
      "execution_count": null,
      "outputs": []
    },
    {
      "cell_type": "code",
      "metadata": {
        "id": "j0n9kbDKYIzX"
      },
      "source": [
        "df[\"sentiment\"]"
      ],
      "execution_count": null,
      "outputs": []
    },
    {
      "cell_type": "code",
      "metadata": {
        "id": "FggjXzijYIzX"
      },
      "source": [
        "# Doing feature Analysis\n",
        "c_pos=0\n",
        "c_neg=0\n",
        "\n",
        "for i in df[\"sentiment\"]:\n",
        "    if i==\"positive\":\n",
        "        c_pos=c_pos+1\n",
        "    else:\n",
        "        c_neg= c_neg+1\n",
        "\n",
        "print(\"Positive: {}\" .format(c_pos))\n",
        "print(\"Negative: {}\".format(c_neg))"
      ],
      "execution_count": null,
      "outputs": []
    },
    {
      "cell_type": "code",
      "metadata": {
        "id": "jZZnosEwYIzX"
      },
      "source": [
        "feature=[]\n",
        "for i in df[\"sentiment\"]:\n",
        "    if i== \"positive\":\n",
        "        feature.append(1)\n",
        "    elif i ==\"negative\":          # if \"negative\" was not specified, length of df wouldn't match with len(features)\n",
        "        feature.append(0)\n"
      ],
      "execution_count": null,
      "outputs": []
    },
    {
      "cell_type": "code",
      "metadata": {
        "id": "ZkYloNJ8YIzY"
      },
      "source": [
        "df.head()"
      ],
      "execution_count": null,
      "outputs": []
    },
    {
      "cell_type": "code",
      "metadata": {
        "id": "npRe7gI7YIzY"
      },
      "source": [
        "len(feature)"
      ],
      "execution_count": null,
      "outputs": []
    },
    {
      "cell_type": "code",
      "metadata": {
        "id": "vPJn0vz7YIzY"
      },
      "source": [
        "len(df[\"sentiment\"])"
      ],
      "execution_count": null,
      "outputs": []
    },
    {
      "cell_type": "code",
      "metadata": {
        "id": "2e4AWG8aYIzY"
      },
      "source": [
        "df[\"feature\"]=feature"
      ],
      "execution_count": null,
      "outputs": []
    },
    {
      "cell_type": "code",
      "metadata": {
        "id": "qXYbSs3wYIzZ"
      },
      "source": [
        "df.head()"
      ],
      "execution_count": null,
      "outputs": []
    },
    {
      "cell_type": "code",
      "metadata": {
        "id": "1gJ1xNjQYIzZ"
      },
      "source": [
        "df['review_processed'] = df['review'].str.replace(\"[^a-zA-Z#]\", \" \") "
      ],
      "execution_count": null,
      "outputs": []
    },
    {
      "cell_type": "code",
      "metadata": {
        "id": "-s3zB6FtYIzZ"
      },
      "source": [
        "df.head()"
      ],
      "execution_count": null,
      "outputs": []
    },
    {
      "cell_type": "code",
      "metadata": {
        "id": "Tyf7eYh6i6IN"
      },
      "source": [
        "# make entire text lowercase\r\n",
        "df['review_processed'] = [review.lower() for review in df['review_processed']]"
      ],
      "execution_count": null,
      "outputs": []
    },
    {
      "cell_type": "code",
      "metadata": {
        "id": "590ZGCXnYIzZ"
      },
      "source": [
        "# Removing Stopwords Begin\n",
        "import nltk\n",
        "nltk.download('punkt')\n",
        "nltk.download('stopwords')\n",
        "from nltk.corpus import stopwords\n",
        "from nltk import word_tokenize\n",
        "stop_words = stopwords.words('english')"
      ],
      "execution_count": null,
      "outputs": []
    },
    {
      "cell_type": "code",
      "metadata": {
        "id": "B5EMZVvvYIza"
      },
      "source": [
        "# Making custom list of words to be removed \n",
        "add_words = ['movie','film','one','make','even','the']"
      ],
      "execution_count": null,
      "outputs": []
    },
    {
      "cell_type": "code",
      "metadata": {
        "id": "5tlrDGUvYIza"
      },
      "source": [
        "stop_words.extend(add_words)"
      ],
      "execution_count": null,
      "outputs": []
    },
    {
      "cell_type": "code",
      "metadata": {
        "id": "_IFm4Nic1s16"
      },
      "source": [
        "stop_words"
      ],
      "execution_count": null,
      "outputs": []
    },
    {
      "cell_type": "code",
      "metadata": {
        "id": "chos2kJHYIza"
      },
      "source": [
        "review=\"how are you?\"\n",
        "word_tokenize(review)"
      ],
      "execution_count": null,
      "outputs": []
    },
    {
      "cell_type": "code",
      "metadata": {
        "colab": {
          "background_save": true
        },
        "id": "zMpsHJs-An-h"
      },
      "source": [
        "# Function to remove stop words \r\n",
        "def remove_stopwords(rev):\r\n",
        "    review_tokenized = word_tokenize(rev)\r\n",
        "    rev_new = \" \".join([i for i in review_tokenized  if i not in stop_words])\r\n",
        "    return rev_new\r\n",
        "\r\n",
        "# Removing stopwords\r\n",
        "df['review_processed'] = [remove_stopwords(r) for r in df['review_processed']]"
      ],
      "execution_count": null,
      "outputs": []
    },
    {
      "cell_type": "code",
      "metadata": {
        "colab": {
          "background_save": true,
          "base_uri": "https://localhost:8080/",
          "height": 195
        },
        "id": "4tEiHi6hYIzb",
        "outputId": "3e398d81-e7d9-424f-b5d3-16e9ba5f75d5"
      },
      "source": [
        "df.head()"
      ],
      "execution_count": null,
      "outputs": [
        {
          "output_type": "execute_result",
          "data": {
            "text/html": [
              "<div>\n",
              "<style scoped>\n",
              "    .dataframe tbody tr th:only-of-type {\n",
              "        vertical-align: middle;\n",
              "    }\n",
              "\n",
              "    .dataframe tbody tr th {\n",
              "        vertical-align: top;\n",
              "    }\n",
              "\n",
              "    .dataframe thead th {\n",
              "        text-align: right;\n",
              "    }\n",
              "</style>\n",
              "<table border=\"1\" class=\"dataframe\">\n",
              "  <thead>\n",
              "    <tr style=\"text-align: right;\">\n",
              "      <th></th>\n",
              "      <th>review</th>\n",
              "      <th>sentiment</th>\n",
              "      <th>feature</th>\n",
              "      <th>review_processed</th>\n",
              "    </tr>\n",
              "  </thead>\n",
              "  <tbody>\n",
              "    <tr>\n",
              "      <th>0</th>\n",
              "      <td>One of the other reviewers has mentioned that ...</td>\n",
              "      <td>positive</td>\n",
              "      <td>1</td>\n",
              "      <td>reviewers mentioned watching oz episode hooked...</td>\n",
              "    </tr>\n",
              "    <tr>\n",
              "      <th>1</th>\n",
              "      <td>A wonderful little production. &lt;br /&gt;&lt;br /&gt;The...</td>\n",
              "      <td>positive</td>\n",
              "      <td>1</td>\n",
              "      <td>wonderful little production br br filming tech...</td>\n",
              "    </tr>\n",
              "    <tr>\n",
              "      <th>2</th>\n",
              "      <td>I thought this was a wonderful way to spend ti...</td>\n",
              "      <td>positive</td>\n",
              "      <td>1</td>\n",
              "      <td>thought wonderful way spend time hot summer we...</td>\n",
              "    </tr>\n",
              "    <tr>\n",
              "      <th>3</th>\n",
              "      <td>Basically there's a family where a little boy ...</td>\n",
              "      <td>negative</td>\n",
              "      <td>0</td>\n",
              "      <td>basically family little boy jake thinks zombie...</td>\n",
              "    </tr>\n",
              "    <tr>\n",
              "      <th>4</th>\n",
              "      <td>Petter Mattei's \"Love in the Time of Money\" is...</td>\n",
              "      <td>positive</td>\n",
              "      <td>1</td>\n",
              "      <td>petter mattei love time money visually stunnin...</td>\n",
              "    </tr>\n",
              "  </tbody>\n",
              "</table>\n",
              "</div>"
            ],
            "text/plain": [
              "                                              review  ...                                   review_processed\n",
              "0  One of the other reviewers has mentioned that ...  ...  reviewers mentioned watching oz episode hooked...\n",
              "1  A wonderful little production. <br /><br />The...  ...  wonderful little production br br filming tech...\n",
              "2  I thought this was a wonderful way to spend ti...  ...  thought wonderful way spend time hot summer we...\n",
              "3  Basically there's a family where a little boy ...  ...  basically family little boy jake thinks zombie...\n",
              "4  Petter Mattei's \"Love in the Time of Money\" is...  ...  petter mattei love time money visually stunnin...\n",
              "\n",
              "[5 rows x 4 columns]"
            ]
          },
          "metadata": {
            "tags": []
          },
          "execution_count": 0
        }
      ]
    },
    {
      "cell_type": "code",
      "metadata": {
        "colab": {
          "background_save": true
        },
        "id": "poRELPaZgKDk"
      },
      "source": [
        "# Replacing short words\r\n",
        "df['review_processed'] = df['review_processed'].apply(lambda x: ' '.join([w for w in x.split() if len(w)>2]))"
      ],
      "execution_count": null,
      "outputs": []
    },
    {
      "cell_type": "code",
      "metadata": {
        "colab": {
          "background_save": true,
          "base_uri": "https://localhost:8080/",
          "height": 195
        },
        "id": "kgquuNJ3g5Sk",
        "outputId": "487dfefd-f000-42e4-d746-3d72b67d0556"
      },
      "source": [
        "df.head()"
      ],
      "execution_count": null,
      "outputs": [
        {
          "output_type": "execute_result",
          "data": {
            "text/html": [
              "<div>\n",
              "<style scoped>\n",
              "    .dataframe tbody tr th:only-of-type {\n",
              "        vertical-align: middle;\n",
              "    }\n",
              "\n",
              "    .dataframe tbody tr th {\n",
              "        vertical-align: top;\n",
              "    }\n",
              "\n",
              "    .dataframe thead th {\n",
              "        text-align: right;\n",
              "    }\n",
              "</style>\n",
              "<table border=\"1\" class=\"dataframe\">\n",
              "  <thead>\n",
              "    <tr style=\"text-align: right;\">\n",
              "      <th></th>\n",
              "      <th>review</th>\n",
              "      <th>sentiment</th>\n",
              "      <th>feature</th>\n",
              "      <th>review_processed</th>\n",
              "    </tr>\n",
              "  </thead>\n",
              "  <tbody>\n",
              "    <tr>\n",
              "      <th>0</th>\n",
              "      <td>One of the other reviewers has mentioned that ...</td>\n",
              "      <td>positive</td>\n",
              "      <td>1</td>\n",
              "      <td>reviewers mentioned watching episode hooked ri...</td>\n",
              "    </tr>\n",
              "    <tr>\n",
              "      <th>1</th>\n",
              "      <td>A wonderful little production. &lt;br /&gt;&lt;br /&gt;The...</td>\n",
              "      <td>positive</td>\n",
              "      <td>1</td>\n",
              "      <td>wonderful little production filming technique ...</td>\n",
              "    </tr>\n",
              "    <tr>\n",
              "      <th>2</th>\n",
              "      <td>I thought this was a wonderful way to spend ti...</td>\n",
              "      <td>positive</td>\n",
              "      <td>1</td>\n",
              "      <td>thought wonderful way spend time hot summer we...</td>\n",
              "    </tr>\n",
              "    <tr>\n",
              "      <th>3</th>\n",
              "      <td>Basically there's a family where a little boy ...</td>\n",
              "      <td>negative</td>\n",
              "      <td>0</td>\n",
              "      <td>basically family little boy jake thinks zombie...</td>\n",
              "    </tr>\n",
              "    <tr>\n",
              "      <th>4</th>\n",
              "      <td>Petter Mattei's \"Love in the Time of Money\" is...</td>\n",
              "      <td>positive</td>\n",
              "      <td>1</td>\n",
              "      <td>petter mattei love time money visually stunnin...</td>\n",
              "    </tr>\n",
              "  </tbody>\n",
              "</table>\n",
              "</div>"
            ],
            "text/plain": [
              "                                              review  ...                                   review_processed\n",
              "0  One of the other reviewers has mentioned that ...  ...  reviewers mentioned watching episode hooked ri...\n",
              "1  A wonderful little production. <br /><br />The...  ...  wonderful little production filming technique ...\n",
              "2  I thought this was a wonderful way to spend ti...  ...  thought wonderful way spend time hot summer we...\n",
              "3  Basically there's a family where a little boy ...  ...  basically family little boy jake thinks zombie...\n",
              "4  Petter Mattei's \"Love in the Time of Money\" is...  ...  petter mattei love time money visually stunnin...\n",
              "\n",
              "[5 rows x 4 columns]"
            ]
          },
          "metadata": {
            "tags": []
          },
          "execution_count": 0
        }
      ]
    },
    {
      "cell_type": "code",
      "metadata": {
        "colab": {
          "background_save": true,
          "base_uri": "https://localhost:8080/",
          "height": 195
        },
        "id": "INwkp62hjBS8",
        "outputId": "95c70952-6b2d-404b-84aa-28736098cee4"
      },
      "source": [
        "df.head()"
      ],
      "execution_count": null,
      "outputs": [
        {
          "output_type": "execute_result",
          "data": {
            "text/html": [
              "<div>\n",
              "<style scoped>\n",
              "    .dataframe tbody tr th:only-of-type {\n",
              "        vertical-align: middle;\n",
              "    }\n",
              "\n",
              "    .dataframe tbody tr th {\n",
              "        vertical-align: top;\n",
              "    }\n",
              "\n",
              "    .dataframe thead th {\n",
              "        text-align: right;\n",
              "    }\n",
              "</style>\n",
              "<table border=\"1\" class=\"dataframe\">\n",
              "  <thead>\n",
              "    <tr style=\"text-align: right;\">\n",
              "      <th></th>\n",
              "      <th>review</th>\n",
              "      <th>sentiment</th>\n",
              "      <th>feature</th>\n",
              "      <th>review_processed</th>\n",
              "    </tr>\n",
              "  </thead>\n",
              "  <tbody>\n",
              "    <tr>\n",
              "      <th>0</th>\n",
              "      <td>One of the other reviewers has mentioned that ...</td>\n",
              "      <td>positive</td>\n",
              "      <td>1</td>\n",
              "      <td>reviewers mentioned watching episode hooked ri...</td>\n",
              "    </tr>\n",
              "    <tr>\n",
              "      <th>1</th>\n",
              "      <td>A wonderful little production. &lt;br /&gt;&lt;br /&gt;The...</td>\n",
              "      <td>positive</td>\n",
              "      <td>1</td>\n",
              "      <td>wonderful little production filming technique ...</td>\n",
              "    </tr>\n",
              "    <tr>\n",
              "      <th>2</th>\n",
              "      <td>I thought this was a wonderful way to spend ti...</td>\n",
              "      <td>positive</td>\n",
              "      <td>1</td>\n",
              "      <td>thought wonderful way spend time hot summer we...</td>\n",
              "    </tr>\n",
              "    <tr>\n",
              "      <th>3</th>\n",
              "      <td>Basically there's a family where a little boy ...</td>\n",
              "      <td>negative</td>\n",
              "      <td>0</td>\n",
              "      <td>basically family little boy jake thinks zombie...</td>\n",
              "    </tr>\n",
              "    <tr>\n",
              "      <th>4</th>\n",
              "      <td>Petter Mattei's \"Love in the Time of Money\" is...</td>\n",
              "      <td>positive</td>\n",
              "      <td>1</td>\n",
              "      <td>petter mattei love time money visually stunnin...</td>\n",
              "    </tr>\n",
              "  </tbody>\n",
              "</table>\n",
              "</div>"
            ],
            "text/plain": [
              "                                              review  ...                                   review_processed\n",
              "0  One of the other reviewers has mentioned that ...  ...  reviewers mentioned watching episode hooked ri...\n",
              "1  A wonderful little production. <br /><br />The...  ...  wonderful little production filming technique ...\n",
              "2  I thought this was a wonderful way to spend ti...  ...  thought wonderful way spend time hot summer we...\n",
              "3  Basically there's a family where a little boy ...  ...  basically family little boy jake thinks zombie...\n",
              "4  Petter Mattei's \"Love in the Time of Money\" is...  ...  petter mattei love time money visually stunnin...\n",
              "\n",
              "[5 rows x 4 columns]"
            ]
          },
          "metadata": {
            "tags": []
          },
          "execution_count": 0
        }
      ]
    },
    {
      "cell_type": "code",
      "metadata": {
        "colab": {
          "background_save": true
        },
        "id": "uKSnYVugYIzb"
      },
      "source": [
        "# Begin Lemmatization \r\n",
        "#from nltk.stem import WordNetLemmatizer\r\n",
        "#from nltk.corpus import wordnet\r\n",
        "#nltk.download('averaged_perceptron_tagger') # Run atleast once \r\n",
        "\r\n",
        "# function to convert nltk tag to wordnet tag\r\n",
        "#lemmatizer = WordNetLemmatizer()"
      ],
      "execution_count": null,
      "outputs": []
    },
    {
      "cell_type": "code",
      "metadata": {
        "colab": {
          "background_save": true,
          "base_uri": "https://localhost:8080/",
          "height": 195
        },
        "id": "A5_MBWjsaMDK",
        "outputId": "db799acc-3b90-4442-bf9b-13fe65709fbf"
      },
      "source": [
        "df.head()"
      ],
      "execution_count": null,
      "outputs": [
        {
          "output_type": "execute_result",
          "data": {
            "text/html": [
              "<div>\n",
              "<style scoped>\n",
              "    .dataframe tbody tr th:only-of-type {\n",
              "        vertical-align: middle;\n",
              "    }\n",
              "\n",
              "    .dataframe tbody tr th {\n",
              "        vertical-align: top;\n",
              "    }\n",
              "\n",
              "    .dataframe thead th {\n",
              "        text-align: right;\n",
              "    }\n",
              "</style>\n",
              "<table border=\"1\" class=\"dataframe\">\n",
              "  <thead>\n",
              "    <tr style=\"text-align: right;\">\n",
              "      <th></th>\n",
              "      <th>review</th>\n",
              "      <th>sentiment</th>\n",
              "      <th>feature</th>\n",
              "      <th>review_processed</th>\n",
              "    </tr>\n",
              "  </thead>\n",
              "  <tbody>\n",
              "    <tr>\n",
              "      <th>0</th>\n",
              "      <td>One of the other reviewers has mentioned that ...</td>\n",
              "      <td>positive</td>\n",
              "      <td>1</td>\n",
              "      <td>reviewers mentioned watching episode hooked ri...</td>\n",
              "    </tr>\n",
              "    <tr>\n",
              "      <th>1</th>\n",
              "      <td>A wonderful little production. &lt;br /&gt;&lt;br /&gt;The...</td>\n",
              "      <td>positive</td>\n",
              "      <td>1</td>\n",
              "      <td>wonderful little production filming technique ...</td>\n",
              "    </tr>\n",
              "    <tr>\n",
              "      <th>2</th>\n",
              "      <td>I thought this was a wonderful way to spend ti...</td>\n",
              "      <td>positive</td>\n",
              "      <td>1</td>\n",
              "      <td>thought wonderful way spend time hot summer we...</td>\n",
              "    </tr>\n",
              "    <tr>\n",
              "      <th>3</th>\n",
              "      <td>Basically there's a family where a little boy ...</td>\n",
              "      <td>negative</td>\n",
              "      <td>0</td>\n",
              "      <td>basically family little boy jake thinks zombie...</td>\n",
              "    </tr>\n",
              "    <tr>\n",
              "      <th>4</th>\n",
              "      <td>Petter Mattei's \"Love in the Time of Money\" is...</td>\n",
              "      <td>positive</td>\n",
              "      <td>1</td>\n",
              "      <td>petter mattei love time money visually stunnin...</td>\n",
              "    </tr>\n",
              "  </tbody>\n",
              "</table>\n",
              "</div>"
            ],
            "text/plain": [
              "                                              review  ...                                   review_processed\n",
              "0  One of the other reviewers has mentioned that ...  ...  reviewers mentioned watching episode hooked ri...\n",
              "1  A wonderful little production. <br /><br />The...  ...  wonderful little production filming technique ...\n",
              "2  I thought this was a wonderful way to spend ti...  ...  thought wonderful way spend time hot summer we...\n",
              "3  Basically there's a family where a little boy ...  ...  basically family little boy jake thinks zombie...\n",
              "4  Petter Mattei's \"Love in the Time of Money\" is...  ...  petter mattei love time money visually stunnin...\n",
              "\n",
              "[5 rows x 4 columns]"
            ]
          },
          "metadata": {
            "tags": []
          },
          "execution_count": 0
        }
      ]
    },
    {
      "cell_type": "code",
      "metadata": {
        "colab": {
          "background_save": true,
          "base_uri": "https://localhost:8080/",
          "height": 137
        },
        "id": "4fxXfQHn99q-",
        "outputId": "526d4c79-927a-4090-8c81-8ebbe603f183"
      },
      "source": [
        "\"\"\"# Begin Lemmatization \r\n",
        "from nltk.stem import WordNetLemmatizer\r\n",
        "from nltk.corpus import wordnet\r\n",
        "nltk.download('wordnet') # Run atleast once \r\n",
        "nltk.download('averaged_perceptron_tagger')\r\n",
        "# function to convert nltk tag to wordnet tag\r\n",
        "lemmatizer = WordNetLemmatizer()\r\n",
        "\r\n",
        "# Finds the part of speech tag\r\n",
        "def nltk_tag_to_wordnet_tag(nltk_tag):\r\n",
        "    if nltk_tag.startswith('J'):\r\n",
        "        return wordnet.ADJ\r\n",
        "    elif nltk_tag.startswith('V'):\r\n",
        "        return wordnet.VERB\r\n",
        "    elif nltk_tag.startswith('N'):\r\n",
        "        return wordnet.NOUN\r\n",
        "    elif nltk_tag.startswith('R'):\r\n",
        "        return wordnet.ADV\r\n",
        "    else:          \r\n",
        "        return None\r\n",
        "\r\n",
        "# lemmatize sentence using pos tag\r\n",
        "def lemmatize_sentence(sentence):\r\n",
        "    #tokenize the sentence and find the POS tag for each token\r\n",
        "    nltk_tagged = nltk.pos_tag(nltk.word_tokenize(sentence))  \r\n",
        "    #tuple of (token, wordnet_tag)\r\n",
        "    wordnet_tagged = map(lambda x: (x[0], nltk_tag_to_wordnet_tag(x[1])), nltk_tagged)\r\n",
        "    lemmatized_sentence = []\r\n",
        "    for word, tag in wordnet_tagged:\r\n",
        "        if tag is None:\r\n",
        "            #if there is no available tag, append the token as is\r\n",
        "            lemmatized_sentence.append(word)\r\n",
        "        else:        \r\n",
        "            #else use the tag to lemmatize the token\r\n",
        "            lemmatized_sentence.append(lemmatizer.lemmatize(word, tag))\r\n",
        "    return \" \".join(lemmatized_sentence)\r\n",
        "\r\n",
        "\r\n",
        "df['review_processed'] = df['review_processed'].apply(lambda x: lemmatize_sentence(x))\"\"\""
      ],
      "execution_count": null,
      "outputs": [
        {
          "output_type": "execute_result",
          "data": {
            "application/vnd.google.colaboratory.intrinsic+json": {
              "type": "string"
            },
            "text/plain": [
              "'# Begin Lemmatization \\nfrom nltk.stem import WordNetLemmatizer\\nfrom nltk.corpus import wordnet\\nnltk.download(\\'wordnet\\') # Run atleast once \\nnltk.download(\\'averaged_perceptron_tagger\\')\\n# function to convert nltk tag to wordnet tag\\nlemmatizer = WordNetLemmatizer()\\n\\n# Finds the part of speech tag\\ndef nltk_tag_to_wordnet_tag(nltk_tag):\\n    if nltk_tag.startswith(\\'J\\'):\\n        return wordnet.ADJ\\n    elif nltk_tag.startswith(\\'V\\'):\\n        return wordnet.VERB\\n    elif nltk_tag.startswith(\\'N\\'):\\n        return wordnet.NOUN\\n    elif nltk_tag.startswith(\\'R\\'):\\n        return wordnet.ADV\\n    else:          \\n        return None\\n\\n# lemmatize sentence using pos tag\\ndef lemmatize_sentence(sentence):\\n    #tokenize the sentence and find the POS tag for each token\\n    nltk_tagged = nltk.pos_tag(nltk.word_tokenize(sentence))  \\n    #tuple of (token, wordnet_tag)\\n    wordnet_tagged = map(lambda x: (x[0], nltk_tag_to_wordnet_tag(x[1])), nltk_tagged)\\n    lemmatized_sentence = []\\n    for word, tag in wordnet_tagged:\\n        if tag is None:\\n            #if there is no available tag, append the token as is\\n            lemmatized_sentence.append(word)\\n        else:        \\n            #else use the tag to lemmatize the token\\n            lemmatized_sentence.append(lemmatizer.lemmatize(word, tag))\\n    return \" \".join(lemmatized_sentence)\\n\\n\\ndf[\\'review_processed\\'] = df[\\'review_processed\\'].apply(lambda x: lemmatize_sentence(x))'"
            ]
          },
          "metadata": {
            "tags": []
          },
          "execution_count": 0
        }
      ]
    },
    {
      "cell_type": "code",
      "metadata": {
        "colab": {
          "background_save": true
        },
        "id": "r_VO6FiAcM-_"
      },
      "source": [
        "# Plotting most frequent words\r\n",
        "\r\n",
        "import seaborn as sns\r\n",
        "import matplotlib.pyplot as plt\r\n",
        "from nltk import FreqDist\r\n"
      ],
      "execution_count": null,
      "outputs": []
    },
    {
      "cell_type": "code",
      "metadata": {
        "colab": {
          "background_save": true
        },
        "id": "4nn37U5dfCT6"
      },
      "source": [
        "all_words_df = df[df['feature'] == 1]"
      ],
      "execution_count": null,
      "outputs": []
    },
    {
      "cell_type": "code",
      "metadata": {
        "colab": {
          "background_save": true,
          "base_uri": "https://localhost:8080/",
          "height": 402
        },
        "id": "4EyC8IHYfD24",
        "outputId": "072c707c-7c63-4bca-8420-a6814a3bf83a"
      },
      "source": [
        "df[df['feature'] == 1]"
      ],
      "execution_count": null,
      "outputs": [
        {
          "output_type": "execute_result",
          "data": {
            "text/html": [
              "<div>\n",
              "<style scoped>\n",
              "    .dataframe tbody tr th:only-of-type {\n",
              "        vertical-align: middle;\n",
              "    }\n",
              "\n",
              "    .dataframe tbody tr th {\n",
              "        vertical-align: top;\n",
              "    }\n",
              "\n",
              "    .dataframe thead th {\n",
              "        text-align: right;\n",
              "    }\n",
              "</style>\n",
              "<table border=\"1\" class=\"dataframe\">\n",
              "  <thead>\n",
              "    <tr style=\"text-align: right;\">\n",
              "      <th></th>\n",
              "      <th>review</th>\n",
              "      <th>sentiment</th>\n",
              "      <th>feature</th>\n",
              "      <th>review_processed</th>\n",
              "    </tr>\n",
              "  </thead>\n",
              "  <tbody>\n",
              "    <tr>\n",
              "      <th>0</th>\n",
              "      <td>One of the other reviewers has mentioned that ...</td>\n",
              "      <td>positive</td>\n",
              "      <td>1</td>\n",
              "      <td>reviewers mentioned watching episode hooked ri...</td>\n",
              "    </tr>\n",
              "    <tr>\n",
              "      <th>1</th>\n",
              "      <td>A wonderful little production. &lt;br /&gt;&lt;br /&gt;The...</td>\n",
              "      <td>positive</td>\n",
              "      <td>1</td>\n",
              "      <td>wonderful little production filming technique ...</td>\n",
              "    </tr>\n",
              "    <tr>\n",
              "      <th>2</th>\n",
              "      <td>I thought this was a wonderful way to spend ti...</td>\n",
              "      <td>positive</td>\n",
              "      <td>1</td>\n",
              "      <td>thought wonderful way spend time hot summer we...</td>\n",
              "    </tr>\n",
              "    <tr>\n",
              "      <th>4</th>\n",
              "      <td>Petter Mattei's \"Love in the Time of Money\" is...</td>\n",
              "      <td>positive</td>\n",
              "      <td>1</td>\n",
              "      <td>petter mattei love time money visually stunnin...</td>\n",
              "    </tr>\n",
              "    <tr>\n",
              "      <th>5</th>\n",
              "      <td>Probably my all-time favorite movie, a story o...</td>\n",
              "      <td>positive</td>\n",
              "      <td>1</td>\n",
              "      <td>probably time favorite story selflessness sacr...</td>\n",
              "    </tr>\n",
              "    <tr>\n",
              "      <th>...</th>\n",
              "      <td>...</td>\n",
              "      <td>...</td>\n",
              "      <td>...</td>\n",
              "      <td>...</td>\n",
              "    </tr>\n",
              "    <tr>\n",
              "      <th>49983</th>\n",
              "      <td>I loved it, having been a fan of the original ...</td>\n",
              "      <td>positive</td>\n",
              "      <td>1</td>\n",
              "      <td>loved fan original series always wondered back...</td>\n",
              "    </tr>\n",
              "    <tr>\n",
              "      <th>49985</th>\n",
              "      <td>Imaginary Heroes is clearly the best film of t...</td>\n",
              "      <td>positive</td>\n",
              "      <td>1</td>\n",
              "      <td>imaginary heroes clearly best year complete ut...</td>\n",
              "    </tr>\n",
              "    <tr>\n",
              "      <th>49989</th>\n",
              "      <td>I got this one a few weeks ago and love it! It...</td>\n",
              "      <td>positive</td>\n",
              "      <td>1</td>\n",
              "      <td>got weeks ago love modern light filled true co...</td>\n",
              "    </tr>\n",
              "    <tr>\n",
              "      <th>49992</th>\n",
              "      <td>John Garfield plays a Marine who is blinded by...</td>\n",
              "      <td>positive</td>\n",
              "      <td>1</td>\n",
              "      <td>john garfield plays marine blinded grenade fig...</td>\n",
              "    </tr>\n",
              "    <tr>\n",
              "      <th>49995</th>\n",
              "      <td>I thought this movie did a down right good job...</td>\n",
              "      <td>positive</td>\n",
              "      <td>1</td>\n",
              "      <td>thought right good job creative original first...</td>\n",
              "    </tr>\n",
              "  </tbody>\n",
              "</table>\n",
              "<p>25000 rows × 4 columns</p>\n",
              "</div>"
            ],
            "text/plain": [
              "                                                  review  ...                                   review_processed\n",
              "0      One of the other reviewers has mentioned that ...  ...  reviewers mentioned watching episode hooked ri...\n",
              "1      A wonderful little production. <br /><br />The...  ...  wonderful little production filming technique ...\n",
              "2      I thought this was a wonderful way to spend ti...  ...  thought wonderful way spend time hot summer we...\n",
              "4      Petter Mattei's \"Love in the Time of Money\" is...  ...  petter mattei love time money visually stunnin...\n",
              "5      Probably my all-time favorite movie, a story o...  ...  probably time favorite story selflessness sacr...\n",
              "...                                                  ...  ...                                                ...\n",
              "49983  I loved it, having been a fan of the original ...  ...  loved fan original series always wondered back...\n",
              "49985  Imaginary Heroes is clearly the best film of t...  ...  imaginary heroes clearly best year complete ut...\n",
              "49989  I got this one a few weeks ago and love it! It...  ...  got weeks ago love modern light filled true co...\n",
              "49992  John Garfield plays a Marine who is blinded by...  ...  john garfield plays marine blinded grenade fig...\n",
              "49995  I thought this movie did a down right good job...  ...  thought right good job creative original first...\n",
              "\n",
              "[25000 rows x 4 columns]"
            ]
          },
          "metadata": {
            "tags": []
          },
          "execution_count": 0
        }
      ]
    },
    {
      "cell_type": "code",
      "metadata": {
        "colab": {
          "background_save": true
        },
        "id": "Zn7PikPbfMJg"
      },
      "source": [
        "# Extracts words into list and count frequency\r\n",
        "all_words = ' '.join([text for text in all_words_df ['review_processed']])\r\n",
        "all_words = all_words.split()\r\n",
        "words_df = FreqDist(all_words)"
      ],
      "execution_count": null,
      "outputs": []
    },
    {
      "cell_type": "code",
      "metadata": {
        "colab": {
          "background_save": true,
          "base_uri": "https://localhost:8080/",
          "height": 305
        },
        "id": "GXxe_X3BjDIC",
        "outputId": "46a67476-f407-4e53-a3df-d10ab116d505"
      },
      "source": [
        "# Extracting words and frequency from words_df object\r\n",
        "words_df = pd.DataFrame({'word':list(words_df.keys()), 'count':list(words_df.values())})\r\n",
        "\r\n",
        "# Subsets top 30 words by frequency\r\n",
        "words_df = words_df.nlargest(n=20,columns=\"count\") \r\n",
        "\r\n",
        "words_df.sort_values('count', inplace = True)\r\n",
        "\r\n",
        "# Plotting 30 frequent words\r\n",
        "plt.figure(figsize=(20,5))\r\n",
        "ax = plt.barh(words_df['word'], width = words_df['count'])\r\n",
        "plt.show()"
      ],
      "execution_count": null,
      "outputs": [
        {
          "output_type": "display_data",
          "data": {
            "image/png": "[encoded data removed]",
            "text/plain": [
              "<Figure size 1440x360 with 1 Axes>"
            ]
          },
          "metadata": {
            "tags": []
          }
        }
      ]
    },
    {
      "cell_type": "code",
      "metadata": {
        "colab": {
          "background_save": true
        },
        "id": "fmpqEqrxmZHG"
      },
      "source": [
        "# Importing module\r\n",
        "from sklearn.feature_extraction.text import TfidfVectorizer\r\n",
        "\r\n",
        "# Creating sparse matrix of top 2500 tokens\r\n",
        "cv = TfidfVectorizer(max_features = 2500)\r\n",
        "X = cv.fit_transform(df.review_processed).toarray()\r\n",
        "y = df.feature.values\r\n"
      ],
      "execution_count": null,
      "outputs": []
    },
    {
      "cell_type": "code",
      "metadata": {
        "colab": {
          "background_save": true
        },
        "id": "08eD8xeJ-HhI"
      },
      "source": [
        "# Splitting the dataset into train and test\r\n",
        "from sklearn.model_selection import train_test_split\r\n",
        "from sklearn.preprocessing import MinMaxScaler\r\n",
        "X_train, X_test, y_train, y_test = train_test_split(X, y, test_size = 0.20, random_state = 0)"
      ],
      "execution_count": null,
      "outputs": []
    },
    {
      "cell_type": "code",
      "metadata": {
        "colab": {
          "background_save": true
        },
        "id": "Ws3Qy0Tb6UBt"
      },
      "source": [
        "scaling = MinMaxScaler(feature_range=(-1,1)).fit(X_train)    # in order to fit the svm model\r\n",
        "X_train = scaling.transform(X_train)\r\n",
        "X_test = scaling.transform(X_test)"
      ],
      "execution_count": null,
      "outputs": []
    },
    {
      "cell_type": "code",
      "metadata": {
        "colab": {
          "background_save": true,
          "base_uri": "https://localhost:8080/"
        },
        "id": "3CODNsxKGUbm",
        "outputId": "d4f69cf2-e8c2-412d-da27-95b2b8b73004"
      },
      "source": [
        "X"
      ],
      "execution_count": null,
      "outputs": [
        {
          "output_type": "execute_result",
          "data": {
            "text/plain": [
              "array([[0., 0., 0., ..., 0., 0., 0.],\n",
              "       [0., 0., 0., ..., 0., 0., 0.],\n",
              "       [0., 0., 0., ..., 0., 0., 0.],\n",
              "       ...,\n",
              "       [0., 0., 0., ..., 0., 0., 0.],\n",
              "       [0., 0., 0., ..., 0., 0., 0.],\n",
              "       [0., 0., 0., ..., 0., 0., 0.]])"
            ]
          },
          "metadata": {
            "tags": []
          },
          "execution_count": 0
        }
      ]
    },
    {
      "cell_type": "code",
      "metadata": {
        "id": "5qXCXkKPUbzO"
      },
      "source": [
        "from sklearn.svm import SVC\r\n",
        "classifier= SVC(kernel=\"linear\")\r\n",
        "classifier.fit(X_train, y_train)\r\n",
        "\r\n",
        "y_pred= classifier.predict(X_test)"
      ],
      "execution_count": null,
      "outputs": []
    },
    {
      "cell_type": "code",
      "metadata": {
        "colab": {
          "base_uri": "https://localhost:8080/"
        },
        "id": "mLIjwvhBwjjH",
        "outputId": "2cfcd72e-90ac-4698-825a-318c56730576"
      },
      "source": [
        "# To check the accuracy of the model\r\n",
        "\r\n",
        "from sklearn.metrics import confusion_matrix, accuracy_score\r\n",
        "accuracy = accuracy_score(y_test, y_pred)\r\n",
        "cm = confusion_matrix(y_test, y_pred)\r\n",
        "print(cm)\r\n",
        "print(\"The model accuracy is\", accuracy )"
      ],
      "execution_count": null,
      "outputs": [
        {
          "output_type": "stream",
          "text": [
            "[[4373  662]\n",
            " [ 601 4364]]\n",
            "The model accuracy is 0.8737\n"
          ],
          "name": "stdout"
        }
      ]
    },
    {
      "cell_type": "code",
      "metadata": {
        "colab": {
          "base_uri": "https://localhost:8080/",
          "height": 282
        },
        "id": "cEZnxdNzwOfJ",
        "outputId": "3077f1c7-6f0a-4064-febc-a89801283e9c"
      },
      "source": [
        "group_names = [\"True Neg\",\"False Pos\",\"False Neg\",\"True Pos\"]\r\n",
        "group_counts = [\"{0:0.0f}\".format(value) for value in cm.flatten()]\r\n",
        "group_percentages = [\"{0:.2%}\".format(value) for value in cm.flatten()/np.sum(cm)]\r\n",
        "labels = [f\"{v1}\\n{v2}\\n{v3}\" for v1, v2, v3 in zip(group_names, group_counts, group_percentages)]\r\n",
        "labels = np.asarray(labels).reshape(2,2)\r\n",
        "\r\n",
        "sns.heatmap(cm, annot=labels, fmt=\"\", cmap='Blues')"
      ],
      "execution_count": null,
      "outputs": [
        {
          "output_type": "execute_result",
          "data": {
            "text/plain": [
              "<matplotlib.axes._subplots.AxesSubplot at 0x7f68f5ec8e80>"
            ]
          },
          "metadata": {
            "tags": []
          },
          "execution_count": 58
        },
        {
          "output_type": "display_data",
          "data": {
            "image/png": "[encoded data removed]",
            "text/plain": [
              "<Figure size 432x288 with 2 Axes>"
            ]
          },
          "metadata": {
            "tags": []
          }
        }
      ]
    },
    {
      "cell_type": "markdown",
      "metadata": {
        "id": "HxVA6bo75ix4"
      },
      "source": [
        "# **Some Useful Results**"
      ]
    },
    {
      "cell_type": "code",
      "metadata": {
        "id": "pI_evRZewXyj"
      },
      "source": [
        "# naive bayes(GuassianNB) = 75.85%\r\n",
        "#  ,,   ,,   (MultinomialNB)= 83.91%\r\n",
        "# ,,     ,,  (ComplementNB)= 83.91%\r\n",
        "# svm using minmax scaler 86.84%(Count Vectorizer)        (took 4 hours)\r\n",
        "# svm using minmax scaler 86.96%(Tfidf vectoriser)        (took 4 hours)\r\n",
        "# SGDClassifier(loss=\"hinge\") minmax scaler( without lemmatisation, with tdidf)= 74.55%\r\n",
        "# svm using minmax scaler= 87.37%(without lemmatisation, proper stowords, with tfidf vectoriser)"
      ],
      "execution_count": null,
      "outputs": []
    },
    {
      "cell_type": "markdown",
      "metadata": {
        "id": "CeJgraA75r_5"
      },
      "source": [
        "**Solves problem of frequent runtime disconnected. To be typed in cmd prompt if you have python. Search in stack overflow for the same program in other languages**"
      ]
    },
    {
      "cell_type": "code",
      "metadata": {
        "id": "5C0bjJuD0TM9"
      },
      "source": [
        "#from pynput.mouse import Button, Controller\r\n",
        "# import time\r\n",
        "# mouse = Controller()\r\n",
        "# while True:\r\n",
        "#      mouse.click(Button.left,1)\r\n",
        "#      time.sleep(30)\r\n",
        "\r\n",
        "# Run in machine to keep it running"
      ],
      "execution_count": null,
      "outputs": []
    }
  ]
}